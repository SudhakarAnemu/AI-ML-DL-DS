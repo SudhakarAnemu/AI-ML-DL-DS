{
  "nbformat": 4,
  "nbformat_minor": 0,
  "metadata": {
    "kernelspec": {
      "display_name": "Python 3",
      "language": "python",
      "name": "python3"
    },
    "language_info": {
      "codemirror_mode": {
        "name": "ipython",
        "version": 3
      },
      "file_extension": ".py",
      "mimetype": "text/x-python",
      "name": "python",
      "nbconvert_exporter": "python",
      "pygments_lexer": "ipython3",
      "version": "3.6.0"
    },
    "colab": {
      "name": "Python_BuildingBlocks.ipynb",
      "provenance": []
    },
    "accelerator": "GPU"
  },
  "cells": [
    {
      "cell_type": "markdown",
      "metadata": {
        "id": "WW6bgnrtJ_9e",
        "colab_type": "text"
      },
      "source": [
        "# <center>Python Basics<center/> \n",
        "<img height=\"60\" width=\"120\" src=\"https://www.python.org/static/img/python-logo-large.png?1414305901\"></img>"
      ]
    },
    {
      "cell_type": "markdown",
      "metadata": {
        "id": "cfR6L59OJ_9f",
        "colab_type": "text"
      },
      "source": [
        "<b>Welcome</b> to Python tutorial. For your benefit we have broken down the entire tutorial into multiple parts so that you can take it step by step. Please learn Python in the sequence of the notebooks and topic wise as per the Table Of Contents.\n",
        "\n",
        "Wish you a Happy Learning!\n",
        "<br/>\n",
        "<br/>\n",
        "<br/>\n",
        "<br/>"
      ]
    },
    {
      "cell_type": "markdown",
      "metadata": {
        "id": "Dl0g82gaJ_9g",
        "colab_type": "text"
      },
      "source": [
        "# Table of contents\n",
        "<br/>\n",
        "<a href = \"#1.-Python-Keywords\">1. Python Keywords</a>\n",
        "\n",
        "<a href = \"#2.-Identifiers\">2. Identifiers</a>\n",
        "\n",
        "<a href = \"#3.-Comments-in-Python\">3. Comments in Python</a>\n",
        "\n",
        "<a href = \"#4.-Python-Indentation\">4. Python Indentation</a>\n",
        "\n",
        "<a href = \"#5.-Python-Statement\">5. Python Statement</a>"
      ]
    },
    {
      "cell_type": "markdown",
      "metadata": {
        "id": "eXRYJ_hVJ_9h",
        "colab_type": "text"
      },
      "source": [
        "# 1. Python Keywords"
      ]
    },
    {
      "cell_type": "markdown",
      "metadata": {
        "id": "kgEAjWjlJ_9i",
        "colab_type": "text"
      },
      "source": [
        "Keywords in Python are reservered words that cannot be used as ordinary\n",
        "identifiers.<p/>\n",
        "They must be spelled exacty as they are written. <p/>\n",
        "The 33 keywords in Python 3.6 are:<p/>"
      ]
    },
    {
      "cell_type": "markdown",
      "metadata": {
        "id": "0zI3X19oJ_9j",
        "colab_type": "text"
      },
      "source": [
        "<table width='100%'>\n",
        "<tr><th>and</tc><th>del</tc><th>from</tc><th>not</tc><th>while</tc></tr>\n",
        "<tr><th>as</tc><th> elif</tc><th>global</tc><th>or</tc><th> with</tc></tr>\n",
        "<tr><th>assert</tc><th>else</tc><th>if</tc><th> pass</tc><th>yield</tc></tr>\n",
        "<tr><th>break</tc><th> except</tc><th>import</tc><th>print</tc></tr>\n",
        "<tr><th>class</tc><th> exec</tc><th>in</tc><th> raise</tc></tr>\n",
        "<tr><th>continue</tc><th>finally</tc><th> is</tc><th> return </tc></tr>\n",
        "<tr><th>def</tc><th>for</tc><th>lambda</tc><th>try</tc></tr>\n",
        "</table>"
      ]
    },
    {
      "cell_type": "code",
      "metadata": {
        "id": "lRf0oW2vJ_9k",
        "colab_type": "code",
        "colab": {},
        "outputId": "6dc70820-9410-4949-c4f2-a32d23fc1288"
      },
      "source": [
        "#To extract all keywords in python 3.6 use the below code\n",
        "\n",
        "import keyword\n",
        "\n",
        "print(keyword.kwlist)"
      ],
      "execution_count": 0,
      "outputs": [
        {
          "output_type": "stream",
          "text": [
            "['False', 'None', 'True', 'and', 'as', 'assert', 'break', 'class', 'continue', 'def', 'del', 'elif', 'else', 'except', 'finally', 'for', 'from', 'global', 'if', 'import', 'in', 'is', 'lambda', 'nonlocal', 'not', 'or', 'pass', 'raise', 'return', 'try', 'while', 'with', 'yield']\n"
          ],
          "name": "stdout"
        }
      ]
    },
    {
      "cell_type": "code",
      "metadata": {
        "id": "L43fsmKQMLhP",
        "colab_type": "code",
        "colab": {}
      },
      "source": [
        "import keyword"
      ],
      "execution_count": 0,
      "outputs": []
    },
    {
      "cell_type": "code",
      "metadata": {
        "id": "kKGqYrvmMUdu",
        "colab_type": "code",
        "colab": {
          "base_uri": "https://localhost:8080/",
          "height": 87
        },
        "outputId": "034f8c93-85de-4a7a-8275-ecb24d51da34"
      },
      "source": [
        "allKw = keyword.kwlist\n",
        "print(\"Type : \", type(allKw))\n",
        "print(\"Length : \", len(allKw))\n",
        "print(\"List : \", allKw)"
      ],
      "execution_count": 4,
      "outputs": [
        {
          "output_type": "stream",
          "text": [
            "Type :  <class 'list'>\n",
            "Length :  33\n",
            "List :  ['False', 'None', 'True', 'and', 'as', 'assert', 'break', 'class', 'continue', 'def', 'del', 'elif', 'else', 'except', 'finally', 'for', 'from', 'global', 'if', 'import', 'in', 'is', 'lambda', 'nonlocal', 'not', 'or', 'pass', 'raise', 'return', 'try', 'while', 'with', 'yield']\n"
          ],
          "name": "stdout"
        }
      ]
    },
    {
      "cell_type": "code",
      "metadata": {
        "id": "-Y1MMAxYJ_9t",
        "colab_type": "code",
        "colab": {},
        "outputId": "f18af0bf-b007-4ecc-ad4c-ff33ea0ce3a3"
      },
      "source": [
        "# Number of keywords are \n",
        "print(\"keywords in python 3.6 are:\", len(keyword.kwlist))"
      ],
      "execution_count": 0,
      "outputs": [
        {
          "output_type": "stream",
          "text": [
            "keywords in python 3.6 are: 33\n"
          ],
          "name": "stdout"
        }
      ]
    },
    {
      "cell_type": "markdown",
      "metadata": {
        "collapsed": true,
        "id": "CXdR8APZJ_9y",
        "colab_type": "text"
      },
      "source": [
        "# 2. Identifiers"
      ]
    },
    {
      "cell_type": "markdown",
      "metadata": {
        "id": "V2GEGvEVJ_9z",
        "colab_type": "text"
      },
      "source": [
        "Identifiers (also referred to as names) is given to entities like class, functions, variables etc. in Python. It helps differentiating one entity from another."
      ]
    },
    {
      "cell_type": "markdown",
      "metadata": {
        "id": "HFaz6zAcJ_90",
        "colab_type": "text"
      },
      "source": [
        "Rules for Writing Identifiers:\n",
        "\n",
        "1. Identifiers can be a combination of letters in lowercase (a to z) or uppercase (A to Z) or digits (0 to 9) or an underscore (_).\n",
        "\n",
        "2. An identifier cannot start with a digit. <i>'99somename'</i> is invalid, but <i>'somename99'</i> is perfectly fine.\n",
        "\n",
        "3. Keywords cannot be used as identifiers."
      ]
    },
    {
      "cell_type": "code",
      "metadata": {
        "id": "tZcZJLwRJ_91",
        "colab_type": "code",
        "colab": {},
        "outputId": "1c3018ff-5d77-4a2c-e086-6eb7922997ea"
      },
      "source": [
        "99somename = 100      # Wrong way of defining identifiers"
      ],
      "execution_count": 0,
      "outputs": [
        {
          "output_type": "error",
          "ename": "SyntaxError",
          "evalue": "invalid syntax (<ipython-input-13-e6c9f7eda5aa>, line 1)",
          "traceback": [
            "\u001b[0;36m  File \u001b[0;32m\"<ipython-input-13-e6c9f7eda5aa>\"\u001b[0;36m, line \u001b[0;32m1\u001b[0m\n\u001b[0;31m    99somename = 100\u001b[0m\n\u001b[0m             ^\u001b[0m\n\u001b[0;31mSyntaxError\u001b[0m\u001b[0;31m:\u001b[0m invalid syntax\n"
          ]
        }
      ]
    },
    {
      "cell_type": "code",
      "metadata": {
        "id": "npMR3JlJJ_97",
        "colab_type": "code",
        "colab": {},
        "outputId": "7445ef13-79a9-47f4-b36b-dc67b9576858"
      },
      "source": [
        "somename99 = 100      # Right way of defining identifiers\n",
        "print(somename99)"
      ],
      "execution_count": 0,
      "outputs": [
        {
          "output_type": "stream",
          "text": [
            "100\n"
          ],
          "name": "stdout"
        }
      ]
    },
    {
      "cell_type": "code",
      "metadata": {
        "id": "fgOZqKaCJ_9_",
        "colab_type": "code",
        "colab": {},
        "outputId": "7c4d2aaa-cdee-478b-f995-ab5fc773e92e"
      },
      "source": [
        "break = 1             # Cannot use keyword as identifiers"
      ],
      "execution_count": 0,
      "outputs": [
        {
          "output_type": "error",
          "ename": "SyntaxError",
          "evalue": "invalid syntax (<ipython-input-9-0a0e97cd82d8>, line 1)",
          "traceback": [
            "\u001b[0;36m  File \u001b[0;32m\"<ipython-input-9-0a0e97cd82d8>\"\u001b[0;36m, line \u001b[0;32m1\u001b[0m\n\u001b[0;31m    break = 1\u001b[0m\n\u001b[0m          ^\u001b[0m\n\u001b[0;31mSyntaxError\u001b[0m\u001b[0;31m:\u001b[0m invalid syntax\n"
          ]
        }
      ]
    },
    {
      "cell_type": "markdown",
      "metadata": {
        "id": "DxGSltAQJ_-I",
        "colab_type": "text"
      },
      "source": [
        " We cannot use special symbols like !, @, #, $, % etc. in our identifier."
      ]
    },
    {
      "cell_type": "code",
      "metadata": {
        "id": "w3XhieqGJ_-K",
        "colab_type": "code",
        "colab": {},
        "outputId": "d5caef9f-ec2c-43a3-dc3c-5a23d06739bc"
      },
      "source": [
        "hello@ = 10           #can't use special symbols as an identifier"
      ],
      "execution_count": 0,
      "outputs": [
        {
          "output_type": "error",
          "ename": "SyntaxError",
          "evalue": "invalid syntax (<ipython-input-10-74122af75f83>, line 1)",
          "traceback": [
            "\u001b[0;36m  File \u001b[0;32m\"<ipython-input-10-74122af75f83>\"\u001b[0;36m, line \u001b[0;32m1\u001b[0m\n\u001b[0;31m    hello@ = 10             #can't use special symbols as an identifier\u001b[0m\n\u001b[0m           ^\u001b[0m\n\u001b[0;31mSyntaxError\u001b[0m\u001b[0;31m:\u001b[0m invalid syntax\n"
          ]
        }
      ]
    },
    {
      "cell_type": "markdown",
      "metadata": {
        "id": "ZTxLhMZBJ_-R",
        "colab_type": "text"
      },
      "source": [
        "### Few more correct identifiers"
      ]
    },
    {
      "cell_type": "code",
      "metadata": {
        "id": "9XLHvmfOJ_-T",
        "colab_type": "code",
        "colab": {},
        "outputId": "56ca80f4-2dda-48bd-9295-782f9df95dad"
      },
      "source": [
        "hello = 1\n",
        "print('hello: ',hello)\n",
        "\n",
        "hello123 = 1\n",
        "print('hello123: ',hello123)\n",
        "\n",
        "hello_1 = 1\n",
        "print('hello_1: ',hello_1)"
      ],
      "execution_count": 0,
      "outputs": [
        {
          "output_type": "stream",
          "text": [
            "hello:  1\n",
            "hello123:  1\n",
            "hello_1:  1\n"
          ],
          "name": "stdout"
        }
      ]
    },
    {
      "cell_type": "markdown",
      "metadata": {
        "id": "_tv2C_I4J_-Y",
        "colab_type": "text"
      },
      "source": [
        "# 3. Comments in Python"
      ]
    },
    {
      "cell_type": "markdown",
      "metadata": {
        "id": "2H4dIapjJ_-a",
        "colab_type": "text"
      },
      "source": [
        "A comment may appear at the start of a line or following whitespace or code, but not within a string literal.<br/>\n",
        "A hash character within a string literal is just a hash character.<br/>\n",
        "Comments are lines that are ignored by compilers and interpreters. <br/>\n",
        "### This is one of the best way to convey the idea behind the code and people reusing your code can easily make sense of your code"
      ]
    },
    {
      "cell_type": "markdown",
      "metadata": {
        "id": "yxblXxoGJ_-c",
        "colab_type": "text"
      },
      "source": [
        "### Single line comment"
      ]
    },
    {
      "cell_type": "code",
      "metadata": {
        "id": "-E9Vm0QEJ_-c",
        "colab_type": "code",
        "colab": {}
      },
      "source": [
        "# This is a single line comment. Has no effect on the code below\n",
        "abd = 10"
      ],
      "execution_count": 0,
      "outputs": []
    },
    {
      "cell_type": "markdown",
      "metadata": {
        "id": "FXEZon16J_-j",
        "colab_type": "text"
      },
      "source": [
        "### Multi line comment"
      ]
    },
    {
      "cell_type": "code",
      "metadata": {
        "id": "XViTwWh6J_-l",
        "colab_type": "code",
        "colab": {}
      },
      "source": [
        "# You can write multiple lines of comment by putting a '#' at the beginning\n",
        "# You can write multiple lines of comment by putting a '#' at the beginning\n",
        "# You can write multiple lines of comment by putting a '#' at the beginning"
      ],
      "execution_count": 0,
      "outputs": []
    },
    {
      "cell_type": "code",
      "metadata": {
        "id": "dOxgLMePJ_-q",
        "colab_type": "code",
        "colab": {}
      },
      "source": [
        "'''\n",
        "A better option to write multi line comment is by adding all your \n",
        "text between a set of 3-single or 3-double quotes. Like we have done here\n",
        "'''"
      ],
      "execution_count": 0,
      "outputs": []
    },
    {
      "cell_type": "code",
      "metadata": {
        "id": "Dmk29sVhJ_-u",
        "colab_type": "code",
        "colab": {},
        "outputId": "af467f4d-1d5b-4e1b-b543-51b95dccbba6"
      },
      "source": [
        "\"\"\"\n",
        "A better option to write multi line comment is by adding all your \n",
        "text between a set of 3-single or 3-double quotes. Like we have done here\n",
        "\"\"\""
      ],
      "execution_count": 0,
      "outputs": [
        {
          "output_type": "execute_result",
          "data": {
            "text/plain": [
              "'\\nA better option to write multi line comment is by adding all your \\ntext between a set of 3-single or 3-double quotes. Like we have done here\\n'"
            ]
          },
          "metadata": {
            "tags": []
          },
          "execution_count": 25
        }
      ]
    },
    {
      "cell_type": "markdown",
      "metadata": {
        "id": "j0EsLtbSJ_-x",
        "colab_type": "text"
      },
      "source": [
        "### Docstring"
      ]
    },
    {
      "cell_type": "markdown",
      "metadata": {
        "id": "V52aM2qVJ_-y",
        "colab_type": "text"
      },
      "source": [
        "Docstring is short for documentation string.<p/>\n",
        "\n",
        "String that occurs as the first statement in a module, function, class, <br/>\n",
        "or method definition. Used to define what a function/class does."
      ]
    },
    {
      "cell_type": "code",
      "metadata": {
        "id": "GbeNsbV5J_-z",
        "colab_type": "code",
        "colab": {},
        "outputId": "b1f6f78b-d2a7-4c6d-a139-6b6f85f8da14"
      },
      "source": [
        "def square(num):\n",
        "    \"\"\"\n",
        "    Function to square a number. \n",
        "    Print this docstring using __doc__ attribute of the function\n",
        "    \"\"\"\n",
        "    return num * num\n",
        "\n",
        "print(square(20))"
      ],
      "execution_count": 0,
      "outputs": [
        {
          "output_type": "stream",
          "text": [
            "400\n"
          ],
          "name": "stdout"
        }
      ]
    },
    {
      "cell_type": "code",
      "metadata": {
        "id": "wmIkhKlKJ_-2",
        "colab_type": "code",
        "colab": {},
        "outputId": "f2a6870b-0eb0-4fae-b78b-ca741b69d342"
      },
      "source": [
        "print(square.__doc__)      # To print the docstring of a function use the __doc__ attribute of the function"
      ],
      "execution_count": 0,
      "outputs": [
        {
          "output_type": "stream",
          "text": [
            "\n",
            "    Function to square a number. \n",
            "    Print this docstring using __doc__ attribute of the function\n",
            "    \n"
          ],
          "name": "stdout"
        }
      ]
    },
    {
      "cell_type": "code",
      "metadata": {
        "id": "pK0y6pOfJ_-6",
        "colab_type": "code",
        "colab": {}
      },
      "source": [
        "square                     # Press shift+tab to view the docstring"
      ],
      "execution_count": 0,
      "outputs": []
    },
    {
      "cell_type": "code",
      "metadata": {
        "id": "KBwiHpeGVRdA",
        "colab_type": "code",
        "colab": {
          "base_uri": "https://localhost:8080/",
          "height": 84
        },
        "outputId": "1b20f8fb-77a8-4670-e28e-35aaa7706071"
      },
      "source": [
        "def sum(a, b):\n",
        "  \"\"\"\n",
        "  JS - Userdefined text for the function - Function to calculate the sum of two numbers - a and b.\n",
        "  \"\"\"\n",
        "  return (a+b)\n",
        "x = sum(4,5)\n",
        "print(\"Sum of 4, 5 : \", x)\n",
        "print(\"Documentation of the function : sum \", sum.__doc__)"
      ],
      "execution_count": 9,
      "outputs": [
        {
          "output_type": "stream",
          "text": [
            "Sum of 4, 5 :  9\n",
            "Documentation of the function : sum  \n",
            "  JS - Userdefined text for the function - Function to calculate the sum of two numbers - a and b.\n",
            "  \n"
          ],
          "name": "stdout"
        }
      ]
    },
    {
      "cell_type": "markdown",
      "metadata": {
        "id": "1-kJuhdlJ_--",
        "colab_type": "text"
      },
      "source": [
        "# 4. Python Indentation"
      ]
    },
    {
      "cell_type": "markdown",
      "metadata": {
        "id": "2hqIh9mqJ_--",
        "colab_type": "text"
      },
      "source": [
        "Unlike C, C++, Java where we use braces { } to define a block of code, in Python we use indentation.\n",
        "\n",
        "A code block (body of a function, loop etc.) starts with indentation and ends with the first unindented line. The amount of indentation is up to you, but it must be consistent throughout that block.\n",
        "\n",
        "Generally four whitespaces are used for indentation and is preferred over tabs.\n",
        "\n",
        "Leading whitespace (spaces and tabs) at the beginning of a logical line is used to compute the indentation level of the line, <b>which in turn is used to determine the grouping of statements</b>."
      ]
    },
    {
      "cell_type": "code",
      "metadata": {
        "id": "_GEE243gJ__B",
        "colab_type": "code",
        "colab": {
          "base_uri": "https://localhost:8080/",
          "height": 128
        },
        "outputId": "a619d27d-b403-410f-9db2-7dfe67ccd01e"
      },
      "source": [
        "variable1 = 10\n",
        "  variable2 = 20          # Logical continuation disrupted"
      ],
      "execution_count": 10,
      "outputs": [
        {
          "output_type": "error",
          "ename": "IndentationError",
          "evalue": "ignored",
          "traceback": [
            "\u001b[0;36m  File \u001b[0;32m\"<ipython-input-10-0c3bb24a507a>\"\u001b[0;36m, line \u001b[0;32m2\u001b[0m\n\u001b[0;31m    variable2 = 20          # Logical continuation disrupted\u001b[0m\n\u001b[0m    ^\u001b[0m\n\u001b[0;31mIndentationError\u001b[0m\u001b[0;31m:\u001b[0m unexpected indent\n"
          ]
        }
      ]
    },
    {
      "cell_type": "code",
      "metadata": {
        "id": "aCFnaRhPJ__F",
        "colab_type": "code",
        "colab": {}
      },
      "source": [
        "variable1 = 10\n",
        "variable2 = 20"
      ],
      "execution_count": 0,
      "outputs": []
    },
    {
      "cell_type": "code",
      "metadata": {
        "id": "Mc9pJ_iAJ__J",
        "colab_type": "code",
        "colab": {
          "base_uri": "https://localhost:8080/",
          "height": 67
        },
        "outputId": "efa83cbb-d997-42ed-8e4e-26be5f3f3ba5"
      },
      "source": [
        "for i in range (1,4):\n",
        "    print(i)              # Logical continuation maintained"
      ],
      "execution_count": 13,
      "outputs": [
        {
          "output_type": "stream",
          "text": [
            "1\n",
            "2\n",
            "3\n"
          ],
          "name": "stdout"
        }
      ]
    },
    {
      "cell_type": "code",
      "metadata": {
        "id": "NLtx98WlazcU",
        "colab_type": "code",
        "colab": {
          "base_uri": "https://localhost:8080/",
          "height": 84
        },
        "outputId": "7fdd2425-c327-4eaf-c425-5ab1e7b0e82b"
      },
      "source": [
        "for i in range(1,5):\n",
        "  print(\"i : \", i)"
      ],
      "execution_count": 11,
      "outputs": [
        {
          "output_type": "stream",
          "text": [
            "i :  1\n",
            "i :  2\n",
            "i :  3\n",
            "i :  4\n"
          ],
          "name": "stdout"
        }
      ]
    },
    {
      "cell_type": "markdown",
      "metadata": {
        "id": "GUt0PKRAJ__P",
        "colab_type": "text"
      },
      "source": [
        "### Indentation is a good way to keep the code readable"
      ]
    },
    {
      "cell_type": "code",
      "metadata": {
        "id": "9hP7J7lZJ__P",
        "colab_type": "code",
        "colab": {},
        "outputId": "d39882ac-a1eb-4aee-b7c8-ffbc01c96052"
      },
      "source": [
        "variable1=10;variable2=20                   # Everything could be in one line but less readable. Multiple statement in one line\n",
        "\n",
        "for i in range (1,4): print(i)              # Everything could be in one line but less readable"
      ],
      "execution_count": 0,
      "outputs": [
        {
          "output_type": "stream",
          "text": [
            "1\n",
            "2\n",
            "3\n"
          ],
          "name": "stdout"
        }
      ]
    },
    {
      "cell_type": "markdown",
      "metadata": {
        "id": "mTe8SmRVJ__U",
        "colab_type": "text"
      },
      "source": [
        "# 5. Python Statement"
      ]
    },
    {
      "cell_type": "markdown",
      "metadata": {
        "id": "g0AuG261J__V",
        "colab_type": "text"
      },
      "source": [
        "Instructions that a Python interpreter can execute are called statements. For example, a = 1 is an assignment statement. if statement, for statement, while statement etc. are other kinds of statements which will be discussed later."
      ]
    },
    {
      "cell_type": "markdown",
      "metadata": {
        "id": "SCu1d7heJ__W",
        "colab_type": "text"
      },
      "source": [
        "### Single-line statement"
      ]
    },
    {
      "cell_type": "code",
      "metadata": {
        "id": "UgSkOmqIJ__Y",
        "colab_type": "code",
        "colab": {}
      },
      "source": [
        "number = 10"
      ],
      "execution_count": 0,
      "outputs": []
    },
    {
      "cell_type": "markdown",
      "metadata": {
        "id": "JteQ7i9lJ__e",
        "colab_type": "text"
      },
      "source": [
        "### Multi-line statement \n",
        "(Use a continuation character '\\')"
      ]
    },
    {
      "cell_type": "code",
      "metadata": {
        "id": "fyPP1s7nJ__f",
        "colab_type": "code",
        "colab": {},
        "outputId": "24503eb6-d5e1-4e84-f3df-4c727cbd3f40"
      },
      "source": [
        "number = 10 + 20 + \\\n",
        "         30 + 40 + \\\n",
        "         50\n",
        "    \n",
        "print(number)"
      ],
      "execution_count": 0,
      "outputs": [
        {
          "output_type": "stream",
          "text": [
            "150\n"
          ],
          "name": "stdout"
        }
      ]
    },
    {
      "cell_type": "markdown",
      "metadata": {
        "id": "TrlZtqP3J__l",
        "colab_type": "text"
      },
      "source": [
        "(Alternately use brackets)"
      ]
    },
    {
      "cell_type": "code",
      "metadata": {
        "id": "eEXEgOSkJ__m",
        "colab_type": "code",
        "colab": {},
        "outputId": "08f8112a-e333-4129-bef3-e74d29e6ec52"
      },
      "source": [
        "number = (10 + 20 + \n",
        "         30 + 40 + \n",
        "         50)\n",
        "    \n",
        "print(number)"
      ],
      "execution_count": 0,
      "outputs": [
        {
          "output_type": "stream",
          "text": [
            "150\n"
          ],
          "name": "stdout"
        }
      ]
    }
  ]
}