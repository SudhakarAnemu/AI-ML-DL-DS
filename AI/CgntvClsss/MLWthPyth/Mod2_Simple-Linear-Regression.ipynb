{
  "nbformat": 4,
  "nbformat_minor": 0,
  "metadata": {
    "kernelspec": {
      "display_name": "Python 3",
      "language": "python",
      "name": "python3"
    },
    "language_info": {
      "codemirror_mode": {
        "name": "ipython",
        "version": 3
      },
      "file_extension": ".py",
      "mimetype": "text/x-python",
      "name": "python",
      "nbconvert_exporter": "python",
      "pygments_lexer": "ipython3",
      "version": "3.6.5"
    },
    "colab": {
      "name": "Mod2_Simple-Linear-Regression.ipynb",
      "provenance": []
    }
  },
  "cells": [
    {
      "cell_type": "markdown",
      "metadata": {
        "button": false,
        "deletable": true,
        "new_sheet": false,
        "run_control": {
          "read_only": false
        },
        "id": "sko2guHP1H-i",
        "colab_type": "text"
      },
      "source": [
        "<a href=\"https://www.bigdatauniversity.com\"><img src = \"https://ibm.box.com/shared/static/cw2c7r3o20w9zn8gkecaeyjhgw3xdgbj.png\" width = 400, align = \"center\"></a>\n",
        "\n",
        "# <center>Simple Linear Regression</center>\n",
        "\n",
        "\n",
        "#### About this Notebook\n",
        "In this notebook, we learn how to use scikit-learn to implement simple linear regression. We download a dataset that is related to fuel consumption and Carbon dioxide emission of cars. Then, we split our data into training and test sets, create a model using training set, Evaluate your model using test set, and finally use model to predict unknown value\n"
      ]
    },
    {
      "cell_type": "markdown",
      "metadata": {
        "button": false,
        "deletable": true,
        "new_sheet": false,
        "run_control": {
          "read_only": false
        },
        "id": "BdBQwWWL1H-t",
        "colab_type": "text"
      },
      "source": [
        "### Importing Needed packages"
      ]
    },
    {
      "cell_type": "code",
      "metadata": {
        "button": false,
        "deletable": true,
        "new_sheet": false,
        "run_control": {
          "read_only": false
        },
        "id": "UJ8pFmGN1H_B",
        "colab_type": "code",
        "colab": {
          "base_uri": "https://localhost:8080/",
          "height": 34
        },
        "outputId": "0e8aeb24-c7fb-4e3c-f10e-316a41e2b59a"
      },
      "source": [
        "import matplotlib.pyplot as plt\n",
        "import pandas as pd\n",
        "import pylab as pl\n",
        "import numpy as np\n",
        "%matplotlib inline\n",
        "print(\"Import all required Libraries\")"
      ],
      "execution_count": 1,
      "outputs": [
        {
          "output_type": "stream",
          "text": [
            "Import all required Libraries\n"
          ],
          "name": "stdout"
        }
      ]
    },
    {
      "cell_type": "markdown",
      "metadata": {
        "button": false,
        "deletable": true,
        "new_sheet": false,
        "run_control": {
          "read_only": false
        },
        "id": "bTcZVKs01H_w",
        "colab_type": "text"
      },
      "source": [
        "### Downloading Data\n",
        "To download the data, we will use !wget to download it from IBM Object Storage."
      ]
    },
    {
      "cell_type": "code",
      "metadata": {
        "button": false,
        "deletable": true,
        "new_sheet": false,
        "run_control": {
          "read_only": false
        },
        "id": "JBbpiabm1H_0",
        "colab_type": "code",
        "colab": {
          "base_uri": "https://localhost:8080/",
          "height": 204
        },
        "outputId": "7751b1a6-7fd5-49fe-e573-2e083de89a35"
      },
      "source": [
        "!wget -O FuelConsumption.csv https://s3-api.us-geo.objectstorage.softlayer.net/cf-courses-data/CognitiveClass/ML0101ENv3/labs/FuelConsumptionCo2.csv"
      ],
      "execution_count": 2,
      "outputs": [
        {
          "output_type": "stream",
          "text": [
            "--2020-06-22 05:13:19--  https://s3-api.us-geo.objectstorage.softlayer.net/cf-courses-data/CognitiveClass/ML0101ENv3/labs/FuelConsumptionCo2.csv\n",
            "Resolving s3-api.us-geo.objectstorage.softlayer.net (s3-api.us-geo.objectstorage.softlayer.net)... 67.228.254.196\n",
            "Connecting to s3-api.us-geo.objectstorage.softlayer.net (s3-api.us-geo.objectstorage.softlayer.net)|67.228.254.196|:443... connected.\n",
            "HTTP request sent, awaiting response... 200 OK\n",
            "Length: 72629 (71K) [text/csv]\n",
            "Saving to: ‘FuelConsumption.csv’\n",
            "\n",
            "\rFuelConsumption.csv   0%[                    ]       0  --.-KB/s               \rFuelConsumption.csv 100%[===================>]  70.93K  --.-KB/s    in 0.04s   \n",
            "\n",
            "2020-06-22 05:13:19 (1.56 MB/s) - ‘FuelConsumption.csv’ saved [72629/72629]\n",
            "\n"
          ],
          "name": "stdout"
        }
      ]
    },
    {
      "cell_type": "markdown",
      "metadata": {
        "id": "prW74NZB1IAX",
        "colab_type": "text"
      },
      "source": [
        "__Did you know?__ When it comes to Machine Learning, you will likely be working with large datasets. As a business, where can you host your data? IBM is offering a unique opportunity for businesses, with 10 Tb of IBM Cloud Object Storage: [Sign up now for free](http://cocl.us/ML0101EN-IBM-Offer-CC)"
      ]
    },
    {
      "cell_type": "markdown",
      "metadata": {
        "button": false,
        "deletable": true,
        "new_sheet": false,
        "run_control": {
          "read_only": false
        },
        "id": "iV6_tUR71IAd",
        "colab_type": "text"
      },
      "source": [
        "\n",
        "## Understanding the Data\n",
        "\n",
        "### `FuelConsumption.csv`:\n",
        "We have downloaded a fuel consumption dataset, **`FuelConsumption.csv`**, which contains model-specific fuel consumption ratings and estimated carbon dioxide emissions for new light-duty vehicles for retail sale in Canada. [Dataset source](http://open.canada.ca/data/en/dataset/98f1a129-f628-4ce4-b24d-6f16bf24dd64)\n",
        "\n",
        "- **MODELYEAR** e.g. 2014\n",
        "- **MAKE** e.g. Acura\n",
        "- **MODEL** e.g. ILX\n",
        "- **VEHICLE CLASS** e.g. SUV\n",
        "- **ENGINE SIZE** e.g. 4.7\n",
        "- **CYLINDERS** e.g 6\n",
        "- **TRANSMISSION** e.g. A6\n",
        "- **FUEL CONSUMPTION in CITY(L/100 km)** e.g. 9.9\n",
        "- **FUEL CONSUMPTION in HWY (L/100 km)** e.g. 8.9\n",
        "- **FUEL CONSUMPTION COMB (L/100 km)** e.g. 9.2\n",
        "- **CO2 EMISSIONS (g/km)** e.g. 182   --> low --> 0\n"
      ]
    },
    {
      "cell_type": "markdown",
      "metadata": {
        "button": false,
        "deletable": true,
        "new_sheet": false,
        "run_control": {
          "read_only": false
        },
        "id": "kKeEkOZc1IAi",
        "colab_type": "text"
      },
      "source": [
        "## Reading the data in"
      ]
    },
    {
      "cell_type": "code",
      "metadata": {
        "button": false,
        "deletable": true,
        "new_sheet": false,
        "run_control": {
          "read_only": false
        },
        "id": "FD22vRqI1IAr",
        "colab_type": "code",
        "colab": {
          "base_uri": "https://localhost:8080/",
          "height": 204
        },
        "outputId": "16445b3a-13dc-47e3-8c28-4d6ce3d63d11"
      },
      "source": [
        "df = pd.read_csv(\"FuelConsumption.csv\")\n",
        "\n",
        "# take a look at the dataset\n",
        "df.head()\n",
        "\n"
      ],
      "execution_count": 3,
      "outputs": [
        {
          "output_type": "execute_result",
          "data": {
            "text/html": [
              "<div>\n",
              "<style scoped>\n",
              "    .dataframe tbody tr th:only-of-type {\n",
              "        vertical-align: middle;\n",
              "    }\n",
              "\n",
              "    .dataframe tbody tr th {\n",
              "        vertical-align: top;\n",
              "    }\n",
              "\n",
              "    .dataframe thead th {\n",
              "        text-align: right;\n",
              "    }\n",
              "</style>\n",
              "<table border=\"1\" class=\"dataframe\">\n",
              "  <thead>\n",
              "    <tr style=\"text-align: right;\">\n",
              "      <th></th>\n",
              "      <th>MODELYEAR</th>\n",
              "      <th>MAKE</th>\n",
              "      <th>MODEL</th>\n",
              "      <th>VEHICLECLASS</th>\n",
              "      <th>ENGINESIZE</th>\n",
              "      <th>CYLINDERS</th>\n",
              "      <th>TRANSMISSION</th>\n",
              "      <th>FUELTYPE</th>\n",
              "      <th>FUELCONSUMPTION_CITY</th>\n",
              "      <th>FUELCONSUMPTION_HWY</th>\n",
              "      <th>FUELCONSUMPTION_COMB</th>\n",
              "      <th>FUELCONSUMPTION_COMB_MPG</th>\n",
              "      <th>CO2EMISSIONS</th>\n",
              "    </tr>\n",
              "  </thead>\n",
              "  <tbody>\n",
              "    <tr>\n",
              "      <th>0</th>\n",
              "      <td>2014</td>\n",
              "      <td>ACURA</td>\n",
              "      <td>ILX</td>\n",
              "      <td>COMPACT</td>\n",
              "      <td>2.0</td>\n",
              "      <td>4</td>\n",
              "      <td>AS5</td>\n",
              "      <td>Z</td>\n",
              "      <td>9.9</td>\n",
              "      <td>6.7</td>\n",
              "      <td>8.5</td>\n",
              "      <td>33</td>\n",
              "      <td>196</td>\n",
              "    </tr>\n",
              "    <tr>\n",
              "      <th>1</th>\n",
              "      <td>2014</td>\n",
              "      <td>ACURA</td>\n",
              "      <td>ILX</td>\n",
              "      <td>COMPACT</td>\n",
              "      <td>2.4</td>\n",
              "      <td>4</td>\n",
              "      <td>M6</td>\n",
              "      <td>Z</td>\n",
              "      <td>11.2</td>\n",
              "      <td>7.7</td>\n",
              "      <td>9.6</td>\n",
              "      <td>29</td>\n",
              "      <td>221</td>\n",
              "    </tr>\n",
              "    <tr>\n",
              "      <th>2</th>\n",
              "      <td>2014</td>\n",
              "      <td>ACURA</td>\n",
              "      <td>ILX HYBRID</td>\n",
              "      <td>COMPACT</td>\n",
              "      <td>1.5</td>\n",
              "      <td>4</td>\n",
              "      <td>AV7</td>\n",
              "      <td>Z</td>\n",
              "      <td>6.0</td>\n",
              "      <td>5.8</td>\n",
              "      <td>5.9</td>\n",
              "      <td>48</td>\n",
              "      <td>136</td>\n",
              "    </tr>\n",
              "    <tr>\n",
              "      <th>3</th>\n",
              "      <td>2014</td>\n",
              "      <td>ACURA</td>\n",
              "      <td>MDX 4WD</td>\n",
              "      <td>SUV - SMALL</td>\n",
              "      <td>3.5</td>\n",
              "      <td>6</td>\n",
              "      <td>AS6</td>\n",
              "      <td>Z</td>\n",
              "      <td>12.7</td>\n",
              "      <td>9.1</td>\n",
              "      <td>11.1</td>\n",
              "      <td>25</td>\n",
              "      <td>255</td>\n",
              "    </tr>\n",
              "    <tr>\n",
              "      <th>4</th>\n",
              "      <td>2014</td>\n",
              "      <td>ACURA</td>\n",
              "      <td>RDX AWD</td>\n",
              "      <td>SUV - SMALL</td>\n",
              "      <td>3.5</td>\n",
              "      <td>6</td>\n",
              "      <td>AS6</td>\n",
              "      <td>Z</td>\n",
              "      <td>12.1</td>\n",
              "      <td>8.7</td>\n",
              "      <td>10.6</td>\n",
              "      <td>27</td>\n",
              "      <td>244</td>\n",
              "    </tr>\n",
              "  </tbody>\n",
              "</table>\n",
              "</div>"
            ],
            "text/plain": [
              "   MODELYEAR   MAKE  ... FUELCONSUMPTION_COMB_MPG CO2EMISSIONS\n",
              "0       2014  ACURA  ...                       33          196\n",
              "1       2014  ACURA  ...                       29          221\n",
              "2       2014  ACURA  ...                       48          136\n",
              "3       2014  ACURA  ...                       25          255\n",
              "4       2014  ACURA  ...                       27          244\n",
              "\n",
              "[5 rows x 13 columns]"
            ]
          },
          "metadata": {
            "tags": []
          },
          "execution_count": 3
        }
      ]
    },
    {
      "cell_type": "markdown",
      "metadata": {
        "button": false,
        "deletable": true,
        "new_sheet": false,
        "run_control": {
          "read_only": false
        },
        "id": "wrXzZzTp1IBQ",
        "colab_type": "text"
      },
      "source": [
        "### Data Exploration\n",
        "Lets first have a descriptive exploration on our data."
      ]
    },
    {
      "cell_type": "code",
      "metadata": {
        "button": false,
        "deletable": true,
        "new_sheet": false,
        "run_control": {
          "read_only": false
        },
        "id": "89tTVFVU1IBX",
        "colab_type": "code",
        "colab": {
          "base_uri": "https://localhost:8080/",
          "height": 297
        },
        "outputId": "d260606e-3871-434e-8d0f-dc3399128f0d"
      },
      "source": [
        "# summarize the data\n",
        "df.describe()"
      ],
      "execution_count": 4,
      "outputs": [
        {
          "output_type": "execute_result",
          "data": {
            "text/html": [
              "<div>\n",
              "<style scoped>\n",
              "    .dataframe tbody tr th:only-of-type {\n",
              "        vertical-align: middle;\n",
              "    }\n",
              "\n",
              "    .dataframe tbody tr th {\n",
              "        vertical-align: top;\n",
              "    }\n",
              "\n",
              "    .dataframe thead th {\n",
              "        text-align: right;\n",
              "    }\n",
              "</style>\n",
              "<table border=\"1\" class=\"dataframe\">\n",
              "  <thead>\n",
              "    <tr style=\"text-align: right;\">\n",
              "      <th></th>\n",
              "      <th>MODELYEAR</th>\n",
              "      <th>ENGINESIZE</th>\n",
              "      <th>CYLINDERS</th>\n",
              "      <th>FUELCONSUMPTION_CITY</th>\n",
              "      <th>FUELCONSUMPTION_HWY</th>\n",
              "      <th>FUELCONSUMPTION_COMB</th>\n",
              "      <th>FUELCONSUMPTION_COMB_MPG</th>\n",
              "      <th>CO2EMISSIONS</th>\n",
              "    </tr>\n",
              "  </thead>\n",
              "  <tbody>\n",
              "    <tr>\n",
              "      <th>count</th>\n",
              "      <td>1067.0</td>\n",
              "      <td>1067.000000</td>\n",
              "      <td>1067.000000</td>\n",
              "      <td>1067.000000</td>\n",
              "      <td>1067.000000</td>\n",
              "      <td>1067.000000</td>\n",
              "      <td>1067.000000</td>\n",
              "      <td>1067.000000</td>\n",
              "    </tr>\n",
              "    <tr>\n",
              "      <th>mean</th>\n",
              "      <td>2014.0</td>\n",
              "      <td>3.346298</td>\n",
              "      <td>5.794752</td>\n",
              "      <td>13.296532</td>\n",
              "      <td>9.474602</td>\n",
              "      <td>11.580881</td>\n",
              "      <td>26.441425</td>\n",
              "      <td>256.228679</td>\n",
              "    </tr>\n",
              "    <tr>\n",
              "      <th>std</th>\n",
              "      <td>0.0</td>\n",
              "      <td>1.415895</td>\n",
              "      <td>1.797447</td>\n",
              "      <td>4.101253</td>\n",
              "      <td>2.794510</td>\n",
              "      <td>3.485595</td>\n",
              "      <td>7.468702</td>\n",
              "      <td>63.372304</td>\n",
              "    </tr>\n",
              "    <tr>\n",
              "      <th>min</th>\n",
              "      <td>2014.0</td>\n",
              "      <td>1.000000</td>\n",
              "      <td>3.000000</td>\n",
              "      <td>4.600000</td>\n",
              "      <td>4.900000</td>\n",
              "      <td>4.700000</td>\n",
              "      <td>11.000000</td>\n",
              "      <td>108.000000</td>\n",
              "    </tr>\n",
              "    <tr>\n",
              "      <th>25%</th>\n",
              "      <td>2014.0</td>\n",
              "      <td>2.000000</td>\n",
              "      <td>4.000000</td>\n",
              "      <td>10.250000</td>\n",
              "      <td>7.500000</td>\n",
              "      <td>9.000000</td>\n",
              "      <td>21.000000</td>\n",
              "      <td>207.000000</td>\n",
              "    </tr>\n",
              "    <tr>\n",
              "      <th>50%</th>\n",
              "      <td>2014.0</td>\n",
              "      <td>3.400000</td>\n",
              "      <td>6.000000</td>\n",
              "      <td>12.600000</td>\n",
              "      <td>8.800000</td>\n",
              "      <td>10.900000</td>\n",
              "      <td>26.000000</td>\n",
              "      <td>251.000000</td>\n",
              "    </tr>\n",
              "    <tr>\n",
              "      <th>75%</th>\n",
              "      <td>2014.0</td>\n",
              "      <td>4.300000</td>\n",
              "      <td>8.000000</td>\n",
              "      <td>15.550000</td>\n",
              "      <td>10.850000</td>\n",
              "      <td>13.350000</td>\n",
              "      <td>31.000000</td>\n",
              "      <td>294.000000</td>\n",
              "    </tr>\n",
              "    <tr>\n",
              "      <th>max</th>\n",
              "      <td>2014.0</td>\n",
              "      <td>8.400000</td>\n",
              "      <td>12.000000</td>\n",
              "      <td>30.200000</td>\n",
              "      <td>20.500000</td>\n",
              "      <td>25.800000</td>\n",
              "      <td>60.000000</td>\n",
              "      <td>488.000000</td>\n",
              "    </tr>\n",
              "  </tbody>\n",
              "</table>\n",
              "</div>"
            ],
            "text/plain": [
              "       MODELYEAR   ENGINESIZE  ...  FUELCONSUMPTION_COMB_MPG  CO2EMISSIONS\n",
              "count     1067.0  1067.000000  ...               1067.000000   1067.000000\n",
              "mean      2014.0     3.346298  ...                 26.441425    256.228679\n",
              "std          0.0     1.415895  ...                  7.468702     63.372304\n",
              "min       2014.0     1.000000  ...                 11.000000    108.000000\n",
              "25%       2014.0     2.000000  ...                 21.000000    207.000000\n",
              "50%       2014.0     3.400000  ...                 26.000000    251.000000\n",
              "75%       2014.0     4.300000  ...                 31.000000    294.000000\n",
              "max       2014.0     8.400000  ...                 60.000000    488.000000\n",
              "\n",
              "[8 rows x 8 columns]"
            ]
          },
          "metadata": {
            "tags": []
          },
          "execution_count": 4
        }
      ]
    },
    {
      "cell_type": "markdown",
      "metadata": {
        "id": "u_f-RN8S73tN",
        "colab_type": "text"
      },
      "source": [
        "shape"
      ]
    },
    {
      "cell_type": "code",
      "metadata": {
        "id": "bjiIMpb075Jg",
        "colab_type": "code",
        "colab": {
          "base_uri": "https://localhost:8080/",
          "height": 34
        },
        "outputId": "f0b2d836-32b0-4aeb-a1f7-5bc06ce627ac"
      },
      "source": [
        "print(\"shape : \", df.shape)"
      ],
      "execution_count": 5,
      "outputs": [
        {
          "output_type": "stream",
          "text": [
            "shape :  (1067, 13)\n"
          ],
          "name": "stdout"
        }
      ]
    },
    {
      "cell_type": "markdown",
      "metadata": {
        "id": "nmszmVBy1IB5",
        "colab_type": "text"
      },
      "source": [
        "Lets select some features to explore more."
      ]
    },
    {
      "cell_type": "code",
      "metadata": {
        "button": false,
        "deletable": true,
        "new_sheet": false,
        "run_control": {
          "read_only": false
        },
        "id": "V7AISK7a1IB_",
        "colab_type": "code",
        "colab": {
          "base_uri": "https://localhost:8080/",
          "height": 328
        },
        "outputId": "05360a52-64db-41bc-baf4-5d3f0b34c906"
      },
      "source": [
        "cdf = df[['ENGINESIZE','CYLINDERS','FUELCONSUMPTION_COMB','CO2EMISSIONS']]\n",
        "cdf.head(9)"
      ],
      "execution_count": 6,
      "outputs": [
        {
          "output_type": "execute_result",
          "data": {
            "text/html": [
              "<div>\n",
              "<style scoped>\n",
              "    .dataframe tbody tr th:only-of-type {\n",
              "        vertical-align: middle;\n",
              "    }\n",
              "\n",
              "    .dataframe tbody tr th {\n",
              "        vertical-align: top;\n",
              "    }\n",
              "\n",
              "    .dataframe thead th {\n",
              "        text-align: right;\n",
              "    }\n",
              "</style>\n",
              "<table border=\"1\" class=\"dataframe\">\n",
              "  <thead>\n",
              "    <tr style=\"text-align: right;\">\n",
              "      <th></th>\n",
              "      <th>ENGINESIZE</th>\n",
              "      <th>CYLINDERS</th>\n",
              "      <th>FUELCONSUMPTION_COMB</th>\n",
              "      <th>CO2EMISSIONS</th>\n",
              "    </tr>\n",
              "  </thead>\n",
              "  <tbody>\n",
              "    <tr>\n",
              "      <th>0</th>\n",
              "      <td>2.0</td>\n",
              "      <td>4</td>\n",
              "      <td>8.5</td>\n",
              "      <td>196</td>\n",
              "    </tr>\n",
              "    <tr>\n",
              "      <th>1</th>\n",
              "      <td>2.4</td>\n",
              "      <td>4</td>\n",
              "      <td>9.6</td>\n",
              "      <td>221</td>\n",
              "    </tr>\n",
              "    <tr>\n",
              "      <th>2</th>\n",
              "      <td>1.5</td>\n",
              "      <td>4</td>\n",
              "      <td>5.9</td>\n",
              "      <td>136</td>\n",
              "    </tr>\n",
              "    <tr>\n",
              "      <th>3</th>\n",
              "      <td>3.5</td>\n",
              "      <td>6</td>\n",
              "      <td>11.1</td>\n",
              "      <td>255</td>\n",
              "    </tr>\n",
              "    <tr>\n",
              "      <th>4</th>\n",
              "      <td>3.5</td>\n",
              "      <td>6</td>\n",
              "      <td>10.6</td>\n",
              "      <td>244</td>\n",
              "    </tr>\n",
              "    <tr>\n",
              "      <th>5</th>\n",
              "      <td>3.5</td>\n",
              "      <td>6</td>\n",
              "      <td>10.0</td>\n",
              "      <td>230</td>\n",
              "    </tr>\n",
              "    <tr>\n",
              "      <th>6</th>\n",
              "      <td>3.5</td>\n",
              "      <td>6</td>\n",
              "      <td>10.1</td>\n",
              "      <td>232</td>\n",
              "    </tr>\n",
              "    <tr>\n",
              "      <th>7</th>\n",
              "      <td>3.7</td>\n",
              "      <td>6</td>\n",
              "      <td>11.1</td>\n",
              "      <td>255</td>\n",
              "    </tr>\n",
              "    <tr>\n",
              "      <th>8</th>\n",
              "      <td>3.7</td>\n",
              "      <td>6</td>\n",
              "      <td>11.6</td>\n",
              "      <td>267</td>\n",
              "    </tr>\n",
              "  </tbody>\n",
              "</table>\n",
              "</div>"
            ],
            "text/plain": [
              "   ENGINESIZE  CYLINDERS  FUELCONSUMPTION_COMB  CO2EMISSIONS\n",
              "0         2.0          4                   8.5           196\n",
              "1         2.4          4                   9.6           221\n",
              "2         1.5          4                   5.9           136\n",
              "3         3.5          6                  11.1           255\n",
              "4         3.5          6                  10.6           244\n",
              "5         3.5          6                  10.0           230\n",
              "6         3.5          6                  10.1           232\n",
              "7         3.7          6                  11.1           255\n",
              "8         3.7          6                  11.6           267"
            ]
          },
          "metadata": {
            "tags": []
          },
          "execution_count": 6
        }
      ]
    },
    {
      "cell_type": "markdown",
      "metadata": {
        "id": "sjhKJmky1ICs",
        "colab_type": "text"
      },
      "source": [
        "we can plot each of these fearues:"
      ]
    },
    {
      "cell_type": "code",
      "metadata": {
        "button": false,
        "deletable": true,
        "new_sheet": false,
        "run_control": {
          "read_only": false
        },
        "id": "kBoZ_4b51ICt",
        "colab_type": "code",
        "colab": {
          "base_uri": "https://localhost:8080/",
          "height": 34
        },
        "outputId": "08b32e36-a68e-4207-caf0-51886c4f999e"
      },
      "source": [
        "viz = cdf[['CYLINDERS','ENGINESIZE','CO2EMISSIONS','FUELCONSUMPTION_COMB']]\n",
        "type(viz)\n"
      ],
      "execution_count": 7,
      "outputs": [
        {
          "output_type": "execute_result",
          "data": {
            "text/plain": [
              "pandas.core.frame.DataFrame"
            ]
          },
          "metadata": {
            "tags": []
          },
          "execution_count": 7
        }
      ]
    },
    {
      "cell_type": "code",
      "metadata": {
        "id": "YoPIA26J4Kqt",
        "colab_type": "code",
        "colab": {
          "base_uri": "https://localhost:8080/",
          "height": 281
        },
        "outputId": "33f98405-79a2-4784-c5db-28c7f5d5d1e7"
      },
      "source": [
        "viz.hist()\n",
        "plt.show()"
      ],
      "execution_count": 8,
      "outputs": [
        {
          "output_type": "display_data",
          "data": {
            "image/png": "[encoded data removed]",
            "text/plain": [
              "<Figure size 432x288 with 4 Axes>"
            ]
          },
          "metadata": {
            "tags": [],
            "needs_background": "light"
          }
        }
      ]
    },
    {
      "cell_type": "code",
      "metadata": {
        "id": "5kqin1Gm4QYj",
        "colab_type": "code",
        "colab": {}
      },
      "source": [
        ""
      ],
      "execution_count": 8,
      "outputs": []
    },
    {
      "cell_type": "markdown",
      "metadata": {
        "id": "MjqZH_fE1IEH",
        "colab_type": "text"
      },
      "source": [
        "Now, lets plot each of these features vs the Emission, to see how linear is their relation:"
      ]
    },
    {
      "cell_type": "code",
      "metadata": {
        "button": false,
        "deletable": true,
        "new_sheet": false,
        "run_control": {
          "read_only": false
        },
        "id": "l1Pj5rv21IEX",
        "colab_type": "code",
        "colab": {
          "base_uri": "https://localhost:8080/",
          "height": 281
        },
        "outputId": "7636f58b-0dfc-4ad4-e738-a9462725a486"
      },
      "source": [
        "plt.scatter(cdf.FUELCONSUMPTION_COMB, cdf.CO2EMISSIONS,  color='blue')\n",
        "plt.xlabel(\"FUELCONSUMPTION_COMB\")\n",
        "plt.ylabel(\"Emission\")\n",
        "plt.show()"
      ],
      "execution_count": 9,
      "outputs": [
        {
          "output_type": "display_data",
          "data": {
            "image/png": "[encoded data removed]",
            "text/plain": [
              "<Figure size 432x288 with 1 Axes>"
            ]
          },
          "metadata": {
            "tags": [],
            "needs_background": "light"
          }
        }
      ]
    },
    {
      "cell_type": "code",
      "metadata": {
        "button": false,
        "deletable": true,
        "new_sheet": false,
        "run_control": {
          "read_only": false
        },
        "scrolled": true,
        "id": "osxNZdSW1IFB",
        "colab_type": "code",
        "colab": {
          "base_uri": "https://localhost:8080/",
          "height": 280
        },
        "outputId": "f6bda987-f950-4a0b-881a-fd12cd71ba22"
      },
      "source": [
        "plt.scatter(cdf.ENGINESIZE, cdf.CO2EMISSIONS,  color='blue')\n",
        "plt.xlabel(\"Engine size\")\n",
        "plt.ylabel(\"Emission\")\n",
        "plt.show()"
      ],
      "execution_count": 10,
      "outputs": [
        {
          "output_type": "display_data",
          "data": {
            "image/png": "[encoded data removed]",
            "text/plain": [
              "<Figure size 432x288 with 1 Axes>"
            ]
          },
          "metadata": {
            "tags": [],
            "needs_background": "light"
          }
        }
      ]
    },
    {
      "cell_type": "markdown",
      "metadata": {
        "id": "gcdJfL4R4xup",
        "colab_type": "text"
      },
      "source": [
        "# Verify the correlation among the variables"
      ]
    },
    {
      "cell_type": "code",
      "metadata": {
        "id": "p3_2ATeJ4mww",
        "colab_type": "code",
        "colab": {
          "base_uri": "https://localhost:8080/",
          "height": 173
        },
        "outputId": "cac55aba-4846-4a5f-ed6f-3c94adeb896e"
      },
      "source": [
        "cdf.corr()"
      ],
      "execution_count": 11,
      "outputs": [
        {
          "output_type": "execute_result",
          "data": {
            "text/html": [
              "<div>\n",
              "<style scoped>\n",
              "    .dataframe tbody tr th:only-of-type {\n",
              "        vertical-align: middle;\n",
              "    }\n",
              "\n",
              "    .dataframe tbody tr th {\n",
              "        vertical-align: top;\n",
              "    }\n",
              "\n",
              "    .dataframe thead th {\n",
              "        text-align: right;\n",
              "    }\n",
              "</style>\n",
              "<table border=\"1\" class=\"dataframe\">\n",
              "  <thead>\n",
              "    <tr style=\"text-align: right;\">\n",
              "      <th></th>\n",
              "      <th>ENGINESIZE</th>\n",
              "      <th>CYLINDERS</th>\n",
              "      <th>FUELCONSUMPTION_COMB</th>\n",
              "      <th>CO2EMISSIONS</th>\n",
              "    </tr>\n",
              "  </thead>\n",
              "  <tbody>\n",
              "    <tr>\n",
              "      <th>ENGINESIZE</th>\n",
              "      <td>1.000000</td>\n",
              "      <td>0.934011</td>\n",
              "      <td>0.819482</td>\n",
              "      <td>0.874154</td>\n",
              "    </tr>\n",
              "    <tr>\n",
              "      <th>CYLINDERS</th>\n",
              "      <td>0.934011</td>\n",
              "      <td>1.000000</td>\n",
              "      <td>0.776788</td>\n",
              "      <td>0.849685</td>\n",
              "    </tr>\n",
              "    <tr>\n",
              "      <th>FUELCONSUMPTION_COMB</th>\n",
              "      <td>0.819482</td>\n",
              "      <td>0.776788</td>\n",
              "      <td>1.000000</td>\n",
              "      <td>0.892129</td>\n",
              "    </tr>\n",
              "    <tr>\n",
              "      <th>CO2EMISSIONS</th>\n",
              "      <td>0.874154</td>\n",
              "      <td>0.849685</td>\n",
              "      <td>0.892129</td>\n",
              "      <td>1.000000</td>\n",
              "    </tr>\n",
              "  </tbody>\n",
              "</table>\n",
              "</div>"
            ],
            "text/plain": [
              "                      ENGINESIZE  CYLINDERS  FUELCONSUMPTION_COMB  CO2EMISSIONS\n",
              "ENGINESIZE              1.000000   0.934011              0.819482      0.874154\n",
              "CYLINDERS               0.934011   1.000000              0.776788      0.849685\n",
              "FUELCONSUMPTION_COMB    0.819482   0.776788              1.000000      0.892129\n",
              "CO2EMISSIONS            0.874154   0.849685              0.892129      1.000000"
            ]
          },
          "metadata": {
            "tags": []
          },
          "execution_count": 11
        }
      ]
    },
    {
      "cell_type": "code",
      "metadata": {
        "id": "u85_dO-h5PQY",
        "colab_type": "code",
        "colab": {
          "base_uri": "https://localhost:8080/",
          "height": 297
        },
        "outputId": "f2a594aa-6114-4e38-e0c3-2d0f572b3097"
      },
      "source": [
        "df.corr()"
      ],
      "execution_count": 12,
      "outputs": [
        {
          "output_type": "execute_result",
          "data": {
            "text/html": [
              "<div>\n",
              "<style scoped>\n",
              "    .dataframe tbody tr th:only-of-type {\n",
              "        vertical-align: middle;\n",
              "    }\n",
              "\n",
              "    .dataframe tbody tr th {\n",
              "        vertical-align: top;\n",
              "    }\n",
              "\n",
              "    .dataframe thead th {\n",
              "        text-align: right;\n",
              "    }\n",
              "</style>\n",
              "<table border=\"1\" class=\"dataframe\">\n",
              "  <thead>\n",
              "    <tr style=\"text-align: right;\">\n",
              "      <th></th>\n",
              "      <th>MODELYEAR</th>\n",
              "      <th>ENGINESIZE</th>\n",
              "      <th>CYLINDERS</th>\n",
              "      <th>FUELCONSUMPTION_CITY</th>\n",
              "      <th>FUELCONSUMPTION_HWY</th>\n",
              "      <th>FUELCONSUMPTION_COMB</th>\n",
              "      <th>FUELCONSUMPTION_COMB_MPG</th>\n",
              "      <th>CO2EMISSIONS</th>\n",
              "    </tr>\n",
              "  </thead>\n",
              "  <tbody>\n",
              "    <tr>\n",
              "      <th>MODELYEAR</th>\n",
              "      <td>NaN</td>\n",
              "      <td>NaN</td>\n",
              "      <td>NaN</td>\n",
              "      <td>NaN</td>\n",
              "      <td>NaN</td>\n",
              "      <td>NaN</td>\n",
              "      <td>NaN</td>\n",
              "      <td>NaN</td>\n",
              "    </tr>\n",
              "    <tr>\n",
              "      <th>ENGINESIZE</th>\n",
              "      <td>NaN</td>\n",
              "      <td>1.000000</td>\n",
              "      <td>0.934011</td>\n",
              "      <td>0.832225</td>\n",
              "      <td>0.778746</td>\n",
              "      <td>0.819482</td>\n",
              "      <td>-0.808554</td>\n",
              "      <td>0.874154</td>\n",
              "    </tr>\n",
              "    <tr>\n",
              "      <th>CYLINDERS</th>\n",
              "      <td>NaN</td>\n",
              "      <td>0.934011</td>\n",
              "      <td>1.000000</td>\n",
              "      <td>0.796473</td>\n",
              "      <td>0.724594</td>\n",
              "      <td>0.776788</td>\n",
              "      <td>-0.770430</td>\n",
              "      <td>0.849685</td>\n",
              "    </tr>\n",
              "    <tr>\n",
              "      <th>FUELCONSUMPTION_CITY</th>\n",
              "      <td>NaN</td>\n",
              "      <td>0.832225</td>\n",
              "      <td>0.796473</td>\n",
              "      <td>1.000000</td>\n",
              "      <td>0.965718</td>\n",
              "      <td>0.995542</td>\n",
              "      <td>-0.935613</td>\n",
              "      <td>0.898039</td>\n",
              "    </tr>\n",
              "    <tr>\n",
              "      <th>FUELCONSUMPTION_HWY</th>\n",
              "      <td>NaN</td>\n",
              "      <td>0.778746</td>\n",
              "      <td>0.724594</td>\n",
              "      <td>0.965718</td>\n",
              "      <td>1.000000</td>\n",
              "      <td>0.985804</td>\n",
              "      <td>-0.893809</td>\n",
              "      <td>0.861748</td>\n",
              "    </tr>\n",
              "    <tr>\n",
              "      <th>FUELCONSUMPTION_COMB</th>\n",
              "      <td>NaN</td>\n",
              "      <td>0.819482</td>\n",
              "      <td>0.776788</td>\n",
              "      <td>0.995542</td>\n",
              "      <td>0.985804</td>\n",
              "      <td>1.000000</td>\n",
              "      <td>-0.927965</td>\n",
              "      <td>0.892129</td>\n",
              "    </tr>\n",
              "    <tr>\n",
              "      <th>FUELCONSUMPTION_COMB_MPG</th>\n",
              "      <td>NaN</td>\n",
              "      <td>-0.808554</td>\n",
              "      <td>-0.770430</td>\n",
              "      <td>-0.935613</td>\n",
              "      <td>-0.893809</td>\n",
              "      <td>-0.927965</td>\n",
              "      <td>1.000000</td>\n",
              "      <td>-0.906394</td>\n",
              "    </tr>\n",
              "    <tr>\n",
              "      <th>CO2EMISSIONS</th>\n",
              "      <td>NaN</td>\n",
              "      <td>0.874154</td>\n",
              "      <td>0.849685</td>\n",
              "      <td>0.898039</td>\n",
              "      <td>0.861748</td>\n",
              "      <td>0.892129</td>\n",
              "      <td>-0.906394</td>\n",
              "      <td>1.000000</td>\n",
              "    </tr>\n",
              "  </tbody>\n",
              "</table>\n",
              "</div>"
            ],
            "text/plain": [
              "                          MODELYEAR  ...  CO2EMISSIONS\n",
              "MODELYEAR                       NaN  ...           NaN\n",
              "ENGINESIZE                      NaN  ...      0.874154\n",
              "CYLINDERS                       NaN  ...      0.849685\n",
              "FUELCONSUMPTION_CITY            NaN  ...      0.898039\n",
              "FUELCONSUMPTION_HWY             NaN  ...      0.861748\n",
              "FUELCONSUMPTION_COMB            NaN  ...      0.892129\n",
              "FUELCONSUMPTION_COMB_MPG        NaN  ...     -0.906394\n",
              "CO2EMISSIONS                    NaN  ...      1.000000\n",
              "\n",
              "[8 rows x 8 columns]"
            ]
          },
          "metadata": {
            "tags": []
          },
          "execution_count": 12
        }
      ]
    },
    {
      "cell_type": "markdown",
      "metadata": {
        "id": "lxfzpJ5o1IFV",
        "colab_type": "text"
      },
      "source": [
        "## Practice\n",
        "plot __CYLINDER__ vs the Emission, to see how linear is their relation:"
      ]
    },
    {
      "cell_type": "code",
      "metadata": {
        "button": false,
        "deletable": true,
        "new_sheet": false,
        "run_control": {
          "read_only": false
        },
        "id": "jNum7RSh1IFY",
        "colab_type": "code",
        "colab": {
          "base_uri": "https://localhost:8080/",
          "height": 34
        },
        "outputId": "a8b60e92-9616-40f1-baa8-3ee8fea8f031"
      },
      "source": [
        "cdf.columns"
      ],
      "execution_count": 13,
      "outputs": [
        {
          "output_type": "execute_result",
          "data": {
            "text/plain": [
              "Index(['ENGINESIZE', 'CYLINDERS', 'FUELCONSUMPTION_COMB', 'CO2EMISSIONS'], dtype='object')"
            ]
          },
          "metadata": {
            "tags": []
          },
          "execution_count": 13
        }
      ]
    },
    {
      "cell_type": "code",
      "metadata": {
        "id": "i-g4gg705dy4",
        "colab_type": "code",
        "colab": {
          "base_uri": "https://localhost:8080/",
          "height": 280
        },
        "outputId": "5a077b07-793c-40d9-f610-001401568859"
      },
      "source": [
        "plt.scatter(cdf.CYLINDERS, cdf.CO2EMISSIONS)\n",
        "plt.xlabel(\"Cylinders\")\n",
        "plt.ylabel(\"Emissions\")\n",
        "plt.show()"
      ],
      "execution_count": 14,
      "outputs": [
        {
          "output_type": "display_data",
          "data": {
            "image/png": "[encoded data removed]",
            "text/plain": [
              "<Figure size 432x288 with 1 Axes>"
            ]
          },
          "metadata": {
            "tags": [],
            "needs_background": "light"
          }
        }
      ]
    },
    {
      "cell_type": "markdown",
      "metadata": {
        "id": "NLcLdrfb1IFr",
        "colab_type": "text"
      },
      "source": [
        "Double-click __here__ for the solution.\n",
        "\n",
        "<!-- Your answer is below:\n",
        "    \n",
        "plt.scatter(cdf.CYLINDERS, cdf.CO2EMISSIONS, color='blue')\n",
        "plt.xlabel(\"Cylinders\")\n",
        "plt.ylabel(\"Emission\")\n",
        "plt.show()\n",
        "\n",
        "-->"
      ]
    },
    {
      "cell_type": "markdown",
      "metadata": {
        "button": false,
        "deletable": true,
        "new_sheet": false,
        "run_control": {
          "read_only": false
        },
        "id": "-wbqjqWE1IFs",
        "colab_type": "text"
      },
      "source": [
        "#### Creating train and test dataset\n",
        "Train/Test Split involves splitting the dataset into training and testing sets respectively, which are mutually exclusive. After which, you train with the training set and test with the testing set. \n",
        "This will provide a more accurate evaluation on out-of-sample accuracy because the testing dataset is not part of the dataset that have been used to train the data. It is more realistic for real world problems.\n",
        "\n",
        "This means that we know the outcome of each data point in this dataset, making it great to test with! And since this data has not been used to train the model, the model has no knowledge of the outcome of these data points. So, in essence, it is truly an out-of-sample testing.\n",
        "\n"
      ]
    },
    {
      "cell_type": "code",
      "metadata": {
        "id": "QNtQbCWR7MdG",
        "colab_type": "code",
        "colab": {
          "base_uri": "https://localhost:8080/",
          "height": 51
        },
        "outputId": "c0a241c1-48f2-4782-b6fb-7d1d586dcc87"
      },
      "source": [
        "# msk = np.random.rand(len(df))\n",
        "# print(\"msk : \", msk)\n",
        "# print(\"Len : \", len(msk), \"msk : \", msk)\n",
        "# print(\"Len : \", len(~msk), \"msk : \", ~msk) # error - not supported\n",
        "\n",
        "# Output : \n",
        "# msk :  [0.35758739 0.93562498 0.82379243 ... 0.60383536 0.75079801 0.3102343 ]\n",
        "# Len :  1067 msk :  [0.35758739 0.93562498 0.82379243 ... 0.60383536 0.75079801 0.3102343 ]\n",
        "\n",
        "# ---------------------------------------------------------------------------\n",
        "\n",
        "# TypeError                                 Traceback (most recent call last)\n",
        "\n",
        "# <ipython-input-53-3f5f04e583f6> in <module>()\n",
        "#       2 print(\"msk : \", msk)\n",
        "#       3 print(\"Len : \", len(msk), \"msk : \", msk)\n",
        "# ----> 4 print(\"Len : \", len(~msk), \"msk : \", ~msk)\n",
        "#       5 \n",
        "#       6 \n",
        "\n",
        "# TypeError: ufunc 'invert' not supported for the input types, and the inputs could not be safely coerced to any supported types according to the casting rule ''safe''\n",
        "\n",
        "\n",
        "msk = np.random.rand(len(df)) < 0.8\n",
        "print(\"Len : \", len(msk), \"msk : \", msk)\n",
        "print(\"Len : \", len(~msk), \"msk : \", ~msk)\n",
        "\n"
      ],
      "execution_count": 15,
      "outputs": [
        {
          "output_type": "stream",
          "text": [
            "Len :  1067 msk :  [False  True  True ...  True  True False]\n",
            "Len :  1067 msk :  [ True False False ... False False  True]\n"
          ],
          "name": "stdout"
        }
      ]
    },
    {
      "cell_type": "code",
      "metadata": {
        "id": "t58Rc58P9M3t",
        "colab_type": "code",
        "colab": {}
      },
      "source": [
        "msk = np.random.rand(len(df)) < 0.8\n",
        "train = cdf[msk]\n",
        "test = cdf[~msk]"
      ],
      "execution_count": 16,
      "outputs": []
    },
    {
      "cell_type": "code",
      "metadata": {
        "id": "xqH2tjik_-PZ",
        "colab_type": "code",
        "colab": {}
      },
      "source": [
        "# cdf[\"True\"].value()"
      ],
      "execution_count": 17,
      "outputs": []
    },
    {
      "cell_type": "code",
      "metadata": {
        "button": false,
        "deletable": true,
        "new_sheet": false,
        "run_control": {
          "read_only": false
        },
        "id": "zpey7sGq1IFx",
        "colab_type": "code",
        "colab": {
          "base_uri": "https://localhost:8080/",
          "height": 34
        },
        "outputId": "451b0e27-8328-4237-b99d-145e2831ee5c"
      },
      "source": [
        "train.shape"
      ],
      "execution_count": 18,
      "outputs": [
        {
          "output_type": "execute_result",
          "data": {
            "text/plain": [
              "(857, 4)"
            ]
          },
          "metadata": {
            "tags": []
          },
          "execution_count": 18
        }
      ]
    },
    {
      "cell_type": "code",
      "metadata": {
        "id": "R813xtqE8wq4",
        "colab_type": "code",
        "colab": {
          "base_uri": "https://localhost:8080/",
          "height": 204
        },
        "outputId": "30f7378f-9001-411b-fc21-9eeaeee6933c"
      },
      "source": [
        "train.head(5)"
      ],
      "execution_count": 19,
      "outputs": [
        {
          "output_type": "execute_result",
          "data": {
            "text/html": [
              "<div>\n",
              "<style scoped>\n",
              "    .dataframe tbody tr th:only-of-type {\n",
              "        vertical-align: middle;\n",
              "    }\n",
              "\n",
              "    .dataframe tbody tr th {\n",
              "        vertical-align: top;\n",
              "    }\n",
              "\n",
              "    .dataframe thead th {\n",
              "        text-align: right;\n",
              "    }\n",
              "</style>\n",
              "<table border=\"1\" class=\"dataframe\">\n",
              "  <thead>\n",
              "    <tr style=\"text-align: right;\">\n",
              "      <th></th>\n",
              "      <th>ENGINESIZE</th>\n",
              "      <th>CYLINDERS</th>\n",
              "      <th>FUELCONSUMPTION_COMB</th>\n",
              "      <th>CO2EMISSIONS</th>\n",
              "    </tr>\n",
              "  </thead>\n",
              "  <tbody>\n",
              "    <tr>\n",
              "      <th>0</th>\n",
              "      <td>2.0</td>\n",
              "      <td>4</td>\n",
              "      <td>8.5</td>\n",
              "      <td>196</td>\n",
              "    </tr>\n",
              "    <tr>\n",
              "      <th>1</th>\n",
              "      <td>2.4</td>\n",
              "      <td>4</td>\n",
              "      <td>9.6</td>\n",
              "      <td>221</td>\n",
              "    </tr>\n",
              "    <tr>\n",
              "      <th>3</th>\n",
              "      <td>3.5</td>\n",
              "      <td>6</td>\n",
              "      <td>11.1</td>\n",
              "      <td>255</td>\n",
              "    </tr>\n",
              "    <tr>\n",
              "      <th>4</th>\n",
              "      <td>3.5</td>\n",
              "      <td>6</td>\n",
              "      <td>10.6</td>\n",
              "      <td>244</td>\n",
              "    </tr>\n",
              "    <tr>\n",
              "      <th>5</th>\n",
              "      <td>3.5</td>\n",
              "      <td>6</td>\n",
              "      <td>10.0</td>\n",
              "      <td>230</td>\n",
              "    </tr>\n",
              "  </tbody>\n",
              "</table>\n",
              "</div>"
            ],
            "text/plain": [
              "   ENGINESIZE  CYLINDERS  FUELCONSUMPTION_COMB  CO2EMISSIONS\n",
              "0         2.0          4                   8.5           196\n",
              "1         2.4          4                   9.6           221\n",
              "3         3.5          6                  11.1           255\n",
              "4         3.5          6                  10.6           244\n",
              "5         3.5          6                  10.0           230"
            ]
          },
          "metadata": {
            "tags": []
          },
          "execution_count": 19
        }
      ]
    },
    {
      "cell_type": "code",
      "metadata": {
        "id": "fmAnnsdJ-kGc",
        "colab_type": "code",
        "colab": {
          "base_uri": "https://localhost:8080/",
          "height": 34
        },
        "outputId": "11169a7d-8aae-4254-94ee-674334e07d49"
      },
      "source": [
        "test.shape"
      ],
      "execution_count": 20,
      "outputs": [
        {
          "output_type": "execute_result",
          "data": {
            "text/plain": [
              "(210, 4)"
            ]
          },
          "metadata": {
            "tags": []
          },
          "execution_count": 20
        }
      ]
    },
    {
      "cell_type": "code",
      "metadata": {
        "id": "loHg7cJs-nT0",
        "colab_type": "code",
        "colab": {
          "base_uri": "https://localhost:8080/",
          "height": 204
        },
        "outputId": "4120a313-83e1-41e3-bfb4-2afdd980bef5"
      },
      "source": [
        "test.head(5)"
      ],
      "execution_count": 21,
      "outputs": [
        {
          "output_type": "execute_result",
          "data": {
            "text/html": [
              "<div>\n",
              "<style scoped>\n",
              "    .dataframe tbody tr th:only-of-type {\n",
              "        vertical-align: middle;\n",
              "    }\n",
              "\n",
              "    .dataframe tbody tr th {\n",
              "        vertical-align: top;\n",
              "    }\n",
              "\n",
              "    .dataframe thead th {\n",
              "        text-align: right;\n",
              "    }\n",
              "</style>\n",
              "<table border=\"1\" class=\"dataframe\">\n",
              "  <thead>\n",
              "    <tr style=\"text-align: right;\">\n",
              "      <th></th>\n",
              "      <th>ENGINESIZE</th>\n",
              "      <th>CYLINDERS</th>\n",
              "      <th>FUELCONSUMPTION_COMB</th>\n",
              "      <th>CO2EMISSIONS</th>\n",
              "    </tr>\n",
              "  </thead>\n",
              "  <tbody>\n",
              "    <tr>\n",
              "      <th>2</th>\n",
              "      <td>1.5</td>\n",
              "      <td>4</td>\n",
              "      <td>5.9</td>\n",
              "      <td>136</td>\n",
              "    </tr>\n",
              "    <tr>\n",
              "      <th>8</th>\n",
              "      <td>3.7</td>\n",
              "      <td>6</td>\n",
              "      <td>11.6</td>\n",
              "      <td>267</td>\n",
              "    </tr>\n",
              "    <tr>\n",
              "      <th>16</th>\n",
              "      <td>4.7</td>\n",
              "      <td>8</td>\n",
              "      <td>14.7</td>\n",
              "      <td>338</td>\n",
              "    </tr>\n",
              "    <tr>\n",
              "      <th>21</th>\n",
              "      <td>2.0</td>\n",
              "      <td>4</td>\n",
              "      <td>9.3</td>\n",
              "      <td>214</td>\n",
              "    </tr>\n",
              "    <tr>\n",
              "      <th>26</th>\n",
              "      <td>3.0</td>\n",
              "      <td>6</td>\n",
              "      <td>10.9</td>\n",
              "      <td>251</td>\n",
              "    </tr>\n",
              "  </tbody>\n",
              "</table>\n",
              "</div>"
            ],
            "text/plain": [
              "    ENGINESIZE  CYLINDERS  FUELCONSUMPTION_COMB  CO2EMISSIONS\n",
              "2          1.5          4                   5.9           136\n",
              "8          3.7          6                  11.6           267\n",
              "16         4.7          8                  14.7           338\n",
              "21         2.0          4                   9.3           214\n",
              "26         3.0          6                  10.9           251"
            ]
          },
          "metadata": {
            "tags": []
          },
          "execution_count": 21
        }
      ]
    },
    {
      "cell_type": "markdown",
      "metadata": {
        "button": false,
        "deletable": true,
        "new_sheet": false,
        "run_control": {
          "read_only": false
        },
        "id": "eUBCwPXC1IGD",
        "colab_type": "text"
      },
      "source": [
        "### Simple Regression Model\n",
        "Linear Regression fits a linear model with coefficients B = (B1, ..., Bn) to minimize the 'residual sum of squares' between the independent x in the dataset, and the dependent y by the linear approximation. "
      ]
    },
    {
      "cell_type": "markdown",
      "metadata": {
        "button": false,
        "deletable": true,
        "new_sheet": false,
        "run_control": {
          "read_only": false
        },
        "id": "uK81pZc_1IGE",
        "colab_type": "text"
      },
      "source": [
        "#### Train data distribution"
      ]
    },
    {
      "cell_type": "code",
      "metadata": {
        "button": false,
        "deletable": true,
        "new_sheet": false,
        "run_control": {
          "read_only": false
        },
        "id": "XpmXh_mV1IGF",
        "colab_type": "code",
        "colab": {
          "base_uri": "https://localhost:8080/",
          "height": 280
        },
        "outputId": "44865af2-57a4-410a-92bb-60755ca20915"
      },
      "source": [
        "plt.scatter(train.ENGINESIZE, train.CO2EMISSIONS,  color='blue')\n",
        "plt.xlabel(\"Engine size\")\n",
        "plt.ylabel(\"Emission\")\n",
        "plt.show()"
      ],
      "execution_count": 22,
      "outputs": [
        {
          "output_type": "display_data",
          "data": {
            "image/png": "[encoded data removed]",
            "text/plain": [
              "<Figure size 432x288 with 1 Axes>"
            ]
          },
          "metadata": {
            "tags": [],
            "needs_background": "light"
          }
        }
      ]
    },
    {
      "cell_type": "markdown",
      "metadata": {
        "button": false,
        "deletable": true,
        "new_sheet": false,
        "run_control": {
          "read_only": false
        },
        "id": "rs8bFgu91IGP",
        "colab_type": "text"
      },
      "source": [
        "#### Modeling\n",
        "Using sklearn package to model data."
      ]
    },
    {
      "cell_type": "code",
      "metadata": {
        "button": false,
        "deletable": true,
        "new_sheet": false,
        "run_control": {
          "read_only": false
        },
        "id": "pRnsfA_w1IGR",
        "colab_type": "code",
        "colab": {
          "base_uri": "https://localhost:8080/",
          "height": 51
        },
        "outputId": "69e875c2-4136-43bf-de33-779a97a7d6b4"
      },
      "source": [
        "from sklearn import linear_model\n",
        "regr = linear_model.LinearRegression()\n",
        "train_x = np.asanyarray(train[['ENGINESIZE']])\n",
        "train_y = np.asanyarray(train[['CO2EMISSIONS']])\n",
        "regr.fit (train_x, train_y)\n",
        "# The coefficients\n",
        "print ('Coefficients: ', regr.coef_)\n",
        "print ('Intercept: ',regr.intercept_)"
      ],
      "execution_count": 23,
      "outputs": [
        {
          "output_type": "stream",
          "text": [
            "Coefficients:  [[39.03456401]]\n",
            "Intercept:  [125.49841977]\n"
          ],
          "name": "stdout"
        }
      ]
    },
    {
      "cell_type": "markdown",
      "metadata": {
        "id": "HZiJZT_Y1IGb",
        "colab_type": "text"
      },
      "source": [
        "As mentioned before, __Coefficient__ and __Intercept__ in the simple linear regression, are the parameters of the fit line. \n",
        "Given that it is a simple linear regression, with only 2 parameters, and knowing that the parameters are the intercept and slope of the line, sklearn can estimate them directly from our data. \n",
        "Notice that all of the data must be available to traverse and calculate the parameters.\n"
      ]
    },
    {
      "cell_type": "markdown",
      "metadata": {
        "button": false,
        "deletable": true,
        "new_sheet": false,
        "run_control": {
          "read_only": false
        },
        "id": "BNhgUzmN1IGd",
        "colab_type": "text"
      },
      "source": [
        "#### Plot outputs"
      ]
    },
    {
      "cell_type": "markdown",
      "metadata": {
        "id": "g482PWON1IGe",
        "colab_type": "text"
      },
      "source": [
        "we can plot the fit line over the data:"
      ]
    },
    {
      "cell_type": "code",
      "metadata": {
        "button": false,
        "deletable": true,
        "new_sheet": false,
        "run_control": {
          "read_only": false
        },
        "id": "rogEAXhw1IGg",
        "colab_type": "code",
        "colab": {
          "base_uri": "https://localhost:8080/",
          "height": 297
        },
        "outputId": "7ecfa43b-246b-42e0-fb01-3b5c924937ce"
      },
      "source": [
        "plt.scatter(train.ENGINESIZE, train.CO2EMISSIONS,  color='blue')\n",
        "plt.plot(train_x, regr.coef_[0][0]*train_x + regr.intercept_[0], '-r')\n",
        "plt.xlabel(\"Engine size\")\n",
        "plt.ylabel(\"Emission\")"
      ],
      "execution_count": 24,
      "outputs": [
        {
          "output_type": "execute_result",
          "data": {
            "text/plain": [
              "Text(0, 0.5, 'Emission')"
            ]
          },
          "metadata": {
            "tags": []
          },
          "execution_count": 24
        },
        {
          "output_type": "display_data",
          "data": {
            "image/png": "[encoded data removed]",
            "text/plain": [
              "<Figure size 432x288 with 1 Axes>"
            ]
          },
          "metadata": {
            "tags": [],
            "needs_background": "light"
          }
        }
      ]
    },
    {
      "cell_type": "code",
      "metadata": {
        "id": "IbA7woXVckCI",
        "colab_type": "code",
        "colab": {
          "base_uri": "https://localhost:8080/",
          "height": 296
        },
        "outputId": "48535fb0-1aad-407d-f2e6-5b2fc3ab8237"
      },
      "source": [
        "plt.scatter(test.ENGINESIZE, test.CO2EMISSIONS,  color='blue')\n",
        "plt.plot(train_x, regr.coef_[0][0]*train_x + regr.intercept_[0], '-r')\n",
        "plt.xlabel(\"Engine size\")\n",
        "plt.ylabel(\"Emission\")"
      ],
      "execution_count": 26,
      "outputs": [
        {
          "output_type": "execute_result",
          "data": {
            "text/plain": [
              "Text(0, 0.5, 'Emission')"
            ]
          },
          "metadata": {
            "tags": []
          },
          "execution_count": 26
        },
        {
          "output_type": "display_data",
          "data": {
            "image/png": "[encoded data removed]",
            "text/plain": [
              "<Figure size 432x288 with 1 Axes>"
            ]
          },
          "metadata": {
            "tags": [],
            "needs_background": "light"
          }
        }
      ]
    },
    {
      "cell_type": "markdown",
      "metadata": {
        "button": false,
        "deletable": true,
        "new_sheet": false,
        "run_control": {
          "read_only": false
        },
        "id": "8qXo11-p1IGr",
        "colab_type": "text"
      },
      "source": [
        "#### Evaluation\n",
        "we compare the actual values and predicted values to calculate the accuracy of a regression model. Evaluation metrics provide a key role in the development of a model, as it provides insight to areas that require improvement.\n",
        "\n",
        "There are different model evaluation metrics, lets use MSE here to calculate the accuracy of our model based on the test set: \n",
        "    - Mean absolute error: It is the mean of the absolute value of the errors. This is the easiest of the metrics to understand since it’s just average error.\n",
        "    - Mean Squared Error (MSE): Mean Squared Error (MSE) is the mean of the squared error. It’s more popular than Mean absolute error because the focus is geared more towards large errors. This is due to the squared term exponentially increasing larger errors in comparison to smaller ones.\n",
        "    - Root Mean Squared Error (RMSE).\n",
        "    - R-squared is not error, but is a popular metric for accuracy of your model. It represents how close the data are to the fitted regression line. The higher the R-squared, the better the model fits your data. Best possible score is 1.0 and it can be negative (because the model can be arbitrarily worse).\n"
      ]
    },
    {
      "cell_type": "code",
      "metadata": {
        "button": false,
        "deletable": true,
        "new_sheet": false,
        "run_control": {
          "read_only": false
        },
        "scrolled": true,
        "id": "IsINneqf1IGs",
        "colab_type": "code",
        "colab": {
          "base_uri": "https://localhost:8080/",
          "height": 68
        },
        "outputId": "1bf12959-00e1-4015-d708-4bff949ddd9b"
      },
      "source": [
        "from sklearn.metrics import r2_score\n",
        "\n",
        "test_x = np.asanyarray(test[['ENGINESIZE']])\n",
        "test_y = np.asanyarray(test[['CO2EMISSIONS']])\n",
        "test_y_ = regr.predict(test_x)\n",
        "\n",
        "print(\"Mean absolute error: %.2f\" % np.mean(np.absolute(test_y_ - test_y)))\n",
        "print(\"Residual sum of squares (MSE): %.2f\" % np.mean((test_y_ - test_y) ** 2))\n",
        "print(\"R2-score: %.2f\" % r2_score(test_y_ , test_y) )"
      ],
      "execution_count": 25,
      "outputs": [
        {
          "output_type": "stream",
          "text": [
            "Mean absolute error: 23.89\n",
            "Residual sum of squares (MSE): 1015.52\n",
            "R2-score: 0.67\n"
          ],
          "name": "stdout"
        }
      ]
    },
    {
      "cell_type": "code",
      "metadata": {
        "id": "drRSHwDffRFF",
        "colab_type": "code",
        "colab": {
          "base_uri": "https://localhost:8080/",
          "height": 1000
        },
        "outputId": "0ab73e64-874d-4b64-bd47-ef45a1fc52cb"
      },
      "source": [
        "# print(len(test_y_))\n",
        "# print(len(test_y))\n",
        "# print(type(test_y_))\n",
        "# print(type(test_y))\n",
        "incri = 0\n",
        "count = len(test_y_)\n",
        "\n",
        "for i in range(count):\n",
        "  print(\" S.No : \", incri, \" test_y : \", test_y[incri], \" test_y_ : \", test_y_[incri], \" Error : \", (test_y_[incri]-test_y[incri]))\n",
        "  incri += 1\n"
      ],
      "execution_count": 37,
      "outputs": [
        {
          "output_type": "stream",
          "text": [
            " S.No :  0  test_y :  [136]  test_y_ :  [184.05026579]  Error :  [48.05026579]\n",
            " S.No :  1  test_y :  [267]  test_y_ :  [269.92630662]  Error :  [2.92630662]\n",
            " S.No :  2  test_y :  [338]  test_y_ :  [308.96087063]  Error :  [-29.03912937]\n",
            " S.No :  3  test_y :  [214]  test_y_ :  [203.5675478]  Error :  [-10.4324522]\n",
            " S.No :  4  test_y :  [251]  test_y_ :  [242.60211181]  Error :  [-8.39788819]\n",
            " S.No :  5  test_y :  [224]  test_y_ :  [242.60211181]  Error :  [18.60211181]\n",
            " S.No :  6  test_y :  [258]  test_y_ :  [242.60211181]  Error :  [-15.39788819]\n",
            " S.No :  7  test_y :  [258]  test_y_ :  [242.60211181]  Error :  [-15.39788819]\n",
            " S.No :  8  test_y :  [361]  test_y_ :  [371.41617306]  Error :  [10.41617306]\n",
            " S.No :  9  test_y :  [407]  test_y_ :  [289.44358863]  Error :  [-117.55641137]\n",
            " S.No :  10  test_y :  [409]  test_y_ :  [328.47815264]  Error :  [-80.52184736]\n",
            " S.No :  11  test_y :  [285]  test_y_ :  [242.60211181]  Error :  [-42.39788819]\n",
            " S.No :  12  test_y :  [209]  test_y_ :  [203.5675478]  Error :  [-5.4324522]\n",
            " S.No :  13  test_y :  [380]  test_y_ :  [359.70580385]  Error :  [-20.29419615]\n",
            " S.No :  14  test_y :  [200]  test_y_ :  [203.5675478]  Error :  [3.5675478]\n",
            " S.No :  15  test_y :  [202]  test_y_ :  [203.5675478]  Error :  [1.5675478]\n",
            " S.No :  16  test_y :  [232]  test_y_ :  [242.60211181]  Error :  [10.60211181]\n",
            " S.No :  17  test_y :  [193]  test_y_ :  [203.5675478]  Error :  [10.5675478]\n",
            " S.No :  18  test_y :  [200]  test_y_ :  [203.5675478]  Error :  [3.5675478]\n",
            " S.No :  19  test_y :  [281]  test_y_ :  [297.25050143]  Error :  [16.25050143]\n",
            " S.No :  20  test_y :  [232]  test_y_ :  [242.60211181]  Error :  [10.60211181]\n",
            " S.No :  21  test_y :  [292]  test_y_ :  [297.25050143]  Error :  [5.25050143]\n",
            " S.No :  22  test_y :  [212]  test_y_ :  [242.60211181]  Error :  [30.60211181]\n",
            " S.No :  23  test_y :  [292]  test_y_ :  [297.25050143]  Error :  [5.25050143]\n",
            " S.No :  24  test_y :  [338]  test_y_ :  [297.25050143]  Error :  [-40.74949857]\n",
            " S.No :  25  test_y :  [317]  test_y_ :  [297.25050143]  Error :  [-19.74949857]\n",
            " S.No :  26  test_y :  [338]  test_y_ :  [297.25050143]  Error :  [-40.74949857]\n",
            " S.No :  27  test_y :  [317]  test_y_ :  [297.25050143]  Error :  [-19.74949857]\n",
            " S.No :  28  test_y :  [255]  test_y_ :  [242.60211181]  Error :  [-12.39788819]\n",
            " S.No :  29  test_y :  [320]  test_y_ :  [297.25050143]  Error :  [-22.74949857]\n",
            " S.No :  30  test_y :  [274]  test_y_ :  [242.60211181]  Error :  [-31.39788819]\n",
            " S.No :  31  test_y :  [196]  test_y_ :  [180.14680939]  Error :  [-15.85319061]\n",
            " S.No :  32  test_y :  [264]  test_y_ :  [266.02285022]  Error :  [2.02285022]\n",
            " S.No :  33  test_y :  [225]  test_y_ :  [203.5675478]  Error :  [-21.4324522]\n",
            " S.No :  34  test_y :  [260]  test_y_ :  [266.02285022]  Error :  [6.02285022]\n",
            " S.No :  35  test_y :  [260]  test_y_ :  [266.02285022]  Error :  [6.02285022]\n",
            " S.No :  36  test_y :  [255]  test_y_ :  [242.60211181]  Error :  [-12.39788819]\n",
            " S.No :  37  test_y :  [262]  test_y_ :  [266.02285022]  Error :  [4.02285022]\n",
            " S.No :  38  test_y :  [340]  test_y_ :  [367.51271665]  Error :  [27.51271665]\n",
            " S.No :  39  test_y :  [340]  test_y_ :  [367.51271665]  Error :  [27.51271665]\n",
            " S.No :  40  test_y :  [290]  test_y_ :  [266.02285022]  Error :  [-23.97714978]\n",
            " S.No :  41  test_y :  [269]  test_y_ :  [266.02285022]  Error :  [-2.97714978]\n",
            " S.No :  42  test_y :  [292]  test_y_ :  [367.51271665]  Error :  [75.51271665]\n",
            " S.No :  43  test_y :  [179]  test_y_ :  [180.14680939]  Error :  [1.14680939]\n",
            " S.No :  44  test_y :  [177]  test_y_ :  [180.14680939]  Error :  [3.14680939]\n",
            " S.No :  45  test_y :  [163]  test_y_ :  [180.14680939]  Error :  [17.14680939]\n",
            " S.No :  46  test_y :  [209]  test_y_ :  [219.1813734]  Error :  [10.1813734]\n",
            " S.No :  47  test_y :  [380]  test_y_ :  [332.38160904]  Error :  [-47.61839096]\n",
            " S.No :  48  test_y :  [362]  test_y_ :  [332.38160904]  Error :  [-29.61839096]\n",
            " S.No :  49  test_y :  [432]  test_y_ :  [359.70580385]  Error :  [-72.29419615]\n",
            " S.No :  50  test_y :  [411]  test_y_ :  [359.70580385]  Error :  [-51.29419615]\n",
            " S.No :  51  test_y :  [419]  test_y_ :  [312.86432704]  Error :  [-106.13567296]\n",
            " S.No :  52  test_y :  [221]  test_y_ :  [223.0848298]  Error :  [2.0848298]\n",
            " S.No :  53  test_y :  [244]  test_y_ :  [266.02285022]  Error :  [22.02285022]\n",
            " S.No :  54  test_y :  [235]  test_y_ :  [219.1813734]  Error :  [-15.8186266]\n",
            " S.No :  55  test_y :  [317]  test_y_ :  [332.38160904]  Error :  [15.38160904]\n",
            " S.No :  56  test_y :  [193]  test_y_ :  [180.14680939]  Error :  [-12.85319061]\n",
            " S.No :  57  test_y :  [225]  test_y_ :  [219.1813734]  Error :  [-5.8186266]\n",
            " S.No :  58  test_y :  [294]  test_y_ :  [347.99543465]  Error :  [53.99543465]\n",
            " S.No :  59  test_y :  [225]  test_y_ :  [219.1813734]  Error :  [-5.8186266]\n",
            " S.No :  60  test_y :  [230]  test_y_ :  [219.1813734]  Error :  [-10.8186266]\n",
            " S.No :  61  test_y :  [230]  test_y_ :  [266.02285022]  Error :  [36.02285022]\n",
            " S.No :  62  test_y :  [301]  test_y_ :  [347.99543465]  Error :  [46.99543465]\n",
            " S.No :  63  test_y :  [251]  test_y_ :  [266.02285022]  Error :  [15.02285022]\n",
            " S.No :  64  test_y :  [235]  test_y_ :  [266.02285022]  Error :  [31.02285022]\n",
            " S.No :  65  test_y :  [186]  test_y_ :  [203.5675478]  Error :  [17.5675478]\n",
            " S.No :  66  test_y :  [259]  test_y_ :  [266.02285022]  Error :  [7.02285022]\n",
            " S.No :  67  test_y :  [182]  test_y_ :  [180.14680939]  Error :  [-1.85319061]\n",
            " S.No :  68  test_y :  [156]  test_y_ :  [180.14680939]  Error :  [24.14680939]\n",
            " S.No :  69  test_y :  [179]  test_y_ :  [180.14680939]  Error :  [1.14680939]\n",
            " S.No :  70  test_y :  [200]  test_y_ :  [180.14680939]  Error :  [-19.85319061]\n",
            " S.No :  71  test_y :  [396]  test_y_ :  [336.28506544]  Error :  [-59.71493456]\n",
            " S.No :  72  test_y :  [209]  test_y_ :  [187.95372219]  Error :  [-21.04627781]\n",
            " S.No :  73  test_y :  [221]  test_y_ :  [203.5675478]  Error :  [-17.4324522]\n",
            " S.No :  74  test_y :  [230]  test_y_ :  [203.5675478]  Error :  [-26.4324522]\n",
            " S.No :  75  test_y :  [368]  test_y_ :  [336.28506544]  Error :  [-31.71493456]\n",
            " S.No :  76  test_y :  [283]  test_y_ :  [269.92630662]  Error :  [-13.07369338]\n",
            " S.No :  77  test_y :  [336]  test_y_ :  [320.67123984]  Error :  [-15.32876016]\n",
            " S.No :  78  test_y :  [288]  test_y_ :  [269.92630662]  Error :  [-18.07369338]\n",
            " S.No :  79  test_y :  [308]  test_y_ :  [269.92630662]  Error :  [-38.07369338]\n",
            " S.No :  80  test_y :  [152]  test_y_ :  [164.53298378]  Error :  [12.53298378]\n",
            " S.No :  81  test_y :  [165]  test_y_ :  [203.5675478]  Error :  [38.5675478]\n",
            " S.No :  82  test_y :  [184]  test_y_ :  [203.5675478]  Error :  [19.5675478]\n",
            " S.No :  83  test_y :  [162]  test_y_ :  [203.5675478]  Error :  [41.5675478]\n",
            " S.No :  84  test_y :  [207]  test_y_ :  [203.5675478]  Error :  [-3.4324522]\n",
            " S.No :  85  test_y :  [126]  test_y_ :  [203.5675478]  Error :  [77.5675478]\n",
            " S.No :  86  test_y :  [235]  test_y_ :  [269.92630662]  Error :  [34.92630662]\n",
            " S.No :  87  test_y :  [244]  test_y_ :  [269.92630662]  Error :  [25.92630662]\n",
            " S.No :  88  test_y :  [209]  test_y_ :  [203.5675478]  Error :  [-5.4324522]\n",
            " S.No :  89  test_y :  [232]  test_y_ :  [187.95372219]  Error :  [-44.04627781]\n",
            " S.No :  90  test_y :  [239]  test_y_ :  [223.0848298]  Error :  [-15.9151702]\n",
            " S.No :  91  test_y :  [297]  test_y_ :  [266.02285022]  Error :  [-30.97714978]\n",
            " S.No :  92  test_y :  [362]  test_y_ :  [332.38160904]  Error :  [-29.61839096]\n",
            " S.No :  93  test_y :  [380]  test_y_ :  [332.38160904]  Error :  [-47.61839096]\n",
            " S.No :  94  test_y :  [344]  test_y_ :  [332.38160904]  Error :  [-11.61839096]\n",
            " S.No :  95  test_y :  [380]  test_y_ :  [332.38160904]  Error :  [-47.61839096]\n",
            " S.No :  96  test_y :  [413]  test_y_ :  [359.70580385]  Error :  [-53.29419615]\n",
            " S.No :  97  test_y :  [269]  test_y_ :  [293.34704503]  Error :  [24.34704503]\n",
            " S.No :  98  test_y :  [290]  test_y_ :  [293.34704503]  Error :  [3.34704503]\n",
            " S.No :  99  test_y :  [285]  test_y_ :  [293.34704503]  Error :  [8.34704503]\n",
            " S.No :  100  test_y :  [299]  test_y_ :  [332.38160904]  Error :  [33.38160904]\n",
            " S.No :  101  test_y :  [277]  test_y_ :  [332.38160904]  Error :  [55.38160904]\n",
            " S.No :  102  test_y :  [329]  test_y_ :  [367.51271665]  Error :  [38.51271665]\n",
            " S.No :  103  test_y :  [259]  test_y_ :  [266.02285022]  Error :  [7.02285022]\n",
            " S.No :  104  test_y :  [272]  test_y_ :  [266.02285022]  Error :  [-5.97714978]\n",
            " S.No :  105  test_y :  [294]  test_y_ :  [332.38160904]  Error :  [38.38160904]\n",
            " S.No :  106  test_y :  [322]  test_y_ :  [367.51271665]  Error :  [45.51271665]\n",
            " S.No :  107  test_y :  [209]  test_y_ :  [262.11939382]  Error :  [53.11939382]\n",
            " S.No :  108  test_y :  [161]  test_y_ :  [195.76063499]  Error :  [34.76063499]\n",
            " S.No :  109  test_y :  [166]  test_y_ :  [195.76063499]  Error :  [29.76063499]\n",
            " S.No :  110  test_y :  [175]  test_y_ :  [195.76063499]  Error :  [20.76063499]\n",
            " S.No :  111  test_y :  [216]  test_y_ :  [219.1813734]  Error :  [3.1813734]\n",
            " S.No :  112  test_y :  [145]  test_y_ :  [184.05026579]  Error :  [39.05026579]\n",
            " S.No :  113  test_y :  [276]  test_y_ :  [262.11939382]  Error :  [-13.88060618]\n",
            " S.No :  114  test_y :  [308]  test_y_ :  [262.11939382]  Error :  [-45.88060618]\n",
            " S.No :  115  test_y :  [177]  test_y_ :  [187.95372219]  Error :  [10.95372219]\n",
            " S.No :  116  test_y :  [198]  test_y_ :  [203.5675478]  Error :  [5.5675478]\n",
            " S.No :  117  test_y :  [244]  test_y_ :  [219.1813734]  Error :  [-24.8186266]\n",
            " S.No :  118  test_y :  [184]  test_y_ :  [187.95372219]  Error :  [3.95372219]\n",
            " S.No :  119  test_y :  [202]  test_y_ :  [187.95372219]  Error :  [-14.04627781]\n",
            " S.No :  120  test_y :  [172]  test_y_ :  [262.11939382]  Error :  [90.11939382]\n",
            " S.No :  121  test_y :  [255]  test_y_ :  [269.92630662]  Error :  [14.92630662]\n",
            " S.No :  122  test_y :  [253]  test_y_ :  [269.92630662]  Error :  [16.92630662]\n",
            " S.No :  123  test_y :  [253]  test_y_ :  [262.11939382]  Error :  [9.11939382]\n",
            " S.No :  124  test_y :  [237]  test_y_ :  [242.60211181]  Error :  [5.60211181]\n",
            " S.No :  125  test_y :  [285]  test_y_ :  [242.60211181]  Error :  [-42.39788819]\n",
            " S.No :  126  test_y :  [315]  test_y_ :  [320.67123984]  Error :  [5.67123984]\n",
            " S.No :  127  test_y :  [218]  test_y_ :  [219.1813734]  Error :  [1.1813734]\n",
            " S.No :  128  test_y :  [248]  test_y_ :  [250.40902461]  Error :  [2.40902461]\n",
            " S.No :  129  test_y :  [251]  test_y_ :  [219.1813734]  Error :  [-31.8186266]\n",
            " S.No :  130  test_y :  [225]  test_y_ :  [219.1813734]  Error :  [-5.8186266]\n",
            " S.No :  131  test_y :  [235]  test_y_ :  [219.1813734]  Error :  [-15.8186266]\n",
            " S.No :  132  test_y :  [225]  test_y_ :  [187.95372219]  Error :  [-37.04627781]\n",
            " S.No :  133  test_y :  [216]  test_y_ :  [187.95372219]  Error :  [-28.04627781]\n",
            " S.No :  134  test_y :  [221]  test_y_ :  [187.95372219]  Error :  [-33.04627781]\n",
            " S.No :  135  test_y :  [175]  test_y_ :  [187.95372219]  Error :  [12.95372219]\n",
            " S.No :  136  test_y :  [276]  test_y_ :  [262.11939382]  Error :  [-13.88060618]\n",
            " S.No :  137  test_y :  [262]  test_y_ :  [254.31248101]  Error :  [-7.68751899]\n",
            " S.No :  138  test_y :  [271]  test_y_ :  [254.31248101]  Error :  [-16.68751899]\n",
            " S.No :  139  test_y :  [209]  test_y_ :  [203.5675478]  Error :  [-5.4324522]\n",
            " S.No :  140  test_y :  [285]  test_y_ :  [242.60211181]  Error :  [-42.39788819]\n",
            " S.No :  141  test_y :  [253]  test_y_ :  [262.11939382]  Error :  [9.11939382]\n",
            " S.No :  142  test_y :  [175]  test_y_ :  [262.11939382]  Error :  [87.11939382]\n",
            " S.No :  143  test_y :  [223]  test_y_ :  [223.0848298]  Error :  [0.0848298]\n",
            " S.No :  144  test_y :  [255]  test_y_ :  [262.11939382]  Error :  [7.11939382]\n",
            " S.No :  145  test_y :  [260]  test_y_ :  [269.92630662]  Error :  [9.92630662]\n",
            " S.No :  146  test_y :  [235]  test_y_ :  [203.5675478]  Error :  [-31.4324522]\n",
            " S.No :  147  test_y :  [292]  test_y_ :  [242.60211181]  Error :  [-49.39788819]\n",
            " S.No :  148  test_y :  [301]  test_y_ :  [242.60211181]  Error :  [-58.39788819]\n",
            " S.No :  149  test_y :  [170]  test_y_ :  [184.05026579]  Error :  [14.05026579]\n",
            " S.No :  150  test_y :  [225]  test_y_ :  [223.0848298]  Error :  [-1.9151702]\n",
            " S.No :  151  test_y :  [221]  test_y_ :  [203.5675478]  Error :  [-17.4324522]\n",
            " S.No :  152  test_y :  [239]  test_y_ :  [262.11939382]  Error :  [23.11939382]\n",
            " S.No :  153  test_y :  [347]  test_y_ :  [367.51271665]  Error :  [20.51271665]\n",
            " S.No :  154  test_y :  [308]  test_y_ :  [340.18852184]  Error :  [32.18852184]\n",
            " S.No :  155  test_y :  [301]  test_y_ :  [340.18852184]  Error :  [39.18852184]\n",
            " S.No :  156  test_y :  [194]  test_y_ :  [207.4710042]  Error :  [13.4710042]\n",
            " S.No :  157  test_y :  [239]  test_y_ :  [262.11939382]  Error :  [23.11939382]\n",
            " S.No :  158  test_y :  [239]  test_y_ :  [262.11939382]  Error :  [23.11939382]\n",
            " S.No :  159  test_y :  [235]  test_y_ :  [262.11939382]  Error :  [27.11939382]\n",
            " S.No :  160  test_y :  [269]  test_y_ :  [308.96087063]  Error :  [39.96087063]\n",
            " S.No :  161  test_y :  [363]  test_y_ :  [340.18852184]  Error :  [-22.81147816]\n",
            " S.No :  162  test_y :  [276]  test_y_ :  [308.96087063]  Error :  [32.96087063]\n",
            " S.No :  163  test_y :  [269]  test_y_ :  [308.96087063]  Error :  [39.96087063]\n",
            " S.No :  164  test_y :  [327]  test_y_ :  [359.70580385]  Error :  [32.70580385]\n",
            " S.No :  165  test_y :  [205]  test_y_ :  [195.76063499]  Error :  [-9.23936501]\n",
            " S.No :  166  test_y :  [246]  test_y_ :  [340.18852184]  Error :  [94.18852184]\n",
            " S.No :  167  test_y :  [380]  test_y_ :  [367.51271665]  Error :  [-12.48728335]\n",
            " S.No :  168  test_y :  [179]  test_y_ :  [187.95372219]  Error :  [8.95372219]\n",
            " S.No :  169  test_y :  [191]  test_y_ :  [187.95372219]  Error :  [-3.04627781]\n",
            " S.No :  170  test_y :  [184]  test_y_ :  [187.95372219]  Error :  [3.95372219]\n",
            " S.No :  171  test_y :  [196]  test_y_ :  [187.95372219]  Error :  [-8.04627781]\n",
            " S.No :  172  test_y :  [209]  test_y_ :  [219.1813734]  Error :  [10.1813734]\n",
            " S.No :  173  test_y :  [200]  test_y_ :  [203.5675478]  Error :  [3.5675478]\n",
            " S.No :  174  test_y :  [271]  test_y_ :  [262.11939382]  Error :  [-8.88060618]\n",
            " S.No :  175  test_y :  [327]  test_y_ :  [281.63667582]  Error :  [-45.36332418]\n",
            " S.No :  176  test_y :  [242]  test_y_ :  [258.21593742]  Error :  [16.21593742]\n",
            " S.No :  177  test_y :  [225]  test_y_ :  [258.21593742]  Error :  [33.21593742]\n",
            " S.No :  178  test_y :  [239]  test_y_ :  [258.21593742]  Error :  [19.21593742]\n",
            " S.No :  179  test_y :  [313]  test_y_ :  [266.02285022]  Error :  [-46.97714978]\n",
            " S.No :  180  test_y :  [315]  test_y_ :  [312.86432704]  Error :  [-2.13567296]\n",
            " S.No :  181  test_y :  [228]  test_y_ :  [230.89174261]  Error :  [2.89174261]\n",
            " S.No :  182  test_y :  [292]  test_y_ :  [312.86432704]  Error :  [20.86432704]\n",
            " S.No :  183  test_y :  [324]  test_y_ :  [347.99543465]  Error :  [23.99543465]\n",
            " S.No :  184  test_y :  [285]  test_y_ :  [266.02285022]  Error :  [-18.97714978]\n",
            " S.No :  185  test_y :  [393]  test_y_ :  [387.02999866]  Error :  [-5.97000134]\n",
            " S.No :  186  test_y :  [143]  test_y_ :  [176.24335299]  Error :  [33.24335299]\n",
            " S.No :  187  test_y :  [228]  test_y_ :  [219.1813734]  Error :  [-8.8186266]\n",
            " S.No :  188  test_y :  [221]  test_y_ :  [203.5675478]  Error :  [-17.4324522]\n",
            " S.No :  189  test_y :  [218]  test_y_ :  [203.5675478]  Error :  [-14.4324522]\n",
            " S.No :  190  test_y :  [288]  test_y_ :  [223.0848298]  Error :  [-64.9151702]\n",
            " S.No :  191  test_y :  [196]  test_y_ :  [203.5675478]  Error :  [7.5675478]\n",
            " S.No :  192  test_y :  [297]  test_y_ :  [281.63667582]  Error :  [-15.36332418]\n",
            " S.No :  193  test_y :  [110]  test_y_ :  [195.76063499]  Error :  [85.76063499]\n",
            " S.No :  194  test_y :  [126]  test_y_ :  [195.76063499]  Error :  [69.76063499]\n",
            " S.No :  195  test_y :  [384]  test_y_ :  [347.99543465]  Error :  [-36.00456535]\n",
            " S.No :  196  test_y :  [251]  test_y_ :  [230.89174261]  Error :  [-20.10825739]\n",
            " S.No :  197  test_y :  [271]  test_y_ :  [230.89174261]  Error :  [-40.10825739]\n",
            " S.No :  198  test_y :  [306]  test_y_ :  [281.63667582]  Error :  [-24.36332418]\n",
            " S.No :  199  test_y :  [197]  test_y_ :  [203.5675478]  Error :  [6.5675478]\n",
            " S.No :  200  test_y :  [283]  test_y_ :  [266.02285022]  Error :  [-16.97714978]\n",
            " S.No :  201  test_y :  [218]  test_y_ :  [223.0848298]  Error :  [5.0848298]\n",
            " S.No :  202  test_y :  [194]  test_y_ :  [203.5675478]  Error :  [9.5675478]\n",
            " S.No :  203  test_y :  [189]  test_y_ :  [195.76063499]  Error :  [6.76063499]\n",
            " S.No :  204  test_y :  [189]  test_y_ :  [195.76063499]  Error :  [6.76063499]\n",
            " S.No :  205  test_y :  [207]  test_y_ :  [203.5675478]  Error :  [-3.4324522]\n",
            " S.No :  206  test_y :  [192]  test_y_ :  [203.5675478]  Error :  [11.5675478]\n",
            " S.No :  207  test_y :  [278]  test_y_ :  [266.02285022]  Error :  [-11.97714978]\n",
            " S.No :  208  test_y :  [281]  test_y_ :  [242.60211181]  Error :  [-38.39788819]\n",
            " S.No :  209  test_y :  [258]  test_y_ :  [250.40902461]  Error :  [-7.59097539]\n"
          ],
          "name": "stdout"
        }
      ]
    },
    {
      "cell_type": "markdown",
      "metadata": {
        "button": false,
        "deletable": true,
        "new_sheet": false,
        "run_control": {
          "read_only": false
        },
        "id": "Mf228ex01IGz",
        "colab_type": "text"
      },
      "source": [
        "## Want to learn more?\n",
        "\n",
        "IBM SPSS Modeler is a comprehensive analytics platform that has many machine learning algorithms. It has been designed to bring predictive intelligence to decisions made by individuals, by groups, by systems – by your enterprise as a whole. A free trial is available through this course, available here: [SPSS Modeler](http://cocl.us/ML0101EN-SPSSModeler).\n",
        "\n",
        "Also, you can use Watson Studio to run these notebooks faster with bigger datasets. Watson Studio is IBM's leading cloud solution for data scientists, built by data scientists. With Jupyter notebooks, RStudio, Apache Spark and popular libraries pre-packaged in the cloud, Watson Studio enables data scientists to collaborate on their projects without having to install anything. Join the fast-growing community of Watson Studio users today with a free account at [Watson Studio](https://cocl.us/ML0101EN_DSX)\n",
        "\n",
        "### Thanks for completing this lesson!\n",
        "\n",
        "Notebook created by: <a href = \"https://ca.linkedin.com/in/saeedaghabozorgi\">Saeed Aghabozorgi</a>\n",
        "\n",
        "<hr>\n",
        "Copyright &copy; 2018 [Cognitive Class](https://cocl.us/DX0108EN_CC). This notebook and its source code are released under the terms of the [MIT License](https://bigdatauniversity.com/mit-license/).​"
      ]
    }
  ]
}