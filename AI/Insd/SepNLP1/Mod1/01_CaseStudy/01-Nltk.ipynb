{
  "nbformat": 4,
  "nbformat_minor": 0,
  "metadata": {
    "colab": {
      "name": "01-Nltk.ipynb",
      "provenance": [],
      "collapsed_sections": []
    },
    "hide_input": false,
    "kernelspec": {
      "display_name": "Python 3",
      "language": "python",
      "name": "python3"
    },
    "language_info": {
      "codemirror_mode": {
        "name": "ipython",
        "version": 3
      },
      "file_extension": ".py",
      "mimetype": "text/x-python",
      "name": "python",
      "nbconvert_exporter": "python",
      "pygments_lexer": "ipython3",
      "version": "3.7.5"
    },
    "toc": {
      "base_numbering": 1,
      "nav_menu": {},
      "number_sections": false,
      "sideBar": true,
      "skip_h1_title": true,
      "title_cell": "Table of Contents",
      "title_sidebar": "Contents",
      "toc_cell": false,
      "toc_position": {},
      "toc_section_display": true,
      "toc_window_display": false
    },
    "varInspector": {
      "cols": {
        "lenName": 16,
        "lenType": 16,
        "lenVar": 40
      },
      "kernels_config": {
        "python": {
          "delete_cmd_postfix": "",
          "delete_cmd_prefix": "del ",
          "library": "var_list.py",
          "varRefreshCmd": "print(var_dic_list())"
        },
        "r": {
          "delete_cmd_postfix": ") ",
          "delete_cmd_prefix": "rm(",
          "library": "var_list.r",
          "varRefreshCmd": "cat(var_dic_list()) "
        }
      },
      "types_to_exclude": [
        "module",
        "function",
        "builtin_function_or_method",
        "instance",
        "_Feature"
      ],
      "window_display": false
    }
  },
  "cells": [
    {
      "cell_type": "markdown",
      "metadata": {
        "id": "hpT02vsTow48"
      },
      "source": [
        "<center><img src=\"https://github.com/insaid2018/Term-1/blob/master/Images/INSAID_Full%20Logo.png?raw=true\" width=\"360\" height=\"160\" /></center>"
      ]
    },
    {
      "cell_type": "markdown",
      "metadata": {
        "id": "oRSxxSSV7PvD"
      },
      "source": [
        "## Table of Contents\n",
        "\n",
        "1. [Introduction](#section1)<br>\n",
        "2. [The basic Tasks in Natural Language Processing](#section4)<br>\n",
        "    - 2.1 [Convert Text to Lower Text](#section401)<br>\n",
        "    - 2.2 [Word Tokenize](#section402)<br>\n",
        "    - 2.3 [Sent Tokenize](#section403)<br>\n",
        "    - 2.4 [Stop words removal](#section404)<br>\n",
        "    - 2.5 [Lemma](#section405)<br>\n",
        "    - 2.6 [Stem](#section406)<br>\n",
        "    - 2.7 [Get word frequency](#section407)<br>\n",
        "    - 2.8 [Pos Tags](#section408)<br>\n",
        "    - 2.9 [NER(Named Entity Recognition)](#section409)<br>\n",
        "3. [Applications](#section408)<br>\n"
      ]
    },
    {
      "cell_type": "markdown",
      "metadata": {
        "id": "L0Y-s377c2tS"
      },
      "source": [
        "# Introduction\n",
        "\n",
        "### NLP(Natural Language Processing)\n",
        "- Field of Computer Science and Linguistics: **interaction between computers and human languages.**\n",
        "<center><img src = \"https://raw.githubusercontent.com/insaid2018/Term-1/master/Images/human-comp.jpg\"/></center>\n",
        "\n",
        "\n",
        "\n",
        "\n",
        "- The main objective is to **enrich computer algorithms** with the capacity of handling natural language.\n",
        "\n",
        "\n",
        "\n"
      ]
    },
    {
      "cell_type": "markdown",
      "metadata": {
        "id": "UsOQbFRrwXLN"
      },
      "source": [
        "<center><img src = \" https://raw.githubusercontent.com/insaid2018/Term-1/master/Images/comphuman.JPG\"/></center>"
      ]
    },
    {
      "cell_type": "markdown",
      "metadata": {
        "id": "ejglSvBAjrFE"
      },
      "source": [
        "- Text often contain **slang, sarcasm, inconsistent syntax, grammatical errors, double entendres**, etc. \n",
        "- Those create a problem for the machine algorithms as all **text mining techniques** require correctly **structured text sentences or documents**. \n",
        "- So, if you still want to implement an algorithm, someone needs to correct all writing errors and **standardize word forms** to make them more comparable. \n",
        "- The best way to do that is with **natural language processing tools**."
      ]
    },
    {
      "cell_type": "markdown",
      "metadata": {
        "id": "h7SFAtyOkC-F"
      },
      "source": [
        "<center><img src = \"https://raw.githubusercontent.com/insaid2018/Term-1/master/Images/nlp222.JPG\" height = \"300\"></center>"
      ]
    },
    {
      "cell_type": "markdown",
      "metadata": {
        "id": "iGxKw7Sr0eaB"
      },
      "source": [
        "## What is the need for the usage of NLP libraries?"
      ]
    },
    {
      "cell_type": "markdown",
      "metadata": {
        "id": "hN-TgSDm0cEn"
      },
      "source": [
        "- These Libraries helps us to **extract meaning** from the **text** \n",
        "- It includes the wide range of tasks such as **document classification, topic modelling, part-of-speech (POS) tagging, and sentiment analysis** etc."
      ]
    },
    {
      "cell_type": "markdown",
      "metadata": {
        "id": "AsKhraF8O5ik"
      },
      "source": [
        "<center><img src = \"https://raw.githubusercontent.com/insaid2018/Term-1/master/Images/nlplibraries.JPG\"/></center>"
      ]
    },
    {
      "cell_type": "markdown",
      "metadata": {
        "id": "QI8G1Lqz0w5O"
      },
      "source": [
        "## Let’s have a look at the following libraries:-\n",
        "\n",
        "<center><img src = \"https://raw.githubusercontent.com/insaid2018/Term-1/master/Images/ltk1.JPG\" height =\"80\"/></center>\n",
        "\n",
        "#### Natural Language Toolkit(NLTK)\n",
        "- It is foremost platform for **constructing python programs** when we deal with linguistic data. \n",
        "-  It is a suite of **libraries and programs for symbolic and statistical** natural language processing (NLP) for English written in the Python programming language.\n",
        "- It is **open source, community-driven project.**\n",
        "\n",
        "<center><img src = \"https://raw.githubusercontent.com/insaid2018/Term-1/master/Images/scikit.JPG\"/></center>\n",
        "\n",
        "#### Scikit-learn\n",
        "- It is not just used for NLP but it’s applied widely in **Machine learning**.\n",
        "\n",
        "<center><img src = \"https://raw.githubusercontent.com/insaid2018/Term-1/master/Images/textblob.JPG\" height = \"200\"/></center>\n",
        "\n",
        "#### TextBlob\n",
        "- It provides with **NLP tools API** which can be **easily handled** by the users.\n",
        "\n",
        "<center><img src = \"https://raw.githubusercontent.com/insaid2018/Term-1/master/Images/spacy.JPG\"/></center>\n",
        "\n",
        "#### spaCy\n",
        "- Using spacy, we can implement concepts of NLP by using **Python and Cython**. \n",
        "- It has some **excellent capabilities** for **named entity recognition**.\n",
        "\n",
        "<center><img src =\"https://raw.githubusercontent.com/insaid2018/Term-1/master/Images/polyglot2.JPG\"/></center>\n",
        "\n",
        "#### Polyglot\n",
        "- It is the yet **another python package** for NLP. \n",
        "- It is **not very popular** but also can be used for a **wide range of the NLP tasks**.\n",
        "- It is usually used for **projects involving a language** spaCy doesn’t support.\n",
        "\n",
        "\n",
        "<center><img src =\"https://raw.githubusercontent.com/insaid2018/Term-1/master/Images/gensim.JPG\" height = \"100\"/></center>\n",
        "\n",
        "#### Gensim\n",
        "- It is specifically used for **Topic Modelling** while we deal with text documents.\n",
        "\n",
        "\n",
        "<center><img src = \"https://raw.githubusercontent.com/insaid2018/Term-1/master/Images/stanford.JPG\"height = \"150\"/></center>\n",
        "\n",
        "\n",
        "#### Stanford Core NLP\n",
        "- One of the most famous university i.e. **Stanford University** has contributed a lot towards the **development of NLP.**\n",
        "- There are numerous **NLP packages and services** which are built by Stanford NLP Group for the same purpose."
      ]
    },
    {
      "cell_type": "markdown",
      "metadata": {
        "id": "ZZpysumToh56"
      },
      "source": [
        "## Lets get started with Natural Language Processing \n",
        "\n",
        "<center><img src = \"https://raw.githubusercontent.com/insaid2018/Term-1/master/Images/1_tzWP1K-eXiehDBBUxUN11w.gif\"/></center>"
      ]
    },
    {
      "cell_type": "markdown",
      "metadata": {
        "id": "KTVfJrTI4GFP"
      },
      "source": [
        "### The data obtained from different sources is full of noise i.e. errors which will affect the precision of the result.\n",
        "\n",
        "- So, we need to perform **cleaning** and **standardization** of the text. \n",
        "- This will make the **text noise free** and **ready** for further analysis."
      ]
    },
    {
      "cell_type": "markdown",
      "metadata": {
        "id": "QeuJSWzWzv9M"
      },
      "source": [
        "<center><img src = \"https://raw.githubusercontent.com/insaid2018/Term-1/master/Images/strudata.JPG\" height = \"200\"/></center>"
      ]
    },
    {
      "cell_type": "markdown",
      "metadata": {
        "id": "TGiW2VpJGfSq"
      },
      "source": [
        "## Forms of NLP data:"
      ]
    },
    {
      "cell_type": "markdown",
      "metadata": {
        "id": "oUk7dd0DkDOI"
      },
      "source": [
        "<center><img src = \"https://raw.githubusercontent.com/insaid2018/Term-1/master/Images/ictss.JPG\"/></center>\n",
        "\n"
      ]
    },
    {
      "cell_type": "markdown",
      "metadata": {
        "id": "d9CFhpclA5UX"
      },
      "source": [
        "## To make the data structured , we perform the following NLP tasks."
      ]
    },
    {
      "cell_type": "markdown",
      "metadata": {
        "id": "oV6QrrcCdvUr"
      },
      "source": [
        "**The basic tasks in NLP are**:\n",
        "\n",
        "1. Convert text to lower case\n",
        "2. Word tokenize\n",
        "3. Sentence tokenize\n",
        "4. Stop words removal\n",
        "5. Lemmatization(Lemma)\n",
        "6. Stemming(Stem)\n",
        "7. Get word frequency\n",
        "8. Part of Speech tags(POS)\n",
        "9. Named Entity Recognition(NER)"
      ]
    },
    {
      "cell_type": "markdown",
      "metadata": {
        "id": "rd9i1W7Qnp3Z"
      },
      "source": [
        "<center><img src =\"https://raw.githubusercontent.com/insaid2018/Term-1/master/Images/caps.JPG\"></center>"
      ]
    },
    {
      "cell_type": "markdown",
      "metadata": {
        "id": "3FSw4G9QeFTC"
      },
      "source": [
        "## Pre-requirements:\n",
        "\n",
        "- Install Python\n",
        "- Install nltk and its corpus"
      ]
    },
    {
      "cell_type": "markdown",
      "metadata": {
        "id": "0k8nyKzEu2dg"
      },
      "source": [
        "<center><img src = \"https://raw.githubusercontent.com/insaid2018/Term-1/master/Images/cp1.JPG\" height = \"300\"/></center>\n",
        "\n",
        "### Corpus \n",
        "- It is a **large collection of text.**\n",
        "- The **Plural** of corpus is **Corpora.**\n",
        "- It is written of spoken material on which **linguistic analysis** is used and is based upon.\n",
        "- Its data is **stored** in **library installed** .\n",
        "- **For Example** - Nltk library has following corpus : \n",
        "  - Brown corpus\n",
        "  - Gutenberg corpus\n",
        "  - Shakespeare corpus\n",
        "  - Stop words\n",
        "  - Treebank corpus etc\n"
      ]
    },
    {
      "cell_type": "markdown",
      "metadata": {
        "id": "9ZmnMg8PMzS7"
      },
      "source": [
        "<center><img src = \"https://raw.githubusercontent.com/insaid2018/Term-1/master/Images/corpus2.JPG\"/></center>\n",
        "<center><img src = \"https://raw.githubusercontent.com/insaid2018/Term-1/master/Images/2fw2xi.gif\"/></center>"
      ]
    },
    {
      "cell_type": "markdown",
      "metadata": {
        "id": "uYfbZNpPdjo_"
      },
      "source": [
        "## Why Corpus?\n",
        "- It provides **descriptive insights** relevant to how people **use language**.\n",
        "- It acts as tool that enables to **analyse** both how people use **different language forms** at various levels of formality.\n",
        "- It helps analyse how language fulfils **multiple speech functions** across contexts."
      ]
    },
    {
      "cell_type": "markdown",
      "metadata": {
        "id": "ixgt0spfJbGD"
      },
      "source": [
        "### Lets install Brown corpus"
      ]
    },
    {
      "cell_type": "code",
      "metadata": {
        "id": "p3ytsQS9Sou9",
        "outputId": "86ea5a73-788c-4744-916d-185543b0d820",
        "colab": {
          "base_uri": "https://localhost:8080/",
          "height": 51
        }
      },
      "source": [
        "import nltk\n",
        "nltk.download('brown')\n",
        "import warnings\n",
        "warnings.filterwarnings(action = 'ignore')"
      ],
      "execution_count": 1,
      "outputs": [
        {
          "output_type": "stream",
          "text": [
            "[nltk_data] Downloading package brown to /root/nltk_data...\n",
            "[nltk_data]   Unzipping corpora/brown.zip.\n"
          ],
          "name": "stdout"
        }
      ]
    },
    {
      "cell_type": "code",
      "metadata": {
        "id": "GhG2q9beJpFX",
        "outputId": "233bc5c1-511b-4e84-fff5-aea6497cf3fa",
        "colab": {
          "base_uri": "https://localhost:8080/",
          "height": 272
        }
      },
      "source": [
        "from nltk.corpus import brown\n",
        "brown.categories()"
      ],
      "execution_count": 2,
      "outputs": [
        {
          "output_type": "execute_result",
          "data": {
            "text/plain": [
              "['adventure',\n",
              " 'belles_lettres',\n",
              " 'editorial',\n",
              " 'fiction',\n",
              " 'government',\n",
              " 'hobbies',\n",
              " 'humor',\n",
              " 'learned',\n",
              " 'lore',\n",
              " 'mystery',\n",
              " 'news',\n",
              " 'religion',\n",
              " 'reviews',\n",
              " 'romance',\n",
              " 'science_fiction']"
            ]
          },
          "metadata": {
            "tags": []
          },
          "execution_count": 2
        }
      ]
    },
    {
      "cell_type": "markdown",
      "metadata": {
        "id": "eVWd2kRZoLZq"
      },
      "source": [
        "<center><img src = \"https://raw.githubusercontent.com/insaid2018/Term-1/master/Images/lady.jpg\" height = \"300\" /></center>"
      ]
    },
    {
      "cell_type": "markdown",
      "metadata": {
        "id": "jU_Zq2WHoDv-"
      },
      "source": [
        "<center><img src = \"https://raw.githubusercontent.com/insaid2018/Term-1/master/Images/oni.JPG\" height = \"250\"/></center>"
      ]
    },
    {
      "cell_type": "markdown",
      "metadata": {
        "id": "gp6Z2soIePfN"
      },
      "source": [
        "## Import nltk in order to use its functions."
      ]
    },
    {
      "cell_type": "code",
      "metadata": {
        "id": "bbHEtJkFefxb"
      },
      "source": [
        "import nltk\n",
        "Br = nltk.corpus.brown.words() "
      ],
      "execution_count": 3,
      "outputs": []
    },
    {
      "cell_type": "markdown",
      "metadata": {
        "id": "6IAeLVjTTo9H"
      },
      "source": [
        "### Lets add words to the corpus "
      ]
    },
    {
      "cell_type": "code",
      "metadata": {
        "id": "sfx9YkoPSk-1",
        "outputId": "1672ba0d-2f8a-442d-b95a-c82ab6f865d6",
        "colab": {
          "base_uri": "https://localhost:8080/",
          "height": 1000
        }
      },
      "source": [
        "l = list(Br)\n",
        "l"
      ],
      "execution_count": 6,
      "outputs": [
        {
          "output_type": "execute_result",
          "data": {
            "text/plain": [
              "['The',\n",
              " 'Fulton',\n",
              " 'County',\n",
              " 'Grand',\n",
              " 'Jury',\n",
              " 'said',\n",
              " 'Friday',\n",
              " 'an',\n",
              " 'investigation',\n",
              " 'of',\n",
              " \"Atlanta's\",\n",
              " 'recent',\n",
              " 'primary',\n",
              " 'election',\n",
              " 'produced',\n",
              " '``',\n",
              " 'no',\n",
              " 'evidence',\n",
              " \"''\",\n",
              " 'that',\n",
              " 'any',\n",
              " 'irregularities',\n",
              " 'took',\n",
              " 'place',\n",
              " '.',\n",
              " 'The',\n",
              " 'jury',\n",
              " 'further',\n",
              " 'said',\n",
              " 'in',\n",
              " 'term-end',\n",
              " 'presentments',\n",
              " 'that',\n",
              " 'the',\n",
              " 'City',\n",
              " 'Executive',\n",
              " 'Committee',\n",
              " ',',\n",
              " 'which',\n",
              " 'had',\n",
              " 'over-all',\n",
              " 'charge',\n",
              " 'of',\n",
              " 'the',\n",
              " 'election',\n",
              " ',',\n",
              " '``',\n",
              " 'deserves',\n",
              " 'the',\n",
              " 'praise',\n",
              " 'and',\n",
              " 'thanks',\n",
              " 'of',\n",
              " 'the',\n",
              " 'City',\n",
              " 'of',\n",
              " 'Atlanta',\n",
              " \"''\",\n",
              " 'for',\n",
              " 'the',\n",
              " 'manner',\n",
              " 'in',\n",
              " 'which',\n",
              " 'the',\n",
              " 'election',\n",
              " 'was',\n",
              " 'conducted',\n",
              " '.',\n",
              " 'The',\n",
              " 'September-October',\n",
              " 'term',\n",
              " 'jury',\n",
              " 'had',\n",
              " 'been',\n",
              " 'charged',\n",
              " 'by',\n",
              " 'Fulton',\n",
              " 'Superior',\n",
              " 'Court',\n",
              " 'Judge',\n",
              " 'Durwood',\n",
              " 'Pye',\n",
              " 'to',\n",
              " 'investigate',\n",
              " 'reports',\n",
              " 'of',\n",
              " 'possible',\n",
              " '``',\n",
              " 'irregularities',\n",
              " \"''\",\n",
              " 'in',\n",
              " 'the',\n",
              " 'hard-fought',\n",
              " 'primary',\n",
              " 'which',\n",
              " 'was',\n",
              " 'won',\n",
              " 'by',\n",
              " 'Mayor-nominate',\n",
              " 'Ivan',\n",
              " 'Allen',\n",
              " 'Jr.',\n",
              " '.',\n",
              " '``',\n",
              " 'Only',\n",
              " 'a',\n",
              " 'relative',\n",
              " 'handful',\n",
              " 'of',\n",
              " 'such',\n",
              " 'reports',\n",
              " 'was',\n",
              " 'received',\n",
              " \"''\",\n",
              " ',',\n",
              " 'the',\n",
              " 'jury',\n",
              " 'said',\n",
              " ',',\n",
              " '``',\n",
              " 'considering',\n",
              " 'the',\n",
              " 'widespread',\n",
              " 'interest',\n",
              " 'in',\n",
              " 'the',\n",
              " 'election',\n",
              " ',',\n",
              " 'the',\n",
              " 'number',\n",
              " 'of',\n",
              " 'voters',\n",
              " 'and',\n",
              " 'the',\n",
              " 'size',\n",
              " 'of',\n",
              " 'this',\n",
              " 'city',\n",
              " \"''\",\n",
              " '.',\n",
              " 'The',\n",
              " 'jury',\n",
              " 'said',\n",
              " 'it',\n",
              " 'did',\n",
              " 'find',\n",
              " 'that',\n",
              " 'many',\n",
              " 'of',\n",
              " \"Georgia's\",\n",
              " 'registration',\n",
              " 'and',\n",
              " 'election',\n",
              " 'laws',\n",
              " '``',\n",
              " 'are',\n",
              " 'outmoded',\n",
              " 'or',\n",
              " 'inadequate',\n",
              " 'and',\n",
              " 'often',\n",
              " 'ambiguous',\n",
              " \"''\",\n",
              " '.',\n",
              " 'It',\n",
              " 'recommended',\n",
              " 'that',\n",
              " 'Fulton',\n",
              " 'legislators',\n",
              " 'act',\n",
              " '``',\n",
              " 'to',\n",
              " 'have',\n",
              " 'these',\n",
              " 'laws',\n",
              " 'studied',\n",
              " 'and',\n",
              " 'revised',\n",
              " 'to',\n",
              " 'the',\n",
              " 'end',\n",
              " 'of',\n",
              " 'modernizing',\n",
              " 'and',\n",
              " 'improving',\n",
              " 'them',\n",
              " \"''\",\n",
              " '.',\n",
              " 'The',\n",
              " 'grand',\n",
              " 'jury',\n",
              " 'commented',\n",
              " 'on',\n",
              " 'a',\n",
              " 'number',\n",
              " 'of',\n",
              " 'other',\n",
              " 'topics',\n",
              " ',',\n",
              " 'among',\n",
              " 'them',\n",
              " 'the',\n",
              " 'Atlanta',\n",
              " 'and',\n",
              " 'Fulton',\n",
              " 'County',\n",
              " 'purchasing',\n",
              " 'departments',\n",
              " 'which',\n",
              " 'it',\n",
              " 'said',\n",
              " '``',\n",
              " 'are',\n",
              " 'well',\n",
              " 'operated',\n",
              " 'and',\n",
              " 'follow',\n",
              " 'generally',\n",
              " 'accepted',\n",
              " 'practices',\n",
              " 'which',\n",
              " 'inure',\n",
              " 'to',\n",
              " 'the',\n",
              " 'best',\n",
              " 'interest',\n",
              " 'of',\n",
              " 'both',\n",
              " 'governments',\n",
              " \"''\",\n",
              " '.',\n",
              " 'Merger',\n",
              " 'proposed',\n",
              " 'However',\n",
              " ',',\n",
              " 'the',\n",
              " 'jury',\n",
              " 'said',\n",
              " 'it',\n",
              " 'believes',\n",
              " '``',\n",
              " 'these',\n",
              " 'two',\n",
              " 'offices',\n",
              " 'should',\n",
              " 'be',\n",
              " 'combined',\n",
              " 'to',\n",
              " 'achieve',\n",
              " 'greater',\n",
              " 'efficiency',\n",
              " 'and',\n",
              " 'reduce',\n",
              " 'the',\n",
              " 'cost',\n",
              " 'of',\n",
              " 'administration',\n",
              " \"''\",\n",
              " '.',\n",
              " 'The',\n",
              " 'City',\n",
              " 'Purchasing',\n",
              " 'Department',\n",
              " ',',\n",
              " 'the',\n",
              " 'jury',\n",
              " 'said',\n",
              " ',',\n",
              " '``',\n",
              " 'is',\n",
              " 'lacking',\n",
              " 'in',\n",
              " 'experienced',\n",
              " 'clerical',\n",
              " 'personnel',\n",
              " 'as',\n",
              " 'a',\n",
              " 'result',\n",
              " 'of',\n",
              " 'city',\n",
              " 'personnel',\n",
              " 'policies',\n",
              " \"''\",\n",
              " '.',\n",
              " 'It',\n",
              " 'urged',\n",
              " 'that',\n",
              " 'the',\n",
              " 'city',\n",
              " '``',\n",
              " 'take',\n",
              " 'steps',\n",
              " 'to',\n",
              " 'remedy',\n",
              " \"''\",\n",
              " 'this',\n",
              " 'problem',\n",
              " '.',\n",
              " 'Implementation',\n",
              " 'of',\n",
              " \"Georgia's\",\n",
              " 'automobile',\n",
              " 'title',\n",
              " 'law',\n",
              " 'was',\n",
              " 'also',\n",
              " 'recommended',\n",
              " 'by',\n",
              " 'the',\n",
              " 'outgoing',\n",
              " 'jury',\n",
              " '.',\n",
              " 'It',\n",
              " 'urged',\n",
              " 'that',\n",
              " 'the',\n",
              " 'next',\n",
              " 'Legislature',\n",
              " '``',\n",
              " 'provide',\n",
              " 'enabling',\n",
              " 'funds',\n",
              " 'and',\n",
              " 're-set',\n",
              " 'the',\n",
              " 'effective',\n",
              " 'date',\n",
              " 'so',\n",
              " 'that',\n",
              " 'an',\n",
              " 'orderly',\n",
              " 'implementation',\n",
              " 'of',\n",
              " 'the',\n",
              " 'law',\n",
              " 'may',\n",
              " 'be',\n",
              " 'effected',\n",
              " \"''\",\n",
              " '.',\n",
              " 'The',\n",
              " 'grand',\n",
              " 'jury',\n",
              " 'took',\n",
              " 'a',\n",
              " 'swipe',\n",
              " 'at',\n",
              " 'the',\n",
              " 'State',\n",
              " 'Welfare',\n",
              " \"Department's\",\n",
              " 'handling',\n",
              " 'of',\n",
              " 'federal',\n",
              " 'funds',\n",
              " 'granted',\n",
              " 'for',\n",
              " 'child',\n",
              " 'welfare',\n",
              " 'services',\n",
              " 'in',\n",
              " 'foster',\n",
              " 'homes',\n",
              " '.',\n",
              " '``',\n",
              " 'This',\n",
              " 'is',\n",
              " 'one',\n",
              " 'of',\n",
              " 'the',\n",
              " 'major',\n",
              " 'items',\n",
              " 'in',\n",
              " 'the',\n",
              " 'Fulton',\n",
              " 'County',\n",
              " 'general',\n",
              " 'assistance',\n",
              " 'program',\n",
              " \"''\",\n",
              " ',',\n",
              " 'the',\n",
              " 'jury',\n",
              " 'said',\n",
              " ',',\n",
              " 'but',\n",
              " 'the',\n",
              " 'State',\n",
              " 'Welfare',\n",
              " 'Department',\n",
              " '``',\n",
              " 'has',\n",
              " 'seen',\n",
              " 'fit',\n",
              " 'to',\n",
              " 'distribute',\n",
              " 'these',\n",
              " 'funds',\n",
              " 'through',\n",
              " 'the',\n",
              " 'welfare',\n",
              " 'departments',\n",
              " 'of',\n",
              " 'all',\n",
              " 'the',\n",
              " 'counties',\n",
              " 'in',\n",
              " 'the',\n",
              " 'state',\n",
              " 'with',\n",
              " 'the',\n",
              " 'exception',\n",
              " 'of',\n",
              " 'Fulton',\n",
              " 'County',\n",
              " ',',\n",
              " 'which',\n",
              " 'receives',\n",
              " 'none',\n",
              " 'of',\n",
              " 'this',\n",
              " 'money',\n",
              " '.',\n",
              " 'The',\n",
              " 'jurors',\n",
              " 'said',\n",
              " 'they',\n",
              " 'realize',\n",
              " '``',\n",
              " 'a',\n",
              " 'proportionate',\n",
              " 'distribution',\n",
              " 'of',\n",
              " 'these',\n",
              " 'funds',\n",
              " 'might',\n",
              " 'disable',\n",
              " 'this',\n",
              " 'program',\n",
              " 'in',\n",
              " 'our',\n",
              " 'less',\n",
              " 'populous',\n",
              " 'counties',\n",
              " \"''\",\n",
              " '.',\n",
              " 'Nevertheless',\n",
              " ',',\n",
              " '``',\n",
              " 'we',\n",
              " 'feel',\n",
              " 'that',\n",
              " 'in',\n",
              " 'the',\n",
              " 'future',\n",
              " 'Fulton',\n",
              " 'County',\n",
              " 'should',\n",
              " 'receive',\n",
              " 'some',\n",
              " 'portion',\n",
              " 'of',\n",
              " 'these',\n",
              " 'available',\n",
              " 'funds',\n",
              " \"''\",\n",
              " ',',\n",
              " 'the',\n",
              " 'jurors',\n",
              " 'said',\n",
              " '.',\n",
              " '``',\n",
              " 'Failure',\n",
              " 'to',\n",
              " 'do',\n",
              " 'this',\n",
              " 'will',\n",
              " 'continue',\n",
              " 'to',\n",
              " 'place',\n",
              " 'a',\n",
              " 'disproportionate',\n",
              " 'burden',\n",
              " \"''\",\n",
              " 'on',\n",
              " 'Fulton',\n",
              " 'taxpayers',\n",
              " '.',\n",
              " 'The',\n",
              " 'jury',\n",
              " 'also',\n",
              " 'commented',\n",
              " 'on',\n",
              " 'the',\n",
              " 'Fulton',\n",
              " \"ordinary's\",\n",
              " 'court',\n",
              " 'which',\n",
              " 'has',\n",
              " 'been',\n",
              " 'under',\n",
              " 'fire',\n",
              " 'for',\n",
              " 'its',\n",
              " 'practices',\n",
              " 'in',\n",
              " 'the',\n",
              " 'appointment',\n",
              " 'of',\n",
              " 'appraisers',\n",
              " ',',\n",
              " 'guardians',\n",
              " 'and',\n",
              " 'administrators',\n",
              " 'and',\n",
              " 'the',\n",
              " 'awarding',\n",
              " 'of',\n",
              " 'fees',\n",
              " 'and',\n",
              " 'compensation',\n",
              " '.',\n",
              " 'Wards',\n",
              " 'protected',\n",
              " 'The',\n",
              " 'jury',\n",
              " 'said',\n",
              " 'it',\n",
              " 'found',\n",
              " 'the',\n",
              " 'court',\n",
              " '``',\n",
              " 'has',\n",
              " 'incorporated',\n",
              " 'into',\n",
              " 'its',\n",
              " 'operating',\n",
              " 'procedures',\n",
              " 'the',\n",
              " 'recommendations',\n",
              " \"''\",\n",
              " 'of',\n",
              " 'two',\n",
              " 'previous',\n",
              " 'grand',\n",
              " 'juries',\n",
              " ',',\n",
              " 'the',\n",
              " 'Atlanta',\n",
              " 'Bar',\n",
              " 'Association',\n",
              " 'and',\n",
              " 'an',\n",
              " 'interim',\n",
              " 'citizens',\n",
              " 'committee',\n",
              " '.',\n",
              " '``',\n",
              " 'These',\n",
              " 'actions',\n",
              " 'should',\n",
              " 'serve',\n",
              " 'to',\n",
              " 'protect',\n",
              " 'in',\n",
              " 'fact',\n",
              " 'and',\n",
              " 'in',\n",
              " 'effect',\n",
              " 'the',\n",
              " \"court's\",\n",
              " 'wards',\n",
              " 'from',\n",
              " 'undue',\n",
              " 'costs',\n",
              " 'and',\n",
              " 'its',\n",
              " 'appointed',\n",
              " 'and',\n",
              " 'elected',\n",
              " 'servants',\n",
              " 'from',\n",
              " 'unmeritorious',\n",
              " 'criticisms',\n",
              " \"''\",\n",
              " ',',\n",
              " 'the',\n",
              " 'jury',\n",
              " 'said',\n",
              " '.',\n",
              " 'Regarding',\n",
              " \"Atlanta's\",\n",
              " 'new',\n",
              " 'multi-million-dollar',\n",
              " 'airport',\n",
              " ',',\n",
              " 'the',\n",
              " 'jury',\n",
              " 'recommended',\n",
              " '``',\n",
              " 'that',\n",
              " 'when',\n",
              " 'the',\n",
              " 'new',\n",
              " 'management',\n",
              " 'takes',\n",
              " 'charge',\n",
              " 'Jan.',\n",
              " '1',\n",
              " 'the',\n",
              " 'airport',\n",
              " 'be',\n",
              " 'operated',\n",
              " 'in',\n",
              " 'a',\n",
              " 'manner',\n",
              " 'that',\n",
              " 'will',\n",
              " 'eliminate',\n",
              " 'political',\n",
              " 'influences',\n",
              " \"''\",\n",
              " '.',\n",
              " 'The',\n",
              " 'jury',\n",
              " 'did',\n",
              " 'not',\n",
              " 'elaborate',\n",
              " ',',\n",
              " 'but',\n",
              " 'it',\n",
              " 'added',\n",
              " 'that',\n",
              " '``',\n",
              " 'there',\n",
              " 'should',\n",
              " 'be',\n",
              " 'periodic',\n",
              " 'surveillance',\n",
              " 'of',\n",
              " 'the',\n",
              " 'pricing',\n",
              " 'practices',\n",
              " 'of',\n",
              " 'the',\n",
              " 'concessionaires',\n",
              " 'for',\n",
              " 'the',\n",
              " 'purpose',\n",
              " 'of',\n",
              " 'keeping',\n",
              " 'the',\n",
              " 'prices',\n",
              " 'reasonable',\n",
              " \"''\",\n",
              " '.',\n",
              " 'Ask',\n",
              " 'jail',\n",
              " 'deputies',\n",
              " 'On',\n",
              " 'other',\n",
              " 'matters',\n",
              " ',',\n",
              " 'the',\n",
              " 'jury',\n",
              " 'recommended',\n",
              " 'that',\n",
              " ':',\n",
              " '(',\n",
              " '1',\n",
              " ')',\n",
              " 'Four',\n",
              " 'additional',\n",
              " 'deputies',\n",
              " 'be',\n",
              " 'employed',\n",
              " 'at',\n",
              " 'the',\n",
              " 'Fulton',\n",
              " 'County',\n",
              " 'Jail',\n",
              " 'and',\n",
              " '``',\n",
              " 'a',\n",
              " 'doctor',\n",
              " ',',\n",
              " 'medical',\n",
              " 'intern',\n",
              " 'or',\n",
              " 'extern',\n",
              " 'be',\n",
              " 'employed',\n",
              " 'for',\n",
              " 'night',\n",
              " 'and',\n",
              " 'weekend',\n",
              " 'duty',\n",
              " 'at',\n",
              " 'the',\n",
              " 'jail',\n",
              " \"''\",\n",
              " '.',\n",
              " '(',\n",
              " '2',\n",
              " ')',\n",
              " 'Fulton',\n",
              " 'legislators',\n",
              " '``',\n",
              " 'work',\n",
              " 'with',\n",
              " 'city',\n",
              " 'officials',\n",
              " 'to',\n",
              " 'pass',\n",
              " 'enabling',\n",
              " 'legislation',\n",
              " 'that',\n",
              " 'will',\n",
              " 'permit',\n",
              " 'the',\n",
              " 'establishment',\n",
              " 'of',\n",
              " 'a',\n",
              " 'fair',\n",
              " 'and',\n",
              " 'equitable',\n",
              " \"''\",\n",
              " 'pension',\n",
              " 'plan',\n",
              " 'for',\n",
              " 'city',\n",
              " 'employes',\n",
              " '.',\n",
              " 'The',\n",
              " 'jury',\n",
              " 'praised',\n",
              " 'the',\n",
              " 'administration',\n",
              " 'and',\n",
              " 'operation',\n",
              " 'of',\n",
              " 'the',\n",
              " 'Atlanta',\n",
              " 'Police',\n",
              " 'Department',\n",
              " ',',\n",
              " 'the',\n",
              " 'Fulton',\n",
              " 'Tax',\n",
              " \"Commissioner's\",\n",
              " 'Office',\n",
              " ',',\n",
              " 'the',\n",
              " 'Bellwood',\n",
              " 'and',\n",
              " 'Alpharetta',\n",
              " 'prison',\n",
              " 'farms',\n",
              " ',',\n",
              " 'Grady',\n",
              " 'Hospital',\n",
              " 'and',\n",
              " 'the',\n",
              " 'Fulton',\n",
              " 'Health',\n",
              " 'Department',\n",
              " '.',\n",
              " 'Mayor',\n",
              " 'William',\n",
              " 'B.',\n",
              " 'Hartsfield',\n",
              " 'filed',\n",
              " 'suit',\n",
              " 'for',\n",
              " 'divorce',\n",
              " 'from',\n",
              " 'his',\n",
              " 'wife',\n",
              " ',',\n",
              " 'Pearl',\n",
              " 'Williams',\n",
              " 'Hartsfield',\n",
              " ',',\n",
              " 'in',\n",
              " 'Fulton',\n",
              " 'Superior',\n",
              " 'Court',\n",
              " 'Friday',\n",
              " '.',\n",
              " 'His',\n",
              " 'petition',\n",
              " 'charged',\n",
              " 'mental',\n",
              " 'cruelty',\n",
              " '.',\n",
              " 'The',\n",
              " 'couple',\n",
              " 'was',\n",
              " 'married',\n",
              " 'Aug.',\n",
              " '2',\n",
              " ',',\n",
              " '1913',\n",
              " '.',\n",
              " 'They',\n",
              " 'have',\n",
              " 'a',\n",
              " 'son',\n",
              " ',',\n",
              " 'William',\n",
              " 'Berry',\n",
              " 'Jr.',\n",
              " ',',\n",
              " 'and',\n",
              " 'a',\n",
              " 'daughter',\n",
              " ',',\n",
              " 'Mrs.',\n",
              " 'J.',\n",
              " 'M.',\n",
              " 'Cheshire',\n",
              " 'of',\n",
              " 'Griffin',\n",
              " '.',\n",
              " 'Attorneys',\n",
              " 'for',\n",
              " 'the',\n",
              " 'mayor',\n",
              " 'said',\n",
              " 'that',\n",
              " 'an',\n",
              " 'amicable',\n",
              " 'property',\n",
              " 'settlement',\n",
              " 'has',\n",
              " 'been',\n",
              " 'agreed',\n",
              " 'upon',\n",
              " '.',\n",
              " 'The',\n",
              " 'petition',\n",
              " 'listed',\n",
              " 'the',\n",
              " \"mayor's\",\n",
              " 'occupation',\n",
              " 'as',\n",
              " '``',\n",
              " 'attorney',\n",
              " \"''\",\n",
              " 'and',\n",
              " 'his',\n",
              " 'age',\n",
              " 'as',\n",
              " '71',\n",
              " '.',\n",
              " 'It',\n",
              " 'listed',\n",
              " 'his',\n",
              " \"wife's\",\n",
              " 'age',\n",
              " 'as',\n",
              " '74',\n",
              " 'and',\n",
              " 'place',\n",
              " 'of',\n",
              " 'birth',\n",
              " 'as',\n",
              " 'Opelika',\n",
              " ',',\n",
              " 'Ala.',\n",
              " '.',\n",
              " 'The',\n",
              " 'petition',\n",
              " 'said',\n",
              " 'that',\n",
              " 'the',\n",
              " 'couple',\n",
              " 'has',\n",
              " 'not',\n",
              " 'lived',\n",
              " 'together',\n",
              " 'as',\n",
              " 'man',\n",
              " 'and',\n",
              " 'wife',\n",
              " 'for',\n",
              " 'more',\n",
              " 'than',\n",
              " 'a',\n",
              " 'year',\n",
              " '.',\n",
              " 'The',\n",
              " 'Hartsfield',\n",
              " 'home',\n",
              " 'is',\n",
              " 'at',\n",
              " '637',\n",
              " 'E.',\n",
              " 'Pelham',\n",
              " 'Rd.',\n",
              " 'Aj',\n",
              " '.',\n",
              " 'Henry',\n",
              " 'L.',\n",
              " 'Bowden',\n",
              " 'was',\n",
              " 'listed',\n",
              " 'on',\n",
              " 'the',\n",
              " 'petition',\n",
              " 'as',\n",
              " 'the',\n",
              " \"mayor's\",\n",
              " 'attorney',\n",
              " '.',\n",
              " 'Hartsfield',\n",
              " 'has',\n",
              " 'been',\n",
              " 'mayor',\n",
              " 'of',\n",
              " 'Atlanta',\n",
              " ',',\n",
              " 'with',\n",
              " 'exception',\n",
              " 'of',\n",
              " 'one',\n",
              " 'brief',\n",
              " 'interlude',\n",
              " ',',\n",
              " 'since',\n",
              " '1937',\n",
              " '.',\n",
              " 'His',\n",
              " 'political',\n",
              " 'career',\n",
              " 'goes',\n",
              " 'back',\n",
              " 'to',\n",
              " 'his',\n",
              " 'election',\n",
              " 'to',\n",
              " 'city',\n",
              " 'council',\n",
              " 'in',\n",
              " '1923',\n",
              " '.',\n",
              " 'The',\n",
              " \"mayor's\",\n",
              " 'present',\n",
              " 'term',\n",
              " 'of',\n",
              " 'office',\n",
              " 'expires',\n",
              " 'Jan.',\n",
              " '1',\n",
              " '.',\n",
              " 'He',\n",
              " 'will',\n",
              " 'be',\n",
              " 'succeeded',\n",
              " 'by',\n",
              " 'Ivan',\n",
              " 'Allen',\n",
              " 'Jr.',\n",
              " ',',\n",
              " 'who',\n",
              " 'became',\n",
              " 'a',\n",
              " 'candidate',\n",
              " 'in',\n",
              " 'the',\n",
              " 'Sept.',\n",
              " '13',\n",
              " 'primary',\n",
              " 'after',\n",
              " 'Mayor',\n",
              " 'Hartsfield',\n",
              " 'announced',\n",
              " 'that',\n",
              " 'he',\n",
              " 'would',\n",
              " 'not',\n",
              " 'run',\n",
              " 'for',\n",
              " 'reelection',\n",
              " '.',\n",
              " 'Georgia',\n",
              " 'Republicans',\n",
              " 'are',\n",
              " 'getting',\n",
              " 'strong',\n",
              " 'encouragement',\n",
              " 'to',\n",
              " 'enter',\n",
              " 'a',\n",
              " 'candidate',\n",
              " 'in',\n",
              " 'the',\n",
              " '1962',\n",
              " \"governor's\",\n",
              " ...]"
            ]
          },
          "metadata": {
            "tags": []
          },
          "execution_count": 6
        }
      ]
    },
    {
      "cell_type": "markdown",
      "metadata": {
        "id": "djwxl2fSTzih"
      },
      "source": [
        "### Let the word be 'talking'"
      ]
    },
    {
      "cell_type": "code",
      "metadata": {
        "id": "m7D_aAP4SkqH"
      },
      "source": [
        "l.append('talking')"
      ],
      "execution_count": 7,
      "outputs": []
    },
    {
      "cell_type": "markdown",
      "metadata": {
        "id": "iWSzdBcBzJUT"
      },
      "source": [
        "#### NLTK: Some Example Modules\n",
        "\n",
        "- **nltk.token**: processing individual elements of text, such as words or sentences.\n",
        "\n",
        "-  **nltk.probability**: modeling frequency distributions and probabilistic systems.\n",
        "\n",
        "-  **nltk.tagger**: tagging tokens with supplemental information, such as parts of speech or wordnet sense tags.\n",
        "\n",
        "- **nltk.parser**: high-level interface for parsing texts.\n",
        "\n",
        "-  **nltk.chartparser**: a chart-based implementation of the parser interface.\n",
        "\n",
        "- **nltk.chunkparser**: a regular-expression based surface parser."
      ]
    },
    {
      "cell_type": "markdown",
      "metadata": {
        "id": "6XfQFdJBeoK1"
      },
      "source": [
        "## Coverting text to lower text as it is case sensitive"
      ]
    },
    {
      "cell_type": "markdown",
      "metadata": {
        "id": "PF8uuumNVvuB"
      },
      "source": [
        "<center><img src= \"https://raw.githubusercontent.com/insaid2018/Term-1/master/Images/wrong.JPG\" height = \"300\"/></center>"
      ]
    },
    {
      "cell_type": "code",
      "metadata": {
        "id": "kZEkdTpneqFI",
        "outputId": "d141efdb-18e2-4fee-d253-caabea0b7367",
        "colab": {
          "base_uri": "https://localhost:8080/",
          "height": 34
        }
      },
      "source": [
        "text =  \"Full form of NLTK is Natural Language Toolkit\"\n",
        "lower_text = text.lower()\n",
        "print (lower_text)"
      ],
      "execution_count": 8,
      "outputs": [
        {
          "output_type": "stream",
          "text": [
            "full form of nltk is natural language toolkit\n"
          ],
          "name": "stdout"
        }
      ]
    },
    {
      "cell_type": "markdown",
      "metadata": {
        "id": "wymdpTnnWKFE"
      },
      "source": [
        "## Tokenisation\n",
        "\n",
        "- The task of converting a text from a **single string** to a **list of tokens** is known as tokenization.\n",
        "- The tokens may be **words** or **number** or **punctuation mark**. \n",
        "   - Word tokenisation.\n",
        "   - Sentence tokenisation\n",
        "   \n",
        " <center><img src = \"https://raw.githubusercontent.com/insaid2018/Term-1/master/Images/tokenis.JPG\"/></center>\n",
        " \n",
        " \n",
        " ## Why tokenisation?\n",
        " - Computers cannot understand **large chunks** of data.\n",
        " - As a part of **preprocessing**, the text is broken into pieces called **Tokens**.\n",
        " - This is important because the **meaning of text** generally depends on the **relations of words** in that text.\n",
        " - These Tokens are **fed as an input** for other types of **analysis or tasks**.\n",
        "  "
      ]
    },
    {
      "cell_type": "markdown",
      "metadata": {
        "id": "25OFKHH-ewVA"
      },
      "source": [
        "## Word tokenize\n",
        "- Tokenize sentences to get the **tokens** of the **text** i.e **breaking the sentences** into words."
      ]
    },
    {
      "cell_type": "code",
      "metadata": {
        "id": "n4NqLmp_e5zN"
      },
      "source": [
        "import nltk\n",
        "from nltk import sent_tokenize, word_tokenize"
      ],
      "execution_count": 9,
      "outputs": []
    },
    {
      "cell_type": "markdown",
      "metadata": {
        "id": "RXgG68U78X9l"
      },
      "source": [
        "<center><img src =\"https://raw.githubusercontent.com/insaid2018/Term-1/master/Images/891.JPG\"/></center>\n"
      ]
    },
    {
      "cell_type": "code",
      "metadata": {
        "id": "29tM5HLefGQf",
        "outputId": "20c8ecc2-9499-4945-c15b-c5706b31008c",
        "colab": {
          "base_uri": "https://localhost:8080/",
          "height": 67
        }
      },
      "source": [
        "nltk.download('punkt')"
      ],
      "execution_count": 10,
      "outputs": [
        {
          "output_type": "stream",
          "text": [
            "[nltk_data] Downloading package punkt to /root/nltk_data...\n",
            "[nltk_data]   Unzipping tokenizers/punkt.zip.\n"
          ],
          "name": "stdout"
        },
        {
          "output_type": "execute_result",
          "data": {
            "text/plain": [
              "True"
            ]
          },
          "metadata": {
            "tags": []
          },
          "execution_count": 10
        }
      ]
    },
    {
      "cell_type": "markdown",
      "metadata": {
        "id": "KbNLaEUbB1u9"
      },
      "source": [
        "#### Lets create tokens of a sentence "
      ]
    },
    {
      "cell_type": "code",
      "metadata": {
        "id": "Y4txZ2iGe98C",
        "outputId": "f6209d7c-5b95-4aea-8821-73d0a4a69776",
        "colab": {
          "base_uri": "https://localhost:8080/",
          "height": 34
        }
      },
      "source": [
        "text = \"Full form of NLTK is Natural Language Toolkit\"\n",
        "word_tokens = nltk.word_tokenize(text)\n",
        "print (word_tokens)"
      ],
      "execution_count": 11,
      "outputs": [
        {
          "output_type": "stream",
          "text": [
            "['Full', 'form', 'of', 'NLTK', 'is', 'Natural', 'Language', 'Toolkit']\n"
          ],
          "name": "stdout"
        }
      ]
    },
    {
      "cell_type": "markdown",
      "metadata": {
        "id": "urv8ij73fM1U"
      },
      "source": [
        "## Sent tokenize\n",
        "- Tokenize sentences if there are **more than 1 sentence** i.e **breaking** the **sentences** to **list of sentence**."
      ]
    },
    {
      "cell_type": "code",
      "metadata": {
        "id": "6BeErMnBfSJY",
        "outputId": "d2222e13-7836-4835-99ae-9c344ee63b1c",
        "colab": {
          "base_uri": "https://localhost:8080/",
          "height": 34
        }
      },
      "source": [
        "text = \"Full form of NLTK is Natural Language Toolkit. It is a very powerful Package.\"\n",
        "sent_token = nltk.sent_tokenize(text)\n",
        "print (sent_token)"
      ],
      "execution_count": null,
      "outputs": [
        {
          "output_type": "stream",
          "text": [
            "['Full form of NLTK is Natural Language Toolkit.', 'It is a very powerful Package.']\n"
          ],
          "name": "stdout"
        }
      ]
    },
    {
      "cell_type": "markdown",
      "metadata": {
        "id": "zM73kGIZfZNT"
      },
      "source": [
        "## Stop words removal\n",
        "- Remove **irrelevant words** using **nltk stop words** like is,the,a etc from the sentences as they **don’t carry any information**."
      ]
    },
    {
      "cell_type": "markdown",
      "metadata": {
        "id": "ybYUySG4kua8"
      },
      "source": [
        "<center> <img src = \"https://raw.githubusercontent.com/insaid2018/Term-1/master/Images/stopwords.JPG\"/> </center>"
      ]
    },
    {
      "cell_type": "code",
      "metadata": {
        "id": "3HdcCYnLfckx"
      },
      "source": [
        "import nltk\n",
        "from nltk.corpus import stopwords"
      ],
      "execution_count": 12,
      "outputs": []
    },
    {
      "cell_type": "code",
      "metadata": {
        "id": "i3xxBAWSfr5g",
        "outputId": "736989c8-75a6-4510-81f4-6f7ef6c18c09",
        "colab": {
          "base_uri": "https://localhost:8080/",
          "height": 67
        }
      },
      "source": [
        "nltk.download('stopwords')"
      ],
      "execution_count": 13,
      "outputs": [
        {
          "output_type": "stream",
          "text": [
            "[nltk_data] Downloading package stopwords to /root/nltk_data...\n",
            "[nltk_data]   Unzipping corpora/stopwords.zip.\n"
          ],
          "name": "stdout"
        },
        {
          "output_type": "execute_result",
          "data": {
            "text/plain": [
              "True"
            ]
          },
          "metadata": {
            "tags": []
          },
          "execution_count": 13
        }
      ]
    },
    {
      "cell_type": "markdown",
      "metadata": {
        "id": "pK-AvxPooerW"
      },
      "source": [
        "<center><img src = \"https://raw.githubusercontent.com/insaid2018/Term-1/master/Images/stop%20words.JPG\" height = \"300\"></center>"
      ]
    },
    {
      "cell_type": "code",
      "metadata": {
        "id": "rAGjxjWfffVe",
        "outputId": "d0e51b6f-9232-44d0-a907-1ad7e2090edc",
        "colab": {
          "base_uri": "https://localhost:8080/",
          "height": 34
        }
      },
      "source": [
        "stopword = stopwords.words(\"english\")\n",
        "text =  \"Full form of NLTK is Natural Language Toolkit\"\n",
        "word_tokens = nltk.word_tokenize(text)\n",
        "removing_stopwords = [word for word in word_tokens if word not in stopword]\n",
        "print (removing_stopwords)"
      ],
      "execution_count": 14,
      "outputs": [
        {
          "output_type": "stream",
          "text": [
            "['Full', 'form', 'NLTK', 'Natural', 'Language', 'Toolkit']\n"
          ],
          "name": "stdout"
        }
      ]
    },
    {
      "cell_type": "markdown",
      "metadata": {
        "id": "gINKqoZOfzTR"
      },
      "source": [
        "## Lemmatization\n",
        "- **Lemmatize the text** so as to get its **root form** \n",
        "- For Example: **functions,funtionality as function**"
      ]
    },
    {
      "cell_type": "markdown",
      "metadata": {
        "id": "Nz5wmF1IoFou"
      },
      "source": [
        "<center><img src = \"https://raw.githubusercontent.com/insaid2018/Term-1/master/Images/89.JPG\" height = \"200\"/></center>"
      ]
    },
    {
      "cell_type": "code",
      "metadata": {
        "id": "GXqH7plUf09_"
      },
      "source": [
        "import nltk\n",
        "from nltk.corpus import stopwords\n",
        "from nltk.stem import WordNetLemmatizer\n",
        "#is based on The Porter Stemming Algorithm"
      ],
      "execution_count": null,
      "outputs": []
    },
    {
      "cell_type": "code",
      "metadata": {
        "id": "iGXf7ZovgRZ-",
        "outputId": "cf834307-dd14-47af-f15a-5e81233d8175",
        "colab": {
          "base_uri": "https://localhost:8080/",
          "height": 67
        }
      },
      "source": [
        "nltk.download('wordnet')"
      ],
      "execution_count": null,
      "outputs": [
        {
          "output_type": "stream",
          "text": [
            "[nltk_data] Downloading package wordnet to /root/nltk_data...\n",
            "[nltk_data]   Unzipping corpora/wordnet.zip.\n"
          ],
          "name": "stdout"
        },
        {
          "output_type": "execute_result",
          "data": {
            "text/plain": [
              "True"
            ]
          },
          "metadata": {
            "tags": []
          },
          "execution_count": 17
        }
      ]
    },
    {
      "cell_type": "code",
      "metadata": {
        "id": "N1DEos4pf91g",
        "outputId": "c9878341-a4a6-4dbb-8876-6c3936a42503",
        "colab": {
          "base_uri": "https://localhost:8080/",
          "height": 34
        }
      },
      "source": [
        "stopword = stopwords.words(\"english\")\n",
        "wordnet_lemmatizer = WordNetLemmatizer()\n",
        "text = \"How are your studies going on? \"\n",
        "word_tokens = nltk.word_tokenize(text)\n",
        "lemmatized_word = [wordnet_lemmatizer.lemmatize(word) for word in word_tokens]\n",
        "print (lemmatized_word)"
      ],
      "execution_count": null,
      "outputs": [
        {
          "output_type": "stream",
          "text": [
            "['How', 'are', 'your', 'study', 'going', 'on', '?']\n"
          ],
          "name": "stdout"
        }
      ]
    },
    {
      "cell_type": "markdown",
      "metadata": {
        "id": "8w4F6DecgX0Q"
      },
      "source": [
        "## Stemming\n",
        "- It is the process of **reducing inflected** (or sometimes derived) words to their word stem, **base or root form**."
      ]
    },
    {
      "cell_type": "markdown",
      "metadata": {
        "id": "nRGKDx50n61M"
      },
      "source": [
        "<center><img src =\"https://raw.githubusercontent.com/insaid2018/Term-1/master/Images/nant.JPG\"/></center>"
      ]
    },
    {
      "cell_type": "code",
      "metadata": {
        "id": "biajxK-BgZFg"
      },
      "source": [
        "import nltk\n",
        "from nltk.corpus import stopwords\n",
        "from nltk.stem import SnowballStemmer\n",
        "#is based on The Porter Stemming Algorithm"
      ],
      "execution_count": null,
      "outputs": []
    },
    {
      "cell_type": "code",
      "metadata": {
        "id": "UXKiFzlDf_W_",
        "outputId": "51246b44-7fda-484c-ef71-b704f804426f",
        "colab": {
          "base_uri": "https://localhost:8080/",
          "height": 34
        }
      },
      "source": [
        "stopword = stopwords.words(\"english\")\n",
        "snowball_stemmer = SnowballStemmer(\"english\")\n",
        "text = \"How are your studies going on?\"\n",
        "word_tokens = nltk.word_tokenize(text)\n",
        "stemmed_word = [snowball_stemmer.stem(word) for word in word_tokens]\n",
        "print (stemmed_word)"
      ],
      "execution_count": null,
      "outputs": [
        {
          "output_type": "stream",
          "text": [
            "['how', 'are', 'your', 'studi', 'go', 'on', '?']\n"
          ],
          "name": "stdout"
        }
      ]
    },
    {
      "cell_type": "markdown",
      "metadata": {
        "id": "vULmjhrivaIz"
      },
      "source": [
        "## Lemmatization Vs Stemming?\n",
        "\n",
        "<center><img src = \"https://raw.githubusercontent.com/insaid2018/Term-1/master/Images/superman-vs-flash-justice-league.png\" height = \"200\"/></center>\n",
        "\n",
        "- Lemmatization is typically **more accurate** as it uses more informed analysis to create **groups of words** with **similar meaning** based on the content around the world.\n",
        "- While Stemming is **typically faster** as it chops off the end of a word **using heuristics**, **without** any **understanding** of the context in which a word is used apparently.\n",
        "- By applying Stemming we **may or may not** get a **meaningful word.**\n",
        "- By using Lemmatization the words of a sentence will give a **meaningful meaning** of word.\n",
        "- Lemmatization is **accurate** but is **computationally expensive**\n",
        "- Stemming is **not that accurate** but it is **faster.**"
      ]
    },
    {
      "cell_type": "markdown",
      "metadata": {
        "id": "3r7A7w6Ygu0X"
      },
      "source": [
        "## Get word frequency\n",
        "- Through this we convert the **text into vector models** which is based on the occurrence of words in document\n",
        "- Counting the **word occurrence** using **FreqDist library**."
      ]
    },
    {
      "cell_type": "code",
      "metadata": {
        "id": "etuWF5lUgxlA",
        "outputId": "47bdd274-7fb0-48c2-b37a-155ca53a4df3",
        "colab": {
          "base_uri": "https://localhost:8080/",
          "height": 34
        }
      },
      "source": [
        "import nltk\n",
        "from nltk import FreqDist\n",
        "text = \"Full form of NLTK is Natural Language Toolkit\"\n",
        "word = nltk.word_tokenize(text.lower())\n",
        "freq = FreqDist(word)\n",
        "print (freq.most_common(5))"
      ],
      "execution_count": null,
      "outputs": [
        {
          "output_type": "stream",
          "text": [
            "[('full', 1), ('form', 1), ('of', 1), ('nltk', 1), ('is', 1)]\n"
          ],
          "name": "stdout"
        }
      ]
    },
    {
      "cell_type": "markdown",
      "metadata": {
        "id": "ZBeGtmnBt8zD"
      },
      "source": [
        "<center><img src = \"https://raw.githubusercontent.com/insaid2018/Term-1/master/Images/frequencyhighwords.jpg\" height = \"200\"></center>\n"
      ]
    },
    {
      "cell_type": "markdown",
      "metadata": {
        "id": "xMLbnrN5g8Rf"
      },
      "source": [
        "##  POS(Part of Speech)tags\n",
        "- It helps us to know the tags of **each word** like whether a **word is noun, adjective** etc."
      ]
    },
    {
      "cell_type": "markdown",
      "metadata": {
        "id": "I-iUddF_0grR"
      },
      "source": [
        "<center><img src = \"https://raw.githubusercontent.com/insaid2018/Term-1/master/Images/ner.JPG\"/></center>"
      ]
    },
    {
      "cell_type": "code",
      "metadata": {
        "id": "1cbvMXc9htyF",
        "outputId": "bd7bf19e-418d-4c81-98a3-44945dee398f",
        "colab": {
          "base_uri": "https://localhost:8080/",
          "height": 84
        }
      },
      "source": [
        "nltk.download('averaged_perceptron_tagger')"
      ],
      "execution_count": null,
      "outputs": [
        {
          "output_type": "stream",
          "text": [
            "[nltk_data] Downloading package averaged_perceptron_tagger to\n",
            "[nltk_data]     /root/nltk_data...\n",
            "[nltk_data]   Unzipping taggers/averaged_perceptron_tagger.zip.\n"
          ],
          "name": "stdout"
        },
        {
          "output_type": "execute_result",
          "data": {
            "text/plain": [
              "True"
            ]
          },
          "metadata": {
            "tags": []
          },
          "execution_count": 22
        }
      ]
    },
    {
      "cell_type": "code",
      "metadata": {
        "id": "4MRb5-FvhdVC",
        "scrolled": true,
        "outputId": "24e33be4-4b8c-40eb-ca3a-1535b8a893ae",
        "colab": {
          "base_uri": "https://localhost:8080/",
          "height": 34
        }
      },
      "source": [
        "import nltk\n",
        "text = \"the dogs are barking outside.\"\n",
        "word = nltk.word_tokenize(text)\n",
        "pos_tag = nltk.pos_tag(word)\n",
        "print (pos_tag)"
      ],
      "execution_count": null,
      "outputs": [
        {
          "output_type": "stream",
          "text": [
            "[('the', 'DT'), ('dogs', 'NNS'), ('are', 'VBP'), ('barking', 'VBG'), ('outside', 'IN'), ('.', '.')]\n"
          ],
          "name": "stdout"
        }
      ]
    },
    {
      "cell_type": "markdown",
      "metadata": {
        "id": "GEQ1LZoAbeN8"
      },
      "source": [
        "<center><img src = \"https://raw.githubusercontent.com/insaid2018/Term-1/master/Images/partofspeechtags.JPG\" height = \"300\"/></center>"
      ]
    },
    {
      "cell_type": "markdown",
      "metadata": {
        "id": "zt-vX6ulhJjQ"
      },
      "source": [
        "##  NER(Named Entity Recognition)\n",
        "- It is the process of getting the **entity names**.\n",
        "<center><img src = \"https://raw.githubusercontent.com/insaid2018/Term-1/master/Images/entity2.JPG\" height = \"400\"/></center>\n",
        "- It is the subtask of **information extraction** that classify named entities into predefined categories such as **name of person, organization, location** etc."
      ]
    },
    {
      "cell_type": "code",
      "metadata": {
        "id": "EKfc9ykhh2Il",
        "outputId": "a88875ab-84d3-4a13-e274-5b5daff4a364",
        "colab": {
          "base_uri": "https://localhost:8080/",
          "height": 118
        }
      },
      "source": [
        "import nltk\n",
        "nltk.download('maxent_ne_chunker')\n",
        "nltk.download('words')"
      ],
      "execution_count": null,
      "outputs": [
        {
          "output_type": "stream",
          "text": [
            "[nltk_data] Downloading package maxent_ne_chunker to\n",
            "[nltk_data]     /root/nltk_data...\n",
            "[nltk_data]   Unzipping chunkers/maxent_ne_chunker.zip.\n",
            "[nltk_data] Downloading package words to /root/nltk_data...\n",
            "[nltk_data]   Unzipping corpora/words.zip.\n"
          ],
          "name": "stdout"
        },
        {
          "output_type": "execute_result",
          "data": {
            "text/plain": [
              "True"
            ]
          },
          "metadata": {
            "tags": []
          },
          "execution_count": 24
        }
      ]
    },
    {
      "cell_type": "markdown",
      "metadata": {
        "id": "SQXndvSlujGo"
      },
      "source": [
        "<center><img src =\"https://raw.githubusercontent.com/insaid2018/Term-1/master/Images/named.JPG\" height = \"280\"/></center>"
      ]
    },
    {
      "cell_type": "code",
      "metadata": {
        "id": "F-UV0Z_gijE4",
        "outputId": "089dc12d-4300-42db-ea00-87f172bef34e",
        "colab": {
          "base_uri": "https://localhost:8080/",
          "height": 34
        }
      },
      "source": [
        "text = \"Narendar Modi is the Prime Minister of India. Ananta is working at Insaid on Datascience pipelines\"\n",
        "word = nltk.word_tokenize(text)\n",
        "pos_tag = nltk.pos_tag(word)\n",
        "chunk = nltk.ne_chunk(pos_tag)\n",
        "NE = [ \" \".join(w for w, t in ele) for ele in chunk if isinstance(ele, nltk.Tree)]\n",
        "print (NE)"
      ],
      "execution_count": null,
      "outputs": [
        {
          "output_type": "stream",
          "text": [
            "['Narendar', 'Modi', 'India', 'Ananta', 'Insaid', 'Datascience']\n"
          ],
          "name": "stdout"
        }
      ]
    },
    {
      "cell_type": "markdown",
      "metadata": {
        "id": "CKkrIPyHgoG1"
      },
      "source": [
        "## Applications:\n",
        "- We can use NLP on a text review to predict if the **review is a good one** or a **bad one.**\n",
        "\n",
        "<center><img src = \"https://raw.githubusercontent.com/insaid2018/Term-1/master/Images/sentiment%20analysis.gif\"></center>\n",
        "\n",
        "- It can be used  on an **article to predict** some categories of the articles you are trying to segment.\n",
        "\n",
        "<center><img src = \"https://raw.githubusercontent.com/insaid2018/Term-1/master/Images/art.png\"></center>\n",
        "\n",
        "\n",
        "- It can be used for certain criteria on which it takes **decision** and **blocks spam**(unwanted mails).<br>\n",
        "<br>\n",
        "\n",
        "\n",
        "\n",
        "\n",
        "<center><img src =\"https://raw.githubusercontent.com/insaid2018/Term-1/master/Images/spam%20filter.gif\" height = \"150\"></center><br>\n",
        "<br>\n",
        "\n",
        "\n",
        "-  It can be used as a **chat Bot** that uses AI as **integral part** of business world.<br><br>\n",
        "\n",
        "\n",
        "<center><img src = \"https://raw.githubusercontent.com/insaid2018/Term-1/master/Images/4.gif\" height = \"200\"></center>"
      ]
    }
  ]
}