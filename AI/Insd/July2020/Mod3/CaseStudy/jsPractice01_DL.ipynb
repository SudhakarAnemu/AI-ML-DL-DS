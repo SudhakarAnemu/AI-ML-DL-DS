{
  "nbformat": 4,
  "nbformat_minor": 0,
  "metadata": {
    "colab": {
      "name": "jsPractice01_DL.ipynb",
      "provenance": []
    },
    "kernelspec": {
      "name": "python3",
      "display_name": "Python 3"
    },
    "accelerator": "GPU"
  },
  "cells": [
    {
      "cell_type": "code",
      "metadata": {
        "id": "KdglvyCwRcFC",
        "colab_type": "code",
        "colab": {
          "base_uri": "https://localhost:8080/",
          "height": 34
        },
        "outputId": "de278905-9fdc-49e5-95bd-403524255451"
      },
      "source": [
        "print(\"JS\")"
      ],
      "execution_count": 17,
      "outputs": [
        {
          "output_type": "stream",
          "text": [
            "JS\n"
          ],
          "name": "stdout"
        }
      ]
    },
    {
      "cell_type": "code",
      "metadata": {
        "id": "GRJXtOzPTsE7",
        "colab_type": "code",
        "colab": {
          "base_uri": "https://localhost:8080/",
          "height": 34
        },
        "outputId": "fdaab523-bbe6-43c2-de7c-f6eddb093ed6"
      },
      "source": [
        "try:\n",
        "  %tensorflow_version 2.x\n",
        "except Exception:\n",
        "  pass\n",
        "print(\"Tensorlow imported\")"
      ],
      "execution_count": 18,
      "outputs": [
        {
          "output_type": "stream",
          "text": [
            "Tensorlow imported\n"
          ],
          "name": "stdout"
        }
      ]
    },
    {
      "cell_type": "code",
      "metadata": {
        "id": "LzTjXk1NUAzJ",
        "colab_type": "code",
        "colab": {
          "base_uri": "https://localhost:8080/",
          "height": 34
        },
        "outputId": "b6cf9a35-7e1e-4a63-cde6-3a2444be8d19"
      },
      "source": [
        "from tensorflow.keras.layers import Dense, Activation\n",
        "from tensorflow.keras.models import Sequential\n",
        "from tensorflow.keras.optimizers import SGD\n",
        "from tensorflow.keras.utils import to_categorical\n",
        "\n",
        "print(\"Import of Tensoflow modules - done\")"
      ],
      "execution_count": 19,
      "outputs": [
        {
          "output_type": "stream",
          "text": [
            "Import of Tensoflow modules - done\n"
          ],
          "name": "stdout"
        }
      ]
    },
    {
      "cell_type": "code",
      "metadata": {
        "id": "akBoBeVJWhyz",
        "colab_type": "code",
        "colab": {
          "base_uri": "https://localhost:8080/",
          "height": 34
        },
        "outputId": "73d24116-ea2e-4de1-b566-389e48efaf36"
      },
      "source": [
        "import time \n",
        "import numpy as np\n",
        "import matplotlib.pyplot as plt\n",
        "%matplotlib inline\n",
        "print(\"Import of additional packages - done\")"
      ],
      "execution_count": 28,
      "outputs": [
        {
          "output_type": "stream",
          "text": [
            "Import of additional packages - done\n"
          ],
          "name": "stdout"
        }
      ]
    },
    {
      "cell_type": "code",
      "metadata": {
        "id": "zJbMXCzrW-0z",
        "colab_type": "code",
        "colab": {
          "base_uri": "https://localhost:8080/",
          "height": 34
        },
        "outputId": "4d540ecd-3e52-484c-fdd0-e72ee04c02a9"
      },
      "source": [
        "np.random.seed(1432)\n",
        "print(\"Configure the seed value - done\")"
      ],
      "execution_count": 21,
      "outputs": [
        {
          "output_type": "stream",
          "text": [
            "Configure the seed value - done\n"
          ],
          "name": "stdout"
        }
      ]
    },
    {
      "cell_type": "code",
      "metadata": {
        "id": "aztZVrtqalbd",
        "colab_type": "code",
        "colab": {
          "base_uri": "https://localhost:8080/",
          "height": 1000
        },
        "outputId": "203738dd-a932-412b-eb27-c039cc595758"
      },
      "source": [
        "print(\"Working on the MNIST database\")\n",
        "\n",
        "from tensorflow.keras.datasets import mnist\n",
        "(train_features, train_labels), (test_features, test_labels) = mnist.load_data()\n",
        "_, img_rows, img_cols =  train_features.shape\n",
        "num_classes = len(np.unique(train_labels))\n",
        "\n",
        "num_input_nodes = img_rows*img_cols\n",
        "\n",
        "print(\"Train labels : \", train_labels)\n",
        "print(\"Test labels : \", test_labels)\n",
        "\n",
        "print(\"Number of rows : \", img_rows, \" Number of Cols : \", img_cols)\n",
        "print(\"Number of classes : \", num_classes)\n",
        "print(\"Data of the DB : \\n\", train_features)\n",
        "print(\"Shape of the db : \", train_features.shape)\n",
        "print(\"Shape of the db [0] : \", train_features.shape[0])\n",
        "print(\"Shape of the db [1] : \", train_features.shape[1])\n",
        "print(\"Shape of the db [2] : \", train_features.shape[2])\n",
        "print(\"Type of the db : \", type(train_features))\n",
        "\n",
        "\n",
        "\n",
        "print(\"Data of the DB : \\n\", test_features)\n",
        "print(\"Shape of the db : \", test_features.shape)\n",
        "print(\"Shape of the db [0] : \", test_features.shape[0])\n",
        "print(\"Shape of the db [1] : \", test_features.shape[1])\n",
        "print(\"Shape of the db [2] : \", test_features.shape[2])\n",
        "print(\"Type of the db : \", type(test_features))\n",
        "\n",
        "\n",
        "\n",
        "print(\"MNIST db - task done\")"
      ],
      "execution_count": 22,
      "outputs": [
        {
          "output_type": "stream",
          "text": [
            "Working on the MNIST database\n",
            "Train labels :  [5 0 4 ... 5 6 8]\n",
            "Test labels :  [7 2 1 ... 4 5 6]\n",
            "Number of rows :  28  Number of Cols :  28\n",
            "Number of classes :  10\n",
            "Data of the DB : \n",
            " [[[0 0 0 ... 0 0 0]\n",
            "  [0 0 0 ... 0 0 0]\n",
            "  [0 0 0 ... 0 0 0]\n",
            "  ...\n",
            "  [0 0 0 ... 0 0 0]\n",
            "  [0 0 0 ... 0 0 0]\n",
            "  [0 0 0 ... 0 0 0]]\n",
            "\n",
            " [[0 0 0 ... 0 0 0]\n",
            "  [0 0 0 ... 0 0 0]\n",
            "  [0 0 0 ... 0 0 0]\n",
            "  ...\n",
            "  [0 0 0 ... 0 0 0]\n",
            "  [0 0 0 ... 0 0 0]\n",
            "  [0 0 0 ... 0 0 0]]\n",
            "\n",
            " [[0 0 0 ... 0 0 0]\n",
            "  [0 0 0 ... 0 0 0]\n",
            "  [0 0 0 ... 0 0 0]\n",
            "  ...\n",
            "  [0 0 0 ... 0 0 0]\n",
            "  [0 0 0 ... 0 0 0]\n",
            "  [0 0 0 ... 0 0 0]]\n",
            "\n",
            " ...\n",
            "\n",
            " [[0 0 0 ... 0 0 0]\n",
            "  [0 0 0 ... 0 0 0]\n",
            "  [0 0 0 ... 0 0 0]\n",
            "  ...\n",
            "  [0 0 0 ... 0 0 0]\n",
            "  [0 0 0 ... 0 0 0]\n",
            "  [0 0 0 ... 0 0 0]]\n",
            "\n",
            " [[0 0 0 ... 0 0 0]\n",
            "  [0 0 0 ... 0 0 0]\n",
            "  [0 0 0 ... 0 0 0]\n",
            "  ...\n",
            "  [0 0 0 ... 0 0 0]\n",
            "  [0 0 0 ... 0 0 0]\n",
            "  [0 0 0 ... 0 0 0]]\n",
            "\n",
            " [[0 0 0 ... 0 0 0]\n",
            "  [0 0 0 ... 0 0 0]\n",
            "  [0 0 0 ... 0 0 0]\n",
            "  ...\n",
            "  [0 0 0 ... 0 0 0]\n",
            "  [0 0 0 ... 0 0 0]\n",
            "  [0 0 0 ... 0 0 0]]]\n",
            "Shape of the db :  (60000, 28, 28)\n",
            "Shape of the db [0] :  60000\n",
            "Shape of the db [1] :  28\n",
            "Shape of the db [2] :  28\n",
            "Type of the db :  <class 'numpy.ndarray'>\n",
            "Data of the DB : \n",
            " [[[0 0 0 ... 0 0 0]\n",
            "  [0 0 0 ... 0 0 0]\n",
            "  [0 0 0 ... 0 0 0]\n",
            "  ...\n",
            "  [0 0 0 ... 0 0 0]\n",
            "  [0 0 0 ... 0 0 0]\n",
            "  [0 0 0 ... 0 0 0]]\n",
            "\n",
            " [[0 0 0 ... 0 0 0]\n",
            "  [0 0 0 ... 0 0 0]\n",
            "  [0 0 0 ... 0 0 0]\n",
            "  ...\n",
            "  [0 0 0 ... 0 0 0]\n",
            "  [0 0 0 ... 0 0 0]\n",
            "  [0 0 0 ... 0 0 0]]\n",
            "\n",
            " [[0 0 0 ... 0 0 0]\n",
            "  [0 0 0 ... 0 0 0]\n",
            "  [0 0 0 ... 0 0 0]\n",
            "  ...\n",
            "  [0 0 0 ... 0 0 0]\n",
            "  [0 0 0 ... 0 0 0]\n",
            "  [0 0 0 ... 0 0 0]]\n",
            "\n",
            " ...\n",
            "\n",
            " [[0 0 0 ... 0 0 0]\n",
            "  [0 0 0 ... 0 0 0]\n",
            "  [0 0 0 ... 0 0 0]\n",
            "  ...\n",
            "  [0 0 0 ... 0 0 0]\n",
            "  [0 0 0 ... 0 0 0]\n",
            "  [0 0 0 ... 0 0 0]]\n",
            "\n",
            " [[0 0 0 ... 0 0 0]\n",
            "  [0 0 0 ... 0 0 0]\n",
            "  [0 0 0 ... 0 0 0]\n",
            "  ...\n",
            "  [0 0 0 ... 0 0 0]\n",
            "  [0 0 0 ... 0 0 0]\n",
            "  [0 0 0 ... 0 0 0]]\n",
            "\n",
            " [[0 0 0 ... 0 0 0]\n",
            "  [0 0 0 ... 0 0 0]\n",
            "  [0 0 0 ... 0 0 0]\n",
            "  ...\n",
            "  [0 0 0 ... 0 0 0]\n",
            "  [0 0 0 ... 0 0 0]\n",
            "  [0 0 0 ... 0 0 0]]]\n",
            "Shape of the db :  (10000, 28, 28)\n",
            "Shape of the db [0] :  10000\n",
            "Shape of the db [1] :  28\n",
            "Shape of the db [2] :  28\n",
            "Type of the db :  <class 'numpy.ndarray'>\n",
            "MNIST db - task done\n"
          ],
          "name": "stdout"
        }
      ]
    },
    {
      "cell_type": "code",
      "metadata": {
        "id": "GEkNZlRSeGzc",
        "colab_type": "code",
        "colab": {
          "base_uri": "https://localhost:8080/",
          "height": 230
        },
        "outputId": "3d72c0f0-b20f-4b93-a647-fabdc3b22683"
      },
      "source": [
        "print(\"Sample data : \")\n",
        "fig = plt.figure(figsize=(8,3))\n",
        "for i in range(num_classes):\n",
        "    ax = fig.add_subplot(2, 5, 1 + i, xticks=[], yticks=[])\n",
        "    features_idx = train_features[train_labels[:]==i,:]\n",
        "    ax.set_title(\"Num: \" + str(i))\n",
        "    plt.imshow(features_idx[1], cmap=\"gray\")\n",
        "plt.show()"
      ],
      "execution_count": 23,
      "outputs": [
        {
          "output_type": "stream",
          "text": [
            "Sample data : \n"
          ],
          "name": "stdout"
        },
        {
          "output_type": "display_data",
          "data": {
            "image/png": "[encoded data removed]",
            "text/plain": [
              "<Figure size 576x216 with 10 Axes>"
            ]
          },
          "metadata": {
            "tags": []
          }
        }
      ]
    },
    {
      "cell_type": "code",
      "metadata": {
        "id": "iiErJ5IHeLfP",
        "colab_type": "code",
        "colab": {
          "base_uri": "https://localhost:8080/",
          "height": 238
        },
        "outputId": "a6fa564e-2a27-44e4-cea2-0215d28519d4"
      },
      "source": [
        "print(\"Preprocessing start\")\n",
        "\n",
        "print(\"Reshape images to columns vectors\")\n",
        "train_features = train_features.reshape(train_features.shape[0], img_rows*img_cols)\n",
        "test_features = test_features.reshape(test_features.shape[0], img_rows*img_cols)\n",
        "\n",
        "\n",
        "print(\"\\ntrain_lables : \", train_labels[0:1])\n",
        "print(\"Convert class labels to binary labels\")\n",
        "train_labels = to_categorical(train_labels, num_classes)\n",
        "print(\"\\n New train_lables : \", train_labels[0:1])\n",
        "\n",
        "\n",
        "print(\"\\ntest_lables : \", test_labels[0:1])\n",
        "print(\"Convert class labels to binary labels\")\n",
        "test_labels = to_categorical(test_labels, num_classes)\n",
        "print(\"\\n New train_lables : \", train_labels[0:1])\n",
        "\n",
        "# train_labels = to_categorical(train_labels, num_classes)\n",
        "# test_labels = to_categorical(test_labels, num_classes)\n",
        "\n",
        "print(\"Preprocessing end\")"
      ],
      "execution_count": 24,
      "outputs": [
        {
          "output_type": "stream",
          "text": [
            "Preprocessing start\n",
            "Reshape images to columns vectors\n",
            "\n",
            "train_lables :  [5]\n",
            "Convert class labels to binary labels\n",
            "\n",
            " New train_lables :  [[0. 0. 0. 0. 0. 1. 0. 0. 0. 0.]]\n",
            "\n",
            "test_lables :  [7]\n",
            "Convert class labels to binary labels\n",
            "\n",
            " New train_lables :  [[0. 0. 0. 0. 0. 1. 0. 0. 0. 0.]]\n",
            "Preprocessing end\n"
          ],
          "name": "stdout"
        }
      ]
    },
    {
      "cell_type": "code",
      "metadata": {
        "id": "u9qmW2B4xbh3",
        "colab_type": "code",
        "colab": {}
      },
      "source": [
        "# print(\"start - Defining the NN model : \")\n",
        "\n",
        "def simple_nn():\n",
        "   model = Sequential()\n",
        "   model.add(Dense(100, input_dim=num_input_nodes))\n",
        "   model.add(Activation('sigmoid'))\n",
        "   model.add(Dense(num_classes)) # output layer\n",
        "   model.add(Activation('softmax'))\n",
        "   return model\n",
        "\n",
        "# print(\"end - Defining the NN model\")"
      ],
      "execution_count": 25,
      "outputs": []
    },
    {
      "cell_type": "code",
      "metadata": {
        "id": "vqXBhOaP5Ggq",
        "colab_type": "code",
        "colab": {
          "base_uri": "https://localhost:8080/",
          "height": 289
        },
        "outputId": "feff128c-57cf-48a3-9486-3c07b33fda8c"
      },
      "source": [
        "model = simple_nn()\n",
        "sgd = SGD(lr=0.01)\n",
        "model.compile(optimizer=sgd, loss='mse', metrics=['accuracy'])\n",
        "model.summary()"
      ],
      "execution_count": 26,
      "outputs": [
        {
          "output_type": "stream",
          "text": [
            "Model: \"sequential_3\"\n",
            "_________________________________________________________________\n",
            "Layer (type)                 Output Shape              Param #   \n",
            "=================================================================\n",
            "dense_4 (Dense)              (None, 100)               78500     \n",
            "_________________________________________________________________\n",
            "activation_4 (Activation)    (None, 100)               0         \n",
            "_________________________________________________________________\n",
            "dense_5 (Dense)              (None, 10)                1010      \n",
            "_________________________________________________________________\n",
            "activation_5 (Activation)    (None, 10)                0         \n",
            "=================================================================\n",
            "Total params: 79,510\n",
            "Trainable params: 79,510\n",
            "Non-trainable params: 0\n",
            "_________________________________________________________________\n"
          ],
          "name": "stdout"
        }
      ]
    },
    {
      "cell_type": "code",
      "metadata": {
        "id": "bm0zTdKKVf6M",
        "colab_type": "code",
        "colab": {
          "base_uri": "https://localhost:8080/",
          "height": 391
        },
        "outputId": "cadf0d4a-60cb-43a0-ca88-0317f2f80d60"
      },
      "source": [
        "print(\"Lets train the model\")\n",
        "start = time.time()\n",
        "model_info = model.fit(train_features, train_labels, batch_size=64, epochs=10, verbose=2, validation_split=0.2)\n",
        "end = time.time()\n",
        "print(\"Total time in Seconds :  \", (end-start))"
      ],
      "execution_count": 43,
      "outputs": [
        {
          "output_type": "stream",
          "text": [
            "Lets train the model\n",
            "Epoch 1/10\n",
            "750/750 - 2s - loss: 0.0178 - accuracy: 0.9000 - val_loss: 0.0178 - val_accuracy: 0.8938\n",
            "Epoch 2/10\n",
            "750/750 - 2s - loss: 0.0176 - accuracy: 0.9017 - val_loss: 0.0177 - val_accuracy: 0.8947\n",
            "Epoch 3/10\n",
            "750/750 - 2s - loss: 0.0173 - accuracy: 0.9028 - val_loss: 0.0175 - val_accuracy: 0.8953\n",
            "Epoch 4/10\n",
            "750/750 - 2s - loss: 0.0171 - accuracy: 0.9039 - val_loss: 0.0173 - val_accuracy: 0.8957\n",
            "Epoch 5/10\n",
            "750/750 - 2s - loss: 0.0169 - accuracy: 0.9054 - val_loss: 0.0172 - val_accuracy: 0.8964\n",
            "Epoch 6/10\n",
            "750/750 - 2s - loss: 0.0167 - accuracy: 0.9062 - val_loss: 0.0171 - val_accuracy: 0.8955\n",
            "Epoch 7/10\n",
            "750/750 - 2s - loss: 0.0165 - accuracy: 0.9074 - val_loss: 0.0169 - val_accuracy: 0.8978\n",
            "Epoch 8/10\n",
            "750/750 - 2s - loss: 0.0164 - accuracy: 0.9083 - val_loss: 0.0168 - val_accuracy: 0.8983\n",
            "Epoch 9/10\n",
            "750/750 - 2s - loss: 0.0162 - accuracy: 0.9095 - val_loss: 0.0167 - val_accuracy: 0.8985\n",
            "Epoch 10/10\n",
            "750/750 - 2s - loss: 0.0160 - accuracy: 0.9103 - val_loss: 0.0165 - val_accuracy: 0.8988\n",
            "Total time in Seconds :   19.342682361602783\n"
          ],
          "name": "stdout"
        }
      ]
    },
    {
      "cell_type": "code",
      "metadata": {
        "id": "IF8D5JlwXvTL",
        "colab_type": "code",
        "colab": {
          "base_uri": "https://localhost:8080/",
          "height": 623
        },
        "outputId": "ec1c0d69-1949-418d-c2ff-fa6064e53f24"
      },
      "source": [
        "def plot_model_history(model_history):\n",
        "    fig, axs = plt.subplots(1,2,figsize=(15,5))\n",
        "    # summarize history for accuracy\n",
        "    axs[0].plot(range(1,len(model_history.history['acc'])+1),model_history.history['acc'])\n",
        "    axs[0].plot(range(1,len(model_history.history['val_acc'])+1),model_history.history['val_acc'])\n",
        "    axs[0].set_title('Model Accuracy')\n",
        "    axs[0].set_ylabel('Accuracy')\n",
        "    axs[0].set_xlabel('Epoch')\n",
        "    axs[0].set_xticks(np.arange(1,len(model_history.history['acc'])+1),len(model_history.history['acc'])/10)\n",
        "    axs[0].legend(['train', 'val'], loc='best')\n",
        "    # summarize history for loss\n",
        "    axs[1].plot(range(1,len(model_history.history['loss'])+1),model_history.history['loss'])\n",
        "    axs[1].plot(range(1,len(model_history.history['val_loss'])+1),model_history.history['val_loss'])\n",
        "    axs[1].set_title('Model Loss')\n",
        "    axs[1].set_ylabel('Loss')\n",
        "    axs[1].set_xlabel('Epoch')\n",
        "    axs[1].set_xticks(np.arange(1,len(model_history.history['loss'])+1),len(model_history.history['loss'])/10)\n",
        "    axs[1].legend(['train', 'val'], loc='best')\n",
        "    plt.show()\n",
        "    \n",
        "plot_model_history(model_info)"
      ],
      "execution_count": 46,
      "outputs": [
        {
          "output_type": "error",
          "ename": "KeyError",
          "evalue": "ignored",
          "traceback": [
            "\u001b[0;31m---------------------------------------------------------------------------\u001b[0m",
            "\u001b[0;31mKeyError\u001b[0m                                  Traceback (most recent call last)",
            "\u001b[0;32m<ipython-input-46-0f3c8f403263>\u001b[0m in \u001b[0;36m<module>\u001b[0;34m()\u001b[0m\n\u001b[1;32m     19\u001b[0m     \u001b[0mplt\u001b[0m\u001b[0;34m.\u001b[0m\u001b[0mshow\u001b[0m\u001b[0;34m(\u001b[0m\u001b[0;34m)\u001b[0m\u001b[0;34m\u001b[0m\u001b[0;34m\u001b[0m\u001b[0m\n\u001b[1;32m     20\u001b[0m \u001b[0;34m\u001b[0m\u001b[0m\n\u001b[0;32m---> 21\u001b[0;31m \u001b[0mplot_model_history\u001b[0m\u001b[0;34m(\u001b[0m\u001b[0mmodel_info\u001b[0m\u001b[0;34m)\u001b[0m\u001b[0;34m\u001b[0m\u001b[0;34m\u001b[0m\u001b[0m\n\u001b[0m",
            "\u001b[0;32m<ipython-input-46-0f3c8f403263>\u001b[0m in \u001b[0;36mplot_model_history\u001b[0;34m(model_history)\u001b[0m\n\u001b[1;32m      2\u001b[0m     \u001b[0mfig\u001b[0m\u001b[0;34m,\u001b[0m \u001b[0maxs\u001b[0m \u001b[0;34m=\u001b[0m \u001b[0mplt\u001b[0m\u001b[0;34m.\u001b[0m\u001b[0msubplots\u001b[0m\u001b[0;34m(\u001b[0m\u001b[0;36m1\u001b[0m\u001b[0;34m,\u001b[0m\u001b[0;36m2\u001b[0m\u001b[0;34m,\u001b[0m\u001b[0mfigsize\u001b[0m\u001b[0;34m=\u001b[0m\u001b[0;34m(\u001b[0m\u001b[0;36m15\u001b[0m\u001b[0;34m,\u001b[0m\u001b[0;36m5\u001b[0m\u001b[0;34m)\u001b[0m\u001b[0;34m)\u001b[0m\u001b[0;34m\u001b[0m\u001b[0;34m\u001b[0m\u001b[0m\n\u001b[1;32m      3\u001b[0m     \u001b[0;31m# summarize history for accuracy\u001b[0m\u001b[0;34m\u001b[0m\u001b[0;34m\u001b[0m\u001b[0;34m\u001b[0m\u001b[0m\n\u001b[0;32m----> 4\u001b[0;31m     \u001b[0maxs\u001b[0m\u001b[0;34m[\u001b[0m\u001b[0;36m0\u001b[0m\u001b[0;34m]\u001b[0m\u001b[0;34m.\u001b[0m\u001b[0mplot\u001b[0m\u001b[0;34m(\u001b[0m\u001b[0mrange\u001b[0m\u001b[0;34m(\u001b[0m\u001b[0;36m1\u001b[0m\u001b[0;34m,\u001b[0m\u001b[0mlen\u001b[0m\u001b[0;34m(\u001b[0m\u001b[0mmodel_history\u001b[0m\u001b[0;34m.\u001b[0m\u001b[0mhistory\u001b[0m\u001b[0;34m[\u001b[0m\u001b[0;34m'acc'\u001b[0m\u001b[0;34m]\u001b[0m\u001b[0;34m)\u001b[0m\u001b[0;34m+\u001b[0m\u001b[0;36m1\u001b[0m\u001b[0;34m)\u001b[0m\u001b[0;34m,\u001b[0m\u001b[0mmodel_history\u001b[0m\u001b[0;34m.\u001b[0m\u001b[0mhistory\u001b[0m\u001b[0;34m[\u001b[0m\u001b[0;34m'acc'\u001b[0m\u001b[0;34m]\u001b[0m\u001b[0;34m)\u001b[0m\u001b[0;34m\u001b[0m\u001b[0;34m\u001b[0m\u001b[0m\n\u001b[0m\u001b[1;32m      5\u001b[0m     \u001b[0maxs\u001b[0m\u001b[0;34m[\u001b[0m\u001b[0;36m0\u001b[0m\u001b[0;34m]\u001b[0m\u001b[0;34m.\u001b[0m\u001b[0mplot\u001b[0m\u001b[0;34m(\u001b[0m\u001b[0mrange\u001b[0m\u001b[0;34m(\u001b[0m\u001b[0;36m1\u001b[0m\u001b[0;34m,\u001b[0m\u001b[0mlen\u001b[0m\u001b[0;34m(\u001b[0m\u001b[0mmodel_history\u001b[0m\u001b[0;34m.\u001b[0m\u001b[0mhistory\u001b[0m\u001b[0;34m[\u001b[0m\u001b[0;34m'val_acc'\u001b[0m\u001b[0;34m]\u001b[0m\u001b[0;34m)\u001b[0m\u001b[0;34m+\u001b[0m\u001b[0;36m1\u001b[0m\u001b[0;34m)\u001b[0m\u001b[0;34m,\u001b[0m\u001b[0mmodel_history\u001b[0m\u001b[0;34m.\u001b[0m\u001b[0mhistory\u001b[0m\u001b[0;34m[\u001b[0m\u001b[0;34m'val_acc'\u001b[0m\u001b[0;34m]\u001b[0m\u001b[0;34m)\u001b[0m\u001b[0;34m\u001b[0m\u001b[0;34m\u001b[0m\u001b[0m\n\u001b[1;32m      6\u001b[0m     \u001b[0maxs\u001b[0m\u001b[0;34m[\u001b[0m\u001b[0;36m0\u001b[0m\u001b[0;34m]\u001b[0m\u001b[0;34m.\u001b[0m\u001b[0mset_title\u001b[0m\u001b[0;34m(\u001b[0m\u001b[0;34m'Model Accuracy'\u001b[0m\u001b[0;34m)\u001b[0m\u001b[0;34m\u001b[0m\u001b[0;34m\u001b[0m\u001b[0m\n",
            "\u001b[0;31mKeyError\u001b[0m: 'acc'"
          ]
        },
        {
          "output_type": "display_data",
          "data": {
            "image/png": "[encoded data removed]",
            "text/plain": [
              "<Figure size 1080x360 with 2 Axes>"
            ]
          },
          "metadata": {
            "tags": [],
            "needs_background": "light"
          }
        }
      ]
    },
    {
      "cell_type": "code",
      "metadata": {
        "id": "17mw822iYN5g",
        "colab_type": "code",
        "colab": {}
      },
      "source": [
        "print(\"js - Original model testing\")\n"
      ],
      "execution_count": null,
      "outputs": []
    }
  ]
}