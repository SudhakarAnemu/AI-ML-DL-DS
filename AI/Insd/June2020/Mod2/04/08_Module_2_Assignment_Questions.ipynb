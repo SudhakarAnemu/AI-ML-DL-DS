{
  "nbformat": 4,
  "nbformat_minor": 0,
  "metadata": {
    "colab": {
      "name": "Module_2_Assignment_Questions.ipynb",
      "provenance": [],
      "collapsed_sections": [],
      "toc_visible": true
    },
    "kernelspec": {
      "name": "python3",
      "display_name": "Python 3"
    },
    "accelerator": "GPU"
  },
  "cells": [
    {
      "cell_type": "markdown",
      "metadata": {
        "colab_type": "text",
        "id": "-jMcj5lSXftV"
      },
      "source": [
        "<center><img src=\"https://github.com/insaid2018/Term-1/blob/master/Images/INSAID_Full%20Logo.png?raw=true\" width=\"240\" height=\"360\" /></center>\n",
        "\n",
        "<center><img src=\"https://raw.githubusercontent.com/insaid2018/DeepLearning/master/image/keras-logo-2018-large-1200.png\" style=\"width: 600px;\"/></center>\n",
        "                                                                                                           \n",
        "                                                                                                          "
      ]
    },
    {
      "cell_type": "markdown",
      "metadata": {
        "id": "r373ehYjZreF",
        "colab_type": "text"
      },
      "source": [
        "# <center>Keras Assignment</center>"
      ]
    },
    {
      "cell_type": "markdown",
      "metadata": {
        "colab_type": "text",
        "id": "0jTUjTD6XftX"
      },
      "source": [
        "## Table of Content\n",
        "\n",
        "\n",
        "1. [Linear Regression in Keras](#section1)<br>\n",
        "2. [Logistic Regression in Keras](#section2)<br>\n"
      ]
    },
    {
      "cell_type": "markdown",
      "metadata": {
        "colab_type": "text",
        "id": "jt7lIzIRXftY"
      },
      "source": [
        "<a id=section1></a>"
      ]
    },
    {
      "cell_type": "markdown",
      "metadata": {
        "colab_type": "text",
        "collapsed": true,
        "id": "asPo91gnXfta"
      },
      "source": [
        "## Linear Regression in Keras"
      ]
    },
    {
      "cell_type": "markdown",
      "metadata": {
        "id": "LI_3IDavnsh5",
        "colab_type": "text"
      },
      "source": [
        "### The Boston Housing Price dataset"
      ]
    },
    {
      "cell_type": "markdown",
      "metadata": {
        "colab_type": "text",
        "id": "M2CaAAOdXftc"
      },
      "source": [
        "- You’ll attempt to predict the median price of homes in a given Boston suburb in the mid-1970s, given data points about the suburb at the time, such as the crime rate, the local property tax rate, and so on. \n",
        "\n",
        "\n",
        "- The dataset has relatively few data points: only 506, split between 404 training samples and 102 test samples. \n",
        "\n",
        "\n",
        "- And each feature in the input data (for example, the crime rate) has a different scale. \n",
        "  - For instance, some values are proportions, which take values between 0 and 1; \n",
        "  - Others take values between 1 and 12, others between 0 and 100, and so on."
      ]
    },
    {
      "cell_type": "markdown",
      "metadata": {
        "id": "0yrmzHHUlLAn",
        "colab_type": "text"
      },
      "source": [
        "### 1. Loading the Boston housing dataset"
      ]
    },
    {
      "cell_type": "code",
      "metadata": {
        "id": "ItkIWd-QuyJn",
        "colab_type": "code",
        "colab": {}
      },
      "source": [
        "# Import tensorflow 2.x\n",
        "# This code block will only work in Google Colab.\n",
        "try:\n",
        "    # %tensorflow_version only exists in Colab.\n",
        "    %tensorflow_version 2.x\n",
        "except Exception:\n",
        "    pass"
      ],
      "execution_count": 1,
      "outputs": []
    },
    {
      "cell_type": "code",
      "metadata": {
        "id": "lJfXi7oBlSCm",
        "colab_type": "code",
        "colab": {}
      },
      "source": [
        "import numpy as np\n",
        "\n",
        "from tensorflow.keras.datasets import boston_housing"
      ],
      "execution_count": 2,
      "outputs": []
    },
    {
      "cell_type": "code",
      "metadata": {
        "id": "rLu3XP3NlKn5",
        "colab_type": "code",
        "colab": {
          "base_uri": "https://localhost:8080/",
          "height": 51
        },
        "outputId": "69727e02-0ca0-4d32-c477-dbe664155fa7"
      },
      "source": [
        "(train_data, train_targets), (test_data, test_targets) = boston_housing.load_data()"
      ],
      "execution_count": 3,
      "outputs": [
        {
          "output_type": "stream",
          "text": [
            "Downloading data from https://storage.googleapis.com/tensorflow/tf-keras-datasets/boston_housing.npz\n",
            "57344/57026 [==============================] - 0s 0us/step\n"
          ],
          "name": "stdout"
        }
      ]
    },
    {
      "cell_type": "markdown",
      "metadata": {
        "colab_type": "text",
        "id": "-PA1ZcdkXftd"
      },
      "source": [
        "- Let’s look at the data:"
      ]
    },
    {
      "cell_type": "code",
      "metadata": {
        "colab_type": "code",
        "id": "wfMlGfn1Xftf",
        "scrolled": false,
        "colab": {
          "base_uri": "https://localhost:8080/",
          "height": 34
        },
        "outputId": "a243c265-ea31-4999-b300-b169b0d338c6"
      },
      "source": [
        "train_data.shape"
      ],
      "execution_count": 4,
      "outputs": [
        {
          "output_type": "execute_result",
          "data": {
            "text/plain": [
              "(404, 13)"
            ]
          },
          "metadata": {
            "tags": []
          },
          "execution_count": 4
        }
      ]
    },
    {
      "cell_type": "code",
      "metadata": {
        "id": "H1-gBf13lZcD",
        "colab_type": "code",
        "colab": {
          "base_uri": "https://localhost:8080/",
          "height": 34
        },
        "outputId": "915212a3-3958-47aa-8908-e410eb34b198"
      },
      "source": [
        "test_data.shape"
      ],
      "execution_count": 5,
      "outputs": [
        {
          "output_type": "execute_result",
          "data": {
            "text/plain": [
              "(102, 13)"
            ]
          },
          "metadata": {
            "tags": []
          },
          "execution_count": 5
        }
      ]
    },
    {
      "cell_type": "markdown",
      "metadata": {
        "id": "jjrX2QS1ldL-",
        "colab_type": "text"
      },
      "source": [
        "- As you can see, you have 404 training samples and 102 test samples, each with 13 numerical features, such as per capita crime rate, average number of rooms per dwelling, accessibility to highways, and so on.\n",
        "\n",
        "\n",
        "- The targets are the median values of owner-occupied homes, in thousands of dollars:"
      ]
    },
    {
      "cell_type": "code",
      "metadata": {
        "id": "sSv7Epasllot",
        "colab_type": "code",
        "colab": {
          "base_uri": "https://localhost:8080/",
          "height": 646
        },
        "outputId": "efd9aa1c-f580-4f00-87c3-6d47fc9ba82b"
      },
      "source": [
        "train_targets"
      ],
      "execution_count": 6,
      "outputs": [
        {
          "output_type": "execute_result",
          "data": {
            "text/plain": [
              "array([15.2, 42.3, 50. , 21.1, 17.7, 18.5, 11.3, 15.6, 15.6, 14.4, 12.1,\n",
              "       17.9, 23.1, 19.9, 15.7,  8.8, 50. , 22.5, 24.1, 27.5, 10.9, 30.8,\n",
              "       32.9, 24. , 18.5, 13.3, 22.9, 34.7, 16.6, 17.5, 22.3, 16.1, 14.9,\n",
              "       23.1, 34.9, 25. , 13.9, 13.1, 20.4, 20. , 15.2, 24.7, 22.2, 16.7,\n",
              "       12.7, 15.6, 18.4, 21. , 30.1, 15.1, 18.7,  9.6, 31.5, 24.8, 19.1,\n",
              "       22. , 14.5, 11. , 32. , 29.4, 20.3, 24.4, 14.6, 19.5, 14.1, 14.3,\n",
              "       15.6, 10.5,  6.3, 19.3, 19.3, 13.4, 36.4, 17.8, 13.5, 16.5,  8.3,\n",
              "       14.3, 16. , 13.4, 28.6, 43.5, 20.2, 22. , 23. , 20.7, 12.5, 48.5,\n",
              "       14.6, 13.4, 23.7, 50. , 21.7, 39.8, 38.7, 22.2, 34.9, 22.5, 31.1,\n",
              "       28.7, 46. , 41.7, 21. , 26.6, 15. , 24.4, 13.3, 21.2, 11.7, 21.7,\n",
              "       19.4, 50. , 22.8, 19.7, 24.7, 36.2, 14.2, 18.9, 18.3, 20.6, 24.6,\n",
              "       18.2,  8.7, 44. , 10.4, 13.2, 21.2, 37. , 30.7, 22.9, 20. , 19.3,\n",
              "       31.7, 32. , 23.1, 18.8, 10.9, 50. , 19.6,  5. , 14.4, 19.8, 13.8,\n",
              "       19.6, 23.9, 24.5, 25. , 19.9, 17.2, 24.6, 13.5, 26.6, 21.4, 11.9,\n",
              "       22.6, 19.6,  8.5, 23.7, 23.1, 22.4, 20.5, 23.6, 18.4, 35.2, 23.1,\n",
              "       27.9, 20.6, 23.7, 28. , 13.6, 27.1, 23.6, 20.6, 18.2, 21.7, 17.1,\n",
              "        8.4, 25.3, 13.8, 22.2, 18.4, 20.7, 31.6, 30.5, 20.3,  8.8, 19.2,\n",
              "       19.4, 23.1, 23. , 14.8, 48.8, 22.6, 33.4, 21.1, 13.6, 32.2, 13.1,\n",
              "       23.4, 18.9, 23.9, 11.8, 23.3, 22.8, 19.6, 16.7, 13.4, 22.2, 20.4,\n",
              "       21.8, 26.4, 14.9, 24.1, 23.8, 12.3, 29.1, 21. , 19.5, 23.3, 23.8,\n",
              "       17.8, 11.5, 21.7, 19.9, 25. , 33.4, 28.5, 21.4, 24.3, 27.5, 33.1,\n",
              "       16.2, 23.3, 48.3, 22.9, 22.8, 13.1, 12.7, 22.6, 15. , 15.3, 10.5,\n",
              "       24. , 18.5, 21.7, 19.5, 33.2, 23.2,  5. , 19.1, 12.7, 22.3, 10.2,\n",
              "       13.9, 16.3, 17. , 20.1, 29.9, 17.2, 37.3, 45.4, 17.8, 23.2, 29. ,\n",
              "       22. , 18. , 17.4, 34.6, 20.1, 25. , 15.6, 24.8, 28.2, 21.2, 21.4,\n",
              "       23.8, 31. , 26.2, 17.4, 37.9, 17.5, 20. ,  8.3, 23.9,  8.4, 13.8,\n",
              "        7.2, 11.7, 17.1, 21.6, 50. , 16.1, 20.4, 20.6, 21.4, 20.6, 36.5,\n",
              "        8.5, 24.8, 10.8, 21.9, 17.3, 18.9, 36.2, 14.9, 18.2, 33.3, 21.8,\n",
              "       19.7, 31.6, 24.8, 19.4, 22.8,  7.5, 44.8, 16.8, 18.7, 50. , 50. ,\n",
              "       19.5, 20.1, 50. , 17.2, 20.8, 19.3, 41.3, 20.4, 20.5, 13.8, 16.5,\n",
              "       23.9, 20.6, 31.5, 23.3, 16.8, 14. , 33.8, 36.1, 12.8, 18.3, 18.7,\n",
              "       19.1, 29. , 30.1, 50. , 50. , 22. , 11.9, 37.6, 50. , 22.7, 20.8,\n",
              "       23.5, 27.9, 50. , 19.3, 23.9, 22.6, 15.2, 21.7, 19.2, 43.8, 20.3,\n",
              "       33.2, 19.9, 22.5, 32.7, 22. , 17.1, 19. , 15. , 16.1, 25.1, 23.7,\n",
              "       28.7, 37.2, 22.6, 16.4, 25. , 29.8, 22.1, 17.4, 18.1, 30.3, 17.5,\n",
              "       24.7, 12.6, 26.5, 28.7, 13.3, 10.4, 24.4, 23. , 20. , 17.8,  7. ,\n",
              "       11.8, 24.4, 13.8, 19.4, 25.2, 19.4, 19.4, 29.1])"
            ]
          },
          "metadata": {
            "tags": []
          },
          "execution_count": 6
        }
      ]
    },
    {
      "cell_type": "markdown",
      "metadata": {
        "colab_type": "text",
        "id": "cV3HMCP7Xftk"
      },
      "source": [
        "### 2. Preparing the Data"
      ]
    },
    {
      "cell_type": "markdown",
      "metadata": {
        "id": "V_ayNOKmmkbC",
        "colab_type": "text"
      },
      "source": [
        "- Normalizing the data."
      ]
    },
    {
      "cell_type": "code",
      "metadata": {
        "id": "U3aHciUHms5W",
        "colab_type": "code",
        "colab": {}
      },
      "source": [
        "mean = train_data.mean(axis=0)"
      ],
      "execution_count": 7,
      "outputs": []
    },
    {
      "cell_type": "code",
      "metadata": {
        "id": "47zyR_rCms-P",
        "colab_type": "code",
        "colab": {}
      },
      "source": [
        "train_data -= mean"
      ],
      "execution_count": 8,
      "outputs": []
    },
    {
      "cell_type": "code",
      "metadata": {
        "id": "nWYDm5Noms8H",
        "colab_type": "code",
        "colab": {}
      },
      "source": [
        "std = train_data.std(axis=0)"
      ],
      "execution_count": 9,
      "outputs": []
    },
    {
      "cell_type": "code",
      "metadata": {
        "id": "kY2SLA88mwIx",
        "colab_type": "code",
        "colab": {}
      },
      "source": [
        "train_data /= std"
      ],
      "execution_count": 10,
      "outputs": []
    },
    {
      "cell_type": "code",
      "metadata": {
        "id": "O2QdKOOLmwLj",
        "colab_type": "code",
        "colab": {}
      },
      "source": [
        "test_data -= mean"
      ],
      "execution_count": 11,
      "outputs": []
    },
    {
      "cell_type": "code",
      "metadata": {
        "colab_type": "code",
        "id": "cNM3R-P_Xftl",
        "colab": {}
      },
      "source": [
        "test_data /= std"
      ],
      "execution_count": 12,
      "outputs": []
    },
    {
      "cell_type": "markdown",
      "metadata": {
        "colab_type": "text",
        "id": "qC0VFtvBXftq"
      },
      "source": [
        "### 3. Build the Network"
      ]
    },
    {
      "cell_type": "code",
      "metadata": {
        "id": "D9JPrkUFnE4E",
        "colab_type": "code",
        "colab": {}
      },
      "source": [
        "from tensorflow.keras.models import Sequential\n",
        "from tensorflow.keras.layers import Dense"
      ],
      "execution_count": 13,
      "outputs": []
    },
    {
      "cell_type": "markdown",
      "metadata": {
        "id": "pqIhrmQonWk6",
        "colab_type": "text"
      },
      "source": [
        "#### Question 1: Instantiate a Sequential model."
      ]
    },
    {
      "cell_type": "code",
      "metadata": {
        "id": "BwGEyaipnE1q",
        "colab_type": "code",
        "colab": {}
      },
      "source": [
        "def init_model():\n",
        "    model = Sequential() # Instantiate your model here.\n",
        "    # Dense()\n",
        "    return model"
      ],
      "execution_count": 14,
      "outputs": []
    },
    {
      "cell_type": "code",
      "metadata": {
        "id": "uf-NkiRiyq3x",
        "colab_type": "code",
        "colab": {}
      },
      "source": [
        "model = init_model()"
      ],
      "execution_count": 15,
      "outputs": []
    },
    {
      "cell_type": "markdown",
      "metadata": {
        "id": "W3uuZZKBno23",
        "colab_type": "text"
      },
      "source": [
        "#### Question 2: Add layers to the model.\n",
        "\n",
        "- Add 3 Dense layers to the model.\n",
        "\n",
        "\n",
        "- 1st layer should contain:\n",
        "  - **64** hidden units\n",
        "  - **relu** activation function\n",
        "  - input shape in the form of a tuple **(num_of_columns_in_train_set,)**\n",
        "\n",
        "\n",
        "- 2nd layer should contain:\n",
        "  - **64** hidden units\n",
        "  - **relu** activation function\n",
        "\n",
        "\n",
        "- 3rd layer should contain:\n",
        "  - Hidden units equal to the number of outputs we get at the end of a regression problem i.e. **1**.\n",
        "  - Use **linear** activation function or don't use activation function at all (this will use the default activation function which is linear)."
      ]
    },
    {
      "cell_type": "code",
      "metadata": {
        "id": "1DJEmsDJnboF",
        "colab_type": "code",
        "colab": {}
      },
      "source": [
        "def build_model(model):\n",
        "    # Add layers to your model here.\n",
        "    model.add(Dense(64, activation='relu', input_shape=(train_data.shape[1],)))\n",
        "    model.add(Dense(64, activation='relu'))\n",
        "    model.add(Dense(1))\n",
        "\n",
        "    return model"
      ],
      "execution_count": 16,
      "outputs": []
    },
    {
      "cell_type": "code",
      "metadata": {
        "id": "RIpEsio30nba",
        "colab_type": "code",
        "colab": {}
      },
      "source": [
        "model = build_model(model)"
      ],
      "execution_count": 17,
      "outputs": []
    },
    {
      "cell_type": "code",
      "metadata": {
        "id": "gesysQb_plPU",
        "colab_type": "code",
        "colab": {
          "base_uri": "https://localhost:8080/",
          "height": 255
        },
        "outputId": "2ef5c9a2-e02c-4a44-acc2-0812d23d5c80"
      },
      "source": [
        "model.summary()"
      ],
      "execution_count": 18,
      "outputs": [
        {
          "output_type": "stream",
          "text": [
            "Model: \"sequential\"\n",
            "_________________________________________________________________\n",
            "Layer (type)                 Output Shape              Param #   \n",
            "=================================================================\n",
            "dense (Dense)                (None, 64)                896       \n",
            "_________________________________________________________________\n",
            "dense_1 (Dense)              (None, 64)                4160      \n",
            "_________________________________________________________________\n",
            "dense_2 (Dense)              (None, 1)                 65        \n",
            "=================================================================\n",
            "Total params: 5,121\n",
            "Trainable params: 5,121\n",
            "Non-trainable params: 0\n",
            "_________________________________________________________________\n"
          ],
          "name": "stdout"
        }
      ]
    },
    {
      "cell_type": "markdown",
      "metadata": {
        "id": "HHez6gFwnsh5",
        "colab_type": "text"
      },
      "source": [
        "#### Question 3: Compile the model.\n",
        "\n",
        "- Use **adam** `optimizer`, and **mse** as `loss`.\n",
        "\n",
        "- Use **mae** in the `metrics` parameter."
      ]
    },
    {
      "cell_type": "code",
      "metadata": {
        "id": "HtYl-yFenEzQ",
        "colab_type": "code",
        "colab": {}
      },
      "source": [
        "def compile_model(model):\n",
        "    # Compile your model here.\n",
        "    model.compile(optimizer='adam', loss='mse', metrics=['mae'])\n",
        "    return model"
      ],
      "execution_count": 20,
      "outputs": []
    },
    {
      "cell_type": "code",
      "metadata": {
        "id": "Z6QZxPUt02Pr",
        "colab_type": "code",
        "colab": {}
      },
      "source": [
        "model = compile_model(model)"
      ],
      "execution_count": 21,
      "outputs": []
    },
    {
      "cell_type": "markdown",
      "metadata": {
        "id": "zgpJCpr6oFr2",
        "colab_type": "text"
      },
      "source": [
        "#### Question 4: Fit the Model\n",
        "\n",
        "- Fit the model with the training data.\n",
        "\n",
        "- Use **80 number of epochs**, and **batch size of 16** in the `fit` function.\n",
        "\n",
        "- Don't specify any other hyperparameter."
      ]
    },
    {
      "cell_type": "code",
      "metadata": {
        "id": "Il7yAkoe2GC4",
        "colab_type": "code",
        "colab": {}
      },
      "source": [
        "def fit_model(model):\n",
        "    # Fit your model here.\n",
        "    model.fit(train_data, train_targets, epochs=80, batch_size=16)\n",
        "    return model"
      ],
      "execution_count": 23,
      "outputs": []
    },
    {
      "cell_type": "code",
      "metadata": {
        "id": "vguC8N4poIa4",
        "colab_type": "code",
        "colab": {}
      },
      "source": [
        "model = fit_model(model)"
      ],
      "execution_count": null,
      "outputs": []
    },
    {
      "cell_type": "markdown",
      "metadata": {
        "id": "qlLWsYrwoIz-",
        "colab_type": "text"
      },
      "source": [
        "#### Question 5: Evaluate the Model on the Test data.\n",
        "\n",
        "- Use the `evaluate` funtion to evaluate the model on the test data."
      ]
    },
    {
      "cell_type": "code",
      "metadata": {
        "id": "xbeKR6T82vRy",
        "colab_type": "code",
        "colab": {}
      },
      "source": [
        "def evaluate_model(model):\n",
        "    test_mse_score, test_mae_score = model.evaluate(test_data, test_targets)                   # Evaluate your Model on the Test data here.\n",
        "\n",
        "    return test_mse_score, test_mae_score"
      ],
      "execution_count": 26,
      "outputs": []
    },
    {
      "cell_type": "code",
      "metadata": {
        "id": "jbHqcoshoI92",
        "colab_type": "code",
        "colab": {
          "base_uri": "https://localhost:8080/",
          "height": 34
        },
        "outputId": "356fc532-c19f-43c6-944d-3203afffe536"
      },
      "source": [
        "test_mse_score, test_mae_score = evaluate_model(model)"
      ],
      "execution_count": 27,
      "outputs": [
        {
          "output_type": "stream",
          "text": [
            "4/4 [==============================] - 0s 2ms/step - loss: 16.1936 - mae: 2.5813\n"
          ],
          "name": "stdout"
        }
      ]
    },
    {
      "cell_type": "markdown",
      "metadata": {
        "id": "WDYkP1_Yocyn",
        "colab_type": "text"
      },
      "source": [
        "- Here’s the final result on the test dataset:"
      ]
    },
    {
      "cell_type": "code",
      "metadata": {
        "id": "Ypcz0EgToZtb",
        "colab_type": "code",
        "colab": {
          "base_uri": "https://localhost:8080/",
          "height": 51
        },
        "outputId": "0da630b0-b668-47c2-85f0-6feff6d55682"
      },
      "source": [
        "print('Mean Absolute Error:', test_mae_score)\n",
        "print('Mean Squared Error:', test_mse_score)"
      ],
      "execution_count": 28,
      "outputs": [
        {
          "output_type": "stream",
          "text": [
            "Mean Absolute Error: 2.581256151199341\n",
            "Mean Squared Error: 16.193605422973633\n"
          ],
          "name": "stdout"
        }
      ]
    },
    {
      "cell_type": "code",
      "metadata": {
        "id": "o_u2vDaD0auX",
        "colab_type": "code",
        "colab": {
          "base_uri": "https://localhost:8080/",
          "height": 34
        },
        "outputId": "9718a738-4a53-40a9-c487-1d7a0bc24cd5"
      },
      "source": [
        "print('Root Mean Squared Error:', np.sqrt(test_mse_score))"
      ],
      "execution_count": 29,
      "outputs": [
        {
          "output_type": "stream",
          "text": [
            "Root Mean Squared Error: 4.024127908376377\n"
          ],
          "name": "stdout"
        }
      ]
    },
    {
      "cell_type": "markdown",
      "metadata": {
        "colab_type": "text",
        "id": "5gWlHwmUXfuw"
      },
      "source": [
        "## Logistic Regression in Keras"
      ]
    },
    {
      "cell_type": "markdown",
      "metadata": {
        "id": "kHQA6loInmdg",
        "colab_type": "text"
      },
      "source": [
        "### Titanic Dataset"
      ]
    },
    {
      "cell_type": "markdown",
      "metadata": {
        "id": "_fC6U8Pc5xE3",
        "colab_type": "text"
      },
      "source": [
        "The goal is to __predict survival__ of passengers travelling in RMS __Titanic__ using __Logistic regression__."
      ]
    },
    {
      "cell_type": "markdown",
      "metadata": {
        "id": "P1tB_JTatomh",
        "colab_type": "text"
      },
      "source": [
        "### 1. Loading the Titanic Dataset"
      ]
    },
    {
      "cell_type": "code",
      "metadata": {
        "colab_type": "code",
        "id": "mzRCdF0FtnA0",
        "colab": {}
      },
      "source": [
        "import numpy as np\n",
        "import pandas as pd"
      ],
      "execution_count": 30,
      "outputs": []
    },
    {
      "cell_type": "code",
      "metadata": {
        "colab_type": "code",
        "id": "Clxi3IajtnA9",
        "colab": {
          "base_uri": "https://localhost:8080/",
          "height": 204
        },
        "outputId": "a462e789-33bb-46b0-b2fe-c70b8d5fd22c"
      },
      "source": [
        "df = pd.read_csv('https://raw.githubusercontent.com/insaid2018/Term-1/master/Data/Casestudy/titanic_train.csv')\n",
        "df.head()"
      ],
      "execution_count": 31,
      "outputs": [
        {
          "output_type": "execute_result",
          "data": {
            "text/html": [
              "<div>\n",
              "<style scoped>\n",
              "    .dataframe tbody tr th:only-of-type {\n",
              "        vertical-align: middle;\n",
              "    }\n",
              "\n",
              "    .dataframe tbody tr th {\n",
              "        vertical-align: top;\n",
              "    }\n",
              "\n",
              "    .dataframe thead th {\n",
              "        text-align: right;\n",
              "    }\n",
              "</style>\n",
              "<table border=\"1\" class=\"dataframe\">\n",
              "  <thead>\n",
              "    <tr style=\"text-align: right;\">\n",
              "      <th></th>\n",
              "      <th>PassengerId</th>\n",
              "      <th>Survived</th>\n",
              "      <th>Pclass</th>\n",
              "      <th>Name</th>\n",
              "      <th>Sex</th>\n",
              "      <th>Age</th>\n",
              "      <th>SibSp</th>\n",
              "      <th>Parch</th>\n",
              "      <th>Ticket</th>\n",
              "      <th>Fare</th>\n",
              "      <th>Cabin</th>\n",
              "      <th>Embarked</th>\n",
              "    </tr>\n",
              "  </thead>\n",
              "  <tbody>\n",
              "    <tr>\n",
              "      <th>0</th>\n",
              "      <td>1</td>\n",
              "      <td>0</td>\n",
              "      <td>3</td>\n",
              "      <td>Braund, Mr. Owen Harris</td>\n",
              "      <td>male</td>\n",
              "      <td>22.0</td>\n",
              "      <td>1</td>\n",
              "      <td>0</td>\n",
              "      <td>A/5 21171</td>\n",
              "      <td>7.2500</td>\n",
              "      <td>NaN</td>\n",
              "      <td>S</td>\n",
              "    </tr>\n",
              "    <tr>\n",
              "      <th>1</th>\n",
              "      <td>2</td>\n",
              "      <td>1</td>\n",
              "      <td>1</td>\n",
              "      <td>Cumings, Mrs. John Bradley (Florence Briggs Th...</td>\n",
              "      <td>female</td>\n",
              "      <td>38.0</td>\n",
              "      <td>1</td>\n",
              "      <td>0</td>\n",
              "      <td>PC 17599</td>\n",
              "      <td>71.2833</td>\n",
              "      <td>C85</td>\n",
              "      <td>C</td>\n",
              "    </tr>\n",
              "    <tr>\n",
              "      <th>2</th>\n",
              "      <td>3</td>\n",
              "      <td>1</td>\n",
              "      <td>3</td>\n",
              "      <td>Heikkinen, Miss. Laina</td>\n",
              "      <td>female</td>\n",
              "      <td>26.0</td>\n",
              "      <td>0</td>\n",
              "      <td>0</td>\n",
              "      <td>STON/O2. 3101282</td>\n",
              "      <td>7.9250</td>\n",
              "      <td>NaN</td>\n",
              "      <td>S</td>\n",
              "    </tr>\n",
              "    <tr>\n",
              "      <th>3</th>\n",
              "      <td>4</td>\n",
              "      <td>1</td>\n",
              "      <td>1</td>\n",
              "      <td>Futrelle, Mrs. Jacques Heath (Lily May Peel)</td>\n",
              "      <td>female</td>\n",
              "      <td>35.0</td>\n",
              "      <td>1</td>\n",
              "      <td>0</td>\n",
              "      <td>113803</td>\n",
              "      <td>53.1000</td>\n",
              "      <td>C123</td>\n",
              "      <td>S</td>\n",
              "    </tr>\n",
              "    <tr>\n",
              "      <th>4</th>\n",
              "      <td>5</td>\n",
              "      <td>0</td>\n",
              "      <td>3</td>\n",
              "      <td>Allen, Mr. William Henry</td>\n",
              "      <td>male</td>\n",
              "      <td>35.0</td>\n",
              "      <td>0</td>\n",
              "      <td>0</td>\n",
              "      <td>373450</td>\n",
              "      <td>8.0500</td>\n",
              "      <td>NaN</td>\n",
              "      <td>S</td>\n",
              "    </tr>\n",
              "  </tbody>\n",
              "</table>\n",
              "</div>"
            ],
            "text/plain": [
              "   PassengerId  Survived  Pclass  ...     Fare Cabin  Embarked\n",
              "0            1         0       3  ...   7.2500   NaN         S\n",
              "1            2         1       1  ...  71.2833   C85         C\n",
              "2            3         1       3  ...   7.9250   NaN         S\n",
              "3            4         1       1  ...  53.1000  C123         S\n",
              "4            5         0       3  ...   8.0500   NaN         S\n",
              "\n",
              "[5 rows x 12 columns]"
            ]
          },
          "metadata": {
            "tags": []
          },
          "execution_count": 31
        }
      ]
    },
    {
      "cell_type": "code",
      "metadata": {
        "colab_type": "code",
        "scrolled": false,
        "id": "BsLkyeN-tnBC",
        "colab": {
          "base_uri": "https://localhost:8080/",
          "height": 340
        },
        "outputId": "19f92ed4-7c1a-4317-daf8-7ab5493795ed"
      },
      "source": [
        "df.info()"
      ],
      "execution_count": 32,
      "outputs": [
        {
          "output_type": "stream",
          "text": [
            "<class 'pandas.core.frame.DataFrame'>\n",
            "RangeIndex: 891 entries, 0 to 890\n",
            "Data columns (total 12 columns):\n",
            " #   Column       Non-Null Count  Dtype  \n",
            "---  ------       --------------  -----  \n",
            " 0   PassengerId  891 non-null    int64  \n",
            " 1   Survived     891 non-null    int64  \n",
            " 2   Pclass       891 non-null    int64  \n",
            " 3   Name         891 non-null    object \n",
            " 4   Sex          891 non-null    object \n",
            " 5   Age          714 non-null    float64\n",
            " 6   SibSp        891 non-null    int64  \n",
            " 7   Parch        891 non-null    int64  \n",
            " 8   Ticket       891 non-null    object \n",
            " 9   Fare         891 non-null    float64\n",
            " 10  Cabin        204 non-null    object \n",
            " 11  Embarked     889 non-null    object \n",
            "dtypes: float64(2), int64(5), object(5)\n",
            "memory usage: 83.7+ KB\n"
          ],
          "name": "stdout"
        }
      ]
    },
    {
      "cell_type": "markdown",
      "metadata": {
        "id": "ENsCvdBX52r2",
        "colab_type": "text"
      },
      "source": [
        "- The dataset consists of the information about people boarding the famous RMS Titanic. Various variables present in the dataset includes data of age, sex, fare, ticket etc. \n",
        "\n",
        "\n",
        "- The dataset comprises of __891 observations of 12 columns__. Below is a table showing names of all the columns and their description."
      ]
    },
    {
      "cell_type": "markdown",
      "metadata": {
        "id": "xmWO3OQB55ig",
        "colab_type": "text"
      },
      "source": [
        "| Column Name   | Description                                               |\n",
        "| ------------- |:---------------------------------------------------------:| \n",
        "| PassengerId   | Passenger Identity                                        | \n",
        "| Survived      | Whether passenger survived or not                         |  \n",
        "| Pclass        | Class of ticket                                           | \n",
        "| Name          | Name of passenger                                         |   \n",
        "| Sex           | Sex of passenger                                          |\n",
        "| Age           | Age of passenger                                          |\n",
        "| SibSp         | Number of sibling and/or spouse travelling with passenger |\n",
        "| Parch         | Number of parent and/or children travelling with passenger|\n",
        "| Ticket        | Ticket number                                             |\n",
        "| Fare          | Price of ticket                                           |\n",
        "| Cabin         | Cabin number                                              |"
      ]
    },
    {
      "cell_type": "markdown",
      "metadata": {
        "colab_type": "text",
        "id": "gdFxgGMhtnBK"
      },
      "source": [
        "### 2. Preparing the Data"
      ]
    },
    {
      "cell_type": "markdown",
      "metadata": {
        "id": "MmioBOv87ZJv",
        "colab_type": "text"
      },
      "source": [
        "- Dealing with missing values<br/>\n",
        "    - Dropping/Replacing missing entries of __Embarked.__\n",
        "    - Replacing missing values of __Age__ and __Fare__ with median values.\n",
        "    - Dropping the column __'Cabin'__ as it has too many _null_ values."
      ]
    },
    {
      "cell_type": "code",
      "metadata": {
        "id": "wcQ4S_cfuNc5",
        "colab_type": "code",
        "colab": {}
      },
      "source": [
        "df.Embarked = df.Embarked.fillna(df['Embarked'].mode()[0])"
      ],
      "execution_count": 33,
      "outputs": []
    },
    {
      "cell_type": "code",
      "metadata": {
        "id": "xQ_pb6y67cBS",
        "colab_type": "code",
        "colab": {
          "base_uri": "https://localhost:8080/",
          "height": 34
        },
        "outputId": "fcbea295-12fa-424f-8207-54b4148e4dba"
      },
      "source": [
        "median_age = df.Age.median()\n",
        "median_age"
      ],
      "execution_count": 34,
      "outputs": [
        {
          "output_type": "execute_result",
          "data": {
            "text/plain": [
              "28.0"
            ]
          },
          "metadata": {
            "tags": []
          },
          "execution_count": 34
        }
      ]
    },
    {
      "cell_type": "code",
      "metadata": {
        "id": "Rs0M-Lqn8mSO",
        "colab_type": "code",
        "colab": {
          "base_uri": "https://localhost:8080/",
          "height": 34
        },
        "outputId": "c0f4efef-25ea-432a-add5-f54244dbabf1"
      },
      "source": [
        "median_fare = df.Fare.median()\n",
        "median_fare"
      ],
      "execution_count": 35,
      "outputs": [
        {
          "output_type": "execute_result",
          "data": {
            "text/plain": [
              "14.4542"
            ]
          },
          "metadata": {
            "tags": []
          },
          "execution_count": 35
        }
      ]
    },
    {
      "cell_type": "code",
      "metadata": {
        "id": "6YJmGoWf8hV6",
        "colab_type": "code",
        "colab": {}
      },
      "source": [
        "df.Age.fillna(median_age, inplace = True)\n",
        "df.Fare.fillna(median_fare, inplace = True)"
      ],
      "execution_count": 36,
      "outputs": []
    },
    {
      "cell_type": "code",
      "metadata": {
        "id": "OFuf03WW7cEb",
        "colab_type": "code",
        "colab": {}
      },
      "source": [
        "df.drop('Cabin', axis = 1,inplace = True)"
      ],
      "execution_count": 37,
      "outputs": []
    },
    {
      "cell_type": "markdown",
      "metadata": {
        "id": "zD4T9KBb7h_g",
        "colab_type": "text"
      },
      "source": [
        "- Creating a new feature named __FamilySize__."
      ]
    },
    {
      "cell_type": "code",
      "metadata": {
        "id": "Fzva8nAs7b--",
        "colab_type": "code",
        "colab": {
          "base_uri": "https://localhost:8080/",
          "height": 204
        },
        "outputId": "58592ad6-ec87-4b35-9004-c8a0f2c69be2"
      },
      "source": [
        "df['FamilySize'] = df['SibSp'] + df['Parch'] + 1\n",
        "df.head()"
      ],
      "execution_count": 38,
      "outputs": [
        {
          "output_type": "execute_result",
          "data": {
            "text/html": [
              "<div>\n",
              "<style scoped>\n",
              "    .dataframe tbody tr th:only-of-type {\n",
              "        vertical-align: middle;\n",
              "    }\n",
              "\n",
              "    .dataframe tbody tr th {\n",
              "        vertical-align: top;\n",
              "    }\n",
              "\n",
              "    .dataframe thead th {\n",
              "        text-align: right;\n",
              "    }\n",
              "</style>\n",
              "<table border=\"1\" class=\"dataframe\">\n",
              "  <thead>\n",
              "    <tr style=\"text-align: right;\">\n",
              "      <th></th>\n",
              "      <th>PassengerId</th>\n",
              "      <th>Survived</th>\n",
              "      <th>Pclass</th>\n",
              "      <th>Name</th>\n",
              "      <th>Sex</th>\n",
              "      <th>Age</th>\n",
              "      <th>SibSp</th>\n",
              "      <th>Parch</th>\n",
              "      <th>Ticket</th>\n",
              "      <th>Fare</th>\n",
              "      <th>Embarked</th>\n",
              "      <th>FamilySize</th>\n",
              "    </tr>\n",
              "  </thead>\n",
              "  <tbody>\n",
              "    <tr>\n",
              "      <th>0</th>\n",
              "      <td>1</td>\n",
              "      <td>0</td>\n",
              "      <td>3</td>\n",
              "      <td>Braund, Mr. Owen Harris</td>\n",
              "      <td>male</td>\n",
              "      <td>22.0</td>\n",
              "      <td>1</td>\n",
              "      <td>0</td>\n",
              "      <td>A/5 21171</td>\n",
              "      <td>7.2500</td>\n",
              "      <td>S</td>\n",
              "      <td>2</td>\n",
              "    </tr>\n",
              "    <tr>\n",
              "      <th>1</th>\n",
              "      <td>2</td>\n",
              "      <td>1</td>\n",
              "      <td>1</td>\n",
              "      <td>Cumings, Mrs. John Bradley (Florence Briggs Th...</td>\n",
              "      <td>female</td>\n",
              "      <td>38.0</td>\n",
              "      <td>1</td>\n",
              "      <td>0</td>\n",
              "      <td>PC 17599</td>\n",
              "      <td>71.2833</td>\n",
              "      <td>C</td>\n",
              "      <td>2</td>\n",
              "    </tr>\n",
              "    <tr>\n",
              "      <th>2</th>\n",
              "      <td>3</td>\n",
              "      <td>1</td>\n",
              "      <td>3</td>\n",
              "      <td>Heikkinen, Miss. Laina</td>\n",
              "      <td>female</td>\n",
              "      <td>26.0</td>\n",
              "      <td>0</td>\n",
              "      <td>0</td>\n",
              "      <td>STON/O2. 3101282</td>\n",
              "      <td>7.9250</td>\n",
              "      <td>S</td>\n",
              "      <td>1</td>\n",
              "    </tr>\n",
              "    <tr>\n",
              "      <th>3</th>\n",
              "      <td>4</td>\n",
              "      <td>1</td>\n",
              "      <td>1</td>\n",
              "      <td>Futrelle, Mrs. Jacques Heath (Lily May Peel)</td>\n",
              "      <td>female</td>\n",
              "      <td>35.0</td>\n",
              "      <td>1</td>\n",
              "      <td>0</td>\n",
              "      <td>113803</td>\n",
              "      <td>53.1000</td>\n",
              "      <td>S</td>\n",
              "      <td>2</td>\n",
              "    </tr>\n",
              "    <tr>\n",
              "      <th>4</th>\n",
              "      <td>5</td>\n",
              "      <td>0</td>\n",
              "      <td>3</td>\n",
              "      <td>Allen, Mr. William Henry</td>\n",
              "      <td>male</td>\n",
              "      <td>35.0</td>\n",
              "      <td>0</td>\n",
              "      <td>0</td>\n",
              "      <td>373450</td>\n",
              "      <td>8.0500</td>\n",
              "      <td>S</td>\n",
              "      <td>1</td>\n",
              "    </tr>\n",
              "  </tbody>\n",
              "</table>\n",
              "</div>"
            ],
            "text/plain": [
              "   PassengerId  Survived  Pclass  ...     Fare Embarked  FamilySize\n",
              "0            1         0       3  ...   7.2500        S           2\n",
              "1            2         1       1  ...  71.2833        C           2\n",
              "2            3         1       3  ...   7.9250        S           1\n",
              "3            4         1       1  ...  53.1000        S           2\n",
              "4            5         0       3  ...   8.0500        S           1\n",
              "\n",
              "[5 rows x 12 columns]"
            ]
          },
          "metadata": {
            "tags": []
          },
          "execution_count": 38
        }
      ]
    },
    {
      "cell_type": "markdown",
      "metadata": {
        "id": "1G8f6kIQ7nXv",
        "colab_type": "text"
      },
      "source": [
        "- Segmenting __Sex__ column as per __Age__, Age less than 15 as __Child__, Age greater than 15 as __Males and Females__ as per their gender."
      ]
    },
    {
      "cell_type": "code",
      "metadata": {
        "id": "QCKUih0buNfi",
        "colab_type": "code",
        "colab": {}
      },
      "source": [
        "df['GenderClass'] = df.apply(lambda x: 'child' if x['Age'] < 15 else x['Sex'], axis=1)"
      ],
      "execution_count": 39,
      "outputs": []
    },
    {
      "cell_type": "code",
      "metadata": {
        "id": "byfLn8Bx7ptH",
        "colab_type": "code",
        "colab": {
          "base_uri": "https://localhost:8080/",
          "height": 111
        },
        "outputId": "3490b56d-7d92-4e43-b6d5-eaee7ce04d45"
      },
      "source": [
        "df[df.Age < 15].head(2)"
      ],
      "execution_count": 40,
      "outputs": [
        {
          "output_type": "execute_result",
          "data": {
            "text/html": [
              "<div>\n",
              "<style scoped>\n",
              "    .dataframe tbody tr th:only-of-type {\n",
              "        vertical-align: middle;\n",
              "    }\n",
              "\n",
              "    .dataframe tbody tr th {\n",
              "        vertical-align: top;\n",
              "    }\n",
              "\n",
              "    .dataframe thead th {\n",
              "        text-align: right;\n",
              "    }\n",
              "</style>\n",
              "<table border=\"1\" class=\"dataframe\">\n",
              "  <thead>\n",
              "    <tr style=\"text-align: right;\">\n",
              "      <th></th>\n",
              "      <th>PassengerId</th>\n",
              "      <th>Survived</th>\n",
              "      <th>Pclass</th>\n",
              "      <th>Name</th>\n",
              "      <th>Sex</th>\n",
              "      <th>Age</th>\n",
              "      <th>SibSp</th>\n",
              "      <th>Parch</th>\n",
              "      <th>Ticket</th>\n",
              "      <th>Fare</th>\n",
              "      <th>Embarked</th>\n",
              "      <th>FamilySize</th>\n",
              "      <th>GenderClass</th>\n",
              "    </tr>\n",
              "  </thead>\n",
              "  <tbody>\n",
              "    <tr>\n",
              "      <th>7</th>\n",
              "      <td>8</td>\n",
              "      <td>0</td>\n",
              "      <td>3</td>\n",
              "      <td>Palsson, Master. Gosta Leonard</td>\n",
              "      <td>male</td>\n",
              "      <td>2.0</td>\n",
              "      <td>3</td>\n",
              "      <td>1</td>\n",
              "      <td>349909</td>\n",
              "      <td>21.0750</td>\n",
              "      <td>S</td>\n",
              "      <td>5</td>\n",
              "      <td>child</td>\n",
              "    </tr>\n",
              "    <tr>\n",
              "      <th>9</th>\n",
              "      <td>10</td>\n",
              "      <td>1</td>\n",
              "      <td>2</td>\n",
              "      <td>Nasser, Mrs. Nicholas (Adele Achem)</td>\n",
              "      <td>female</td>\n",
              "      <td>14.0</td>\n",
              "      <td>1</td>\n",
              "      <td>0</td>\n",
              "      <td>237736</td>\n",
              "      <td>30.0708</td>\n",
              "      <td>C</td>\n",
              "      <td>2</td>\n",
              "      <td>child</td>\n",
              "    </tr>\n",
              "  </tbody>\n",
              "</table>\n",
              "</div>"
            ],
            "text/plain": [
              "   PassengerId  Survived  Pclass  ... Embarked FamilySize  GenderClass\n",
              "7            8         0       3  ...        S          5        child\n",
              "9           10         1       2  ...        C          2        child\n",
              "\n",
              "[2 rows x 13 columns]"
            ]
          },
          "metadata": {
            "tags": []
          },
          "execution_count": 40
        }
      ]
    },
    {
      "cell_type": "code",
      "metadata": {
        "id": "GEwE3hrq7pwE",
        "colab_type": "code",
        "colab": {
          "base_uri": "https://localhost:8080/",
          "height": 111
        },
        "outputId": "e1935f0a-c6e1-4b92-e5ec-c8cbe9762aa7"
      },
      "source": [
        "df[df.Age > 15].head(2)"
      ],
      "execution_count": 41,
      "outputs": [
        {
          "output_type": "execute_result",
          "data": {
            "text/html": [
              "<div>\n",
              "<style scoped>\n",
              "    .dataframe tbody tr th:only-of-type {\n",
              "        vertical-align: middle;\n",
              "    }\n",
              "\n",
              "    .dataframe tbody tr th {\n",
              "        vertical-align: top;\n",
              "    }\n",
              "\n",
              "    .dataframe thead th {\n",
              "        text-align: right;\n",
              "    }\n",
              "</style>\n",
              "<table border=\"1\" class=\"dataframe\">\n",
              "  <thead>\n",
              "    <tr style=\"text-align: right;\">\n",
              "      <th></th>\n",
              "      <th>PassengerId</th>\n",
              "      <th>Survived</th>\n",
              "      <th>Pclass</th>\n",
              "      <th>Name</th>\n",
              "      <th>Sex</th>\n",
              "      <th>Age</th>\n",
              "      <th>SibSp</th>\n",
              "      <th>Parch</th>\n",
              "      <th>Ticket</th>\n",
              "      <th>Fare</th>\n",
              "      <th>Embarked</th>\n",
              "      <th>FamilySize</th>\n",
              "      <th>GenderClass</th>\n",
              "    </tr>\n",
              "  </thead>\n",
              "  <tbody>\n",
              "    <tr>\n",
              "      <th>0</th>\n",
              "      <td>1</td>\n",
              "      <td>0</td>\n",
              "      <td>3</td>\n",
              "      <td>Braund, Mr. Owen Harris</td>\n",
              "      <td>male</td>\n",
              "      <td>22.0</td>\n",
              "      <td>1</td>\n",
              "      <td>0</td>\n",
              "      <td>A/5 21171</td>\n",
              "      <td>7.2500</td>\n",
              "      <td>S</td>\n",
              "      <td>2</td>\n",
              "      <td>male</td>\n",
              "    </tr>\n",
              "    <tr>\n",
              "      <th>1</th>\n",
              "      <td>2</td>\n",
              "      <td>1</td>\n",
              "      <td>1</td>\n",
              "      <td>Cumings, Mrs. John Bradley (Florence Briggs Th...</td>\n",
              "      <td>female</td>\n",
              "      <td>38.0</td>\n",
              "      <td>1</td>\n",
              "      <td>0</td>\n",
              "      <td>PC 17599</td>\n",
              "      <td>71.2833</td>\n",
              "      <td>C</td>\n",
              "      <td>2</td>\n",
              "      <td>female</td>\n",
              "    </tr>\n",
              "  </tbody>\n",
              "</table>\n",
              "</div>"
            ],
            "text/plain": [
              "   PassengerId  Survived  Pclass  ... Embarked FamilySize  GenderClass\n",
              "0            1         0       3  ...        S          2         male\n",
              "1            2         1       1  ...        C          2       female\n",
              "\n",
              "[2 rows x 13 columns]"
            ]
          },
          "metadata": {
            "tags": []
          },
          "execution_count": 41
        }
      ]
    },
    {
      "cell_type": "markdown",
      "metadata": {
        "id": "UBNuC6lQ7uAH",
        "colab_type": "text"
      },
      "source": [
        "- __Dummification__ of __GenderClass__ & __Embarked__."
      ]
    },
    {
      "cell_type": "code",
      "metadata": {
        "id": "8RkCY6Ih7tde",
        "colab_type": "code",
        "colab": {}
      },
      "source": [
        "df = pd.get_dummies(df, columns=['GenderClass', 'Embarked'], drop_first=True)"
      ],
      "execution_count": 42,
      "outputs": []
    },
    {
      "cell_type": "markdown",
      "metadata": {
        "id": "qjclVqPP7xIY",
        "colab_type": "text"
      },
      "source": [
        "- __Dropping__ columns __'Name' , 'Ticket' , 'Sex' , 'SibSp' and 'Parch'__ "
      ]
    },
    {
      "cell_type": "code",
      "metadata": {
        "id": "o9V1OMeJ7tgh",
        "colab_type": "code",
        "colab": {
          "base_uri": "https://localhost:8080/",
          "height": 204
        },
        "outputId": "b942e0e6-eb59-4640-d428-e41795500d83"
      },
      "source": [
        "df.drop(['Name','Ticket','Sex','SibSp','Parch'], axis = 1, inplace=True)\n",
        "df.head()"
      ],
      "execution_count": 43,
      "outputs": [
        {
          "output_type": "execute_result",
          "data": {
            "text/html": [
              "<div>\n",
              "<style scoped>\n",
              "    .dataframe tbody tr th:only-of-type {\n",
              "        vertical-align: middle;\n",
              "    }\n",
              "\n",
              "    .dataframe tbody tr th {\n",
              "        vertical-align: top;\n",
              "    }\n",
              "\n",
              "    .dataframe thead th {\n",
              "        text-align: right;\n",
              "    }\n",
              "</style>\n",
              "<table border=\"1\" class=\"dataframe\">\n",
              "  <thead>\n",
              "    <tr style=\"text-align: right;\">\n",
              "      <th></th>\n",
              "      <th>PassengerId</th>\n",
              "      <th>Survived</th>\n",
              "      <th>Pclass</th>\n",
              "      <th>Age</th>\n",
              "      <th>Fare</th>\n",
              "      <th>FamilySize</th>\n",
              "      <th>GenderClass_female</th>\n",
              "      <th>GenderClass_male</th>\n",
              "      <th>Embarked_Q</th>\n",
              "      <th>Embarked_S</th>\n",
              "    </tr>\n",
              "  </thead>\n",
              "  <tbody>\n",
              "    <tr>\n",
              "      <th>0</th>\n",
              "      <td>1</td>\n",
              "      <td>0</td>\n",
              "      <td>3</td>\n",
              "      <td>22.0</td>\n",
              "      <td>7.2500</td>\n",
              "      <td>2</td>\n",
              "      <td>0</td>\n",
              "      <td>1</td>\n",
              "      <td>0</td>\n",
              "      <td>1</td>\n",
              "    </tr>\n",
              "    <tr>\n",
              "      <th>1</th>\n",
              "      <td>2</td>\n",
              "      <td>1</td>\n",
              "      <td>1</td>\n",
              "      <td>38.0</td>\n",
              "      <td>71.2833</td>\n",
              "      <td>2</td>\n",
              "      <td>1</td>\n",
              "      <td>0</td>\n",
              "      <td>0</td>\n",
              "      <td>0</td>\n",
              "    </tr>\n",
              "    <tr>\n",
              "      <th>2</th>\n",
              "      <td>3</td>\n",
              "      <td>1</td>\n",
              "      <td>3</td>\n",
              "      <td>26.0</td>\n",
              "      <td>7.9250</td>\n",
              "      <td>1</td>\n",
              "      <td>1</td>\n",
              "      <td>0</td>\n",
              "      <td>0</td>\n",
              "      <td>1</td>\n",
              "    </tr>\n",
              "    <tr>\n",
              "      <th>3</th>\n",
              "      <td>4</td>\n",
              "      <td>1</td>\n",
              "      <td>1</td>\n",
              "      <td>35.0</td>\n",
              "      <td>53.1000</td>\n",
              "      <td>2</td>\n",
              "      <td>1</td>\n",
              "      <td>0</td>\n",
              "      <td>0</td>\n",
              "      <td>1</td>\n",
              "    </tr>\n",
              "    <tr>\n",
              "      <th>4</th>\n",
              "      <td>5</td>\n",
              "      <td>0</td>\n",
              "      <td>3</td>\n",
              "      <td>35.0</td>\n",
              "      <td>8.0500</td>\n",
              "      <td>1</td>\n",
              "      <td>0</td>\n",
              "      <td>1</td>\n",
              "      <td>0</td>\n",
              "      <td>1</td>\n",
              "    </tr>\n",
              "  </tbody>\n",
              "</table>\n",
              "</div>"
            ],
            "text/plain": [
              "   PassengerId  Survived  Pclass  ...  GenderClass_male  Embarked_Q  Embarked_S\n",
              "0            1         0       3  ...                 1           0           1\n",
              "1            2         1       1  ...                 0           0           0\n",
              "2            3         1       3  ...                 0           0           1\n",
              "3            4         1       1  ...                 0           0           1\n",
              "4            5         0       3  ...                 1           0           1\n",
              "\n",
              "[5 rows x 10 columns]"
            ]
          },
          "metadata": {
            "tags": []
          },
          "execution_count": 43
        }
      ]
    },
    {
      "cell_type": "markdown",
      "metadata": {
        "id": "m7WTzion782v",
        "colab_type": "text"
      },
      "source": [
        "- Preparing X and y using pandas."
      ]
    },
    {
      "cell_type": "code",
      "metadata": {
        "id": "sYHWNpoR7tjb",
        "colab_type": "code",
        "colab": {
          "base_uri": "https://localhost:8080/",
          "height": 204
        },
        "outputId": "c7bc88f7-92aa-40a5-8f79-f702fdd507fc"
      },
      "source": [
        "X = df.loc[:, df.columns != 'Survived']\n",
        "X.head()"
      ],
      "execution_count": 44,
      "outputs": [
        {
          "output_type": "execute_result",
          "data": {
            "text/html": [
              "<div>\n",
              "<style scoped>\n",
              "    .dataframe tbody tr th:only-of-type {\n",
              "        vertical-align: middle;\n",
              "    }\n",
              "\n",
              "    .dataframe tbody tr th {\n",
              "        vertical-align: top;\n",
              "    }\n",
              "\n",
              "    .dataframe thead th {\n",
              "        text-align: right;\n",
              "    }\n",
              "</style>\n",
              "<table border=\"1\" class=\"dataframe\">\n",
              "  <thead>\n",
              "    <tr style=\"text-align: right;\">\n",
              "      <th></th>\n",
              "      <th>PassengerId</th>\n",
              "      <th>Pclass</th>\n",
              "      <th>Age</th>\n",
              "      <th>Fare</th>\n",
              "      <th>FamilySize</th>\n",
              "      <th>GenderClass_female</th>\n",
              "      <th>GenderClass_male</th>\n",
              "      <th>Embarked_Q</th>\n",
              "      <th>Embarked_S</th>\n",
              "    </tr>\n",
              "  </thead>\n",
              "  <tbody>\n",
              "    <tr>\n",
              "      <th>0</th>\n",
              "      <td>1</td>\n",
              "      <td>3</td>\n",
              "      <td>22.0</td>\n",
              "      <td>7.2500</td>\n",
              "      <td>2</td>\n",
              "      <td>0</td>\n",
              "      <td>1</td>\n",
              "      <td>0</td>\n",
              "      <td>1</td>\n",
              "    </tr>\n",
              "    <tr>\n",
              "      <th>1</th>\n",
              "      <td>2</td>\n",
              "      <td>1</td>\n",
              "      <td>38.0</td>\n",
              "      <td>71.2833</td>\n",
              "      <td>2</td>\n",
              "      <td>1</td>\n",
              "      <td>0</td>\n",
              "      <td>0</td>\n",
              "      <td>0</td>\n",
              "    </tr>\n",
              "    <tr>\n",
              "      <th>2</th>\n",
              "      <td>3</td>\n",
              "      <td>3</td>\n",
              "      <td>26.0</td>\n",
              "      <td>7.9250</td>\n",
              "      <td>1</td>\n",
              "      <td>1</td>\n",
              "      <td>0</td>\n",
              "      <td>0</td>\n",
              "      <td>1</td>\n",
              "    </tr>\n",
              "    <tr>\n",
              "      <th>3</th>\n",
              "      <td>4</td>\n",
              "      <td>1</td>\n",
              "      <td>35.0</td>\n",
              "      <td>53.1000</td>\n",
              "      <td>2</td>\n",
              "      <td>1</td>\n",
              "      <td>0</td>\n",
              "      <td>0</td>\n",
              "      <td>1</td>\n",
              "    </tr>\n",
              "    <tr>\n",
              "      <th>4</th>\n",
              "      <td>5</td>\n",
              "      <td>3</td>\n",
              "      <td>35.0</td>\n",
              "      <td>8.0500</td>\n",
              "      <td>1</td>\n",
              "      <td>0</td>\n",
              "      <td>1</td>\n",
              "      <td>0</td>\n",
              "      <td>1</td>\n",
              "    </tr>\n",
              "  </tbody>\n",
              "</table>\n",
              "</div>"
            ],
            "text/plain": [
              "   PassengerId  Pclass   Age  ...  GenderClass_male  Embarked_Q  Embarked_S\n",
              "0            1       3  22.0  ...                 1           0           1\n",
              "1            2       1  38.0  ...                 0           0           0\n",
              "2            3       3  26.0  ...                 0           0           1\n",
              "3            4       1  35.0  ...                 0           0           1\n",
              "4            5       3  35.0  ...                 1           0           1\n",
              "\n",
              "[5 rows x 9 columns]"
            ]
          },
          "metadata": {
            "tags": []
          },
          "execution_count": 44
        }
      ]
    },
    {
      "cell_type": "code",
      "metadata": {
        "id": "FgHmskau8VEY",
        "colab_type": "code",
        "colab": {
          "base_uri": "https://localhost:8080/",
          "height": 204
        },
        "outputId": "a6c29b9a-df7e-4396-88ce-14c102bc6fcc"
      },
      "source": [
        "y = df.Survived\n",
        "y[:10]"
      ],
      "execution_count": 45,
      "outputs": [
        {
          "output_type": "execute_result",
          "data": {
            "text/plain": [
              "0    0\n",
              "1    1\n",
              "2    1\n",
              "3    1\n",
              "4    0\n",
              "5    0\n",
              "6    0\n",
              "7    0\n",
              "8    1\n",
              "9    1\n",
              "Name: Survived, dtype: int64"
            ]
          },
          "metadata": {
            "tags": []
          },
          "execution_count": 45
        }
      ]
    },
    {
      "cell_type": "markdown",
      "metadata": {
        "id": "12zOQwOWAIQ3",
        "colab_type": "text"
      },
      "source": [
        "- Splitting the dataset into train and test sets."
      ]
    },
    {
      "cell_type": "code",
      "metadata": {
        "id": "iQetcFH5AMev",
        "colab_type": "code",
        "colab": {}
      },
      "source": [
        "from sklearn.model_selection import train_test_split"
      ],
      "execution_count": 46,
      "outputs": []
    },
    {
      "cell_type": "code",
      "metadata": {
        "id": "0Bl5TjNYALgm",
        "colab_type": "code",
        "colab": {}
      },
      "source": [
        "X_train, X_test, y_train, y_test = train_test_split(X, y, test_size=0.20, random_state=1)"
      ],
      "execution_count": 47,
      "outputs": []
    },
    {
      "cell_type": "code",
      "metadata": {
        "id": "ZC_wox8IALja",
        "colab_type": "code",
        "colab": {
          "base_uri": "https://localhost:8080/",
          "height": 85
        },
        "outputId": "87b0c56d-27b2-428b-e2bb-d3ecc4bc2d2f"
      },
      "source": [
        "print(X_train.shape)\n",
        "print(y_train.shape)\n",
        "print(X_test.shape)\n",
        "print(y_test.shape)"
      ],
      "execution_count": 48,
      "outputs": [
        {
          "output_type": "stream",
          "text": [
            "(712, 9)\n",
            "(712,)\n",
            "(179, 9)\n",
            "(179,)\n"
          ],
          "name": "stdout"
        }
      ]
    },
    {
      "cell_type": "markdown",
      "metadata": {
        "colab_type": "text",
        "id": "2SqC1E6atnBZ"
      },
      "source": [
        "### 3. Build the Network"
      ]
    },
    {
      "cell_type": "code",
      "metadata": {
        "colab_type": "code",
        "id": "PRGBfP1EtnBZ",
        "colab": {}
      },
      "source": [
        "from tensorflow.keras.models import Sequential\n",
        "from tensorflow.keras.layers import Dense"
      ],
      "execution_count": 49,
      "outputs": []
    },
    {
      "cell_type": "markdown",
      "metadata": {
        "colab_type": "text",
        "id": "6ZbwmmQrtnBb"
      },
      "source": [
        "#### Question 6: Instantiate a Sequential model."
      ]
    },
    {
      "cell_type": "code",
      "metadata": {
        "colab_type": "code",
        "id": "iCvrGsvT3Say",
        "colab": {}
      },
      "source": [
        "def init_model():\n",
        "    model = Sequential() # Instantiate your model here.\n",
        "\n",
        "    return model"
      ],
      "execution_count": 50,
      "outputs": []
    },
    {
      "cell_type": "code",
      "metadata": {
        "colab_type": "code",
        "id": "Q88UIVxY3SbB",
        "colab": {}
      },
      "source": [
        "model = init_model()"
      ],
      "execution_count": 51,
      "outputs": []
    },
    {
      "cell_type": "markdown",
      "metadata": {
        "colab_type": "text",
        "id": "x1HwAHsi3SbI"
      },
      "source": [
        "#### Question 7: Add layers to the model.\n",
        "\n",
        "- Add 3 Dense layers to the model.\n",
        "\n",
        "\n",
        "- 1st layer should contain:\n",
        "  - **64** hidden units\n",
        "  - **relu** activation function\n",
        "  - input shape in the form of a tuple **(num_of_columns_in_train_set,)**\n",
        "\n",
        "\n",
        "- 2nd layer should contain:\n",
        "  - **64** hidden units\n",
        "  - **relu** activation function\n",
        "\n",
        "\n",
        "- 3rd layer should contain:\n",
        "  - Hidden units equal to the number of outputs we get at the end of a binary classification problem i.e. **1**.\n",
        "  - Use **sigmoid** activation function (**sigmoid** activation function is used in **binary** classification problems in the last layer)."
      ]
    },
    {
      "cell_type": "code",
      "metadata": {
        "colab_type": "code",
        "id": "3jjduNhE3SbI",
        "colab": {}
      },
      "source": [
        "def build_model(model):\n",
        "    # Add layers to your model here.\n",
        "    \n",
        "    model.add(Dense(64, activation='relu', input_shape=(X_train.shape[1],)))\n",
        "    model.add(Dense(64, activation='relu'))\n",
        "    model.add(Dense(1, activation='sigmoid'))\n",
        "\n",
        "    return model"
      ],
      "execution_count": 55,
      "outputs": []
    },
    {
      "cell_type": "code",
      "metadata": {
        "colab_type": "code",
        "id": "U5Y34P3P3SbL",
        "colab": {}
      },
      "source": [
        "model = build_model(model)"
      ],
      "execution_count": 59,
      "outputs": []
    },
    {
      "cell_type": "code",
      "metadata": {
        "colab_type": "code",
        "id": "NnemMH6DtnBh",
        "colab": {
          "base_uri": "https://localhost:8080/",
          "height": 357
        },
        "outputId": "c9ce6e9b-bb25-4ff4-db4e-d4f2f8ca2cd2"
      },
      "source": [
        "model.summary()"
      ],
      "execution_count": 60,
      "outputs": [
        {
          "output_type": "stream",
          "text": [
            "Model: \"sequential_1\"\n",
            "_________________________________________________________________\n",
            "Layer (type)                 Output Shape              Param #   \n",
            "=================================================================\n",
            "dense_3 (Dense)              (None, 64)                640       \n",
            "_________________________________________________________________\n",
            "dense_4 (Dense)              (None, 64)                4160      \n",
            "_________________________________________________________________\n",
            "dense_5 (Dense)              (None, 1)                 65        \n",
            "_________________________________________________________________\n",
            "dense_6 (Dense)              (None, 64)                128       \n",
            "_________________________________________________________________\n",
            "dense_7 (Dense)              (None, 64)                4160      \n",
            "_________________________________________________________________\n",
            "dense_8 (Dense)              (None, 1)                 65        \n",
            "=================================================================\n",
            "Total params: 9,218\n",
            "Trainable params: 9,218\n",
            "Non-trainable params: 0\n",
            "_________________________________________________________________\n"
          ],
          "name": "stdout"
        }
      ]
    },
    {
      "cell_type": "markdown",
      "metadata": {
        "colab_type": "text",
        "id": "ZKAh1xg94Uxd"
      },
      "source": [
        "#### Question 8: Compile the model.\n",
        "\n",
        "- Use **adam** `optimizer`, and **binary_crossentropy** as `loss`.\n",
        "\n",
        "- Use **accuracy** in the `metrics` parameter."
      ]
    },
    {
      "cell_type": "code",
      "metadata": {
        "colab_type": "code",
        "id": "5Qvjrpfv4Uxg",
        "colab": {}
      },
      "source": [
        "def compile_model(model):\n",
        "    # Compile your model here.\n",
        "    model.compile(optimizer='adam', loss='binary_crossentropy', metrics='accuracy')\n",
        "    return model"
      ],
      "execution_count": 61,
      "outputs": []
    },
    {
      "cell_type": "code",
      "metadata": {
        "colab_type": "code",
        "id": "Wb7TVZjh4Uxk",
        "colab": {}
      },
      "source": [
        "model = compile_model(model)"
      ],
      "execution_count": 62,
      "outputs": []
    },
    {
      "cell_type": "markdown",
      "metadata": {
        "colab_type": "text",
        "id": "Z230duQU4Uxm"
      },
      "source": [
        "#### Question 9: Fit the Model\n",
        "\n",
        "- Fit the model with the training data.\n",
        "\n",
        "- Use **100 number of epochs**, and **batch size of 16** in the `fit` function.\n",
        "\n",
        "- Don't specify any other hyperparameter."
      ]
    },
    {
      "cell_type": "code",
      "metadata": {
        "colab_type": "code",
        "id": "OggDa_Ig4Uxn",
        "colab": {}
      },
      "source": [
        "def fit_model(model):\n",
        "    history = model.fit(X_train, y_train, epochs=100, batch_size=16)\n",
        "    # Fit your model here.\n",
        "\n",
        "    return model, history"
      ],
      "execution_count": 63,
      "outputs": []
    },
    {
      "cell_type": "code",
      "metadata": {
        "colab_type": "code",
        "id": "_9NSEpCNtnBp",
        "colab": {
          "base_uri": "https://localhost:8080/",
          "height": 1000
        },
        "outputId": "4e849060-b758-420f-dbdd-4e3b1fd8c57e"
      },
      "source": [
        "model, history = fit_model(model)"
      ],
      "execution_count": 64,
      "outputs": [
        {
          "output_type": "stream",
          "text": [
            "Epoch 1/100\n",
            "45/45 [==============================] - 0s 2ms/step - loss: 0.6683 - accuracy: 0.6222\n",
            "Epoch 2/100\n",
            "45/45 [==============================] - 0s 3ms/step - loss: 0.6647 - accuracy: 0.6222\n",
            "Epoch 3/100\n",
            "45/45 [==============================] - 0s 2ms/step - loss: 0.6646 - accuracy: 0.6222\n",
            "Epoch 4/100\n",
            "45/45 [==============================] - 0s 3ms/step - loss: 0.6637 - accuracy: 0.6222\n",
            "Epoch 5/100\n",
            "45/45 [==============================] - 0s 2ms/step - loss: 0.6722 - accuracy: 0.6222\n",
            "Epoch 6/100\n",
            "45/45 [==============================] - 0s 3ms/step - loss: 0.6689 - accuracy: 0.6222\n",
            "Epoch 7/100\n",
            "45/45 [==============================] - 0s 3ms/step - loss: 0.6642 - accuracy: 0.6222\n",
            "Epoch 8/100\n",
            "45/45 [==============================] - 0s 2ms/step - loss: 0.6634 - accuracy: 0.6222\n",
            "Epoch 9/100\n",
            "45/45 [==============================] - 0s 2ms/step - loss: 0.6635 - accuracy: 0.6222\n",
            "Epoch 10/100\n",
            "45/45 [==============================] - 0s 3ms/step - loss: 0.6631 - accuracy: 0.6222\n",
            "Epoch 11/100\n",
            "45/45 [==============================] - 0s 3ms/step - loss: 0.6630 - accuracy: 0.6222\n",
            "Epoch 12/100\n",
            "45/45 [==============================] - 0s 3ms/step - loss: 0.6636 - accuracy: 0.6222\n",
            "Epoch 13/100\n",
            "45/45 [==============================] - 0s 3ms/step - loss: 0.6636 - accuracy: 0.6222\n",
            "Epoch 14/100\n",
            "45/45 [==============================] - 0s 3ms/step - loss: 0.6635 - accuracy: 0.6222\n",
            "Epoch 15/100\n",
            "45/45 [==============================] - 0s 2ms/step - loss: 0.6636 - accuracy: 0.6222\n",
            "Epoch 16/100\n",
            "45/45 [==============================] - 0s 2ms/step - loss: 0.6628 - accuracy: 0.6222\n",
            "Epoch 17/100\n",
            "45/45 [==============================] - 0s 2ms/step - loss: 0.6628 - accuracy: 0.6222\n",
            "Epoch 18/100\n",
            "45/45 [==============================] - 0s 2ms/step - loss: 0.6629 - accuracy: 0.6222\n",
            "Epoch 19/100\n",
            "45/45 [==============================] - 0s 3ms/step - loss: 0.6629 - accuracy: 0.6222\n",
            "Epoch 20/100\n",
            "45/45 [==============================] - 0s 3ms/step - loss: 0.6634 - accuracy: 0.6222\n",
            "Epoch 21/100\n",
            "45/45 [==============================] - 0s 2ms/step - loss: 0.6628 - accuracy: 0.6222\n",
            "Epoch 22/100\n",
            "45/45 [==============================] - 0s 2ms/step - loss: 0.6629 - accuracy: 0.6222\n",
            "Epoch 23/100\n",
            "45/45 [==============================] - 0s 2ms/step - loss: 0.6626 - accuracy: 0.6222\n",
            "Epoch 24/100\n",
            "45/45 [==============================] - 0s 3ms/step - loss: 0.6631 - accuracy: 0.6222\n",
            "Epoch 25/100\n",
            "45/45 [==============================] - 0s 3ms/step - loss: 0.6628 - accuracy: 0.6222\n",
            "Epoch 26/100\n",
            "45/45 [==============================] - 0s 3ms/step - loss: 0.6628 - accuracy: 0.6222\n",
            "Epoch 27/100\n",
            "45/45 [==============================] - 0s 3ms/step - loss: 0.6623 - accuracy: 0.6222\n",
            "Epoch 28/100\n",
            "45/45 [==============================] - 0s 3ms/step - loss: 0.6628 - accuracy: 0.6222\n",
            "Epoch 29/100\n",
            "45/45 [==============================] - 0s 2ms/step - loss: 0.6625 - accuracy: 0.6222\n",
            "Epoch 30/100\n",
            "45/45 [==============================] - 0s 2ms/step - loss: 0.6624 - accuracy: 0.6222\n",
            "Epoch 31/100\n",
            "45/45 [==============================] - 0s 2ms/step - loss: 0.6635 - accuracy: 0.6222\n",
            "Epoch 32/100\n",
            "45/45 [==============================] - 0s 3ms/step - loss: 0.6623 - accuracy: 0.6222\n",
            "Epoch 33/100\n",
            "45/45 [==============================] - 0s 3ms/step - loss: 0.6632 - accuracy: 0.6222\n",
            "Epoch 34/100\n",
            "45/45 [==============================] - 0s 3ms/step - loss: 0.6627 - accuracy: 0.6222\n",
            "Epoch 35/100\n",
            "45/45 [==============================] - 0s 3ms/step - loss: 0.6620 - accuracy: 0.6222\n",
            "Epoch 36/100\n",
            "45/45 [==============================] - 0s 3ms/step - loss: 0.6620 - accuracy: 0.6222\n",
            "Epoch 37/100\n",
            "45/45 [==============================] - 0s 3ms/step - loss: 0.6614 - accuracy: 0.6222\n",
            "Epoch 38/100\n",
            "45/45 [==============================] - 0s 3ms/step - loss: 0.6718 - accuracy: 0.6222\n",
            "Epoch 39/100\n",
            "45/45 [==============================] - 0s 3ms/step - loss: 0.6652 - accuracy: 0.6222\n",
            "Epoch 40/100\n",
            "45/45 [==============================] - 0s 3ms/step - loss: 0.6639 - accuracy: 0.6222\n",
            "Epoch 41/100\n",
            "45/45 [==============================] - 0s 2ms/step - loss: 0.6626 - accuracy: 0.6222\n",
            "Epoch 42/100\n",
            "45/45 [==============================] - 0s 3ms/step - loss: 0.6620 - accuracy: 0.6222\n",
            "Epoch 43/100\n",
            "45/45 [==============================] - 0s 3ms/step - loss: 0.6619 - accuracy: 0.6222\n",
            "Epoch 44/100\n",
            "45/45 [==============================] - 0s 2ms/step - loss: 0.6623 - accuracy: 0.6222\n",
            "Epoch 45/100\n",
            "45/45 [==============================] - 0s 2ms/step - loss: 0.6627 - accuracy: 0.6222\n",
            "Epoch 46/100\n",
            "45/45 [==============================] - 0s 3ms/step - loss: 0.6620 - accuracy: 0.6222\n",
            "Epoch 47/100\n",
            "45/45 [==============================] - 0s 2ms/step - loss: 0.6615 - accuracy: 0.6222\n",
            "Epoch 48/100\n",
            "45/45 [==============================] - 0s 3ms/step - loss: 0.6620 - accuracy: 0.6222\n",
            "Epoch 49/100\n",
            "45/45 [==============================] - 0s 3ms/step - loss: 0.6613 - accuracy: 0.6222\n",
            "Epoch 50/100\n",
            "45/45 [==============================] - 0s 2ms/step - loss: 0.6612 - accuracy: 0.6222\n",
            "Epoch 51/100\n",
            "45/45 [==============================] - 0s 3ms/step - loss: 0.6608 - accuracy: 0.6222\n",
            "Epoch 52/100\n",
            "45/45 [==============================] - 0s 3ms/step - loss: 0.6617 - accuracy: 0.6222\n",
            "Epoch 53/100\n",
            "45/45 [==============================] - 0s 2ms/step - loss: 0.6627 - accuracy: 0.6222\n",
            "Epoch 54/100\n",
            "45/45 [==============================] - 0s 2ms/step - loss: 0.6615 - accuracy: 0.6222\n",
            "Epoch 55/100\n",
            "45/45 [==============================] - 0s 2ms/step - loss: 0.6628 - accuracy: 0.6222\n",
            "Epoch 56/100\n",
            "45/45 [==============================] - 0s 3ms/step - loss: 0.6611 - accuracy: 0.6222\n",
            "Epoch 57/100\n",
            "45/45 [==============================] - 0s 2ms/step - loss: 0.6608 - accuracy: 0.6222\n",
            "Epoch 58/100\n",
            "45/45 [==============================] - 0s 2ms/step - loss: 0.6605 - accuracy: 0.6222\n",
            "Epoch 59/100\n",
            "45/45 [==============================] - 0s 3ms/step - loss: 0.6608 - accuracy: 0.6222\n",
            "Epoch 60/100\n",
            "45/45 [==============================] - 0s 3ms/step - loss: 0.6606 - accuracy: 0.6222\n",
            "Epoch 61/100\n",
            "45/45 [==============================] - 0s 2ms/step - loss: 0.6609 - accuracy: 0.6222\n",
            "Epoch 62/100\n",
            "45/45 [==============================] - 0s 3ms/step - loss: 0.6626 - accuracy: 0.6222\n",
            "Epoch 63/100\n",
            "45/45 [==============================] - 0s 2ms/step - loss: 0.6613 - accuracy: 0.6222\n",
            "Epoch 64/100\n",
            "45/45 [==============================] - 0s 2ms/step - loss: 0.6622 - accuracy: 0.6222\n",
            "Epoch 65/100\n",
            "45/45 [==============================] - 0s 2ms/step - loss: 0.6595 - accuracy: 0.6222\n",
            "Epoch 66/100\n",
            "45/45 [==============================] - 0s 2ms/step - loss: 0.6619 - accuracy: 0.6222\n",
            "Epoch 67/100\n",
            "45/45 [==============================] - 0s 2ms/step - loss: 0.6601 - accuracy: 0.6222\n",
            "Epoch 68/100\n",
            "45/45 [==============================] - 0s 3ms/step - loss: 0.6608 - accuracy: 0.6222\n",
            "Epoch 69/100\n",
            "45/45 [==============================] - 0s 3ms/step - loss: 0.6594 - accuracy: 0.6222\n",
            "Epoch 70/100\n",
            "45/45 [==============================] - 0s 2ms/step - loss: 0.6592 - accuracy: 0.6222\n",
            "Epoch 71/100\n",
            "45/45 [==============================] - 0s 2ms/step - loss: 0.6592 - accuracy: 0.6222\n",
            "Epoch 72/100\n",
            "45/45 [==============================] - 0s 3ms/step - loss: 0.6588 - accuracy: 0.6222\n",
            "Epoch 73/100\n",
            "45/45 [==============================] - 0s 2ms/step - loss: 0.6586 - accuracy: 0.6222\n",
            "Epoch 74/100\n",
            "45/45 [==============================] - 0s 3ms/step - loss: 0.6588 - accuracy: 0.6222\n",
            "Epoch 75/100\n",
            "45/45 [==============================] - 0s 2ms/step - loss: 0.6587 - accuracy: 0.6222\n",
            "Epoch 76/100\n",
            "45/45 [==============================] - 0s 2ms/step - loss: 0.6593 - accuracy: 0.6222\n",
            "Epoch 77/100\n",
            "45/45 [==============================] - 0s 3ms/step - loss: 0.6589 - accuracy: 0.6222\n",
            "Epoch 78/100\n",
            "45/45 [==============================] - 0s 2ms/step - loss: 0.6587 - accuracy: 0.6222\n",
            "Epoch 79/100\n",
            "45/45 [==============================] - 0s 2ms/step - loss: 0.6587 - accuracy: 0.6222\n",
            "Epoch 80/100\n",
            "45/45 [==============================] - 0s 2ms/step - loss: 0.6583 - accuracy: 0.6222\n",
            "Epoch 81/100\n",
            "45/45 [==============================] - 0s 3ms/step - loss: 0.6581 - accuracy: 0.6222\n",
            "Epoch 82/100\n",
            "45/45 [==============================] - 0s 3ms/step - loss: 0.6578 - accuracy: 0.6222\n",
            "Epoch 83/100\n",
            "45/45 [==============================] - 0s 2ms/step - loss: 0.6580 - accuracy: 0.6222\n",
            "Epoch 84/100\n",
            "45/45 [==============================] - 0s 2ms/step - loss: 0.6599 - accuracy: 0.6222\n",
            "Epoch 85/100\n",
            "45/45 [==============================] - 0s 3ms/step - loss: 0.6604 - accuracy: 0.6222\n",
            "Epoch 86/100\n",
            "45/45 [==============================] - 0s 3ms/step - loss: 0.6608 - accuracy: 0.6222\n",
            "Epoch 87/100\n",
            "45/45 [==============================] - 0s 2ms/step - loss: 0.6603 - accuracy: 0.6222\n",
            "Epoch 88/100\n",
            "45/45 [==============================] - 0s 2ms/step - loss: 0.6602 - accuracy: 0.6222\n",
            "Epoch 89/100\n",
            "45/45 [==============================] - 0s 2ms/step - loss: 0.6599 - accuracy: 0.6222\n",
            "Epoch 90/100\n",
            "45/45 [==============================] - 0s 2ms/step - loss: 0.6606 - accuracy: 0.6222\n",
            "Epoch 91/100\n",
            "45/45 [==============================] - 0s 2ms/step - loss: 0.6605 - accuracy: 0.6222\n",
            "Epoch 92/100\n",
            "45/45 [==============================] - 0s 2ms/step - loss: 0.6599 - accuracy: 0.6222\n",
            "Epoch 93/100\n",
            "45/45 [==============================] - 0s 2ms/step - loss: 0.6666 - accuracy: 0.6222\n",
            "Epoch 94/100\n",
            "45/45 [==============================] - 0s 2ms/step - loss: 0.6626 - accuracy: 0.6222\n",
            "Epoch 95/100\n",
            "45/45 [==============================] - 0s 2ms/step - loss: 0.6593 - accuracy: 0.6222\n",
            "Epoch 96/100\n",
            "45/45 [==============================] - 0s 2ms/step - loss: 0.6583 - accuracy: 0.6222\n",
            "Epoch 97/100\n",
            "45/45 [==============================] - 0s 2ms/step - loss: 0.6649 - accuracy: 0.6222\n",
            "Epoch 98/100\n",
            "45/45 [==============================] - 0s 2ms/step - loss: 0.6603 - accuracy: 0.6222\n",
            "Epoch 99/100\n",
            "45/45 [==============================] - 0s 2ms/step - loss: 0.6596 - accuracy: 0.6222\n",
            "Epoch 100/100\n",
            "45/45 [==============================] - 0s 3ms/step - loss: 0.6577 - accuracy: 0.6222\n"
          ],
          "name": "stdout"
        }
      ]
    },
    {
      "cell_type": "markdown",
      "metadata": {
        "colab_type": "text",
        "id": "a5hmQHXI4Uxs"
      },
      "source": [
        "#### Question 10: Evaluate the Model on the Test data.\n",
        "\n",
        "- Use the `evaluate` funtion to evaluate the model on the test data."
      ]
    },
    {
      "cell_type": "code",
      "metadata": {
        "colab_type": "code",
        "id": "oQY6QI1X4Uxt",
        "colab": {}
      },
      "source": [
        "def evaluate_model(model):\n",
        "    loss, accuracy = model.evaluate(X_test, y_test)\n",
        "    # Evaluate your Model on the Test data here.\n",
        "\n",
        "    return loss, accuracy"
      ],
      "execution_count": 65,
      "outputs": []
    },
    {
      "cell_type": "code",
      "metadata": {
        "colab_type": "code",
        "id": "7KfBF9QTtnBs",
        "colab": {
          "base_uri": "https://localhost:8080/",
          "height": 34
        },
        "outputId": "522aade3-073a-4d58-b536-7f11413ef591"
      },
      "source": [
        "loss, accuracy = evaluate_model(model)"
      ],
      "execution_count": 66,
      "outputs": [
        {
          "output_type": "stream",
          "text": [
            "6/6 [==============================] - 0s 2ms/step - loss: 0.6984 - accuracy: 0.5922\n"
          ],
          "name": "stdout"
        }
      ]
    },
    {
      "cell_type": "markdown",
      "metadata": {
        "colab_type": "text",
        "id": "cLsum0ZOtnBw"
      },
      "source": [
        "- Here’s the final result:"
      ]
    },
    {
      "cell_type": "code",
      "metadata": {
        "colab_type": "code",
        "id": "1wWglyJkXfvf",
        "colab": {
          "base_uri": "https://localhost:8080/",
          "height": 34
        },
        "outputId": "bceb47e7-feea-43ec-b4a8-8f11bec4869f"
      },
      "source": [
        "print('Accuracy:', accuracy)"
      ],
      "execution_count": 67,
      "outputs": [
        {
          "output_type": "stream",
          "text": [
            "Accuracy: 0.5921787619590759\n"
          ],
          "name": "stdout"
        }
      ]
    },
    {
      "cell_type": "code",
      "metadata": {
        "id": "GAtVhNHR6KbQ",
        "colab_type": "code",
        "colab": {}
      },
      "source": [
        ""
      ],
      "execution_count": null,
      "outputs": []
    }
  ]
}