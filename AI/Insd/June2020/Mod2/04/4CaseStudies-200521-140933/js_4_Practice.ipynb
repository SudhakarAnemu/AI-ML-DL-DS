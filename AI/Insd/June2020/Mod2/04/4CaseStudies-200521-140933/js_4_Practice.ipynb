{
  "nbformat": 4,
  "nbformat_minor": 0,
  "metadata": {
    "colab": {
      "name": "js_4_Practice.ipynb",
      "provenance": []
    },
    "kernelspec": {
      "name": "python3",
      "display_name": "Python 3"
    }
  },
  "cells": [
    {
      "cell_type": "markdown",
      "metadata": {
        "id": "X-_nmpmSuOwE",
        "colab_type": "text"
      },
      "source": [
        "# JS \n",
        "\n",
        "Practice - Keras"
      ]
    },
    {
      "cell_type": "code",
      "metadata": {
        "id": "KiYdmjamt3D-",
        "colab_type": "code",
        "colab": {
          "base_uri": "https://localhost:8080/",
          "height": 35
        },
        "outputId": "a79e4362-512a-4a0a-c524-844476d5b2b9"
      },
      "source": [
        "import tensorflow as tf\n",
        "print(\"The version of the Tensorflow : \", tf.__version__)\n"
      ],
      "execution_count": 1,
      "outputs": [
        {
          "output_type": "stream",
          "text": [
            "The version of the Tensorflow :  2.3.0\n"
          ],
          "name": "stdout"
        }
      ]
    },
    {
      "cell_type": "code",
      "metadata": {
        "id": "C_31CfhryBvE",
        "colab_type": "code",
        "colab": {
          "base_uri": "https://localhost:8080/",
          "height": 126
        },
        "outputId": "0823d594-6d84-4b1a-e6b7-50b952ba17b9"
      },
      "source": [
        "try:\n",
        "  %tensorflow_version = 2.x\n",
        "except Exception:\n",
        "  pass\n",
        "print(\"The version of the Tensorflow : \", tf.__version__)"
      ],
      "execution_count": 2,
      "outputs": [
        {
          "output_type": "stream",
          "text": [
            "Unknown TensorFlow version: = 2.x\n",
            "Currently selected TF version: 2.x\n",
            "Available versions:\n",
            " * 1.x\n",
            " * 2.x\n",
            "The version of the Tensorflow :  2.3.0\n"
          ],
          "name": "stdout"
        }
      ]
    },
    {
      "cell_type": "code",
      "metadata": {
        "id": "IedlfOkj17Ft",
        "colab_type": "code",
        "colab": {
          "base_uri": "https://localhost:8080/",
          "height": 35
        },
        "outputId": "62ae1119-f310-4d8f-c6f1-0c27d4582f6a"
      },
      "source": [
        "from tensorflow.keras.models import Sequential\n",
        "from tensorflow.keras.layers import Dense\n",
        "print(\"Imported Tenserflow - Keras\")"
      ],
      "execution_count": 3,
      "outputs": [
        {
          "output_type": "stream",
          "text": [
            "Imported Tenserflow - Keras\n"
          ],
          "name": "stdout"
        }
      ]
    },
    {
      "cell_type": "code",
      "metadata": {
        "id": "xFt1RwKb2PLV",
        "colab_type": "code",
        "colab": {
          "base_uri": "https://localhost:8080/",
          "height": 35
        },
        "outputId": "fbad71f0-2c36-40c9-c240-9d8af6351050"
      },
      "source": [
        "import numpy as np\n",
        "import matplotlib.pyplot as plt\n",
        "%matplotlib inline\n",
        "print(\"Import all required pkgs\")"
      ],
      "execution_count": 4,
      "outputs": [
        {
          "output_type": "stream",
          "text": [
            "Import all required pkgs\n"
          ],
          "name": "stdout"
        }
      ]
    },
    {
      "cell_type": "code",
      "metadata": {
        "id": "ebYv2Wpk3Sbd",
        "colab_type": "code",
        "colab": {
          "base_uri": "https://localhost:8080/",
          "height": 254
        },
        "outputId": "63a613a2-963f-4876-e375-dd762130b49f"
      },
      "source": [
        "np.random.seed(1431)\n",
        "X = np.linspace(-1,1,200)\n",
        "print(\"X = \", X[0:20])\n",
        "np.random.shuffle(X)\n",
        "print(\"X = \", X[0:20])\n",
        "print(\"Shape : \", *X.shape, \" \", \"Shape : \", X.shape)\n",
        "y = 2*X + np.random.randn(*X.shape)*0.33\n",
        "print(\"y = \", y[0:20])\n"
      ],
      "execution_count": 5,
      "outputs": [
        {
          "output_type": "stream",
          "text": [
            "X =  [-1.         -0.98994975 -0.9798995  -0.96984925 -0.95979899 -0.94974874\n",
            " -0.93969849 -0.92964824 -0.91959799 -0.90954774 -0.89949749 -0.88944724\n",
            " -0.87939698 -0.86934673 -0.85929648 -0.84924623 -0.83919598 -0.82914573\n",
            " -0.81909548 -0.80904523]\n",
            "X =  [-0.24623116 -0.57788945  0.77889447 -0.81909548  0.65829146 -0.14572864\n",
            "  0.49748744 -0.22613065 -0.30653266 -0.75879397  0.75879397 -0.31658291\n",
            "  0.35678392 -0.28643216 -0.89949749  0.25628141 -0.32663317 -0.83919598\n",
            " -0.49748744 -0.93969849]\n",
            "Shape :  200   Shape :  (200,)\n",
            "y =  [-0.477361   -1.13065107  1.61194109 -1.31994903  1.14487868 -0.11205694\n",
            "  1.16733098 -0.49616268 -0.34083237 -1.51395099  1.4496374  -1.04524369\n",
            "  0.64413284 -0.7672287  -1.20487163  0.35455808 -0.51032909 -1.39857617\n",
            " -0.88387727 -1.77663508]\n"
          ],
          "name": "stdout"
        }
      ]
    },
    {
      "cell_type": "code",
      "metadata": {
        "id": "wQxWWbr25e9-",
        "colab_type": "code",
        "colab": {
          "base_uri": "https://localhost:8080/",
          "height": 279
        },
        "outputId": "0f5734f8-8068-4f92-db23-f1dd9301ca69"
      },
      "source": [
        "plt.scatter(X,y)\n",
        "# plt.stackplot(X,y)\n",
        "plt.xlabel(\"X\")\n",
        "plt.ylabel(\"Y\")\n",
        "plt.show()\n"
      ],
      "execution_count": 6,
      "outputs": [
        {
          "output_type": "display_data",
          "data": {
            "image/png": "[encoded data removed]",
            "text/plain": [
              "<Figure size 432x288 with 1 Axes>"
            ]
          },
          "metadata": {
            "tags": [],
            "needs_background": "light"
          }
        }
      ]
    },
    {
      "cell_type": "code",
      "metadata": {
        "id": "Ri0OyxoM610b",
        "colab_type": "code",
        "colab": {
          "base_uri": "https://localhost:8080/",
          "height": 279
        },
        "outputId": "d73a39bd-8af2-43da-a618-112963a732df"
      },
      "source": [
        "# plt.scatter(X,y)\n",
        "plt.stackplot(X,y)\n",
        "plt.xlabel(\"X\")\n",
        "plt.ylabel(\"Y\")\n",
        "plt.show()"
      ],
      "execution_count": 7,
      "outputs": [
        {
          "output_type": "display_data",
          "data": {
            "image/png": "[encoded data removed]",
            "text/plain": [
              "<Figure size 432x288 with 1 Axes>"
            ]
          },
          "metadata": {
            "tags": [],
            "needs_background": "light"
          }
        }
      ]
    },
    {
      "cell_type": "code",
      "metadata": {
        "id": "IstXXaex6kOt",
        "colab_type": "code",
        "colab": {
          "base_uri": "https://localhost:8080/",
          "height": 54
        },
        "outputId": "05c44100-ca17-4fec-d1bb-66afad653873"
      },
      "source": [
        "X_train, y_train = X[:160],y[:160]\n",
        "X_test, y_test = X[160:], y[160:]\n",
        "print(\"X_train : \", *X_train.shape, \"X_test : \", X_test.shape)\n",
        "print(\"y_train : \", y_train.shape, \"y_test : \", *y_test.shape)"
      ],
      "execution_count": 8,
      "outputs": [
        {
          "output_type": "stream",
          "text": [
            "X_train :  160 X_test :  (40,)\n",
            "y_train :  (160,) y_test :  40\n"
          ],
          "name": "stdout"
        }
      ]
    },
    {
      "cell_type": "code",
      "metadata": {
        "id": "A9qHRzan2KFo",
        "colab_type": "code",
        "colab": {
          "base_uri": "https://localhost:8080/",
          "height": 35
        },
        "outputId": "3e1d4837-d8d8-43ec-9ce3-6e4788104a59"
      },
      "source": [
        "model = Sequential()\n",
        "model.add(Dense(input_dim=1, units=1, kernel_initializer='uniform', activation='linear'))\n",
        "print(\"Model Sequential - done\")"
      ],
      "execution_count": 9,
      "outputs": [
        {
          "output_type": "stream",
          "text": [
            "Model Sequential - done\n"
          ],
          "name": "stdout"
        }
      ]
    },
    {
      "cell_type": "code",
      "metadata": {
        "id": "yHPkgTaOxpLT",
        "colab_type": "code",
        "colab": {
          "base_uri": "https://localhost:8080/",
          "height": 35
        },
        "outputId": "8a1cda18-c121-4894-fb35-f567c7af2b6b"
      },
      "source": [
        "model.compile(loss=\"mse\", optimizer=(\"sgd\"))\n",
        "print(\"Lets compile the model\")"
      ],
      "execution_count": 10,
      "outputs": [
        {
          "output_type": "stream",
          "text": [
            "Lets compile the model\n"
          ],
          "name": "stdout"
        }
      ]
    },
    {
      "cell_type": "code",
      "metadata": {
        "id": "LerclAe3LFXA",
        "colab_type": "code",
        "colab": {
          "base_uri": "https://localhost:8080/",
          "height": 219
        },
        "outputId": "0593eb59-bc97-472b-b091-5c5eb9a0c49a"
      },
      "source": [
        "weights = model.get_weights()\n",
        "print(\"Weights : \", weights)\n",
        "print(\"Data type of the weights : \", type(weights))\n",
        "print(\"Len : \", len(weights))\n",
        "print(200*'(~')\n",
        "weights1 = model.layers[0].get_weights()\n",
        "print(\"Type : \", type(weights1))\n",
        "print(\"Len : \", len(weights1))\n",
        "print(\"Weight : \", weights1[0][0][0])\n",
        "print(\"Bias : \", weights1[1][0])\n",
        "w_init = weights[0][0][0]\n",
        "b_init = weights[1][0]\n",
        "\n",
        "print(\" [0][0] and [1][0]\", weights1[0][0], \" \", weights1[1][0]) \n",
        "print(\"Printing of weights - completed\")"
      ],
      "execution_count": 11,
      "outputs": [
        {
          "output_type": "stream",
          "text": [
            "Weights :  [array([[-0.04530151]], dtype=float32), array([0.], dtype=float32)]\n",
            "Data type of the weights :  <class 'list'>\n",
            "Len :  2\n",
            "(~(~(~(~(~(~(~(~(~(~(~(~(~(~(~(~(~(~(~(~(~(~(~(~(~(~(~(~(~(~(~(~(~(~(~(~(~(~(~(~(~(~(~(~(~(~(~(~(~(~(~(~(~(~(~(~(~(~(~(~(~(~(~(~(~(~(~(~(~(~(~(~(~(~(~(~(~(~(~(~(~(~(~(~(~(~(~(~(~(~(~(~(~(~(~(~(~(~(~(~(~(~(~(~(~(~(~(~(~(~(~(~(~(~(~(~(~(~(~(~(~(~(~(~(~(~(~(~(~(~(~(~(~(~(~(~(~(~(~(~(~(~(~(~(~(~(~(~(~(~(~(~(~(~(~(~(~(~(~(~(~(~(~(~(~(~(~(~(~(~(~(~(~(~(~(~(~(~(~(~(~(~(~(~(~(~(~(~(~(~(~(~(~(~(~(~(~(~(~(~\n",
            "Type :  <class 'list'>\n",
            "Len :  2\n",
            "Weight :  -0.04530151\n",
            "Bias :  0.0\n",
            " [0][0] and [1][0] [-0.04530151]   0.0\n",
            "Printing of weights - completed\n"
          ],
          "name": "stdout"
        }
      ]
    },
    {
      "cell_type": "code",
      "metadata": {
        "id": "Wn_SMT-IXwFK",
        "colab_type": "code",
        "colab": {}
      },
      "source": [
        "# model.fit(X_train, y_train, epochs=100, verbose=1)"
      ],
      "execution_count": 12,
      "outputs": []
    },
    {
      "cell_type": "code",
      "metadata": {
        "id": "bRFMq8vcYLfK",
        "colab_type": "code",
        "colab": {
          "base_uri": "https://localhost:8080/",
          "height": 217
        },
        "outputId": "3bf346be-9277-4356-fce0-b7c0f8b2a5c2"
      },
      "source": [
        "for step in range(1001):\n",
        "  # print(\"step : \", step)\n",
        "  train_cost = model.train_on_batch(X_train, y_train)\n",
        "  if step%100 == 0:\n",
        "    print(\"Step : \", step, \" cost : \", train_cost)\n"
      ],
      "execution_count": 13,
      "outputs": [
        {
          "output_type": "stream",
          "text": [
            "Step :  0  cost :  1.4010465145111084\n",
            "Step :  100  cost :  0.48003119230270386\n",
            "Step :  200  cost :  0.21814849972724915\n",
            "Step :  300  cost :  0.14367234706878662\n",
            "Step :  400  cost :  0.1224919781088829\n",
            "Step :  500  cost :  0.11646852642297745\n",
            "Step :  600  cost :  0.11475551128387451\n",
            "Step :  700  cost :  0.11426832526922226\n",
            "Step :  800  cost :  0.11412979662418365\n",
            "Step :  900  cost :  0.11409039795398712\n",
            "Step :  1000  cost :  0.11407916247844696\n"
          ],
          "name": "stdout"
        }
      ]
    },
    {
      "cell_type": "code",
      "metadata": {
        "id": "T-QlRioTdQhG",
        "colab_type": "code",
        "colab": {
          "base_uri": "https://localhost:8080/",
          "height": 90
        },
        "outputId": "106f6622-c4da-44ec-b944-c32889466332"
      },
      "source": [
        "print(\"Testing\")\n",
        "cost = model.evaluate(X_test, y_test, batch_size=40, verbose=1)\n",
        "print(\"Cost = \", cost)\n",
        "Wght, Bias = model.layers[0].get_weights()\n",
        "print(\"Weight : \", Wght, \" Bias : \", Bias)"
      ],
      "execution_count": 14,
      "outputs": [
        {
          "output_type": "stream",
          "text": [
            "Testing\n",
            "1/1 [==============================] - 0s 1ms/step - loss: 0.1134\n",
            "Cost =  0.1134207472205162\n",
            "Weight :  [[1.9774071]]  Bias :  [0.00607527]\n"
          ],
          "name": "stdout"
        }
      ]
    },
    {
      "cell_type": "code",
      "metadata": {
        "id": "F4mBXZrpfscF",
        "colab_type": "code",
        "colab": {}
      },
      "source": [
        "# y_pred = model.predict(X_test)\n",
        "# plt.scatter(X_test, y_test)\n",
        "# plt.plot(X_test, y_pred)\n",
        "# plt.plot(X_train, w_init*X_train + b_init, label='initial')\n",
        "# plt.plot(X_test, w*X_test + b, label='prediction')\n",
        "# plt.xlabel('X')\n",
        "# plt.ylabel('Y')\n",
        "# plt.title(\"Linear Regression\")\n",
        "# plt.legend()\n",
        "# plt.show()\n",
        "# # Bonus points for noticing the tri-colors"
      ],
      "execution_count": 15,
      "outputs": []
    },
    {
      "cell_type": "code",
      "metadata": {
        "id": "WCpeZxz5gXhd",
        "colab_type": "code",
        "colab": {}
      },
      "source": [
        ""
      ],
      "execution_count": 15,
      "outputs": []
    },
    {
      "cell_type": "markdown",
      "metadata": {
        "id": "Nw5pnk3pgcVI",
        "colab_type": "text"
      },
      "source": [
        "#JS\n",
        "## Logistic Regression in the Keras"
      ]
    },
    {
      "cell_type": "markdown",
      "metadata": {
        "id": "-HIDPHqTgg_5",
        "colab_type": "text"
      },
      "source": [
        "from tensorflow."
      ]
    },
    {
      "cell_type": "code",
      "metadata": {
        "id": "Y4CGCM6Gn_8t",
        "colab_type": "code",
        "colab": {
          "base_uri": "https://localhost:8080/",
          "height": 92
        },
        "outputId": "bb471f03-7175-46f9-bac7-36cc94ee1a16"
      },
      "source": [
        "from tensorflow.keras.models import Sequential\n",
        "from tensorflow.keras.layers import Dense\n",
        "from tensorflow.keras import optimizers\n",
        "\n",
        "from sklearn.datasets.samples_generator import make_blobs\n",
        "from sklearn.preprocessing import MinMaxScaler\n",
        "\n",
        "import matplotlib.pyplot as plt\n",
        "%matplotlib inline \n",
        "\n",
        "print(\"Import is placed\")"
      ],
      "execution_count": 16,
      "outputs": [
        {
          "output_type": "stream",
          "text": [
            "Import is placed\n"
          ],
          "name": "stdout"
        },
        {
          "output_type": "stream",
          "text": [
            "/usr/local/lib/python3.6/dist-packages/sklearn/utils/deprecation.py:144: FutureWarning: The sklearn.datasets.samples_generator module is  deprecated in version 0.22 and will be removed in version 0.24. The corresponding classes / functions should instead be imported from sklearn.datasets. Anything that cannot be imported from sklearn.datasets is now part of the private API.\n",
            "  warnings.warn(message, FutureWarning)\n"
          ],
          "name": "stderr"
        }
      ]
    },
    {
      "cell_type": "code",
      "metadata": {
        "id": "pNfJANSZqpHT",
        "colab_type": "code",
        "colab": {
          "base_uri": "https://localhost:8080/",
          "height": 617
        },
        "outputId": "2b96c191-54c3-44ed-83af-0dee6e246a36"
      },
      "source": [
        "X, y = make_blobs(n_samples=200, centers=2, n_features=2, random_state=1431)\n",
        "\n",
        "print(\"X = \", X[0:10])\n",
        "print(\"y = \", y[0:10])\n",
        "\n",
        "scaler = MinMaxScaler()\n",
        "scaler.fit(X)\n",
        "print(\"X = \", X[0:10])\n",
        "X = scaler.transform(X)\n",
        "print(\"X = \", X[0:10])\n",
        "\n",
        "print(\"Train and Test - Split\")\n",
        "\n",
        "X_train, y_train = X[:160], y[:160]\n",
        "X_test, y_test = X[160:], y[160:]\n",
        "\n",
        "print(\"Split - Done\")"
      ],
      "execution_count": 17,
      "outputs": [
        {
          "output_type": "stream",
          "text": [
            "X =  [[ 7.32016742 -3.6988618 ]\n",
            " [-5.20520726 -2.97471535]\n",
            " [-5.14761202 -3.29859047]\n",
            " [ 5.77470532 -1.98204813]\n",
            " [ 8.20840911 -3.06676927]\n",
            " [-6.9684988  -2.53820725]\n",
            " [-6.10659348 -4.23132871]\n",
            " [ 6.75769327 -3.19313227]\n",
            " [-4.85977238 -1.80482273]\n",
            " [ 7.69133362 -1.6527799 ]]\n",
            "y =  [1 0 0 1 1 0 0 1 0 1]\n",
            "X =  [[ 7.32016742 -3.6988618 ]\n",
            " [-5.20520726 -2.97471535]\n",
            " [-5.14761202 -3.29859047]\n",
            " [ 5.77470532 -1.98204813]\n",
            " [ 8.20840911 -3.06676927]\n",
            " [-6.9684988  -2.53820725]\n",
            " [-6.10659348 -4.23132871]\n",
            " [ 6.75769327 -3.19313227]\n",
            " [-4.85977238 -1.80482273]\n",
            " [ 7.69133362 -1.6527799 ]]\n",
            "X =  [[0.87406536 0.41811208]\n",
            " [0.14455286 0.51205621]\n",
            " [0.14790737 0.47003961]\n",
            " [0.78405337 0.64083576]\n",
            " [0.92579902 0.50011397]\n",
            " [0.04185388 0.56868477]\n",
            " [0.09205363 0.3490347 ]\n",
            " [0.84130531 0.48372079]\n",
            " [0.16467195 0.66382736]\n",
            " [0.89568311 0.683552  ]]\n",
            "Train and Test - Split\n",
            "Split - Done\n"
          ],
          "name": "stdout"
        }
      ]
    },
    {
      "cell_type": "code",
      "metadata": {
        "id": "1BCoilzutqpf",
        "colab_type": "code",
        "colab": {
          "base_uri": "https://localhost:8080/",
          "height": 265
        },
        "outputId": "ea68f4ff-cd96-4c68-ff6c-2e37c7800503"
      },
      "source": [
        "plt.scatter(X[:,0], X[:,1])\n",
        "plt.show()"
      ],
      "execution_count": 18,
      "outputs": [
        {
          "output_type": "display_data",
          "data": {
            "image/png": "[encoded data removed]",
            "text/plain": [
              "<Figure size 432x288 with 1 Axes>"
            ]
          },
          "metadata": {
            "tags": [],
            "needs_background": "light"
          }
        }
      ]
    },
    {
      "cell_type": "code",
      "metadata": {
        "id": "qYVk6QhxuX7Q",
        "colab_type": "code",
        "colab": {
          "base_uri": "https://localhost:8080/",
          "height": 290
        },
        "outputId": "3664194a-e146-442d-f95b-38427b45fee8"
      },
      "source": [
        "# *[2 input nodes] -> [4 nodes hidden1] -> [4 nodes hidden2] -> [single node output]*\n",
        "model = Sequential()\n",
        "model.add(Dense(4, input_dim=2, activation='relu'))\n",
        "model.add(Dense(4, activation=\"relu\"))\n",
        "model.add(Dense(1, activation=\"sigmoid\"))\n",
        "model.compile(loss='binary_crossentropy', optimizer='adam', metrics=['accuracy'])\n",
        "model.summary()\n",
        "print(\"End of the Defining the model\")"
      ],
      "execution_count": 19,
      "outputs": [
        {
          "output_type": "stream",
          "text": [
            "Model: \"sequential_1\"\n",
            "_________________________________________________________________\n",
            "Layer (type)                 Output Shape              Param #   \n",
            "=================================================================\n",
            "dense_1 (Dense)              (None, 4)                 12        \n",
            "_________________________________________________________________\n",
            "dense_2 (Dense)              (None, 4)                 20        \n",
            "_________________________________________________________________\n",
            "dense_3 (Dense)              (None, 1)                 5         \n",
            "=================================================================\n",
            "Total params: 37\n",
            "Trainable params: 37\n",
            "Non-trainable params: 0\n",
            "_________________________________________________________________\n",
            "End of the Defining the model\n"
          ],
          "name": "stdout"
        }
      ]
    },
    {
      "cell_type": "code",
      "metadata": {
        "id": "kT46NYsmprWq",
        "colab_type": "code",
        "colab": {
          "base_uri": "https://localhost:8080/",
          "height": 54
        },
        "outputId": "8bfbcfe5-79a3-4a47-d43e-fa15a7b0ce70"
      },
      "source": [
        "weights = model.layers[0].get_weights()\n",
        "w_init = weights[0]\n",
        "b_init = weights[1]\n",
        "print(\"Weight : \", w_init, \" Bias : \", b_init)\n",
        "\n"
      ],
      "execution_count": 20,
      "outputs": [
        {
          "output_type": "stream",
          "text": [
            "Weight :  [[-0.49604535 -0.1646874  -0.03953147 -0.54925275]\n",
            " [-0.0101676  -0.804718   -0.8296089  -0.5094838 ]]  Bias :  [0. 0. 0. 0.]\n"
          ],
          "name": "stdout"
        }
      ]
    },
    {
      "cell_type": "code",
      "metadata": {
        "id": "c3uO1il1Mz94",
        "colab_type": "code",
        "colab": {}
      },
      "source": [
        "print(\"Training\")\n",
        "history = model.fit(X_train, y_train, epochs=100, verbose=1)"
      ],
      "execution_count": null,
      "outputs": []
    },
    {
      "cell_type": "code",
      "metadata": {
        "id": "RQxlErscOXkM",
        "colab_type": "code",
        "colab": {
          "base_uri": "https://localhost:8080/",
          "height": 108
        },
        "outputId": "f564a473-bebf-4a9e-a70b-be04380c88f4"
      },
      "source": [
        "print(\"Testing\")\n",
        "cost = model.evaluate(X_test, y_test, batch_size=40, verbose=1)\n",
        "w, b = model.layers[0].get_weights()\n",
        "print(\"\\nWeights : \", w, \" Bias : \", b)"
      ],
      "execution_count": 23,
      "outputs": [
        {
          "output_type": "stream",
          "text": [
            "Testing\n",
            "1/1 [==============================] - 0s 2ms/step - loss: 0.6937 - accuracy: 0.4750\n",
            "\n",
            "Weights :  [[-0.49604535 -0.1646874  -0.03953147 -0.54925275]\n",
            " [-0.0101676  -0.804718   -0.8296089  -0.5094838 ]]  Bias :  [0. 0. 0. 0.]\n"
          ],
          "name": "stdout"
        }
      ]
    },
    {
      "cell_type": "markdown",
      "metadata": {
        "id": "CVZWX7-CDymo",
        "colab_type": "text"
      },
      "source": [
        "3 . Multiclass Logistic regression in Keras"
      ]
    },
    {
      "cell_type": "code",
      "metadata": {
        "id": "AW_4sahjFPmy",
        "colab_type": "code",
        "colab": {
          "base_uri": "https://localhost:8080/",
          "height": 92
        },
        "outputId": "e24e6c32-d32c-4521-f219-a59be402ef1c"
      },
      "source": [
        "import pandas\n",
        "import numpy\n",
        "import requests\n",
        "import re\n",
        "import seaborn\n",
        "print(\"Done - Import of all Pkg's\")"
      ],
      "execution_count": 24,
      "outputs": [
        {
          "output_type": "stream",
          "text": [
            "Done - Import of all Pkg's\n"
          ],
          "name": "stdout"
        },
        {
          "output_type": "stream",
          "text": [
            "/usr/local/lib/python3.6/dist-packages/statsmodels/tools/_testing.py:19: FutureWarning: pandas.util.testing is deprecated. Use the functions in the public API at pandas.testing instead.\n",
            "  import pandas.util.testing as tm\n"
          ],
          "name": "stderr"
        }
      ]
    },
    {
      "cell_type": "code",
      "metadata": {
        "id": "9a9_KMngFcD6",
        "colab_type": "code",
        "colab": {
          "base_uri": "https://localhost:8080/",
          "height": 35
        },
        "outputId": "b67b9aae-3e6a-495a-d29d-a2d2b83d5195"
      },
      "source": [
        "from sklearn.model_selection import cross_val_score\n",
        "from sklearn.model_selection import KFold\n",
        "from sklearn.preprocessing import LabelEncoder\n",
        "from sklearn.pipeline import Pipeline\n",
        "print(\"Import - done\")"
      ],
      "execution_count": 30,
      "outputs": [
        {
          "output_type": "stream",
          "text": [
            "Import - done\n"
          ],
          "name": "stdout"
        }
      ]
    },
    {
      "cell_type": "code",
      "metadata": {
        "id": "9cCXKIRRGuIS",
        "colab_type": "code",
        "colab": {
          "base_uri": "https://localhost:8080/",
          "height": 35
        },
        "outputId": "7239b12c-e7ab-4250-890d-0d1bf898da34"
      },
      "source": [
        "from tensorflow.keras.models import Sequential\n",
        "from tensorflow.keras.layers import Dense\n",
        "from tensorflow.keras.wrappers.scikit_learn import KerasClassifier\n",
        "print(\"Done - Import\")"
      ],
      "execution_count": 32,
      "outputs": [
        {
          "output_type": "stream",
          "text": [
            "Done - Import\n"
          ],
          "name": "stdout"
        }
      ]
    },
    {
      "cell_type": "code",
      "metadata": {
        "id": "L5ir9a-eIG_e",
        "colab_type": "code",
        "colab": {
          "base_uri": "https://localhost:8080/",
          "height": 35
        },
        "outputId": "f0cdaf7d-5ce5-4594-9d30-90c636a02118"
      },
      "source": [
        "# Download the dataset\n",
        "url = 'https://archive.ics.uci.edu/ml/machine-learning-databases/iris/iris.data'\n",
        "r = requests.get(url, allow_redirects=True)\n",
        "filename = \"raw.csv\"\n",
        "open(filename, 'wb').write(r.content)\n",
        "print(\"Done - Downloaded raw.csv file which has full content\")"
      ],
      "execution_count": 34,
      "outputs": [
        {
          "output_type": "stream",
          "text": [
            "Done - Downloaded raw.csv file which has full content\n"
          ],
          "name": "stdout"
        }
      ]
    },
    {
      "cell_type": "code",
      "metadata": {
        "id": "lvKDOs9qISFp",
        "colab_type": "code",
        "colab": {}
      },
      "source": [
        "seed = 7\n",
        "numpy.random.seed(seed)"
      ],
      "execution_count": 35,
      "outputs": []
    },
    {
      "cell_type": "code",
      "metadata": {
        "id": "rmL1vcKjIjRM",
        "colab_type": "code",
        "colab": {
          "base_uri": "https://localhost:8080/",
          "height": 198
        },
        "outputId": "07830130-d785-4ecd-ef8e-ab35490559f8"
      },
      "source": [
        "#Load the Dataset\n",
        "dataset = pandas.read_csv('raw.csv',header=None, names=['sepal_length','sepal_width','petal_length','petal_width','species'] )\n",
        "dataset.head()"
      ],
      "execution_count": 36,
      "outputs": [
        {
          "output_type": "execute_result",
          "data": {
            "text/html": [
              "<div>\n",
              "<style scoped>\n",
              "    .dataframe tbody tr th:only-of-type {\n",
              "        vertical-align: middle;\n",
              "    }\n",
              "\n",
              "    .dataframe tbody tr th {\n",
              "        vertical-align: top;\n",
              "    }\n",
              "\n",
              "    .dataframe thead th {\n",
              "        text-align: right;\n",
              "    }\n",
              "</style>\n",
              "<table border=\"1\" class=\"dataframe\">\n",
              "  <thead>\n",
              "    <tr style=\"text-align: right;\">\n",
              "      <th></th>\n",
              "      <th>sepal_length</th>\n",
              "      <th>sepal_width</th>\n",
              "      <th>petal_length</th>\n",
              "      <th>petal_width</th>\n",
              "      <th>species</th>\n",
              "    </tr>\n",
              "  </thead>\n",
              "  <tbody>\n",
              "    <tr>\n",
              "      <th>0</th>\n",
              "      <td>5.1</td>\n",
              "      <td>3.5</td>\n",
              "      <td>1.4</td>\n",
              "      <td>0.2</td>\n",
              "      <td>Iris-setosa</td>\n",
              "    </tr>\n",
              "    <tr>\n",
              "      <th>1</th>\n",
              "      <td>4.9</td>\n",
              "      <td>3.0</td>\n",
              "      <td>1.4</td>\n",
              "      <td>0.2</td>\n",
              "      <td>Iris-setosa</td>\n",
              "    </tr>\n",
              "    <tr>\n",
              "      <th>2</th>\n",
              "      <td>4.7</td>\n",
              "      <td>3.2</td>\n",
              "      <td>1.3</td>\n",
              "      <td>0.2</td>\n",
              "      <td>Iris-setosa</td>\n",
              "    </tr>\n",
              "    <tr>\n",
              "      <th>3</th>\n",
              "      <td>4.6</td>\n",
              "      <td>3.1</td>\n",
              "      <td>1.5</td>\n",
              "      <td>0.2</td>\n",
              "      <td>Iris-setosa</td>\n",
              "    </tr>\n",
              "    <tr>\n",
              "      <th>4</th>\n",
              "      <td>5.0</td>\n",
              "      <td>3.6</td>\n",
              "      <td>1.4</td>\n",
              "      <td>0.2</td>\n",
              "      <td>Iris-setosa</td>\n",
              "    </tr>\n",
              "  </tbody>\n",
              "</table>\n",
              "</div>"
            ],
            "text/plain": [
              "   sepal_length  sepal_width  petal_length  petal_width      species\n",
              "0           5.1          3.5           1.4          0.2  Iris-setosa\n",
              "1           4.9          3.0           1.4          0.2  Iris-setosa\n",
              "2           4.7          3.2           1.3          0.2  Iris-setosa\n",
              "3           4.6          3.1           1.5          0.2  Iris-setosa\n",
              "4           5.0          3.6           1.4          0.2  Iris-setosa"
            ]
          },
          "metadata": {
            "tags": []
          },
          "execution_count": 36
        }
      ]
    },
    {
      "cell_type": "code",
      "metadata": {
        "id": "CdmLiyBSIz4X",
        "colab_type": "code",
        "colab": {
          "base_uri": "https://localhost:8080/",
          "height": 389
        },
        "outputId": "d48da98a-7b96-4763-c251-c94c33b2a877"
      },
      "source": [
        "print(\"Encode the output variable\")\n",
        "\n",
        "from sklearn.preprocessing import LabelBinarizer\n",
        "species_lb = LabelBinarizer()\n",
        "dummy_y = species_lb.fit_transform(dataset.species.values)\n",
        "\n",
        "from sklearn.preprocessing import normalize\n",
        "FEATURES = dataset.columns[0:4]\n",
        "X_data = dataset[FEATURES].as_matrix()\n",
        "X = normalize(X_data)"
      ],
      "execution_count": 37,
      "outputs": [
        {
          "output_type": "stream",
          "text": [
            "Encode the output variable\n"
          ],
          "name": "stdout"
        },
        {
          "output_type": "error",
          "ename": "AttributeError",
          "evalue": "ignored",
          "traceback": [
            "\u001b[0;31m---------------------------------------------------------------------------\u001b[0m",
            "\u001b[0;31mAttributeError\u001b[0m                            Traceback (most recent call last)",
            "\u001b[0;32m<ipython-input-37-7698ec2f495d>\u001b[0m in \u001b[0;36m<module>\u001b[0;34m()\u001b[0m\n\u001b[1;32m      7\u001b[0m \u001b[0;32mfrom\u001b[0m \u001b[0msklearn\u001b[0m\u001b[0;34m.\u001b[0m\u001b[0mpreprocessing\u001b[0m \u001b[0;32mimport\u001b[0m \u001b[0mnormalize\u001b[0m\u001b[0;34m\u001b[0m\u001b[0;34m\u001b[0m\u001b[0m\n\u001b[1;32m      8\u001b[0m \u001b[0mFEATURES\u001b[0m \u001b[0;34m=\u001b[0m \u001b[0mdataset\u001b[0m\u001b[0;34m.\u001b[0m\u001b[0mcolumns\u001b[0m\u001b[0;34m[\u001b[0m\u001b[0;36m0\u001b[0m\u001b[0;34m:\u001b[0m\u001b[0;36m4\u001b[0m\u001b[0;34m]\u001b[0m\u001b[0;34m\u001b[0m\u001b[0;34m\u001b[0m\u001b[0m\n\u001b[0;32m----> 9\u001b[0;31m \u001b[0mX_data\u001b[0m \u001b[0;34m=\u001b[0m \u001b[0mdataset\u001b[0m\u001b[0;34m[\u001b[0m\u001b[0mFEATURES\u001b[0m\u001b[0;34m]\u001b[0m\u001b[0;34m.\u001b[0m\u001b[0mas_matrix\u001b[0m\u001b[0;34m(\u001b[0m\u001b[0;34m)\u001b[0m\u001b[0;34m\u001b[0m\u001b[0;34m\u001b[0m\u001b[0m\n\u001b[0m\u001b[1;32m     10\u001b[0m \u001b[0mX\u001b[0m \u001b[0;34m=\u001b[0m \u001b[0mnormalize\u001b[0m\u001b[0;34m(\u001b[0m\u001b[0mX_data\u001b[0m\u001b[0;34m)\u001b[0m\u001b[0;34m\u001b[0m\u001b[0;34m\u001b[0m\u001b[0m\n",
            "\u001b[0;32m/usr/local/lib/python3.6/dist-packages/pandas/core/generic.py\u001b[0m in \u001b[0;36m__getattr__\u001b[0;34m(self, name)\u001b[0m\n\u001b[1;32m   5272\u001b[0m             \u001b[0;32mif\u001b[0m \u001b[0mself\u001b[0m\u001b[0;34m.\u001b[0m\u001b[0m_info_axis\u001b[0m\u001b[0;34m.\u001b[0m\u001b[0m_can_hold_identifiers_and_holds_name\u001b[0m\u001b[0;34m(\u001b[0m\u001b[0mname\u001b[0m\u001b[0;34m)\u001b[0m\u001b[0;34m:\u001b[0m\u001b[0;34m\u001b[0m\u001b[0;34m\u001b[0m\u001b[0m\n\u001b[1;32m   5273\u001b[0m                 \u001b[0;32mreturn\u001b[0m \u001b[0mself\u001b[0m\u001b[0;34m[\u001b[0m\u001b[0mname\u001b[0m\u001b[0;34m]\u001b[0m\u001b[0;34m\u001b[0m\u001b[0;34m\u001b[0m\u001b[0m\n\u001b[0;32m-> 5274\u001b[0;31m             \u001b[0;32mreturn\u001b[0m \u001b[0mobject\u001b[0m\u001b[0;34m.\u001b[0m\u001b[0m__getattribute__\u001b[0m\u001b[0;34m(\u001b[0m\u001b[0mself\u001b[0m\u001b[0;34m,\u001b[0m \u001b[0mname\u001b[0m\u001b[0;34m)\u001b[0m\u001b[0;34m\u001b[0m\u001b[0;34m\u001b[0m\u001b[0m\n\u001b[0m\u001b[1;32m   5275\u001b[0m \u001b[0;34m\u001b[0m\u001b[0m\n\u001b[1;32m   5276\u001b[0m     \u001b[0;32mdef\u001b[0m \u001b[0m__setattr__\u001b[0m\u001b[0;34m(\u001b[0m\u001b[0mself\u001b[0m\u001b[0;34m,\u001b[0m \u001b[0mname\u001b[0m\u001b[0;34m:\u001b[0m \u001b[0mstr\u001b[0m\u001b[0;34m,\u001b[0m \u001b[0mvalue\u001b[0m\u001b[0;34m)\u001b[0m \u001b[0;34m->\u001b[0m \u001b[0;32mNone\u001b[0m\u001b[0;34m:\u001b[0m\u001b[0;34m\u001b[0m\u001b[0;34m\u001b[0m\u001b[0m\n",
            "\u001b[0;31mAttributeError\u001b[0m: 'DataFrame' object has no attribute 'as_matrix'"
          ]
        }
      ]
    },
    {
      "cell_type": "code",
      "metadata": {
        "id": "J58jD5haKT3j",
        "colab_type": "code",
        "colab": {}
      },
      "source": [
        ""
      ],
      "execution_count": null,
      "outputs": []
    },
    {
      "cell_type": "code",
      "metadata": {
        "id": "sbJjgK1NIJCa",
        "colab_type": "code",
        "colab": {}
      },
      "source": [
        ""
      ],
      "execution_count": null,
      "outputs": []
    }
  ]
}