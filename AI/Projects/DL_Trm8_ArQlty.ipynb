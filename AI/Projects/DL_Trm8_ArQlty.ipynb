{
  "nbformat": 4,
  "nbformat_minor": 0,
  "metadata": {
    "colab": {
      "name": "DL_Trm8_ArQlty.ipynb",
      "provenance": []
    },
    "kernelspec": {
      "name": "python3",
      "display_name": "Python 3"
    }
  },
  "cells": [
    {
      "cell_type": "code",
      "metadata": {
        "id": "WNXcLbl65X-E",
        "colab_type": "code",
        "colab": {}
      },
      "source": [
        "print(\"JS\")"
      ],
      "execution_count": null,
      "outputs": []
    }
  ]
}