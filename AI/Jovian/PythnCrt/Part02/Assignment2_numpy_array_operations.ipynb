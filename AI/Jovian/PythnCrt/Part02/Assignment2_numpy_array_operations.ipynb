{
  "nbformat": 4,
  "nbformat_minor": 0,
  "metadata": {
    "kernelspec": {
      "display_name": "Python 3",
      "language": "python",
      "name": "python3"
    },
    "language_info": {
      "codemirror_mode": {
        "name": "ipython",
        "version": 3
      },
      "file_extension": ".py",
      "mimetype": "text/x-python",
      "name": "python",
      "nbconvert_exporter": "python",
      "pygments_lexer": "ipython3",
      "version": "3.8.5"
    },
    "colab": {
      "name": "numpy-array-operations.ipynb",
      "provenance": []
    }
  },
  "cells": [
    {
      "cell_type": "code",
      "metadata": {
        "id": "hwz7roDLih_F",
        "colab_type": "code",
        "colab": {}
      },
      "source": [
        "# Jovian Commit Essentials\n",
        "# Please retain and execute this cell without modifying the contents for `jovian.commit` to work\n",
        "!pip install jovian --upgrade -q\n",
        "import jovian\n",
        "jovian.utils.colab.set_colab_file_id('1LGIqg-K8-oefXU2OzT0Pi_vXXV7VmYN5')"
      ],
      "execution_count": 66,
      "outputs": []
    },
    {
      "cell_type": "markdown",
      "metadata": {
        "id": "mcGVjIdLi-BD",
        "colab_type": "text"
      },
      "source": [
        "## Name : Sudhakar Anemu (sudhakar.anemu@gmail.com)\n",
        "### Assignment Two"
      ]
    },
    {
      "cell_type": "markdown",
      "metadata": {
        "id": "Mc15DXefih_J",
        "colab_type": "text"
      },
      "source": [
        "> ### **Assignment 2 - Numpy Array Operations** \n",
        ">\n",
        "> This assignment is part of the course [\"Data Analysis with Python: Zero to Pandas\"](http://zerotopandas.com). The objective of this assignment is to develop a solid understanding of Numpy array operations. In this assignment you will:\n",
        "> \n",
        "> 1. Pick 5 interesting Numpy array functions by going through the documentation: <br>https://numpy.org/doc/stable/reference/routines.html \n",
        "\n",
        "> 2. Run and modify this Jupyter notebook to illustrate their usage (some explanation and 3 examples for each function). Use your imagination to come up with interesting and unique examples.\n",
        "> 3. Upload this notebook to your Jovian profile using `jovian.commit` and make a submission here: **TODO - INSERT SUBMISSION LINK**\n",
        "> 4. (Optional) Share your notebook online (on Twitter, LinkedIn, Facebook) and on the community forum thread: https://jovian.ml/forum/t/assignment-2-numpy-array-operations-share-your-work/10575 . \n",
        "> 5. (Optional) Check out the notebooks [shared by other participants](https://jovian.ml/forum/t/assignment-2-numpy-array-operations-share-your-work/10575) and give feedback & appreciation.\n",
        ">\n",
        "> The recommended way to run this notebook is to click the \"Run\" button at the top of this page, and select \"Run on Binder\". This will run the notebook on mybinder.org, a free online service for running Jupyter notebooks.\n",
        ">\n",
        "> Try to give your notebook a catchy title & subtitle e.g. \"All about Numpy array operations\", \"5 Numpy functions you didn't know you needed\", \"A beginner's guide to broadcasting in Numpy\", \"Interesting ways to create Numpy arrays\", \"Trigonometic functions in Numpy\", \"How to use Python for Linear Algebra\" etc.\n",
        ">\n",
        "> **NOTE**: Remove this block of explanation text before submitting or sharing your notebook online - to make it more presentable.\n",
        "\n",
        "\n",
        "# Title Here\n",
        "\n",
        "\n",
        "### Subtitle Here\n",
        "\n",
        "Write a short introduction about Numpy and list the chosen functions. \n",
        "\n",
        "- append\n",
        "- column_slack\n",
        "- dot\n",
        "- flip\n",
        "- max\n",
        "\n",
        "The recommended way to run this notebook is to click the \"Run\" button at the top of this page, and select \"Run on Binder\". This will run the notebook on mybinder.org, a free online service for running Jupyter notebooks."
      ]
    },
    {
      "cell_type": "code",
      "metadata": {
        "id": "9by_fMlHih_K",
        "colab_type": "code",
        "colab": {}
      },
      "source": [
        "!pip install jovian --upgrade -q"
      ],
      "execution_count": 67,
      "outputs": []
    },
    {
      "cell_type": "code",
      "metadata": {
        "id": "CK43RgTQih_N",
        "colab_type": "code",
        "colab": {}
      },
      "source": [
        "import jovian"
      ],
      "execution_count": 68,
      "outputs": []
    },
    {
      "cell_type": "code",
      "metadata": {
        "id": "sJPVUpxgih_R",
        "colab_type": "code",
        "colab": {
          "base_uri": "https://localhost:8080/",
          "height": 86
        },
        "outputId": "d9143d02-1979-4bda-ee88-bf3814f08674"
      },
      "source": [
        "jovian.commit(project='numpy-array-operations')"
      ],
      "execution_count": 69,
      "outputs": [
        {
          "output_type": "stream",
          "text": [
            "[jovian] Detected Colab notebook...\u001b[0m\n",
            "[jovian] Uploading colab notebook to Jovian...\u001b[0m\n",
            "[jovian] Committed successfully! https://jovian.ml/sudhakar-anemu/numpy-array-operations\u001b[0m\n"
          ],
          "name": "stdout"
        },
        {
          "output_type": "execute_result",
          "data": {
            "application/vnd.google.colaboratory.intrinsic+json": {
              "type": "string"
            },
            "text/plain": [
              "'https://jovian.ml/sudhakar-anemu/numpy-array-operations'"
            ]
          },
          "metadata": {
            "tags": []
          },
          "execution_count": 69
        }
      ]
    },
    {
      "cell_type": "markdown",
      "metadata": {
        "id": "MjTXkw10ih_W",
        "colab_type": "text"
      },
      "source": [
        "Let's begin by importing Numpy and listing out the functions covered in this notebook."
      ]
    },
    {
      "cell_type": "code",
      "metadata": {
        "id": "XE13mNLsih_W",
        "colab_type": "code",
        "colab": {}
      },
      "source": [
        "import numpy as np"
      ],
      "execution_count": 70,
      "outputs": []
    },
    {
      "cell_type": "code",
      "metadata": {
        "id": "Ppmrnv5eih_a",
        "colab_type": "code",
        "colab": {}
      },
      "source": [
        "# List of functions explained \n",
        "function1 = np.append\n",
        "function2 = np.column_stack\n",
        "function3 = np.dot\n",
        "function4 = np.flip\n",
        "function5 = np.max"
      ],
      "execution_count": 71,
      "outputs": []
    },
    {
      "cell_type": "markdown",
      "metadata": {
        "id": "V0KhV2lsih_d",
        "colab_type": "text"
      },
      "source": [
        "## Function 1 - np.append\n",
        "\n",
        "Append array to the end of the Array. \n",
        "<br> Syntex : append(arr, values, axis=None)"
      ]
    },
    {
      "cell_type": "code",
      "metadata": {
        "id": "BgYhIAgoih_d",
        "colab_type": "code",
        "colab": {
          "base_uri": "https://localhost:8080/",
          "height": 136
        },
        "outputId": "1f09c329-0dd7-4f9f-b9a3-6ab80e507b6d"
      },
      "source": [
        "arr2by3 = np.array([[1,2,3], [4,5,6]])\n",
        "print(\"Array : arr2by3 : \\n\", arr2by3)\n",
        "\n",
        "arr1by3 = np.array([[7,8,9]])\n",
        "print(\"Array : arr1by3 : \\n\", arr1by3)\n",
        "\n",
        "print(\"Appending both arrays  : \\n\", np.append(arr2by3, arr1by3))"
      ],
      "execution_count": 72,
      "outputs": [
        {
          "output_type": "stream",
          "text": [
            "Array : arr2by3 : \n",
            " [[1 2 3]\n",
            " [4 5 6]]\n",
            "Array : arr1by3 : \n",
            " [[7 8 9]]\n",
            "Appending both arrays  : \n",
            " [1 2 3 4 5 6 7 8 9]\n"
          ],
          "name": "stdout"
        }
      ]
    },
    {
      "cell_type": "markdown",
      "metadata": {
        "id": "DmwalCrycom8",
        "colab_type": "text"
      },
      "source": [
        "Here we verified the append function with a 2*3 and 1*3 matrix with out mentioning the axis. Then it returns the 1*9 Matrix"
      ]
    },
    {
      "cell_type": "code",
      "metadata": {
        "id": "9g-lUWewcDGa",
        "colab_type": "code",
        "colab": {
          "base_uri": "https://localhost:8080/",
          "height": 85
        },
        "outputId": "9210e8cd-b5b6-4e22-ed87-8c9a1a99e460"
      },
      "source": [
        "print(\"Appending both arrays  : \\n\", np.append(arr2by3, arr1by3, axis = 0))"
      ],
      "execution_count": 73,
      "outputs": [
        {
          "output_type": "stream",
          "text": [
            "Appending both arrays  : \n",
            " [[1 2 3]\n",
            " [4 5 6]\n",
            " [7 8 9]]\n"
          ],
          "name": "stdout"
        }
      ]
    },
    {
      "cell_type": "markdown",
      "metadata": {
        "id": "_bFXc0Dpex22",
        "colab_type": "text"
      },
      "source": [
        "Here we verified the append function with a 2 * 3 and 1 * 3 matrix with mentioning the axis=0. Then it returns the 3 * 3 matrix."
      ]
    },
    {
      "cell_type": "code",
      "metadata": {
        "id": "P_54F4vxfSGI",
        "colab_type": "code",
        "colab": {
          "base_uri": "https://localhost:8080/",
          "height": 367
        },
        "outputId": "b8bbde78-8bea-499d-b1bf-8cb26d257889"
      },
      "source": [
        "print(\"Appending both arrays  : \\n\", np.append(arr2by3, arr1by3, axis = 1))"
      ],
      "execution_count": 74,
      "outputs": [
        {
          "output_type": "error",
          "ename": "ValueError",
          "evalue": "ignored",
          "traceback": [
            "\u001b[0;31m---------------------------------------------------------------------------\u001b[0m",
            "\u001b[0;31mValueError\u001b[0m                                Traceback (most recent call last)",
            "\u001b[0;32m<ipython-input-74-e6b79ee39a87>\u001b[0m in \u001b[0;36m<module>\u001b[0;34m()\u001b[0m\n\u001b[0;32m----> 1\u001b[0;31m \u001b[0mprint\u001b[0m\u001b[0;34m(\u001b[0m\u001b[0;34m\"Appending both arrays  : \\n\"\u001b[0m\u001b[0;34m,\u001b[0m \u001b[0mnp\u001b[0m\u001b[0;34m.\u001b[0m\u001b[0mappend\u001b[0m\u001b[0;34m(\u001b[0m\u001b[0marr2by3\u001b[0m\u001b[0;34m,\u001b[0m \u001b[0marr1by3\u001b[0m\u001b[0;34m,\u001b[0m \u001b[0maxis\u001b[0m \u001b[0;34m=\u001b[0m \u001b[0;36m1\u001b[0m\u001b[0;34m)\u001b[0m\u001b[0;34m)\u001b[0m\u001b[0;34m\u001b[0m\u001b[0;34m\u001b[0m\u001b[0m\n\u001b[0m",
            "\u001b[0;32m<__array_function__ internals>\u001b[0m in \u001b[0;36mappend\u001b[0;34m(*args, **kwargs)\u001b[0m\n",
            "\u001b[0;32m/usr/local/lib/python3.6/dist-packages/numpy/lib/function_base.py\u001b[0m in \u001b[0;36mappend\u001b[0;34m(arr, values, axis)\u001b[0m\n\u001b[1;32m   4691\u001b[0m         \u001b[0mvalues\u001b[0m \u001b[0;34m=\u001b[0m \u001b[0mravel\u001b[0m\u001b[0;34m(\u001b[0m\u001b[0mvalues\u001b[0m\u001b[0;34m)\u001b[0m\u001b[0;34m\u001b[0m\u001b[0;34m\u001b[0m\u001b[0m\n\u001b[1;32m   4692\u001b[0m         \u001b[0maxis\u001b[0m \u001b[0;34m=\u001b[0m \u001b[0marr\u001b[0m\u001b[0;34m.\u001b[0m\u001b[0mndim\u001b[0m\u001b[0;34m-\u001b[0m\u001b[0;36m1\u001b[0m\u001b[0;34m\u001b[0m\u001b[0;34m\u001b[0m\u001b[0m\n\u001b[0;32m-> 4693\u001b[0;31m     \u001b[0;32mreturn\u001b[0m \u001b[0mconcatenate\u001b[0m\u001b[0;34m(\u001b[0m\u001b[0;34m(\u001b[0m\u001b[0marr\u001b[0m\u001b[0;34m,\u001b[0m \u001b[0mvalues\u001b[0m\u001b[0;34m)\u001b[0m\u001b[0;34m,\u001b[0m \u001b[0maxis\u001b[0m\u001b[0;34m=\u001b[0m\u001b[0maxis\u001b[0m\u001b[0;34m)\u001b[0m\u001b[0;34m\u001b[0m\u001b[0;34m\u001b[0m\u001b[0m\n\u001b[0m\u001b[1;32m   4694\u001b[0m \u001b[0;34m\u001b[0m\u001b[0m\n\u001b[1;32m   4695\u001b[0m \u001b[0;34m\u001b[0m\u001b[0m\n",
            "\u001b[0;32m<__array_function__ internals>\u001b[0m in \u001b[0;36mconcatenate\u001b[0;34m(*args, **kwargs)\u001b[0m\n",
            "\u001b[0;31mValueError\u001b[0m: all the input array dimensions for the concatenation axis must match exactly, but along dimension 0, the array at index 0 has size 2 and the array at index 1 has size 1"
          ]
        }
      ]
    },
    {
      "cell_type": "markdown",
      "metadata": {
        "id": "9FTUG5LAfUbP",
        "colab_type": "text"
      },
      "source": [
        "Here we tried with the axix=1, It returns an error since the mismatch of the dimentions."
      ]
    },
    {
      "cell_type": "code",
      "metadata": {
        "id": "2fSg0q-oih_p",
        "colab_type": "code",
        "colab": {}
      },
      "source": [
        "jovian.commit()"
      ],
      "execution_count": null,
      "outputs": []
    },
    {
      "cell_type": "markdown",
      "metadata": {
        "id": "gT2YKT6nih_s",
        "colab_type": "text"
      },
      "source": [
        "## Function 2 - np.column_stack\n",
        "\n",
        "Stack 1-D arrays as columns into a 2-D array. Take a sequence of 1-D arry and stack them as columns to make a singel 2-D array. 2-D arrays are stacked as-is."
      ]
    },
    {
      "cell_type": "code",
      "metadata": {
        "id": "diyYpcsvih_s",
        "colab_type": "code",
        "colab": {}
      },
      "source": [
        "# Example 1 - working\n",
        "arr1by3 = np.array([1,2,3])\n",
        "print(\"Type of arr1by3 : \", type(arr1by3), \"\\nContent : arr1by3 : \", arr1by3)\n",
        "\n",
        "arr11by3 = np.array([4,5,6])\n",
        "print(\"Type of arr11by3 : \", type(arr11by3), \"\\nContent : arr11by3 : \", arr11by3)\n",
        "\n",
        "fin3by2 = np.column_stack((arr1by3, arr11by3))\n",
        "print(\"Final array after the stack : \\n\", fin3by2)"
      ],
      "execution_count": null,
      "outputs": []
    },
    {
      "cell_type": "markdown",
      "metadata": {
        "id": "vVrvKPLFih_v",
        "colab_type": "text"
      },
      "source": [
        "Here we gave two single dimentional arrays as input which returns 3by2 dimentianl arrays."
      ]
    },
    {
      "cell_type": "code",
      "metadata": {
        "id": "nQCslJeUih_w",
        "colab_type": "code",
        "colab": {}
      },
      "source": [
        "# Example 2 - working\n",
        "arr2by3 = np.array([[1,2,3], [4,5,6]])\n",
        "print(\"Type of arr2by3 : \\n\", type(arr2by3), \"\\nContent : arr1by3 : \\n\", arr2by3)\n",
        "\n",
        "arr22by3 = np.array([[7,8,9], [10,11,12]])\n",
        "print(\"Type of arr22by3 : \\n\", type(arr22by3), \"\\nContent : arr11by3 : \\n\", arr22by3)\n",
        "\n",
        "fin3by2 = np.column_stack((arr2by3, arr22by3))\n",
        "print(\"Final array after the stack : \\n\", fin3by2)"
      ],
      "execution_count": null,
      "outputs": []
    },
    {
      "cell_type": "markdown",
      "metadata": {
        "id": "j-4JoWQZih_y",
        "colab_type": "text"
      },
      "source": [
        "Here we have given two 2 by 3 arrays as input to the stack, which returns 2 by 6 array with out any errors."
      ]
    },
    {
      "cell_type": "code",
      "metadata": {
        "id": "FrhT3zlyih_z",
        "colab_type": "code",
        "colab": {
          "base_uri": "https://localhost:8080/",
          "height": 537
        },
        "outputId": "4d95a64e-29a6-4ed0-e7f1-95d70b77e6a2"
      },
      "source": [
        "# Example 3 - breaking (to illustrate when it breaks)\n",
        "arr1by3 = np.array([1,2,3])\n",
        "print(\"Type of arr1by3 : \", type(arr1by3), \"\\nContent : arr1by3 : \", arr1by3)\n",
        "\n",
        "arr2by3 = np.array([[1,2,3], [4,5,6]])\n",
        "print(\"Type of arr2by3 : \\n\", type(arr2by3), \"\\nContent : arr1by3 : \\n\", arr2by3)\n",
        "\n",
        "finall = np.column_stack((arr1by3, arr2by3))\n",
        "print(\"Final array after the stack : \\n\", finall)"
      ],
      "execution_count": 75,
      "outputs": [
        {
          "output_type": "stream",
          "text": [
            "Type of arr1by3 :  <class 'numpy.ndarray'> \n",
            "Content : arr1by3 :  [1 2 3]\n",
            "Type of arr2by3 : \n",
            " <class 'numpy.ndarray'> \n",
            "Content : arr1by3 : \n",
            " [[1 2 3]\n",
            " [4 5 6]]\n"
          ],
          "name": "stdout"
        },
        {
          "output_type": "error",
          "ename": "ValueError",
          "evalue": "ignored",
          "traceback": [
            "\u001b[0;31m---------------------------------------------------------------------------\u001b[0m",
            "\u001b[0;31mValueError\u001b[0m                                Traceback (most recent call last)",
            "\u001b[0;32m<ipython-input-75-9b741af886ac>\u001b[0m in \u001b[0;36m<module>\u001b[0;34m()\u001b[0m\n\u001b[1;32m      6\u001b[0m \u001b[0mprint\u001b[0m\u001b[0;34m(\u001b[0m\u001b[0;34m\"Type of arr2by3 : \\n\"\u001b[0m\u001b[0;34m,\u001b[0m \u001b[0mtype\u001b[0m\u001b[0;34m(\u001b[0m\u001b[0marr2by3\u001b[0m\u001b[0;34m)\u001b[0m\u001b[0;34m,\u001b[0m \u001b[0;34m\"\\nContent : arr1by3 : \\n\"\u001b[0m\u001b[0;34m,\u001b[0m \u001b[0marr2by3\u001b[0m\u001b[0;34m)\u001b[0m\u001b[0;34m\u001b[0m\u001b[0;34m\u001b[0m\u001b[0m\n\u001b[1;32m      7\u001b[0m \u001b[0;34m\u001b[0m\u001b[0m\n\u001b[0;32m----> 8\u001b[0;31m \u001b[0mfinall\u001b[0m \u001b[0;34m=\u001b[0m \u001b[0mnp\u001b[0m\u001b[0;34m.\u001b[0m\u001b[0mcolumn_stack\u001b[0m\u001b[0;34m(\u001b[0m\u001b[0;34m(\u001b[0m\u001b[0marr1by3\u001b[0m\u001b[0;34m,\u001b[0m \u001b[0marr2by3\u001b[0m\u001b[0;34m)\u001b[0m\u001b[0;34m)\u001b[0m\u001b[0;34m\u001b[0m\u001b[0;34m\u001b[0m\u001b[0m\n\u001b[0m\u001b[1;32m      9\u001b[0m \u001b[0mprint\u001b[0m\u001b[0;34m(\u001b[0m\u001b[0;34m\"Final array after the stack : \\n\"\u001b[0m\u001b[0;34m,\u001b[0m \u001b[0mfinall\u001b[0m\u001b[0;34m)\u001b[0m\u001b[0;34m\u001b[0m\u001b[0;34m\u001b[0m\u001b[0m\n",
            "\u001b[0;32m<__array_function__ internals>\u001b[0m in \u001b[0;36mcolumn_stack\u001b[0;34m(*args, **kwargs)\u001b[0m\n",
            "\u001b[0;32m/usr/local/lib/python3.6/dist-packages/numpy/lib/shape_base.py\u001b[0m in \u001b[0;36mcolumn_stack\u001b[0;34m(tup)\u001b[0m\n\u001b[1;32m    654\u001b[0m             \u001b[0marr\u001b[0m \u001b[0;34m=\u001b[0m \u001b[0marray\u001b[0m\u001b[0;34m(\u001b[0m\u001b[0marr\u001b[0m\u001b[0;34m,\u001b[0m \u001b[0mcopy\u001b[0m\u001b[0;34m=\u001b[0m\u001b[0;32mFalse\u001b[0m\u001b[0;34m,\u001b[0m \u001b[0msubok\u001b[0m\u001b[0;34m=\u001b[0m\u001b[0;32mTrue\u001b[0m\u001b[0;34m,\u001b[0m \u001b[0mndmin\u001b[0m\u001b[0;34m=\u001b[0m\u001b[0;36m2\u001b[0m\u001b[0;34m)\u001b[0m\u001b[0;34m.\u001b[0m\u001b[0mT\u001b[0m\u001b[0;34m\u001b[0m\u001b[0;34m\u001b[0m\u001b[0m\n\u001b[1;32m    655\u001b[0m         \u001b[0marrays\u001b[0m\u001b[0;34m.\u001b[0m\u001b[0mappend\u001b[0m\u001b[0;34m(\u001b[0m\u001b[0marr\u001b[0m\u001b[0;34m)\u001b[0m\u001b[0;34m\u001b[0m\u001b[0;34m\u001b[0m\u001b[0m\n\u001b[0;32m--> 656\u001b[0;31m     \u001b[0;32mreturn\u001b[0m \u001b[0m_nx\u001b[0m\u001b[0;34m.\u001b[0m\u001b[0mconcatenate\u001b[0m\u001b[0;34m(\u001b[0m\u001b[0marrays\u001b[0m\u001b[0;34m,\u001b[0m \u001b[0;36m1\u001b[0m\u001b[0;34m)\u001b[0m\u001b[0;34m\u001b[0m\u001b[0;34m\u001b[0m\u001b[0m\n\u001b[0m\u001b[1;32m    657\u001b[0m \u001b[0;34m\u001b[0m\u001b[0m\n\u001b[1;32m    658\u001b[0m \u001b[0;34m\u001b[0m\u001b[0m\n",
            "\u001b[0;32m<__array_function__ internals>\u001b[0m in \u001b[0;36mconcatenate\u001b[0;34m(*args, **kwargs)\u001b[0m\n",
            "\u001b[0;31mValueError\u001b[0m: all the input array dimensions for the concatenation axis must match exactly, but along dimension 0, the array at index 0 has size 3 and the array at index 1 has size 2"
          ]
        }
      ]
    },
    {
      "cell_type": "markdown",
      "metadata": {
        "id": "br_vg_8ZvWOL",
        "colab_type": "text"
      },
      "source": [
        "Here we tried to give 1 by 3 and 2 by 3 arrays as input where it returns an error since the mismatch of the Dimension.<br>This issue was fixed in the example 2"
      ]
    },
    {
      "cell_type": "code",
      "metadata": {
        "id": "bdGpkdQjih_3",
        "colab_type": "code",
        "colab": {}
      },
      "source": [
        "jovian.commit()"
      ],
      "execution_count": null,
      "outputs": []
    },
    {
      "cell_type": "markdown",
      "metadata": {
        "id": "aSZDyr0sih_6",
        "colab_type": "text"
      },
      "source": [
        "## Function 3 - np.dot\n",
        "\n",
        "Dot product of two arrays. Here a and b are arrays :\n",
        "    \n",
        "    - If both `a` and `b` are 1-D arrays, it is inner product of vectors\n",
        "      (without complex conjugation).\n",
        "    \n",
        "    - If both `a` and `b` are 2-D arrays, it is matrix multiplication,\n",
        "      but using :func:`matmul` or ``a @ b`` is preferred.\n",
        "    \n",
        "    - If either `a` or `b` is 0-D (scalar), it is equivalent to :func:`multiply`\n",
        "      and using ``numpy.multiply(a, b)`` or ``a * b`` is preferred.\n",
        "    \n",
        "    - If `a` is an N-D array and `b` is a 1-D array, it is a sum product over\n",
        "      the last axis of `a` and `b`."
      ]
    },
    {
      "cell_type": "code",
      "metadata": {
        "id": "HXxSoD_Iih_6",
        "colab_type": "code",
        "colab": {}
      },
      "source": [
        "# Example 1 - working\n",
        "arr1by3 = np.array([1,2,3])\n",
        "print(\"Type of arr1by3 : \", type(arr1by3), \"\\nContent : arr1by3 : \", arr1by3)\n",
        "\n",
        "arr11by3 = np.array([4,5,6])\n",
        "print(\"Type of arr11by3 : \", type(arr11by3), \"\\nContent : arr11by3 : \", arr11by3)\n",
        "\n",
        "fin3by2 = np.dot(arr1by3, arr11by3)\n",
        "print(\"Final value after the dot of both arrays : \\n\", fin3by2)"
      ],
      "execution_count": null,
      "outputs": []
    },
    {
      "cell_type": "markdown",
      "metadata": {
        "id": "fsDrqkLOih_9",
        "colab_type": "text"
      },
      "source": [
        "Here we have given 1by3 1,2,3 and 1by3 4,5,6 are inputs to the dot which returns 32 (1*4 + 2*5 + 3*6) = 4+10+18."
      ]
    },
    {
      "cell_type": "code",
      "metadata": {
        "id": "UDxFlo0eih_-",
        "colab_type": "code",
        "colab": {}
      },
      "source": [
        "# Example 2 - working\n",
        "arr2by2 = np.array([[1,2], [3,4]])\n",
        "print(\"Type of arr2by3 : \\n\", type(arr2by2), \"\\nContent : arr1by3 : \\n\", arr2by2)\n",
        "\n",
        "arr22by2 = np.array([[5,6], [7,8]])\n",
        "print(\"Type of arr22by3 : \\n\", type(arr22by2), \"\\nContent : arr11by3 : \\n\", arr22by2)\n",
        "\n",
        "fin3by2 = np.dot(arr2by3, arr22by2)\n",
        "print(\"Final array after the stack : \\n\", fin3by2)"
      ],
      "execution_count": null,
      "outputs": []
    },
    {
      "cell_type": "markdown",
      "metadata": {
        "id": "NvziZU3WiiAA",
        "colab_type": "text"
      },
      "source": [
        "Here we multiplied two 2by2 arrays which returns 2by2 with the multiplication of each values respectively. "
      ]
    },
    {
      "cell_type": "code",
      "metadata": {
        "id": "9Ya0gp7LiiAB",
        "colab_type": "code",
        "colab": {
          "base_uri": "https://localhost:8080/",
          "height": 367
        },
        "outputId": "53164ce7-4422-4d32-b0db-23b39c1f0843"
      },
      "source": [
        "# Example 3 - breaking (to illustrate when it breaks)\n",
        "arr1by3 = np.array([1,2,3])\n",
        "print(\"Type of arr1by3 : \", type(arr1by3), \"\\nContent : arr1by3 : \", arr1by3)\n",
        "\n",
        "arr2by3 = np.array([[1,2,3], [4,5,6]])\n",
        "print(\"Type of arr2by3 : \\n\", type(arr2by3), \"\\nContent : arr1by3 : \\n\", arr2by3)\n",
        "\n",
        "finall = np.dot(arr1by3, arr2by3)\n",
        "print(\"Final value after the dot : \\n\", finall)"
      ],
      "execution_count": 76,
      "outputs": [
        {
          "output_type": "stream",
          "text": [
            "Type of arr1by3 :  <class 'numpy.ndarray'> \n",
            "Content : arr1by3 :  [1 2 3]\n",
            "Type of arr2by3 : \n",
            " <class 'numpy.ndarray'> \n",
            "Content : arr1by3 : \n",
            " [[1 2 3]\n",
            " [4 5 6]]\n"
          ],
          "name": "stdout"
        },
        {
          "output_type": "error",
          "ename": "ValueError",
          "evalue": "ignored",
          "traceback": [
            "\u001b[0;31m---------------------------------------------------------------------------\u001b[0m",
            "\u001b[0;31mValueError\u001b[0m                                Traceback (most recent call last)",
            "\u001b[0;32m<ipython-input-76-791db480a52e>\u001b[0m in \u001b[0;36m<module>\u001b[0;34m()\u001b[0m\n\u001b[1;32m      6\u001b[0m \u001b[0mprint\u001b[0m\u001b[0;34m(\u001b[0m\u001b[0;34m\"Type of arr2by3 : \\n\"\u001b[0m\u001b[0;34m,\u001b[0m \u001b[0mtype\u001b[0m\u001b[0;34m(\u001b[0m\u001b[0marr2by3\u001b[0m\u001b[0;34m)\u001b[0m\u001b[0;34m,\u001b[0m \u001b[0;34m\"\\nContent : arr1by3 : \\n\"\u001b[0m\u001b[0;34m,\u001b[0m \u001b[0marr2by3\u001b[0m\u001b[0;34m)\u001b[0m\u001b[0;34m\u001b[0m\u001b[0;34m\u001b[0m\u001b[0m\n\u001b[1;32m      7\u001b[0m \u001b[0;34m\u001b[0m\u001b[0m\n\u001b[0;32m----> 8\u001b[0;31m \u001b[0mfinall\u001b[0m \u001b[0;34m=\u001b[0m \u001b[0mnp\u001b[0m\u001b[0;34m.\u001b[0m\u001b[0mdot\u001b[0m\u001b[0;34m(\u001b[0m\u001b[0marr1by3\u001b[0m\u001b[0;34m,\u001b[0m \u001b[0marr2by3\u001b[0m\u001b[0;34m)\u001b[0m\u001b[0;34m\u001b[0m\u001b[0;34m\u001b[0m\u001b[0m\n\u001b[0m\u001b[1;32m      9\u001b[0m \u001b[0mprint\u001b[0m\u001b[0;34m(\u001b[0m\u001b[0;34m\"Final value after the dot : \\n\"\u001b[0m\u001b[0;34m,\u001b[0m \u001b[0mfinall\u001b[0m\u001b[0;34m)\u001b[0m\u001b[0;34m\u001b[0m\u001b[0;34m\u001b[0m\u001b[0m\n",
            "\u001b[0;32m<__array_function__ internals>\u001b[0m in \u001b[0;36mdot\u001b[0;34m(*args, **kwargs)\u001b[0m\n",
            "\u001b[0;31mValueError\u001b[0m: shapes (3,) and (2,3) not aligned: 3 (dim 0) != 2 (dim 0)"
          ]
        }
      ]
    },
    {
      "cell_type": "markdown",
      "metadata": {
        "id": "IsrHcxdmiiAE",
        "colab_type": "text"
      },
      "source": [
        "Here, we tried to multiply two different arrays(one is 1by3 and another one is 2by3 arrays). Which returns an error when we do dot since there is difference in the dimension.<br>This issue was fixed in the example 2"
      ]
    },
    {
      "cell_type": "code",
      "metadata": {
        "id": "Rf56PqPXiiAF",
        "colab_type": "code",
        "colab": {}
      },
      "source": [
        "jovian.commit()"
      ],
      "execution_count": null,
      "outputs": []
    },
    {
      "cell_type": "markdown",
      "metadata": {
        "id": "mnT7arKHiiAV",
        "colab_type": "text"
      },
      "source": [
        "## Function 4 : np.flip\n",
        "\n",
        "  Reverse the order of elements in an array along the given axis. The shape of the arrray is preserved, but the elements are reordered."
      ]
    },
    {
      "cell_type": "code",
      "metadata": {
        "id": "_BtMdg3HiiAW",
        "colab_type": "code",
        "colab": {}
      },
      "source": [
        "# Example 1 - working\n",
        "arr3by3 = np.array([[1,2,3], [4,5,6], [7,8,9]])\n",
        "print(\"Type of the array : \\n\", type(arr3by3))\n",
        "print(\"Content of this array : \\n\", arr3by3)\n",
        "print(\"Array after flipping by 1 : \\n\\n\", np.flip(arr3by3,1))"
      ],
      "execution_count": null,
      "outputs": []
    },
    {
      "cell_type": "markdown",
      "metadata": {
        "id": "ebSOvWOPiiAY",
        "colab_type": "text"
      },
      "source": [
        "Here we re-order the 3 by 3 matrix by 3 by 3 but the placemen of values are different positions by using the flip function."
      ]
    },
    {
      "cell_type": "code",
      "metadata": {
        "id": "d5tlJ5TUiiAY",
        "colab_type": "code",
        "colab": {}
      },
      "source": [
        "# Example 2 - working\n",
        "arr3by31 = np.array([[[0, 1],\n",
        "            [2, 3]],\n",
        "           [[4, 5],\n",
        "            [6, 7]]])\n",
        "print(\"Content of this array : \\n\", arr3by31)\n",
        "\n",
        "print(\"Array after flipping by 2\\n\\n\", np.flip(arr3by31,2))"
      ],
      "execution_count": null,
      "outputs": []
    },
    {
      "cell_type": "markdown",
      "metadata": {
        "id": "SvvP_sgeDSv4",
        "colab_type": "text"
      },
      "source": [
        "Here we re-order the two 2 by 2 matrixes by the axis 2 which returns the same but the position of the numbers are different."
      ]
    },
    {
      "cell_type": "markdown",
      "metadata": {
        "id": "zhSLZGIpiiAa",
        "colab_type": "text"
      },
      "source": [
        "Explanation about example"
      ]
    },
    {
      "cell_type": "code",
      "metadata": {
        "id": "xiruXaPCiiAb",
        "colab_type": "code",
        "colab": {}
      },
      "source": [
        "# Example 3 - breaking (to illustrate when it breaks)\n",
        "arr3by31 = np.array([[[0, 1],\n",
        "            [2, 3]],\n",
        "           [[4, 5],\n",
        "            [6, 7]]])\n",
        "print(\"Content of this array : \\n\", arr3by31)\n",
        "\n",
        "print(\"Array after flipping by 2\\n\\n\", np.flip(arr3by31,4))"
      ],
      "execution_count": null,
      "outputs": []
    },
    {
      "cell_type": "markdown",
      "metadata": {
        "id": "Q7vK6W_4iiAd",
        "colab_type": "text"
      },
      "source": [
        "Tried the same matrix by giving 4 at the flip function, but it fails due to the out of bound error. <br>This issue was fixed in the example 2"
      ]
    },
    {
      "cell_type": "code",
      "metadata": {
        "id": "0TJxSqjFiiAe",
        "colab_type": "code",
        "colab": {}
      },
      "source": [
        "jovian.commit()"
      ],
      "execution_count": null,
      "outputs": []
    },
    {
      "cell_type": "markdown",
      "metadata": {
        "id": "R2X9YM3jiiAg",
        "colab_type": "text"
      },
      "source": [
        "## Function 5 : np.max\n",
        "\n",
        "It return the maximum of an array or maximum along an axis."
      ]
    },
    {
      "cell_type": "code",
      "metadata": {
        "id": "xEcRe4lriiAh",
        "colab_type": "code",
        "colab": {}
      },
      "source": [
        "# Example 1 - working\n",
        "arr2by3 = np.array([[1,2,3], [4,5,6]])\n",
        "print(\"Type of arr2by3 : \\n\", type(arr2by3), \"\\nContent : arr1by3 : \\n\", arr2by3)\n",
        "\n",
        "print(\"Max of the Matrix (arr2by3) is : \", np.max(arr2by3))"
      ],
      "execution_count": null,
      "outputs": []
    },
    {
      "cell_type": "markdown",
      "metadata": {
        "id": "EpXZrFIriiAj",
        "colab_type": "text"
      },
      "source": [
        "Captured a max value of an array 2 by 3, which has values  1 2 3 and 4 5 6. it returns 6 since it is the max value."
      ]
    },
    {
      "cell_type": "code",
      "metadata": {
        "id": "lBjTQjvCiiAj",
        "colab_type": "code",
        "colab": {}
      },
      "source": [
        "# Example 2 - working\n",
        "print(\"Max of the Matrix (arr2by3) is : \", np.max(arr2by3, 1))"
      ],
      "execution_count": null,
      "outputs": []
    },
    {
      "cell_type": "markdown",
      "metadata": {
        "id": "hpGzkX-riiAl",
        "colab_type": "text"
      },
      "source": [
        "For the same Matrix, it returns  3 6 since the axis is 1. "
      ]
    },
    {
      "cell_type": "code",
      "metadata": {
        "id": "Us4cBr2ciiAm",
        "colab_type": "code",
        "colab": {
          "base_uri": "https://localhost:8080/",
          "height": 357
        },
        "outputId": "94c75845-8d7a-4d3c-f0c9-e9ea7dc27e5f"
      },
      "source": [
        "# Example 3 - breaking (to illustrate when it breaks)\n",
        "print(\"Max of the Matrix (arr2by3) is : \", np.max(arr2by3, 3))"
      ],
      "execution_count": 77,
      "outputs": [
        {
          "output_type": "error",
          "ename": "AxisError",
          "evalue": "ignored",
          "traceback": [
            "\u001b[0;31m---------------------------------------------------------------------------\u001b[0m",
            "\u001b[0;31mAxisError\u001b[0m                                 Traceback (most recent call last)",
            "\u001b[0;32m<ipython-input-77-dfb261399c4a>\u001b[0m in \u001b[0;36m<module>\u001b[0;34m()\u001b[0m\n\u001b[1;32m      1\u001b[0m \u001b[0;31m# Example 3 - breaking (to illustrate when it breaks)\u001b[0m\u001b[0;34m\u001b[0m\u001b[0;34m\u001b[0m\u001b[0;34m\u001b[0m\u001b[0m\n\u001b[0;32m----> 2\u001b[0;31m \u001b[0mprint\u001b[0m\u001b[0;34m(\u001b[0m\u001b[0;34m\"Max of the Matrix (arr2by3) is : \"\u001b[0m\u001b[0;34m,\u001b[0m \u001b[0mnp\u001b[0m\u001b[0;34m.\u001b[0m\u001b[0mmax\u001b[0m\u001b[0;34m(\u001b[0m\u001b[0marr2by3\u001b[0m\u001b[0;34m,\u001b[0m \u001b[0;36m3\u001b[0m\u001b[0;34m)\u001b[0m\u001b[0;34m)\u001b[0m\u001b[0;34m\u001b[0m\u001b[0;34m\u001b[0m\u001b[0m\n\u001b[0m",
            "\u001b[0;32m<__array_function__ internals>\u001b[0m in \u001b[0;36mamax\u001b[0;34m(*args, **kwargs)\u001b[0m\n",
            "\u001b[0;32m/usr/local/lib/python3.6/dist-packages/numpy/core/fromnumeric.py\u001b[0m in \u001b[0;36mamax\u001b[0;34m(a, axis, out, keepdims, initial, where)\u001b[0m\n\u001b[1;32m   2666\u001b[0m     \"\"\"\n\u001b[1;32m   2667\u001b[0m     return _wrapreduction(a, np.maximum, 'max', axis, None, out,\n\u001b[0;32m-> 2668\u001b[0;31m                           keepdims=keepdims, initial=initial, where=where)\n\u001b[0m\u001b[1;32m   2669\u001b[0m \u001b[0;34m\u001b[0m\u001b[0m\n\u001b[1;32m   2670\u001b[0m \u001b[0;34m\u001b[0m\u001b[0m\n",
            "\u001b[0;32m/usr/local/lib/python3.6/dist-packages/numpy/core/fromnumeric.py\u001b[0m in \u001b[0;36m_wrapreduction\u001b[0;34m(obj, ufunc, method, axis, dtype, out, **kwargs)\u001b[0m\n\u001b[1;32m     88\u001b[0m                 \u001b[0;32mreturn\u001b[0m \u001b[0mreduction\u001b[0m\u001b[0;34m(\u001b[0m\u001b[0maxis\u001b[0m\u001b[0;34m=\u001b[0m\u001b[0maxis\u001b[0m\u001b[0;34m,\u001b[0m \u001b[0mout\u001b[0m\u001b[0;34m=\u001b[0m\u001b[0mout\u001b[0m\u001b[0;34m,\u001b[0m \u001b[0;34m**\u001b[0m\u001b[0mpasskwargs\u001b[0m\u001b[0;34m)\u001b[0m\u001b[0;34m\u001b[0m\u001b[0;34m\u001b[0m\u001b[0m\n\u001b[1;32m     89\u001b[0m \u001b[0;34m\u001b[0m\u001b[0m\n\u001b[0;32m---> 90\u001b[0;31m     \u001b[0;32mreturn\u001b[0m \u001b[0mufunc\u001b[0m\u001b[0;34m.\u001b[0m\u001b[0mreduce\u001b[0m\u001b[0;34m(\u001b[0m\u001b[0mobj\u001b[0m\u001b[0;34m,\u001b[0m \u001b[0maxis\u001b[0m\u001b[0;34m,\u001b[0m \u001b[0mdtype\u001b[0m\u001b[0;34m,\u001b[0m \u001b[0mout\u001b[0m\u001b[0;34m,\u001b[0m \u001b[0;34m**\u001b[0m\u001b[0mpasskwargs\u001b[0m\u001b[0;34m)\u001b[0m\u001b[0;34m\u001b[0m\u001b[0;34m\u001b[0m\u001b[0m\n\u001b[0m\u001b[1;32m     91\u001b[0m \u001b[0;34m\u001b[0m\u001b[0m\n\u001b[1;32m     92\u001b[0m \u001b[0;34m\u001b[0m\u001b[0m\n",
            "\u001b[0;31mAxisError\u001b[0m: axis 3 is out of bounds for array of dimension 2"
          ]
        }
      ]
    },
    {
      "cell_type": "markdown",
      "metadata": {
        "id": "RsRZd6_ViiAo",
        "colab_type": "text"
      },
      "source": [
        "For the same Matrix, it returns an error since the dimention is out of bound.<br>This issue was fixed in the example2"
      ]
    },
    {
      "cell_type": "code",
      "metadata": {
        "id": "5c1OuJRjiiAp",
        "colab_type": "code",
        "colab": {}
      },
      "source": [
        "jovian.commit()"
      ],
      "execution_count": null,
      "outputs": []
    },
    {
      "cell_type": "markdown",
      "metadata": {
        "id": "Ei_EzWYCiiAs",
        "colab_type": "text"
      },
      "source": [
        "## Conclusion\n",
        "\n",
        "Numpy is most useful package which has huge number of functions. Which are very useful in the Datascience. \n",
        "\n",
        "Tried different options of below modules and noted in the above notes.\n",
        "- append\n",
        "- column_slack\n",
        "- dot\n",
        "- flip\n",
        "- max"
      ]
    },
    {
      "cell_type": "markdown",
      "metadata": {
        "id": "ofEZ67odiiAs",
        "colab_type": "text"
      },
      "source": [
        "## Reference Links\n",
        "Provide links to your references and other interesting articles about Numpy arrays:\n",
        "* Numpy official tutorial : https://numpy.org/doc/stable/user/quickstart.html\n",
        "* https://numpy.org/doc/stable/reference/routines.html "
      ]
    },
    {
      "cell_type": "code",
      "metadata": {
        "id": "7NoNxRQhiiAt",
        "colab_type": "code",
        "colab": {}
      },
      "source": [
        "jovian.commit()"
      ],
      "execution_count": null,
      "outputs": []
    },
    {
      "cell_type": "code",
      "metadata": {
        "id": "pVnTtFjziiAv",
        "colab_type": "code",
        "colab": {}
      },
      "source": [
        ""
      ],
      "execution_count": null,
      "outputs": []
    }
  ]
}