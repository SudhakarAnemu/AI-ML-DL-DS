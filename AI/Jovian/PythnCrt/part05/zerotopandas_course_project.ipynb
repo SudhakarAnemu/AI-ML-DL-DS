{
  "nbformat": 4,
  "nbformat_minor": 0,
  "metadata": {
    "kernelspec": {
      "display_name": "Python 3",
      "language": "python",
      "name": "python3"
    },
    "language_info": {
      "codemirror_mode": {
        "name": "ipython",
        "version": 3
      },
      "file_extension": ".py",
      "mimetype": "text/x-python",
      "name": "python",
      "nbconvert_exporter": "python",
      "pygments_lexer": "ipython3",
      "version": "3.8.5"
    },
    "colab": {
      "name": "zerotopandas-course-project.ipynb",
      "provenance": [],
      "toc_visible": true
    },
    "accelerator": "TPU"
  },
  "cells": [
    {
      "cell_type": "code",
      "metadata": {
        "id": "WR6wHoEqIn-J"
      },
      "source": [
        "# Jovian Commit Essentials\n",
        "# Please retain and execute this cell without modifying the contents for `jovian.commit` to work\n",
        "!pip install jovian --upgrade -q\n",
        "import jovian\n",
        "jovian.utils.colab.set_colab_file_id('1DMtScMDo9qKbH644atAa4neVWTaIR0rD')"
      ],
      "execution_count": 61,
      "outputs": []
    },
    {
      "cell_type": "markdown",
      "metadata": {
        "id": "2oV_PwKXcI35"
      },
      "source": [
        "# Name : Sudhakar Anemu\n",
        "## Email : sudhakar.anemu@gmail.com"
      ]
    },
    {
      "cell_type": "markdown",
      "metadata": {
        "id": "u69EbTb9In-a"
      },
      "source": [
        "# Project Title - Groceries(Market Basket)\n",
        "\n",
        "Groceries are one of the daily consumable items(dataset) which is used by many number of retailers to Analyze the Market(of Groceries). Here we are trying to analyze the combination of different items which customer used to buy. It allows the retailers to identifies the relationships between the itesms that people buy. \n",
        "<br>\n",
        "I observed this Dataset from the Kaggle(https://www.kaggle.com/heeraldedhia/groceries-dataset). I am going to analyze it using Pyhon Libraries. A course form the Zero to Pandas - (https://jovian.ml/) helped me lot to understand about the Pyhon and its libraries. \n"
      ]
    },
    {
      "cell_type": "markdown",
      "metadata": {
        "id": "Yni9VpzhIn-j"
      },
      "source": [
        "## Downloading the Dataset\n",
        "\n",
        "> - We find this data set on this \"https://www.kaggle.com/heeraldedhia/groceries-dataset)\"\n",
        "> - This data set is in csv format and has 3 columns and 39k rows.\n",
        "> - This Dataset was downlaoded using the [`opendatasets` Python library](https://github.com/JovianML/opendatasets#opendatasets)"
      ]
    },
    {
      "cell_type": "code",
      "metadata": {
        "id": "Jm2uzjjpIn-p"
      },
      "source": [
        "!pip install jovian opendatasets --upgrade --quiet"
      ],
      "execution_count": 62,
      "outputs": []
    },
    {
      "cell_type": "markdown",
      "metadata": {
        "id": "L25CKMj8In-w"
      },
      "source": [
        "Let's begin by downloading the data, and listing the files within the dataset."
      ]
    },
    {
      "cell_type": "code",
      "metadata": {
        "id": "weuadvyuIn-x"
      },
      "source": [
        "# Downloading the dataset\n",
        "dataset_url = 'https://www.kaggle.com/heeraldedhia/groceries-dataset' "
      ],
      "execution_count": 63,
      "outputs": []
    },
    {
      "cell_type": "code",
      "metadata": {
        "id": "LlxHkdcJIn-5",
        "outputId": "f1bf20f4-167d-4c54-b0de-d58b0f9d065b",
        "colab": {
          "base_uri": "https://localhost:8080/",
          "height": 121
        }
      },
      "source": [
        "import opendatasets as od\n",
        "od.download(dataset_url)"
      ],
      "execution_count": 64,
      "outputs": [
        {
          "output_type": "stream",
          "text": [
            "Please provide your Kaggle credentials to download this dataset. Learn more: http://bit.ly/kaggle-creds\n",
            "Your Kaggle username: anemusudhakar\n",
            "Your Kaggle Key: ··········\n"
          ],
          "name": "stdout"
        },
        {
          "output_type": "stream",
          "text": [
            "100%|██████████| 257k/257k [00:00<00:00, 35.1MB/s]"
          ],
          "name": "stderr"
        },
        {
          "output_type": "stream",
          "text": [
            "Downloading groceries-dataset.zip to ./groceries-dataset\n",
            "\n"
          ],
          "name": "stdout"
        },
        {
          "output_type": "stream",
          "text": [
            "\n"
          ],
          "name": "stderr"
        }
      ]
    },
    {
      "cell_type": "markdown",
      "metadata": {
        "id": "iDModCKMIn_A"
      },
      "source": [
        "The dataset has been downloaded and extracted."
      ]
    },
    {
      "cell_type": "code",
      "metadata": {
        "id": "FobRSrupIn_C"
      },
      "source": [
        "# Accessing the Directory/Dataset\n",
        "data_dir = '/content/groceries-dataset'"
      ],
      "execution_count": 65,
      "outputs": []
    },
    {
      "cell_type": "code",
      "metadata": {
        "id": "wEvP_kmqIn_M",
        "outputId": "5b6d357e-a96e-4ec7-e8ec-771098e771c0",
        "colab": {
          "base_uri": "https://localhost:8080/",
          "height": 34
        }
      },
      "source": [
        "import os\n",
        "file = os.listdir(data_dir)\n",
        "print(\"Dataset : \", file)"
      ],
      "execution_count": 66,
      "outputs": [
        {
          "output_type": "stream",
          "text": [
            "Dataset :  ['Groceries_dataset.csv']\n"
          ],
          "name": "stdout"
        }
      ]
    },
    {
      "cell_type": "markdown",
      "metadata": {
        "id": "lXRD_rnsIn_S"
      },
      "source": [
        "Let us save and upload our work to Jovian before continuing."
      ]
    },
    {
      "cell_type": "code",
      "metadata": {
        "id": "cVWrwNH7In_T"
      },
      "source": [
        "project_name = \"zerotopandas-course-project-starter\" # change this (use lowercase letters and hyphens only)"
      ],
      "execution_count": 67,
      "outputs": []
    },
    {
      "cell_type": "code",
      "metadata": {
        "id": "1WUU2sBdIn_Y"
      },
      "source": [
        "!pip install jovian --upgrade -q"
      ],
      "execution_count": 68,
      "outputs": []
    },
    {
      "cell_type": "code",
      "metadata": {
        "id": "4BI94HnUIn_d"
      },
      "source": [
        "import jovian"
      ],
      "execution_count": 69,
      "outputs": []
    },
    {
      "cell_type": "code",
      "metadata": {
        "id": "kAFhEJoxIn_j",
        "outputId": "ab5f109d-e46d-44c2-a578-1e9aeb212bdb",
        "colab": {
          "base_uri": "https://localhost:8080/",
          "height": 141
        }
      },
      "source": [
        "jovian.commit(project=project_name)"
      ],
      "execution_count": 70,
      "outputs": [
        {
          "output_type": "stream",
          "text": [
            "[jovian] Detected Colab notebook...\u001b[0m\n",
            "[jovian] Please enter your API key ( from https://jovian.ml/ ):\u001b[0m\n",
            "API KEY: ··········\n",
            "[jovian] Uploading colab notebook to Jovian...\u001b[0m\n",
            "[jovian] Capturing environment..\u001b[0m\n",
            "[jovian] Committed successfully! https://jovian.ml/sudhakar-anemu/zerotopandas-course-project-starter\u001b[0m\n"
          ],
          "name": "stdout"
        },
        {
          "output_type": "execute_result",
          "data": {
            "application/vnd.google.colaboratory.intrinsic+json": {
              "type": "string"
            },
            "text/plain": [
              "'https://jovian.ml/sudhakar-anemu/zerotopandas-course-project-starter'"
            ]
          },
          "metadata": {
            "tags": []
          },
          "execution_count": 70
        }
      ]
    },
    {
      "cell_type": "markdown",
      "metadata": {
        "id": "4a6XajWDIn_t"
      },
      "source": [
        "## Data Preparation and Cleaning\n",
        "\n",
        "Here we are analyzing the dataset by verifiying number of rows, columns and few features uisng Pandas libraires.\n",
        "<br>Here are observations : \n",
        "<br>1. This dataset has 38765 rows and 3 columns\n",
        "<br>2. Member_number. is one of the feauture where the data type is Int. Each member is associated with a number and dataset has number of row's with the same Number but different dates and items. \n",
        "<br>3. Date and ItemDescriptions are two more datatypes(Object type) which are talking about the dates and items where Member bought items at the particular items. \n",
        "\n"
      ]
    },
    {
      "cell_type": "code",
      "metadata": {
        "id": "2tdcdHULIn_w"
      },
      "source": [
        "import pandas as pd\n",
        "import matplotlib.pyplot as plt\n",
        "import seaborn as sns\n",
        "%matplotlib inline"
      ],
      "execution_count": 71,
      "outputs": []
    },
    {
      "cell_type": "code",
      "metadata": {
        "id": "HCHQEpT8In_4"
      },
      "source": [
        "df = pd.read_csv('/content/groceries-dataset/Groceries_dataset.csv')"
      ],
      "execution_count": 72,
      "outputs": []
    },
    {
      "cell_type": "markdown",
      "metadata": {
        "id": "1wLxHDr8hn4l"
      },
      "source": [
        "Dataset has total 38765 rows and 3 columns."
      ]
    },
    {
      "cell_type": "code",
      "metadata": {
        "id": "WY2HGvq-FBaI",
        "outputId": "c264fcdb-856a-4a91-f7d4-a8f510bbcd93",
        "colab": {
          "base_uri": "https://localhost:8080/",
          "height": 34
        }
      },
      "source": [
        "df.shape"
      ],
      "execution_count": 73,
      "outputs": [
        {
          "output_type": "execute_result",
          "data": {
            "text/plain": [
              "(38765, 3)"
            ]
          },
          "metadata": {
            "tags": []
          },
          "execution_count": 73
        }
      ]
    },
    {
      "cell_type": "markdown",
      "metadata": {
        "id": "Fa5L_ouTiIeW"
      },
      "source": [
        "Dataset has 3 columns. MemberNumber is an intiger and remaining two are Object type."
      ]
    },
    {
      "cell_type": "code",
      "metadata": {
        "id": "IEv3qsF9TiQw",
        "outputId": "a86a184c-5d4e-41b2-c971-533040771198",
        "colab": {
          "base_uri": "https://localhost:8080/",
          "height": 191
        }
      },
      "source": [
        "df.info()"
      ],
      "execution_count": 74,
      "outputs": [
        {
          "output_type": "stream",
          "text": [
            "<class 'pandas.core.frame.DataFrame'>\n",
            "RangeIndex: 38765 entries, 0 to 38764\n",
            "Data columns (total 3 columns):\n",
            " #   Column           Non-Null Count  Dtype \n",
            "---  ------           --------------  ----- \n",
            " 0   Member_number    38765 non-null  int64 \n",
            " 1   Date             38765 non-null  object\n",
            " 2   itemDescription  38765 non-null  object\n",
            "dtypes: int64(1), object(2)\n",
            "memory usage: 908.7+ KB\n"
          ],
          "name": "stdout"
        }
      ]
    },
    {
      "cell_type": "markdown",
      "metadata": {
        "id": "3BkO8QG2iWPJ"
      },
      "source": [
        "Dataset has three columns : MemberNumber, Date and Itemdesctiption"
      ]
    },
    {
      "cell_type": "code",
      "metadata": {
        "id": "42JzOHk2FEKN",
        "outputId": "491fb087-6a02-45dc-ecf4-c85ea1806ca2",
        "colab": {
          "base_uri": "https://localhost:8080/",
          "height": 34
        }
      },
      "source": [
        "df.columns"
      ],
      "execution_count": 75,
      "outputs": [
        {
          "output_type": "execute_result",
          "data": {
            "text/plain": [
              "Index(['Member_number', 'Date', 'itemDescription'], dtype='object')"
            ]
          },
          "metadata": {
            "tags": []
          },
          "execution_count": 75
        }
      ]
    },
    {
      "cell_type": "code",
      "metadata": {
        "id": "C0G0F2wmIn_8",
        "outputId": "ccfd8500-20ca-4a2f-ef4c-e35cbef0ac61",
        "colab": {
          "base_uri": "https://localhost:8080/",
          "height": 206
        }
      },
      "source": [
        "df.head(5)"
      ],
      "execution_count": 76,
      "outputs": [
        {
          "output_type": "execute_result",
          "data": {
            "text/html": [
              "<div>\n",
              "<style scoped>\n",
              "    .dataframe tbody tr th:only-of-type {\n",
              "        vertical-align: middle;\n",
              "    }\n",
              "\n",
              "    .dataframe tbody tr th {\n",
              "        vertical-align: top;\n",
              "    }\n",
              "\n",
              "    .dataframe thead th {\n",
              "        text-align: right;\n",
              "    }\n",
              "</style>\n",
              "<table border=\"1\" class=\"dataframe\">\n",
              "  <thead>\n",
              "    <tr style=\"text-align: right;\">\n",
              "      <th></th>\n",
              "      <th>Member_number</th>\n",
              "      <th>Date</th>\n",
              "      <th>itemDescription</th>\n",
              "    </tr>\n",
              "  </thead>\n",
              "  <tbody>\n",
              "    <tr>\n",
              "      <th>0</th>\n",
              "      <td>1808</td>\n",
              "      <td>21-07-2015</td>\n",
              "      <td>tropical fruit</td>\n",
              "    </tr>\n",
              "    <tr>\n",
              "      <th>1</th>\n",
              "      <td>2552</td>\n",
              "      <td>05-01-2015</td>\n",
              "      <td>whole milk</td>\n",
              "    </tr>\n",
              "    <tr>\n",
              "      <th>2</th>\n",
              "      <td>2300</td>\n",
              "      <td>19-09-2015</td>\n",
              "      <td>pip fruit</td>\n",
              "    </tr>\n",
              "    <tr>\n",
              "      <th>3</th>\n",
              "      <td>1187</td>\n",
              "      <td>12-12-2015</td>\n",
              "      <td>other vegetables</td>\n",
              "    </tr>\n",
              "    <tr>\n",
              "      <th>4</th>\n",
              "      <td>3037</td>\n",
              "      <td>01-02-2015</td>\n",
              "      <td>whole milk</td>\n",
              "    </tr>\n",
              "  </tbody>\n",
              "</table>\n",
              "</div>"
            ],
            "text/plain": [
              "   Member_number        Date   itemDescription\n",
              "0           1808  21-07-2015    tropical fruit\n",
              "1           2552  05-01-2015        whole milk\n",
              "2           2300  19-09-2015         pip fruit\n",
              "3           1187  12-12-2015  other vegetables\n",
              "4           3037  01-02-2015        whole milk"
            ]
          },
          "metadata": {
            "tags": []
          },
          "execution_count": 76
        }
      ]
    },
    {
      "cell_type": "markdown",
      "metadata": {
        "id": "gcp_OdRvic-o"
      },
      "source": [
        "Describe method shows only Member_number since it is an Intiger type"
      ]
    },
    {
      "cell_type": "code",
      "metadata": {
        "id": "SAQYdjZ1IoAC",
        "outputId": "cd1ddbc3-191f-4cc5-8037-7b7abbd2877c",
        "colab": {
          "base_uri": "https://localhost:8080/",
          "height": 300
        }
      },
      "source": [
        "df.describe()"
      ],
      "execution_count": 77,
      "outputs": [
        {
          "output_type": "execute_result",
          "data": {
            "text/html": [
              "<div>\n",
              "<style scoped>\n",
              "    .dataframe tbody tr th:only-of-type {\n",
              "        vertical-align: middle;\n",
              "    }\n",
              "\n",
              "    .dataframe tbody tr th {\n",
              "        vertical-align: top;\n",
              "    }\n",
              "\n",
              "    .dataframe thead th {\n",
              "        text-align: right;\n",
              "    }\n",
              "</style>\n",
              "<table border=\"1\" class=\"dataframe\">\n",
              "  <thead>\n",
              "    <tr style=\"text-align: right;\">\n",
              "      <th></th>\n",
              "      <th>Member_number</th>\n",
              "    </tr>\n",
              "  </thead>\n",
              "  <tbody>\n",
              "    <tr>\n",
              "      <th>count</th>\n",
              "      <td>38765.000000</td>\n",
              "    </tr>\n",
              "    <tr>\n",
              "      <th>mean</th>\n",
              "      <td>3003.641868</td>\n",
              "    </tr>\n",
              "    <tr>\n",
              "      <th>std</th>\n",
              "      <td>1153.611031</td>\n",
              "    </tr>\n",
              "    <tr>\n",
              "      <th>min</th>\n",
              "      <td>1000.000000</td>\n",
              "    </tr>\n",
              "    <tr>\n",
              "      <th>25%</th>\n",
              "      <td>2002.000000</td>\n",
              "    </tr>\n",
              "    <tr>\n",
              "      <th>50%</th>\n",
              "      <td>3005.000000</td>\n",
              "    </tr>\n",
              "    <tr>\n",
              "      <th>75%</th>\n",
              "      <td>4007.000000</td>\n",
              "    </tr>\n",
              "    <tr>\n",
              "      <th>max</th>\n",
              "      <td>5000.000000</td>\n",
              "    </tr>\n",
              "  </tbody>\n",
              "</table>\n",
              "</div>"
            ],
            "text/plain": [
              "       Member_number\n",
              "count   38765.000000\n",
              "mean     3003.641868\n",
              "std      1153.611031\n",
              "min      1000.000000\n",
              "25%      2002.000000\n",
              "50%      3005.000000\n",
              "75%      4007.000000\n",
              "max      5000.000000"
            ]
          },
          "metadata": {
            "tags": []
          },
          "execution_count": 77
        }
      ]
    },
    {
      "cell_type": "markdown",
      "metadata": {
        "id": "srRrFuOXindp"
      },
      "source": [
        "We could see that no null values for any columns when we verify the isnull method."
      ]
    },
    {
      "cell_type": "code",
      "metadata": {
        "id": "sQrRqAFfIoAL",
        "outputId": "bc60e569-b4ce-400b-dc90-38705d8c6022",
        "colab": {
          "base_uri": "https://localhost:8080/",
          "height": 86
        }
      },
      "source": [
        "df.isnull().sum()"
      ],
      "execution_count": 78,
      "outputs": [
        {
          "output_type": "execute_result",
          "data": {
            "text/plain": [
              "Member_number      0\n",
              "Date               0\n",
              "itemDescription    0\n",
              "dtype: int64"
            ]
          },
          "metadata": {
            "tags": []
          },
          "execution_count": 78
        }
      ]
    },
    {
      "cell_type": "code",
      "metadata": {
        "id": "rjZxKqNkIoAZ"
      },
      "source": [
        "import jovian"
      ],
      "execution_count": 79,
      "outputs": []
    },
    {
      "cell_type": "code",
      "metadata": {
        "id": "h196TgdUIoAc",
        "outputId": "6b20fd34-6a3a-4148-8533-5c48f0dc4706",
        "colab": {
          "base_uri": "https://localhost:8080/",
          "height": 52
        }
      },
      "source": [
        "jovian.commit()"
      ],
      "execution_count": 80,
      "outputs": [
        {
          "output_type": "stream",
          "text": [
            "[jovian] Detected Colab notebook...\u001b[0m\n"
          ],
          "name": "stdout"
        },
        {
          "output_type": "stream",
          "text": [
            "\u001b[31m[jovian] Error: Please provide the project argument e.g. jovian.commit(project='my-project')\u001b[0m\n"
          ],
          "name": "stderr"
        }
      ]
    },
    {
      "cell_type": "markdown",
      "metadata": {
        "id": "SKp9Owk_IoAi"
      },
      "source": [
        "## Exploratory Analysis and Visualization\n",
        "\n",
        "\n",
        "\n"
      ]
    },
    {
      "cell_type": "markdown",
      "metadata": {
        "id": "5WXsFQVZIoAk"
      },
      "source": [
        "Imported all required packages : Seaborn and Matpltlib"
      ]
    },
    {
      "cell_type": "code",
      "metadata": {
        "id": "TvwndnSdIoAk"
      },
      "source": [
        "import seaborn as sns\n",
        "import matplotlib\n",
        "import matplotlib.pyplot as plt\n",
        "import numpy as np\n",
        "%matplotlib inline\n",
        "\n",
        "sns.set_style('darkgrid')\n",
        "matplotlib.rcParams['font.size'] = 14\n",
        "matplotlib.rcParams['figure.figsize'] = (9, 5)\n",
        "matplotlib.rcParams['figure.facecolor'] = '#00000000'"
      ],
      "execution_count": 81,
      "outputs": []
    },
    {
      "cell_type": "markdown",
      "metadata": {
        "id": "fc4rboD8IoAp"
      },
      "source": [
        "Verified the count of Item, Here we can see the \"whole milk\" has 2502 entried. Logically it is right since Milk is a common item from any customer. Next position is for the vegetables."
      ]
    },
    {
      "cell_type": "code",
      "metadata": {
        "id": "Klo8U1OvlkB2",
        "outputId": "e0fd49a9-76dc-4a10-ff28-6ef647c3b94b",
        "colab": {
          "base_uri": "https://localhost:8080/",
          "height": 225
        }
      },
      "source": [
        "df['itemDescription'].value_counts()"
      ],
      "execution_count": 82,
      "outputs": [
        {
          "output_type": "execute_result",
          "data": {
            "text/plain": [
              "whole milk               2502\n",
              "other vegetables         1898\n",
              "rolls/buns               1716\n",
              "soda                     1514\n",
              "yogurt                   1334\n",
              "                         ... \n",
              "frozen chicken              5\n",
              "bags                        4\n",
              "baby cosmetics              3\n",
              "kitchen utensil             1\n",
              "preservation products       1\n",
              "Name: itemDescription, Length: 167, dtype: int64"
            ]
          },
          "metadata": {
            "tags": []
          },
          "execution_count": 82
        }
      ]
    },
    {
      "cell_type": "markdown",
      "metadata": {
        "id": "IbFH7agPjfMI"
      },
      "source": [
        "Below barplot was designed for the head of 5 itmes where we it is clearly referring the \"whole milk\" has many number of entries and the next one is the Vegetables."
      ]
    },
    {
      "cell_type": "code",
      "metadata": {
        "id": "8CQJAQU6k-4n",
        "outputId": "03a17564-6033-4423-a40a-9f6041c2b303",
        "colab": {
          "base_uri": "https://localhost:8080/",
          "height": 341
        }
      },
      "source": [
        "sns.barplot(x=df['itemDescription'].value_counts().head(5).index, y=df['itemDescription'].value_counts().head(5).values)"
      ],
      "execution_count": 83,
      "outputs": [
        {
          "output_type": "execute_result",
          "data": {
            "text/plain": [
              "<matplotlib.axes._subplots.AxesSubplot at 0x7f60277131d0>"
            ]
          },
          "metadata": {
            "tags": []
          },
          "execution_count": 83
        },
        {
          "output_type": "display_data",
          "data": {
            "image/png": "[encoded data removed]",
            "text/plain": [
              "<Figure size 648x360 with 1 Axes>"
            ]
          },
          "metadata": {
            "tags": [],
            "needs_background": "light"
          }
        }
      ]
    },
    {
      "cell_type": "markdown",
      "metadata": {
        "id": "Blh5qBPjIoA4"
      },
      "source": [
        "Member : Listed the count of repetation based number the number of Members. Here we can see that Member 3180 has 36 and very low : 2 for the member 2844."
      ]
    },
    {
      "cell_type": "code",
      "metadata": {
        "id": "NMx1yR6oIoA8",
        "outputId": "ef5c2dc8-c7f8-4fed-c301-fcd8378a990d",
        "colab": {
          "base_uri": "https://localhost:8080/",
          "height": 225
        }
      },
      "source": [
        "df['Member_number'].value_counts()"
      ],
      "execution_count": 84,
      "outputs": [
        {
          "output_type": "execute_result",
          "data": {
            "text/plain": [
              "3180    36\n",
              "3050    33\n",
              "2051    33\n",
              "3737    33\n",
              "2433    31\n",
              "        ..\n",
              "4565     2\n",
              "2373     2\n",
              "3788     2\n",
              "2614     2\n",
              "2844     2\n",
              "Name: Member_number, Length: 3898, dtype: int64"
            ]
          },
          "metadata": {
            "tags": []
          },
          "execution_count": 84
        }
      ]
    },
    {
      "cell_type": "code",
      "metadata": {
        "id": "QzfO3lfNmNuu",
        "outputId": "42c13d00-2672-4230-fb93-727e3883799e",
        "colab": {
          "base_uri": "https://localhost:8080/",
          "height": 341
        }
      },
      "source": [
        "sns.barplot(x=df['Member_number'].value_counts().head(5).index, y=df['Member_number'].value_counts().head(5).values)"
      ],
      "execution_count": 85,
      "outputs": [
        {
          "output_type": "execute_result",
          "data": {
            "text/plain": [
              "<matplotlib.axes._subplots.AxesSubplot at 0x7f602465dc88>"
            ]
          },
          "metadata": {
            "tags": []
          },
          "execution_count": 85
        },
        {
          "output_type": "display_data",
          "data": {
            "image/png": "[encoded data removed]",
            "text/plain": [
              "<Figure size 648x360 with 1 Axes>"
            ]
          },
          "metadata": {
            "tags": [],
            "needs_background": "light"
          }
        }
      ]
    },
    {
      "cell_type": "markdown",
      "metadata": {
        "id": "1EGxtwrZIoBD"
      },
      "source": [
        "Verfied the total number of entries based on the purchage date where we can see that 96 entries on the date - 21-01-2015 and low number 22 on 01-0902015."
      ]
    },
    {
      "cell_type": "code",
      "metadata": {
        "id": "C5e2e3LzIoBD",
        "outputId": "8ba5950c-8437-4346-ddd1-3d4e2503a0c2",
        "colab": {
          "base_uri": "https://localhost:8080/",
          "height": 225
        }
      },
      "source": [
        "df['Date'].value_counts()"
      ],
      "execution_count": 86,
      "outputs": [
        {
          "output_type": "execute_result",
          "data": {
            "text/plain": [
              "21-01-2015    96\n",
              "21-07-2015    93\n",
              "29-11-2015    92\n",
              "08-08-2015    92\n",
              "30-04-2015    91\n",
              "              ..\n",
              "29-06-2014    26\n",
              "04-07-2014    24\n",
              "16-03-2015    23\n",
              "17-03-2015    23\n",
              "01-09-2015    22\n",
              "Name: Date, Length: 728, dtype: int64"
            ]
          },
          "metadata": {
            "tags": []
          },
          "execution_count": 86
        }
      ]
    },
    {
      "cell_type": "code",
      "metadata": {
        "id": "-vggJptVnRsW",
        "outputId": "99499694-ef0f-468c-c5da-6addce1efcb6",
        "colab": {
          "base_uri": "https://localhost:8080/",
          "height": 121
        }
      },
      "source": [
        "df['Date'].value_counts().tail(5)"
      ],
      "execution_count": 87,
      "outputs": [
        {
          "output_type": "execute_result",
          "data": {
            "text/plain": [
              "29-06-2014    26\n",
              "04-07-2014    24\n",
              "16-03-2015    23\n",
              "17-03-2015    23\n",
              "01-09-2015    22\n",
              "Name: Date, dtype: int64"
            ]
          },
          "metadata": {
            "tags": []
          },
          "execution_count": 87
        }
      ]
    },
    {
      "cell_type": "code",
      "metadata": {
        "id": "v4MsCERiIoBH",
        "outputId": "6a947575-568c-4af2-89ab-ceaa85a0b255",
        "colab": {
          "base_uri": "https://localhost:8080/",
          "height": 341
        }
      },
      "source": [
        "sns.barplot(x=df['Date'].value_counts().tail(5).index, y=df['Date'].value_counts().tail(5).values)"
      ],
      "execution_count": 88,
      "outputs": [
        {
          "output_type": "execute_result",
          "data": {
            "text/plain": [
              "<matplotlib.axes._subplots.AxesSubplot at 0x7f6024650828>"
            ]
          },
          "metadata": {
            "tags": []
          },
          "execution_count": 88
        },
        {
          "output_type": "display_data",
          "data": {
            "image/png": "[encoded data removed]",
            "text/plain": [
              "<Figure size 648x360 with 1 Axes>"
            ]
          },
          "metadata": {
            "tags": [],
            "needs_background": "light"
          }
        }
      ]
    },
    {
      "cell_type": "markdown",
      "metadata": {
        "id": "9nbsrDwmIoBN"
      },
      "source": [
        "Tried to display te scatter plot for head of 10 entries of Member and itemdesciption. \"Whole milk\" has good number of entries for the multiple numbers."
      ]
    },
    {
      "cell_type": "code",
      "metadata": {
        "id": "C7ycc9q0IoBO",
        "outputId": "18879d6c-0155-4cd4-e30f-3348b00c7ad6",
        "colab": {
          "base_uri": "https://localhost:8080/",
          "height": 417
        }
      },
      "source": [
        "df1 = df.head(10)\n",
        "sns.scatterplot(df1.Member_number, # X-axis\n",
        "                df1.itemDescription,  # Y-axis\n",
        "                hue=df1.Member_number,  # Dot color\n",
        "                s=100);\n",
        "\n",
        "# Title of the Chart\n",
        "plt.title(\"Grocery items\");"
      ],
      "execution_count": 89,
      "outputs": [
        {
          "output_type": "stream",
          "text": [
            "/usr/local/lib/python3.6/dist-packages/seaborn/_decorators.py:43: FutureWarning: Pass the following variables as keyword args: x, y. From version 0.12, the only valid positional argument will be `data`, and passing other arguments without an explicit keyword will result in an error or misinterpretation.\n",
            "  FutureWarning\n"
          ],
          "name": "stderr"
        },
        {
          "output_type": "display_data",
          "data": {
            "image/png": "[encoded data removed]",
            "text/plain": [
              "<Figure size 648x360 with 1 Axes>"
            ]
          },
          "metadata": {
            "tags": [],
            "needs_background": "light"
          }
        }
      ]
    },
    {
      "cell_type": "markdown",
      "metadata": {
        "id": "NnECZ6AoIoBb"
      },
      "source": [
        "Let us save and upload our work to Jovian before continuing"
      ]
    },
    {
      "cell_type": "code",
      "metadata": {
        "id": "HkTSsYgAIoBc"
      },
      "source": [
        "import jovian"
      ],
      "execution_count": 90,
      "outputs": []
    },
    {
      "cell_type": "code",
      "metadata": {
        "id": "4HRkg-9rIoBh",
        "outputId": "1a47df38-158f-44b5-cb08-c259ee6e1c02",
        "colab": {
          "base_uri": "https://localhost:8080/",
          "height": 52
        }
      },
      "source": [
        "jovian.commit()"
      ],
      "execution_count": 91,
      "outputs": [
        {
          "output_type": "stream",
          "text": [
            "[jovian] Detected Colab notebook...\u001b[0m\n"
          ],
          "name": "stdout"
        },
        {
          "output_type": "stream",
          "text": [
            "\u001b[31m[jovian] Error: Please provide the project argument e.g. jovian.commit(project='my-project')\u001b[0m\n"
          ],
          "name": "stderr"
        }
      ]
    },
    {
      "cell_type": "markdown",
      "metadata": {
        "id": "fyJZqmMCIoBk"
      },
      "source": [
        "## Asking and Answering Questions\n",
        "\n",
        "\n"
      ]
    },
    {
      "cell_type": "markdown",
      "metadata": {
        "id": "Ym9tiVxwIoBo"
      },
      "source": [
        "#### Q1: Identify the all items which were bought by a member number."
      ]
    },
    {
      "cell_type": "code",
      "metadata": {
        "id": "CEW5fQLhIoBp",
        "outputId": "c9e97709-3e20-47ce-d03b-7e2daca2b66b",
        "colab": {
          "base_uri": "https://localhost:8080/",
          "height": 34
        }
      },
      "source": [
        "mem_num = input(\"Input the member number : (3180/3050) \")"
      ],
      "execution_count": 92,
      "outputs": [
        {
          "output_type": "stream",
          "text": [
            "Input the member number : (3180/3050) 3180\n"
          ],
          "name": "stdout"
        }
      ]
    },
    {
      "cell_type": "code",
      "metadata": {
        "id": "VnDLmJW2rDSx"
      },
      "source": [
        "df1 = (df[df['Member_number'] == int(mem_num)])"
      ],
      "execution_count": 93,
      "outputs": []
    },
    {
      "cell_type": "code",
      "metadata": {
        "id": "RqRH_ZasmzDD",
        "outputId": "e750caf8-03ff-4e70-9b4c-25e14ad5b3ec",
        "colab": {
          "base_uri": "https://localhost:8080/",
          "height": 1000
        }
      },
      "source": [
        "df1"
      ],
      "execution_count": 94,
      "outputs": [
        {
          "output_type": "execute_result",
          "data": {
            "text/html": [
              "<div>\n",
              "<style scoped>\n",
              "    .dataframe tbody tr th:only-of-type {\n",
              "        vertical-align: middle;\n",
              "    }\n",
              "\n",
              "    .dataframe tbody tr th {\n",
              "        vertical-align: top;\n",
              "    }\n",
              "\n",
              "    .dataframe thead th {\n",
              "        text-align: right;\n",
              "    }\n",
              "</style>\n",
              "<table border=\"1\" class=\"dataframe\">\n",
              "  <thead>\n",
              "    <tr style=\"text-align: right;\">\n",
              "      <th></th>\n",
              "      <th>Member_number</th>\n",
              "      <th>Date</th>\n",
              "      <th>itemDescription</th>\n",
              "    </tr>\n",
              "  </thead>\n",
              "  <tbody>\n",
              "    <tr>\n",
              "      <th>421</th>\n",
              "      <td>3180</td>\n",
              "      <td>15-03-2015</td>\n",
              "      <td>whole milk</td>\n",
              "    </tr>\n",
              "    <tr>\n",
              "      <th>1810</th>\n",
              "      <td>3180</td>\n",
              "      <td>04-05-2015</td>\n",
              "      <td>tropical fruit</td>\n",
              "    </tr>\n",
              "    <tr>\n",
              "      <th>2054</th>\n",
              "      <td>3180</td>\n",
              "      <td>06-02-2015</td>\n",
              "      <td>ham</td>\n",
              "    </tr>\n",
              "    <tr>\n",
              "      <th>4041</th>\n",
              "      <td>3180</td>\n",
              "      <td>19-10-2015</td>\n",
              "      <td>root vegetables</td>\n",
              "    </tr>\n",
              "    <tr>\n",
              "      <th>4482</th>\n",
              "      <td>3180</td>\n",
              "      <td>15-09-2015</td>\n",
              "      <td>bottled beer</td>\n",
              "    </tr>\n",
              "    <tr>\n",
              "      <th>5052</th>\n",
              "      <td>3180</td>\n",
              "      <td>19-10-2015</td>\n",
              "      <td>pastry</td>\n",
              "    </tr>\n",
              "    <tr>\n",
              "      <th>5467</th>\n",
              "      <td>3180</td>\n",
              "      <td>03-07-2015</td>\n",
              "      <td>sausage</td>\n",
              "    </tr>\n",
              "    <tr>\n",
              "      <th>7684</th>\n",
              "      <td>3180</td>\n",
              "      <td>03-07-2015</td>\n",
              "      <td>other vegetables</td>\n",
              "    </tr>\n",
              "    <tr>\n",
              "      <th>8034</th>\n",
              "      <td>3180</td>\n",
              "      <td>15-09-2015</td>\n",
              "      <td>tropical fruit</td>\n",
              "    </tr>\n",
              "    <tr>\n",
              "      <th>10056</th>\n",
              "      <td>3180</td>\n",
              "      <td>24-02-2014</td>\n",
              "      <td>citrus fruit</td>\n",
              "    </tr>\n",
              "    <tr>\n",
              "      <th>13853</th>\n",
              "      <td>3180</td>\n",
              "      <td>09-11-2014</td>\n",
              "      <td>whole milk</td>\n",
              "    </tr>\n",
              "    <tr>\n",
              "      <th>13973</th>\n",
              "      <td>3180</td>\n",
              "      <td>30-07-2014</td>\n",
              "      <td>yogurt</td>\n",
              "    </tr>\n",
              "    <tr>\n",
              "      <th>14533</th>\n",
              "      <td>3180</td>\n",
              "      <td>02-11-2014</td>\n",
              "      <td>other vegetables</td>\n",
              "    </tr>\n",
              "    <tr>\n",
              "      <th>16091</th>\n",
              "      <td>3180</td>\n",
              "      <td>19-10-2015</td>\n",
              "      <td>rolls/buns</td>\n",
              "    </tr>\n",
              "    <tr>\n",
              "      <th>16570</th>\n",
              "      <td>3180</td>\n",
              "      <td>15-03-2015</td>\n",
              "      <td>sugar</td>\n",
              "    </tr>\n",
              "    <tr>\n",
              "      <th>17959</th>\n",
              "      <td>3180</td>\n",
              "      <td>04-05-2015</td>\n",
              "      <td>zwieback</td>\n",
              "    </tr>\n",
              "    <tr>\n",
              "      <th>18203</th>\n",
              "      <td>3180</td>\n",
              "      <td>06-02-2015</td>\n",
              "      <td>sugar</td>\n",
              "    </tr>\n",
              "    <tr>\n",
              "      <th>20190</th>\n",
              "      <td>3180</td>\n",
              "      <td>19-10-2015</td>\n",
              "      <td>condensed milk</td>\n",
              "    </tr>\n",
              "    <tr>\n",
              "      <th>20631</th>\n",
              "      <td>3180</td>\n",
              "      <td>15-09-2015</td>\n",
              "      <td>domestic eggs</td>\n",
              "    </tr>\n",
              "    <tr>\n",
              "      <th>21201</th>\n",
              "      <td>3180</td>\n",
              "      <td>19-10-2015</td>\n",
              "      <td>tropical fruit</td>\n",
              "    </tr>\n",
              "    <tr>\n",
              "      <th>21616</th>\n",
              "      <td>3180</td>\n",
              "      <td>03-07-2015</td>\n",
              "      <td>margarine</td>\n",
              "    </tr>\n",
              "    <tr>\n",
              "      <th>23833</th>\n",
              "      <td>3180</td>\n",
              "      <td>03-07-2015</td>\n",
              "      <td>curd</td>\n",
              "    </tr>\n",
              "    <tr>\n",
              "      <th>24183</th>\n",
              "      <td>3180</td>\n",
              "      <td>15-09-2015</td>\n",
              "      <td>baking powder</td>\n",
              "    </tr>\n",
              "    <tr>\n",
              "      <th>26205</th>\n",
              "      <td>3180</td>\n",
              "      <td>24-02-2014</td>\n",
              "      <td>domestic eggs</td>\n",
              "    </tr>\n",
              "    <tr>\n",
              "      <th>30002</th>\n",
              "      <td>3180</td>\n",
              "      <td>09-11-2014</td>\n",
              "      <td>flour</td>\n",
              "    </tr>\n",
              "    <tr>\n",
              "      <th>30122</th>\n",
              "      <td>3180</td>\n",
              "      <td>30-07-2014</td>\n",
              "      <td>whole milk</td>\n",
              "    </tr>\n",
              "    <tr>\n",
              "      <th>30682</th>\n",
              "      <td>3180</td>\n",
              "      <td>02-11-2014</td>\n",
              "      <td>rolls/buns</td>\n",
              "    </tr>\n",
              "    <tr>\n",
              "      <th>32240</th>\n",
              "      <td>3180</td>\n",
              "      <td>19-10-2015</td>\n",
              "      <td>bathroom cleaner</td>\n",
              "    </tr>\n",
              "    <tr>\n",
              "      <th>33983</th>\n",
              "      <td>3180</td>\n",
              "      <td>09-11-2014</td>\n",
              "      <td>whole milk</td>\n",
              "    </tr>\n",
              "    <tr>\n",
              "      <th>34103</th>\n",
              "      <td>3180</td>\n",
              "      <td>30-07-2014</td>\n",
              "      <td>onions</td>\n",
              "    </tr>\n",
              "    <tr>\n",
              "      <th>35802</th>\n",
              "      <td>3180</td>\n",
              "      <td>03-07-2015</td>\n",
              "      <td>pastry</td>\n",
              "    </tr>\n",
              "    <tr>\n",
              "      <th>36030</th>\n",
              "      <td>3180</td>\n",
              "      <td>19-10-2015</td>\n",
              "      <td>waffles</td>\n",
              "    </tr>\n",
              "    <tr>\n",
              "      <th>36236</th>\n",
              "      <td>3180</td>\n",
              "      <td>19-10-2015</td>\n",
              "      <td>canned beer</td>\n",
              "    </tr>\n",
              "    <tr>\n",
              "      <th>36651</th>\n",
              "      <td>3180</td>\n",
              "      <td>03-07-2015</td>\n",
              "      <td>newspapers</td>\n",
              "    </tr>\n",
              "    <tr>\n",
              "      <th>37300</th>\n",
              "      <td>3180</td>\n",
              "      <td>09-11-2014</td>\n",
              "      <td>margarine</td>\n",
              "    </tr>\n",
              "    <tr>\n",
              "      <th>37420</th>\n",
              "      <td>3180</td>\n",
              "      <td>30-07-2014</td>\n",
              "      <td>sugar</td>\n",
              "    </tr>\n",
              "  </tbody>\n",
              "</table>\n",
              "</div>"
            ],
            "text/plain": [
              "       Member_number        Date   itemDescription\n",
              "421             3180  15-03-2015        whole milk\n",
              "1810            3180  04-05-2015    tropical fruit\n",
              "2054            3180  06-02-2015               ham\n",
              "4041            3180  19-10-2015   root vegetables\n",
              "4482            3180  15-09-2015      bottled beer\n",
              "5052            3180  19-10-2015            pastry\n",
              "5467            3180  03-07-2015           sausage\n",
              "7684            3180  03-07-2015  other vegetables\n",
              "8034            3180  15-09-2015    tropical fruit\n",
              "10056           3180  24-02-2014      citrus fruit\n",
              "13853           3180  09-11-2014        whole milk\n",
              "13973           3180  30-07-2014            yogurt\n",
              "14533           3180  02-11-2014  other vegetables\n",
              "16091           3180  19-10-2015        rolls/buns\n",
              "16570           3180  15-03-2015             sugar\n",
              "17959           3180  04-05-2015          zwieback\n",
              "18203           3180  06-02-2015             sugar\n",
              "20190           3180  19-10-2015    condensed milk\n",
              "20631           3180  15-09-2015     domestic eggs\n",
              "21201           3180  19-10-2015    tropical fruit\n",
              "21616           3180  03-07-2015         margarine\n",
              "23833           3180  03-07-2015              curd\n",
              "24183           3180  15-09-2015     baking powder\n",
              "26205           3180  24-02-2014     domestic eggs\n",
              "30002           3180  09-11-2014             flour\n",
              "30122           3180  30-07-2014        whole milk\n",
              "30682           3180  02-11-2014        rolls/buns\n",
              "32240           3180  19-10-2015  bathroom cleaner\n",
              "33983           3180  09-11-2014        whole milk\n",
              "34103           3180  30-07-2014            onions\n",
              "35802           3180  03-07-2015            pastry\n",
              "36030           3180  19-10-2015           waffles\n",
              "36236           3180  19-10-2015       canned beer\n",
              "36651           3180  03-07-2015        newspapers\n",
              "37300           3180  09-11-2014         margarine\n",
              "37420           3180  30-07-2014             sugar"
            ]
          },
          "metadata": {
            "tags": []
          },
          "execution_count": 94
        }
      ]
    },
    {
      "cell_type": "markdown",
      "metadata": {
        "id": "ciMvqWASIoB0"
      },
      "source": [
        "#### Q2: How many types of particular items are available"
      ]
    },
    {
      "cell_type": "code",
      "metadata": {
        "id": "upRwgLezIoB0",
        "outputId": "f32dcbf4-3776-4ae3-eb51-b03189a0be69",
        "colab": {
          "base_uri": "https://localhost:8080/",
          "height": 225
        }
      },
      "source": [
        "df.itemDescription.unique"
      ],
      "execution_count": 95,
      "outputs": [
        {
          "output_type": "execute_result",
          "data": {
            "text/plain": [
              "<bound method Series.unique of 0               tropical fruit\n",
              "1                   whole milk\n",
              "2                    pip fruit\n",
              "3             other vegetables\n",
              "4                   whole milk\n",
              "                 ...          \n",
              "38760            sliced cheese\n",
              "38761                    candy\n",
              "38762                 cake bar\n",
              "38763    fruit/vegetable juice\n",
              "38764                 cat food\n",
              "Name: itemDescription, Length: 38765, dtype: object>"
            ]
          },
          "metadata": {
            "tags": []
          },
          "execution_count": 95
        }
      ]
    },
    {
      "cell_type": "code",
      "metadata": {
        "id": "YSFFcRqYIoB2"
      },
      "source": [
        "def chek_val(val):\n",
        "    return df[df['itemDescription'].str.contains(val)]['itemDescription'].value_counts()"
      ],
      "execution_count": 96,
      "outputs": []
    },
    {
      "cell_type": "markdown",
      "metadata": {
        "id": "YLQyBFeonE9i"
      },
      "source": [
        "Here we need to provide the name of the \"item\" as an input."
      ]
    },
    {
      "cell_type": "code",
      "metadata": {
        "id": "z8EVBW9kuMgQ",
        "outputId": "636ab9e6-3a7b-45f8-fea8-e161964e776d",
        "colab": {
          "base_uri": "https://localhost:8080/",
          "height": 52
        }
      },
      "source": [
        "in_type = input(\"Input a type : (fruit/milk/cheese/candy/bar/juice/food) : \")\n",
        "print(\"Given type : \", in_type)"
      ],
      "execution_count": 97,
      "outputs": [
        {
          "output_type": "stream",
          "text": [
            "Input a type : (fruit/milk/cheese/candy/bar/juice/food) : food\n",
            "Given type :  food\n"
          ],
          "name": "stdout"
        }
      ]
    },
    {
      "cell_type": "code",
      "metadata": {
        "id": "E0-XgrOTIoB4",
        "outputId": "fbd02046-bff0-4841-e322-682e3e827ac8",
        "colab": {
          "base_uri": "https://localhost:8080/",
          "height": 86
        }
      },
      "source": [
        "chek_val(in_type)"
      ],
      "execution_count": 98,
      "outputs": [
        {
          "output_type": "execute_result",
          "data": {
            "text/plain": [
              "cat food                 177\n",
              "dog food                  67\n",
              "Instant food products     60\n",
              "Name: itemDescription, dtype: int64"
            ]
          },
          "metadata": {
            "tags": []
          },
          "execution_count": 98
        }
      ]
    },
    {
      "cell_type": "markdown",
      "metadata": {
        "id": "QsVLtzmancCN"
      },
      "source": [
        "Below graph shows the number of items based on the selected item."
      ]
    },
    {
      "cell_type": "code",
      "metadata": {
        "id": "zVGQ9rUpuuXA",
        "outputId": "c180afd6-5c8c-4912-9051-c6d271f3c1ed",
        "colab": {
          "base_uri": "https://localhost:8080/",
          "height": 341
        }
      },
      "source": [
        "sns.barplot(x=chek_val(in_type).head(4).index, y=chek_val(in_type).head(4).values)"
      ],
      "execution_count": 99,
      "outputs": [
        {
          "output_type": "execute_result",
          "data": {
            "text/plain": [
              "<matplotlib.axes._subplots.AxesSubplot at 0x7f602467dc88>"
            ]
          },
          "metadata": {
            "tags": []
          },
          "execution_count": 99
        },
        {
          "output_type": "display_data",
          "data": {
            "image/png": "[encoded data removed]",
            "text/plain": [
              "<Figure size 648x360 with 1 Axes>"
            ]
          },
          "metadata": {
            "tags": [],
            "needs_background": "light"
          }
        }
      ]
    },
    {
      "cell_type": "markdown",
      "metadata": {
        "id": "sqAniJmsIoB8"
      },
      "source": [
        "#### Q3: Display Nummber of items bougt by a member group by different Items."
      ]
    },
    {
      "cell_type": "code",
      "metadata": {
        "id": "ObHS4QlkIoB8",
        "outputId": "c1542eab-288d-44fa-8e10-f23d6b6e55b0",
        "colab": {
          "base_uri": "https://localhost:8080/",
          "height": 206
        }
      },
      "source": [
        "df1 = df\n",
        "df1.head(5)"
      ],
      "execution_count": 100,
      "outputs": [
        {
          "output_type": "execute_result",
          "data": {
            "text/html": [
              "<div>\n",
              "<style scoped>\n",
              "    .dataframe tbody tr th:only-of-type {\n",
              "        vertical-align: middle;\n",
              "    }\n",
              "\n",
              "    .dataframe tbody tr th {\n",
              "        vertical-align: top;\n",
              "    }\n",
              "\n",
              "    .dataframe thead th {\n",
              "        text-align: right;\n",
              "    }\n",
              "</style>\n",
              "<table border=\"1\" class=\"dataframe\">\n",
              "  <thead>\n",
              "    <tr style=\"text-align: right;\">\n",
              "      <th></th>\n",
              "      <th>Member_number</th>\n",
              "      <th>Date</th>\n",
              "      <th>itemDescription</th>\n",
              "    </tr>\n",
              "  </thead>\n",
              "  <tbody>\n",
              "    <tr>\n",
              "      <th>0</th>\n",
              "      <td>1808</td>\n",
              "      <td>21-07-2015</td>\n",
              "      <td>tropical fruit</td>\n",
              "    </tr>\n",
              "    <tr>\n",
              "      <th>1</th>\n",
              "      <td>2552</td>\n",
              "      <td>05-01-2015</td>\n",
              "      <td>whole milk</td>\n",
              "    </tr>\n",
              "    <tr>\n",
              "      <th>2</th>\n",
              "      <td>2300</td>\n",
              "      <td>19-09-2015</td>\n",
              "      <td>pip fruit</td>\n",
              "    </tr>\n",
              "    <tr>\n",
              "      <th>3</th>\n",
              "      <td>1187</td>\n",
              "      <td>12-12-2015</td>\n",
              "      <td>other vegetables</td>\n",
              "    </tr>\n",
              "    <tr>\n",
              "      <th>4</th>\n",
              "      <td>3037</td>\n",
              "      <td>01-02-2015</td>\n",
              "      <td>whole milk</td>\n",
              "    </tr>\n",
              "  </tbody>\n",
              "</table>\n",
              "</div>"
            ],
            "text/plain": [
              "   Member_number        Date   itemDescription\n",
              "0           1808  21-07-2015    tropical fruit\n",
              "1           2552  05-01-2015        whole milk\n",
              "2           2300  19-09-2015         pip fruit\n",
              "3           1187  12-12-2015  other vegetables\n",
              "4           3037  01-02-2015        whole milk"
            ]
          },
          "metadata": {
            "tags": []
          },
          "execution_count": 100
        }
      ]
    },
    {
      "cell_type": "code",
      "metadata": {
        "id": "lViS3mXxIoB_",
        "outputId": "aa510d81-9b52-44c4-cd35-fe4484f0eee5",
        "colab": {
          "base_uri": "https://localhost:8080/",
          "height": 206
        }
      },
      "source": [
        "df1['itemDescription']  =df1['itemDescription'].apply(lambda x:x+', ')\n",
        "df1.head(5)"
      ],
      "execution_count": 101,
      "outputs": [
        {
          "output_type": "execute_result",
          "data": {
            "text/html": [
              "<div>\n",
              "<style scoped>\n",
              "    .dataframe tbody tr th:only-of-type {\n",
              "        vertical-align: middle;\n",
              "    }\n",
              "\n",
              "    .dataframe tbody tr th {\n",
              "        vertical-align: top;\n",
              "    }\n",
              "\n",
              "    .dataframe thead th {\n",
              "        text-align: right;\n",
              "    }\n",
              "</style>\n",
              "<table border=\"1\" class=\"dataframe\">\n",
              "  <thead>\n",
              "    <tr style=\"text-align: right;\">\n",
              "      <th></th>\n",
              "      <th>Member_number</th>\n",
              "      <th>Date</th>\n",
              "      <th>itemDescription</th>\n",
              "    </tr>\n",
              "  </thead>\n",
              "  <tbody>\n",
              "    <tr>\n",
              "      <th>0</th>\n",
              "      <td>1808</td>\n",
              "      <td>21-07-2015</td>\n",
              "      <td>tropical fruit,</td>\n",
              "    </tr>\n",
              "    <tr>\n",
              "      <th>1</th>\n",
              "      <td>2552</td>\n",
              "      <td>05-01-2015</td>\n",
              "      <td>whole milk,</td>\n",
              "    </tr>\n",
              "    <tr>\n",
              "      <th>2</th>\n",
              "      <td>2300</td>\n",
              "      <td>19-09-2015</td>\n",
              "      <td>pip fruit,</td>\n",
              "    </tr>\n",
              "    <tr>\n",
              "      <th>3</th>\n",
              "      <td>1187</td>\n",
              "      <td>12-12-2015</td>\n",
              "      <td>other vegetables,</td>\n",
              "    </tr>\n",
              "    <tr>\n",
              "      <th>4</th>\n",
              "      <td>3037</td>\n",
              "      <td>01-02-2015</td>\n",
              "      <td>whole milk,</td>\n",
              "    </tr>\n",
              "  </tbody>\n",
              "</table>\n",
              "</div>"
            ],
            "text/plain": [
              "   Member_number        Date     itemDescription\n",
              "0           1808  21-07-2015    tropical fruit, \n",
              "1           2552  05-01-2015        whole milk, \n",
              "2           2300  19-09-2015         pip fruit, \n",
              "3           1187  12-12-2015  other vegetables, \n",
              "4           3037  01-02-2015        whole milk, "
            ]
          },
          "metadata": {
            "tags": []
          },
          "execution_count": 101
        }
      ]
    },
    {
      "cell_type": "code",
      "metadata": {
        "id": "fryrjwclIoCB"
      },
      "source": [
        "val = df1.groupby(['Member_number','Date'])['itemDescription'].sum()"
      ],
      "execution_count": 102,
      "outputs": []
    },
    {
      "cell_type": "code",
      "metadata": {
        "id": "RbG16N1gwQXh",
        "outputId": "40c259e0-5191-4434-de28-602adf1d94da",
        "colab": {
          "base_uri": "https://localhost:8080/",
          "height": 225
        }
      },
      "source": [
        "val.head(10)"
      ],
      "execution_count": 103,
      "outputs": [
        {
          "output_type": "execute_result",
          "data": {
            "text/plain": [
              "Member_number  Date      \n",
              "1000           15-03-2015    sausage, whole milk, semi-finished bread, yogu...\n",
              "               24-06-2014                    whole milk, pastry, salty snack, \n",
              "               24-07-2015                       canned beer, misc. beverages, \n",
              "               25-11-2015                          sausage, hygiene articles, \n",
              "               27-05-2015                           soda, pickled vegetables, \n",
              "1001           02-05-2015                                  frankfurter, curd, \n",
              "               07-02-2014                    sausage, whole milk, rolls/buns, \n",
              "               12-12-2014                                   whole milk, soda, \n",
              "               14-04-2015                                  beef, white bread, \n",
              "               20-01-2015              frankfurter, soda, whipped/sour cream, \n",
              "Name: itemDescription, dtype: object"
            ]
          },
          "metadata": {
            "tags": []
          },
          "execution_count": 103
        }
      ]
    },
    {
      "cell_type": "code",
      "metadata": {
        "id": "ehlJYbFBwZO1"
      },
      "source": [
        "val = pd.DataFrame(val).reset_index()"
      ],
      "execution_count": 104,
      "outputs": []
    },
    {
      "cell_type": "code",
      "metadata": {
        "id": "xqHe4K0cwalQ",
        "outputId": "e35538a9-4344-4f1a-aa82-61a77fc5791a",
        "colab": {
          "base_uri": "https://localhost:8080/",
          "height": 363
        }
      },
      "source": [
        "val.head(10)"
      ],
      "execution_count": 105,
      "outputs": [
        {
          "output_type": "execute_result",
          "data": {
            "text/html": [
              "<div>\n",
              "<style scoped>\n",
              "    .dataframe tbody tr th:only-of-type {\n",
              "        vertical-align: middle;\n",
              "    }\n",
              "\n",
              "    .dataframe tbody tr th {\n",
              "        vertical-align: top;\n",
              "    }\n",
              "\n",
              "    .dataframe thead th {\n",
              "        text-align: right;\n",
              "    }\n",
              "</style>\n",
              "<table border=\"1\" class=\"dataframe\">\n",
              "  <thead>\n",
              "    <tr style=\"text-align: right;\">\n",
              "      <th></th>\n",
              "      <th>Member_number</th>\n",
              "      <th>Date</th>\n",
              "      <th>itemDescription</th>\n",
              "    </tr>\n",
              "  </thead>\n",
              "  <tbody>\n",
              "    <tr>\n",
              "      <th>0</th>\n",
              "      <td>1000</td>\n",
              "      <td>15-03-2015</td>\n",
              "      <td>sausage, whole milk, semi-finished bread, yogu...</td>\n",
              "    </tr>\n",
              "    <tr>\n",
              "      <th>1</th>\n",
              "      <td>1000</td>\n",
              "      <td>24-06-2014</td>\n",
              "      <td>whole milk, pastry, salty snack,</td>\n",
              "    </tr>\n",
              "    <tr>\n",
              "      <th>2</th>\n",
              "      <td>1000</td>\n",
              "      <td>24-07-2015</td>\n",
              "      <td>canned beer, misc. beverages,</td>\n",
              "    </tr>\n",
              "    <tr>\n",
              "      <th>3</th>\n",
              "      <td>1000</td>\n",
              "      <td>25-11-2015</td>\n",
              "      <td>sausage, hygiene articles,</td>\n",
              "    </tr>\n",
              "    <tr>\n",
              "      <th>4</th>\n",
              "      <td>1000</td>\n",
              "      <td>27-05-2015</td>\n",
              "      <td>soda, pickled vegetables,</td>\n",
              "    </tr>\n",
              "    <tr>\n",
              "      <th>5</th>\n",
              "      <td>1001</td>\n",
              "      <td>02-05-2015</td>\n",
              "      <td>frankfurter, curd,</td>\n",
              "    </tr>\n",
              "    <tr>\n",
              "      <th>6</th>\n",
              "      <td>1001</td>\n",
              "      <td>07-02-2014</td>\n",
              "      <td>sausage, whole milk, rolls/buns,</td>\n",
              "    </tr>\n",
              "    <tr>\n",
              "      <th>7</th>\n",
              "      <td>1001</td>\n",
              "      <td>12-12-2014</td>\n",
              "      <td>whole milk, soda,</td>\n",
              "    </tr>\n",
              "    <tr>\n",
              "      <th>8</th>\n",
              "      <td>1001</td>\n",
              "      <td>14-04-2015</td>\n",
              "      <td>beef, white bread,</td>\n",
              "    </tr>\n",
              "    <tr>\n",
              "      <th>9</th>\n",
              "      <td>1001</td>\n",
              "      <td>20-01-2015</td>\n",
              "      <td>frankfurter, soda, whipped/sour cream,</td>\n",
              "    </tr>\n",
              "  </tbody>\n",
              "</table>\n",
              "</div>"
            ],
            "text/plain": [
              "   Member_number        Date                                    itemDescription\n",
              "0           1000  15-03-2015  sausage, whole milk, semi-finished bread, yogu...\n",
              "1           1000  24-06-2014                  whole milk, pastry, salty snack, \n",
              "2           1000  24-07-2015                     canned beer, misc. beverages, \n",
              "3           1000  25-11-2015                        sausage, hygiene articles, \n",
              "4           1000  27-05-2015                         soda, pickled vegetables, \n",
              "5           1001  02-05-2015                                frankfurter, curd, \n",
              "6           1001  07-02-2014                  sausage, whole milk, rolls/buns, \n",
              "7           1001  12-12-2014                                 whole milk, soda, \n",
              "8           1001  14-04-2015                                beef, white bread, \n",
              "9           1001  20-01-2015            frankfurter, soda, whipped/sour cream, "
            ]
          },
          "metadata": {
            "tags": []
          },
          "execution_count": 105
        }
      ]
    },
    {
      "cell_type": "code",
      "metadata": {
        "id": "DLHHNd1js2J4",
        "outputId": "9bb484b2-094d-4a1b-8323-8017df11085e",
        "colab": {
          "base_uri": "https://localhost:8080/",
          "height": 341
        }
      },
      "source": [
        "sns.barplot(x=chek_val(in_type).head(4).index, y=chek_val(in_type).head(4).values)"
      ],
      "execution_count": 106,
      "outputs": [
        {
          "output_type": "execute_result",
          "data": {
            "text/plain": [
              "<matplotlib.axes._subplots.AxesSubplot at 0x7f60240e2978>"
            ]
          },
          "metadata": {
            "tags": []
          },
          "execution_count": 106
        },
        {
          "output_type": "display_data",
          "data": {
            "image/png": "[encoded data removed]",
            "text/plain": [
              "<Figure size 648x360 with 1 Axes>"
            ]
          },
          "metadata": {
            "tags": [],
            "needs_background": "light"
          }
        }
      ]
    },
    {
      "cell_type": "markdown",
      "metadata": {
        "id": "KWZrgCuhIoCF"
      },
      "source": [
        "#### Q4: Display number of items bought based on a specific date"
      ]
    },
    {
      "cell_type": "code",
      "metadata": {
        "id": "7JD93Po7sTq9",
        "outputId": "f2f8943e-20d1-4ae2-ba02-9fea85024656",
        "colab": {
          "base_uri": "https://localhost:8080/",
          "height": 52
        }
      },
      "source": [
        "in_dt = input(\"Input the date : (14-04-2015/20-01-2015) : \")\n",
        "print(\"Given date : \", in_dt)"
      ],
      "execution_count": 107,
      "outputs": [
        {
          "output_type": "stream",
          "text": [
            "Input the date : (14004-2015/20-01-2015) : 20-01-2015\n",
            "Given date :  20-01-2015\n"
          ],
          "name": "stdout"
        }
      ]
    },
    {
      "cell_type": "code",
      "metadata": {
        "id": "i4q_iJihIoCF"
      },
      "source": [
        "df1 = (df[df['Date'] == (in_dt)])"
      ],
      "execution_count": 108,
      "outputs": []
    },
    {
      "cell_type": "code",
      "metadata": {
        "id": "F3v4OwuRIoCN",
        "outputId": "c7c69734-6511-4fe6-fbd2-bca3c9243b4f",
        "colab": {
          "base_uri": "https://localhost:8080/",
          "height": 1000
        }
      },
      "source": [
        "df1"
      ],
      "execution_count": 109,
      "outputs": [
        {
          "output_type": "execute_result",
          "data": {
            "text/html": [
              "<div>\n",
              "<style scoped>\n",
              "    .dataframe tbody tr th:only-of-type {\n",
              "        vertical-align: middle;\n",
              "    }\n",
              "\n",
              "    .dataframe tbody tr th {\n",
              "        vertical-align: top;\n",
              "    }\n",
              "\n",
              "    .dataframe thead th {\n",
              "        text-align: right;\n",
              "    }\n",
              "</style>\n",
              "<table border=\"1\" class=\"dataframe\">\n",
              "  <thead>\n",
              "    <tr style=\"text-align: right;\">\n",
              "      <th></th>\n",
              "      <th>Member_number</th>\n",
              "      <th>Date</th>\n",
              "      <th>itemDescription</th>\n",
              "    </tr>\n",
              "  </thead>\n",
              "  <tbody>\n",
              "    <tr>\n",
              "      <th>59</th>\n",
              "      <td>1967</td>\n",
              "      <td>20-01-2015</td>\n",
              "      <td>other vegetables,</td>\n",
              "    </tr>\n",
              "    <tr>\n",
              "      <th>364</th>\n",
              "      <td>1001</td>\n",
              "      <td>20-01-2015</td>\n",
              "      <td>frankfurter,</td>\n",
              "    </tr>\n",
              "    <tr>\n",
              "      <th>1991</th>\n",
              "      <td>3985</td>\n",
              "      <td>20-01-2015</td>\n",
              "      <td>bottled water,</td>\n",
              "    </tr>\n",
              "    <tr>\n",
              "      <th>2554</th>\n",
              "      <td>2235</td>\n",
              "      <td>20-01-2015</td>\n",
              "      <td>meat,</td>\n",
              "    </tr>\n",
              "    <tr>\n",
              "      <th>2820</th>\n",
              "      <td>3575</td>\n",
              "      <td>20-01-2015</td>\n",
              "      <td>photo/film,</td>\n",
              "    </tr>\n",
              "    <tr>\n",
              "      <th>3045</th>\n",
              "      <td>2075</td>\n",
              "      <td>20-01-2015</td>\n",
              "      <td>baking powder,</td>\n",
              "    </tr>\n",
              "    <tr>\n",
              "      <th>3053</th>\n",
              "      <td>3797</td>\n",
              "      <td>20-01-2015</td>\n",
              "      <td>sausage,</td>\n",
              "    </tr>\n",
              "    <tr>\n",
              "      <th>3403</th>\n",
              "      <td>4390</td>\n",
              "      <td>20-01-2015</td>\n",
              "      <td>whole milk,</td>\n",
              "    </tr>\n",
              "    <tr>\n",
              "      <th>3527</th>\n",
              "      <td>2544</td>\n",
              "      <td>20-01-2015</td>\n",
              "      <td>tropical fruit,</td>\n",
              "    </tr>\n",
              "    <tr>\n",
              "      <th>3745</th>\n",
              "      <td>2889</td>\n",
              "      <td>20-01-2015</td>\n",
              "      <td>citrus fruit,</td>\n",
              "    </tr>\n",
              "    <tr>\n",
              "      <th>4465</th>\n",
              "      <td>4744</td>\n",
              "      <td>20-01-2015</td>\n",
              "      <td>hamburger meat,</td>\n",
              "    </tr>\n",
              "    <tr>\n",
              "      <th>5483</th>\n",
              "      <td>2430</td>\n",
              "      <td>20-01-2015</td>\n",
              "      <td>fruit/vegetable juice,</td>\n",
              "    </tr>\n",
              "    <tr>\n",
              "      <th>6123</th>\n",
              "      <td>1492</td>\n",
              "      <td>20-01-2015</td>\n",
              "      <td>cat food,</td>\n",
              "    </tr>\n",
              "    <tr>\n",
              "      <th>6245</th>\n",
              "      <td>2682</td>\n",
              "      <td>20-01-2015</td>\n",
              "      <td>canned beer,</td>\n",
              "    </tr>\n",
              "    <tr>\n",
              "      <th>6620</th>\n",
              "      <td>2527</td>\n",
              "      <td>20-01-2015</td>\n",
              "      <td>canned beer,</td>\n",
              "    </tr>\n",
              "    <tr>\n",
              "      <th>7136</th>\n",
              "      <td>1967</td>\n",
              "      <td>20-01-2015</td>\n",
              "      <td>whole milk,</td>\n",
              "    </tr>\n",
              "    <tr>\n",
              "      <th>7700</th>\n",
              "      <td>2430</td>\n",
              "      <td>20-01-2015</td>\n",
              "      <td>specialty bar,</td>\n",
              "    </tr>\n",
              "    <tr>\n",
              "      <th>16208</th>\n",
              "      <td>1967</td>\n",
              "      <td>20-01-2015</td>\n",
              "      <td>brown bread,</td>\n",
              "    </tr>\n",
              "    <tr>\n",
              "      <th>16513</th>\n",
              "      <td>1001</td>\n",
              "      <td>20-01-2015</td>\n",
              "      <td>soda,</td>\n",
              "    </tr>\n",
              "    <tr>\n",
              "      <th>18140</th>\n",
              "      <td>3985</td>\n",
              "      <td>20-01-2015</td>\n",
              "      <td>bottled beer,</td>\n",
              "    </tr>\n",
              "    <tr>\n",
              "      <th>18703</th>\n",
              "      <td>2235</td>\n",
              "      <td>20-01-2015</td>\n",
              "      <td>whole milk,</td>\n",
              "    </tr>\n",
              "    <tr>\n",
              "      <th>18969</th>\n",
              "      <td>3575</td>\n",
              "      <td>20-01-2015</td>\n",
              "      <td>bottled water,</td>\n",
              "    </tr>\n",
              "    <tr>\n",
              "      <th>19194</th>\n",
              "      <td>2075</td>\n",
              "      <td>20-01-2015</td>\n",
              "      <td>root vegetables,</td>\n",
              "    </tr>\n",
              "    <tr>\n",
              "      <th>19202</th>\n",
              "      <td>3797</td>\n",
              "      <td>20-01-2015</td>\n",
              "      <td>cream,</td>\n",
              "    </tr>\n",
              "    <tr>\n",
              "      <th>19552</th>\n",
              "      <td>4390</td>\n",
              "      <td>20-01-2015</td>\n",
              "      <td>coffee,</td>\n",
              "    </tr>\n",
              "    <tr>\n",
              "      <th>19676</th>\n",
              "      <td>2544</td>\n",
              "      <td>20-01-2015</td>\n",
              "      <td>frozen potato products,</td>\n",
              "    </tr>\n",
              "    <tr>\n",
              "      <th>19894</th>\n",
              "      <td>2889</td>\n",
              "      <td>20-01-2015</td>\n",
              "      <td>yogurt,</td>\n",
              "    </tr>\n",
              "    <tr>\n",
              "      <th>20614</th>\n",
              "      <td>4744</td>\n",
              "      <td>20-01-2015</td>\n",
              "      <td>soda,</td>\n",
              "    </tr>\n",
              "    <tr>\n",
              "      <th>21632</th>\n",
              "      <td>2430</td>\n",
              "      <td>20-01-2015</td>\n",
              "      <td>root vegetables,</td>\n",
              "    </tr>\n",
              "    <tr>\n",
              "      <th>22272</th>\n",
              "      <td>1492</td>\n",
              "      <td>20-01-2015</td>\n",
              "      <td>other vegetables,</td>\n",
              "    </tr>\n",
              "    <tr>\n",
              "      <th>22394</th>\n",
              "      <td>2682</td>\n",
              "      <td>20-01-2015</td>\n",
              "      <td>whole milk,</td>\n",
              "    </tr>\n",
              "    <tr>\n",
              "      <th>22769</th>\n",
              "      <td>2527</td>\n",
              "      <td>20-01-2015</td>\n",
              "      <td>meat,</td>\n",
              "    </tr>\n",
              "    <tr>\n",
              "      <th>23285</th>\n",
              "      <td>1967</td>\n",
              "      <td>20-01-2015</td>\n",
              "      <td>hard cheese,</td>\n",
              "    </tr>\n",
              "    <tr>\n",
              "      <th>23849</th>\n",
              "      <td>2430</td>\n",
              "      <td>20-01-2015</td>\n",
              "      <td>sliced cheese,</td>\n",
              "    </tr>\n",
              "    <tr>\n",
              "      <th>32575</th>\n",
              "      <td>1001</td>\n",
              "      <td>20-01-2015</td>\n",
              "      <td>whipped/sour cream,</td>\n",
              "    </tr>\n",
              "    <tr>\n",
              "      <th>34710</th>\n",
              "      <td>4390</td>\n",
              "      <td>20-01-2015</td>\n",
              "      <td>soft cheese,</td>\n",
              "    </tr>\n",
              "    <tr>\n",
              "      <th>34834</th>\n",
              "      <td>2544</td>\n",
              "      <td>20-01-2015</td>\n",
              "      <td>vinegar,</td>\n",
              "    </tr>\n",
              "    <tr>\n",
              "      <th>35818</th>\n",
              "      <td>2430</td>\n",
              "      <td>20-01-2015</td>\n",
              "      <td>butter,</td>\n",
              "    </tr>\n",
              "    <tr>\n",
              "      <th>36147</th>\n",
              "      <td>1967</td>\n",
              "      <td>20-01-2015</td>\n",
              "      <td>waffles,</td>\n",
              "    </tr>\n",
              "    <tr>\n",
              "      <th>36667</th>\n",
              "      <td>2430</td>\n",
              "      <td>20-01-2015</td>\n",
              "      <td>chocolate,</td>\n",
              "    </tr>\n",
              "  </tbody>\n",
              "</table>\n",
              "</div>"
            ],
            "text/plain": [
              "       Member_number        Date           itemDescription\n",
              "59              1967  20-01-2015        other vegetables, \n",
              "364             1001  20-01-2015             frankfurter, \n",
              "1991            3985  20-01-2015           bottled water, \n",
              "2554            2235  20-01-2015                    meat, \n",
              "2820            3575  20-01-2015              photo/film, \n",
              "3045            2075  20-01-2015           baking powder, \n",
              "3053            3797  20-01-2015                 sausage, \n",
              "3403            4390  20-01-2015              whole milk, \n",
              "3527            2544  20-01-2015          tropical fruit, \n",
              "3745            2889  20-01-2015            citrus fruit, \n",
              "4465            4744  20-01-2015          hamburger meat, \n",
              "5483            2430  20-01-2015   fruit/vegetable juice, \n",
              "6123            1492  20-01-2015                cat food, \n",
              "6245            2682  20-01-2015             canned beer, \n",
              "6620            2527  20-01-2015             canned beer, \n",
              "7136            1967  20-01-2015              whole milk, \n",
              "7700            2430  20-01-2015           specialty bar, \n",
              "16208           1967  20-01-2015             brown bread, \n",
              "16513           1001  20-01-2015                    soda, \n",
              "18140           3985  20-01-2015            bottled beer, \n",
              "18703           2235  20-01-2015              whole milk, \n",
              "18969           3575  20-01-2015           bottled water, \n",
              "19194           2075  20-01-2015         root vegetables, \n",
              "19202           3797  20-01-2015                   cream, \n",
              "19552           4390  20-01-2015                  coffee, \n",
              "19676           2544  20-01-2015  frozen potato products, \n",
              "19894           2889  20-01-2015                  yogurt, \n",
              "20614           4744  20-01-2015                    soda, \n",
              "21632           2430  20-01-2015         root vegetables, \n",
              "22272           1492  20-01-2015        other vegetables, \n",
              "22394           2682  20-01-2015              whole milk, \n",
              "22769           2527  20-01-2015                    meat, \n",
              "23285           1967  20-01-2015             hard cheese, \n",
              "23849           2430  20-01-2015           sliced cheese, \n",
              "32575           1001  20-01-2015      whipped/sour cream, \n",
              "34710           4390  20-01-2015             soft cheese, \n",
              "34834           2544  20-01-2015                 vinegar, \n",
              "35818           2430  20-01-2015                  butter, \n",
              "36147           1967  20-01-2015                 waffles, \n",
              "36667           2430  20-01-2015               chocolate, "
            ]
          },
          "metadata": {
            "tags": []
          },
          "execution_count": 109
        }
      ]
    },
    {
      "cell_type": "code",
      "metadata": {
        "id": "4CnhJ_-ws-16",
        "outputId": "1d07d184-a4c9-4f12-e665-56c7e008d7cc",
        "colab": {
          "base_uri": "https://localhost:8080/",
          "height": 34
        }
      },
      "source": [
        "df1.shape"
      ],
      "execution_count": 110,
      "outputs": [
        {
          "output_type": "execute_result",
          "data": {
            "text/plain": [
              "(40, 3)"
            ]
          },
          "metadata": {
            "tags": []
          },
          "execution_count": 110
        }
      ]
    },
    {
      "cell_type": "code",
      "metadata": {
        "id": "GC2b76NstLRW",
        "outputId": "423a95cf-e3b0-47d4-d141-1bd8250609b6",
        "colab": {
          "base_uri": "https://localhost:8080/",
          "height": 34
        }
      },
      "source": [
        "print(\"Total numer of entries is \", df1.shape[0], \" are done at the date : \", in_dt)"
      ],
      "execution_count": 111,
      "outputs": [
        {
          "output_type": "stream",
          "text": [
            "Total numer of entries is  40  are done at the date :  20-01-2015\n"
          ],
          "name": "stdout"
        }
      ]
    },
    {
      "cell_type": "markdown",
      "metadata": {
        "id": "MjLq0z4mIoCg"
      },
      "source": [
        "Let us save and upload our work to Jovian before continuing."
      ]
    },
    {
      "cell_type": "code",
      "metadata": {
        "id": "Qxo2I80bIoCh"
      },
      "source": [
        "import jovian"
      ],
      "execution_count": 112,
      "outputs": []
    },
    {
      "cell_type": "code",
      "metadata": {
        "id": "5kYDWdRBIoCj",
        "outputId": "638314d1-aa02-433c-f69a-ef7928fce8c3",
        "colab": {
          "base_uri": "https://localhost:8080/",
          "height": 52
        }
      },
      "source": [
        "jovian.commit()"
      ],
      "execution_count": 113,
      "outputs": [
        {
          "output_type": "stream",
          "text": [
            "[jovian] Detected Colab notebook...\u001b[0m\n"
          ],
          "name": "stdout"
        },
        {
          "output_type": "stream",
          "text": [
            "\u001b[31m[jovian] Error: Please provide the project argument e.g. jovian.commit(project='my-project')\u001b[0m\n"
          ],
          "name": "stderr"
        }
      ]
    },
    {
      "cell_type": "markdown",
      "metadata": {
        "id": "x2ngJ8QAIoCn"
      },
      "source": [
        "## Inferences and Conclusion\n",
        "\n",
        "As part of this EDA we analyzed the Groceries dataset of different features. Identified the which member bought number of items on which date. Identified which day has more number of transactions and which item has more demand. These analysis is useful for the retailers to give promotions and bonus to the members."
      ]
    },
    {
      "cell_type": "code",
      "metadata": {
        "id": "Y51riAiXIoCn"
      },
      "source": [
        "import jovian"
      ],
      "execution_count": 114,
      "outputs": []
    },
    {
      "cell_type": "code",
      "metadata": {
        "id": "cGUNnul3IoCq",
        "outputId": "84cf7b12-425d-4590-d745-a19ab0668f40",
        "colab": {
          "base_uri": "https://localhost:8080/",
          "height": 52
        }
      },
      "source": [
        "jovian.commit()"
      ],
      "execution_count": 115,
      "outputs": [
        {
          "output_type": "stream",
          "text": [
            "[jovian] Detected Colab notebook...\u001b[0m\n"
          ],
          "name": "stdout"
        },
        {
          "output_type": "stream",
          "text": [
            "\u001b[31m[jovian] Error: Please provide the project argument e.g. jovian.commit(project='my-project')\u001b[0m\n"
          ],
          "name": "stderr"
        }
      ]
    },
    {
      "cell_type": "markdown",
      "metadata": {
        "id": "HRgmStMRIoCu"
      },
      "source": [
        "## References and Future Work\n",
        "\n",
        "<br>1. Referred the Numpy library\n",
        "<br>2. Referred the Pandas library\n",
        "<br>3. Referred the Jovian study materials."
      ]
    },
    {
      "cell_type": "markdown",
      "metadata": {
        "id": "S8Dt1ePpIoCv"
      },
      "source": [
        "> Submission Instructions (delete this cell)\n",
        "> \n",
        "> - Upload your notebook to your Jovian.ml profile using `jovian.commit`.\n",
        "> - **Make a submission here**: https://jovian.ml/learn/data-analysis-with-python-zero-to-pandas/assignment/course-project\n",
        "> - Share your work on the forum: https://jovian.ml/forum/t/course-project-on-exploratory-data-analysis-discuss-and-share-your-work/11684\n",
        "> - Share your work on social media (Twitter, LinkedIn, Telegram etc.) and tag [@JovianML](https://twitter.com/jovianml)\n",
        ">\n",
        "> (Optional) Write a blog post\n",
        "> \n",
        "> - A blog post is a great way to present and showcase your work.  \n",
        "> - Sign up on [Medium.com](https://medium.com) to write a blog post for your project.\n",
        "> - Copy over the explanations from your Jupyter notebook into your blog post, and [embed code cells & outputs](https://medium.com/jovianml/share-and-embed-jupyter-notebooks-online-with-jovian-ml-df709a03064e)\n",
        "> - Check out the Jovian.ml Medium publication for inspiration: https://medium.com/jovianml\n",
        "\n",
        "\n",
        " "
      ]
    },
    {
      "cell_type": "code",
      "metadata": {
        "id": "SrYWrppoIoCv"
      },
      "source": [
        "import jovian"
      ],
      "execution_count": 116,
      "outputs": []
    },
    {
      "cell_type": "code",
      "metadata": {
        "scrolled": true,
        "id": "GqeXf-FDIoC3",
        "outputId": "eae2fc24-47c7-4350-a386-1f4c72b690ba",
        "colab": {
          "base_uri": "https://localhost:8080/",
          "height": 52
        }
      },
      "source": [
        "jovian.commit()"
      ],
      "execution_count": 117,
      "outputs": [
        {
          "output_type": "stream",
          "text": [
            "[jovian] Detected Colab notebook...\u001b[0m\n"
          ],
          "name": "stdout"
        },
        {
          "output_type": "stream",
          "text": [
            "\u001b[31m[jovian] Error: Please provide the project argument e.g. jovian.commit(project='my-project')\u001b[0m\n"
          ],
          "name": "stderr"
        }
      ]
    },
    {
      "cell_type": "code",
      "metadata": {
        "id": "Ms83dwNzIoC7"
      },
      "source": [
        ""
      ],
      "execution_count": 117,
      "outputs": []
    }
  ]
}