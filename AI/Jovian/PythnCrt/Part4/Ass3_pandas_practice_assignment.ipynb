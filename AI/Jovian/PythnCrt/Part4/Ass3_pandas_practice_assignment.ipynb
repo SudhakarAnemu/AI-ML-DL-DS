{
  "nbformat": 4,
  "nbformat_minor": 0,
  "metadata": {
    "kernelspec": {
      "display_name": "Python 3",
      "language": "python",
      "name": "python3"
    },
    "language_info": {
      "codemirror_mode": {
        "name": "ipython",
        "version": 3
      },
      "file_extension": ".py",
      "mimetype": "text/x-python",
      "name": "python",
      "nbconvert_exporter": "python",
      "pygments_lexer": "ipython3",
      "version": "3.8.5"
    },
    "colab": {
      "name": "pandas-practice-assignment.ipynb",
      "provenance": []
    }
  },
  "cells": [
    {
      "cell_type": "code",
      "metadata": {
        "id": "eL_F3J8loY6q",
        "colab_type": "code",
        "colab": {}
      },
      "source": [
        "# Jovian Commit Essentials\n",
        "# Please retain and execute this cell without modifying the contents for `jovian.commit` to work\n",
        "!pip install jovian --upgrade -q\n",
        "import jovian\n",
        "jovian.utils.colab.set_colab_file_id('1W8O7NIf7KyLPJfcEsZWAl5-HMIBVjJMx')"
      ],
      "execution_count": null,
      "outputs": []
    },
    {
      "cell_type": "markdown",
      "metadata": {
        "id": "ChJFROg5oY68",
        "colab_type": "text"
      },
      "source": [
        "# Assignment 3 - Pandas Data Analysis Practice\n",
        "\n",
        "## Sudhakar Anemu, Assignment 3\n",
        "\n",
        "*This assignment is a part of the course [\"Data Analysis with Python: Zero to Pandas\"](https://jovian.ml/learn/data-analysis-with-python-zero-to-pandas)*\n",
        "\n",
        "In this assignment, you'll get to practice some of the concepts and skills covered this tutorial: https://jovian.ml/aakashns/python-pandas-data-analysis\n",
        "\n",
        "As you go through this notebook, you will find a **???** in certain places. To complete this assignment, you must replace all the **???** with appropriate values, expressions or statements to ensure that the notebook runs properly end-to-end. \n",
        "\n",
        "Some things to keep in mind:\n",
        "\n",
        "* Make sure to run all the code cells, otherwise you may get errors like `NameError` for undefined variables.\n",
        "* Do not change variable names, delete cells or disturb other existing code. It may cause problems during evaluation.\n",
        "* In some cases, you may need to add some code cells or new statements before or after the line of code containing the **???**. \n",
        "* Since you'll be using a temporary online service for code execution, save your work by running `jovian.commit` at regular intervals.\n",
        "* Questions marked **(Optional)** will not be considered for evaluation, and can be skipped. They are for your learning.\n",
        "\n",
        "You can make submissions on this page: https://jovian.ml/learn/data-analysis-with-python-zero-to-pandas/assignment/assignment-3-pandas-practice\n",
        "\n",
        "If you are stuck, you can ask for help on the community forum: https://jovian.ml/forum/t/assignment-3-pandas-practice/11225/3 . You can get help with errors or ask for hints, describe your approach in simple words, link to documentation, but **please don't ask for or share the full working answer code** on the forum.\n",
        "\n",
        "\n",
        "## How to run the code and save your work\n",
        "\n",
        "The recommended way to run this notebook is to click the \"Run\" button at the top of this page, and select \"Run on Binder\". This will run the notebook on [mybinder.org](https://mybinder.org), a free online service for running Jupyter notebooks. \n",
        "\n",
        "Before staring the assignment, let's save a snapshot of the assignment to your Jovian.ml profile, so that you can access it later, and continue your work."
      ]
    },
    {
      "cell_type": "code",
      "metadata": {
        "id": "CKDH8NyPoY6-",
        "colab_type": "code",
        "colab": {}
      },
      "source": [
        "import jovian"
      ],
      "execution_count": null,
      "outputs": []
    },
    {
      "cell_type": "code",
      "metadata": {
        "id": "wurF2XAioY7H",
        "colab_type": "code",
        "colab": {}
      },
      "source": [
        "jovian.commit(project='pandas-practice-assignment', environment=None)"
      ],
      "execution_count": null,
      "outputs": []
    },
    {
      "cell_type": "code",
      "metadata": {
        "id": "5i6cAEVkoY7R",
        "colab_type": "code",
        "colab": {}
      },
      "source": [
        "# Run the next line to install Pandas\n",
        "!pip install pandas --upgrade"
      ],
      "execution_count": null,
      "outputs": []
    },
    {
      "cell_type": "code",
      "metadata": {
        "id": "fT7OQQU_oY7X",
        "colab_type": "code",
        "colab": {}
      },
      "source": [
        "import pandas as pd"
      ],
      "execution_count": 1,
      "outputs": []
    },
    {
      "cell_type": "markdown",
      "metadata": {
        "id": "nZXbCH7OoY7c",
        "colab_type": "text"
      },
      "source": [
        "In this assignment, we're going to analyze an operate on data from a CSV file. Let's begin by downloading the CSV file."
      ]
    },
    {
      "cell_type": "code",
      "metadata": {
        "id": "wq8xk7BPoY7d",
        "colab_type": "code",
        "colab": {
          "base_uri": "https://localhost:8080/",
          "height": 34
        },
        "outputId": "1c74bc09-8a27-4090-ae20-400783f253f5"
      },
      "source": [
        "from urllib.request import urlretrieve\n",
        "\n",
        "urlretrieve('https://hub.jovian.ml/wp-content/uploads/2020/09/countries.csv', \n",
        "            'countries.csv')"
      ],
      "execution_count": 2,
      "outputs": [
        {
          "output_type": "execute_result",
          "data": {
            "text/plain": [
              "('countries.csv', <http.client.HTTPMessage at 0x7f640dad5278>)"
            ]
          },
          "metadata": {
            "tags": []
          },
          "execution_count": 2
        }
      ]
    },
    {
      "cell_type": "markdown",
      "metadata": {
        "id": "EbcNVN2CoY7h",
        "colab_type": "text"
      },
      "source": [
        "Let's load the data from the CSV file into a Pandas data frame."
      ]
    },
    {
      "cell_type": "code",
      "metadata": {
        "id": "TOAIt-LuoY7i",
        "colab_type": "code",
        "colab": {}
      },
      "source": [
        "countries_df = pd.read_csv('countries.csv')"
      ],
      "execution_count": 3,
      "outputs": []
    },
    {
      "cell_type": "code",
      "metadata": {
        "id": "B2cmSYqboY7l",
        "colab_type": "code",
        "colab": {
          "base_uri": "https://localhost:8080/",
          "height": 419
        },
        "outputId": "703f04bb-c9b6-409d-ebbc-359c8885f1ce"
      },
      "source": [
        "countries_df"
      ],
      "execution_count": 4,
      "outputs": [
        {
          "output_type": "execute_result",
          "data": {
            "text/html": [
              "<div>\n",
              "<style scoped>\n",
              "    .dataframe tbody tr th:only-of-type {\n",
              "        vertical-align: middle;\n",
              "    }\n",
              "\n",
              "    .dataframe tbody tr th {\n",
              "        vertical-align: top;\n",
              "    }\n",
              "\n",
              "    .dataframe thead th {\n",
              "        text-align: right;\n",
              "    }\n",
              "</style>\n",
              "<table border=\"1\" class=\"dataframe\">\n",
              "  <thead>\n",
              "    <tr style=\"text-align: right;\">\n",
              "      <th></th>\n",
              "      <th>location</th>\n",
              "      <th>continent</th>\n",
              "      <th>population</th>\n",
              "      <th>life_expectancy</th>\n",
              "      <th>hospital_beds_per_thousand</th>\n",
              "      <th>gdp_per_capita</th>\n",
              "    </tr>\n",
              "  </thead>\n",
              "  <tbody>\n",
              "    <tr>\n",
              "      <th>0</th>\n",
              "      <td>Afghanistan</td>\n",
              "      <td>Asia</td>\n",
              "      <td>38928341.0</td>\n",
              "      <td>64.83</td>\n",
              "      <td>0.50</td>\n",
              "      <td>1803.987</td>\n",
              "    </tr>\n",
              "    <tr>\n",
              "      <th>1</th>\n",
              "      <td>Albania</td>\n",
              "      <td>Europe</td>\n",
              "      <td>2877800.0</td>\n",
              "      <td>78.57</td>\n",
              "      <td>2.89</td>\n",
              "      <td>11803.431</td>\n",
              "    </tr>\n",
              "    <tr>\n",
              "      <th>2</th>\n",
              "      <td>Algeria</td>\n",
              "      <td>Africa</td>\n",
              "      <td>43851043.0</td>\n",
              "      <td>76.88</td>\n",
              "      <td>1.90</td>\n",
              "      <td>13913.839</td>\n",
              "    </tr>\n",
              "    <tr>\n",
              "      <th>3</th>\n",
              "      <td>Andorra</td>\n",
              "      <td>Europe</td>\n",
              "      <td>77265.0</td>\n",
              "      <td>83.73</td>\n",
              "      <td>NaN</td>\n",
              "      <td>NaN</td>\n",
              "    </tr>\n",
              "    <tr>\n",
              "      <th>4</th>\n",
              "      <td>Angola</td>\n",
              "      <td>Africa</td>\n",
              "      <td>32866268.0</td>\n",
              "      <td>61.15</td>\n",
              "      <td>NaN</td>\n",
              "      <td>5819.495</td>\n",
              "    </tr>\n",
              "    <tr>\n",
              "      <th>...</th>\n",
              "      <td>...</td>\n",
              "      <td>...</td>\n",
              "      <td>...</td>\n",
              "      <td>...</td>\n",
              "      <td>...</td>\n",
              "      <td>...</td>\n",
              "    </tr>\n",
              "    <tr>\n",
              "      <th>205</th>\n",
              "      <td>Vietnam</td>\n",
              "      <td>Asia</td>\n",
              "      <td>97338583.0</td>\n",
              "      <td>75.40</td>\n",
              "      <td>2.60</td>\n",
              "      <td>6171.884</td>\n",
              "    </tr>\n",
              "    <tr>\n",
              "      <th>206</th>\n",
              "      <td>Western Sahara</td>\n",
              "      <td>Africa</td>\n",
              "      <td>597330.0</td>\n",
              "      <td>70.26</td>\n",
              "      <td>NaN</td>\n",
              "      <td>NaN</td>\n",
              "    </tr>\n",
              "    <tr>\n",
              "      <th>207</th>\n",
              "      <td>Yemen</td>\n",
              "      <td>Asia</td>\n",
              "      <td>29825968.0</td>\n",
              "      <td>66.12</td>\n",
              "      <td>0.70</td>\n",
              "      <td>1479.147</td>\n",
              "    </tr>\n",
              "    <tr>\n",
              "      <th>208</th>\n",
              "      <td>Zambia</td>\n",
              "      <td>Africa</td>\n",
              "      <td>18383956.0</td>\n",
              "      <td>63.89</td>\n",
              "      <td>2.00</td>\n",
              "      <td>3689.251</td>\n",
              "    </tr>\n",
              "    <tr>\n",
              "      <th>209</th>\n",
              "      <td>Zimbabwe</td>\n",
              "      <td>Africa</td>\n",
              "      <td>14862927.0</td>\n",
              "      <td>61.49</td>\n",
              "      <td>1.70</td>\n",
              "      <td>1899.775</td>\n",
              "    </tr>\n",
              "  </tbody>\n",
              "</table>\n",
              "<p>210 rows × 6 columns</p>\n",
              "</div>"
            ],
            "text/plain": [
              "           location continent  ...  hospital_beds_per_thousand  gdp_per_capita\n",
              "0       Afghanistan      Asia  ...                        0.50        1803.987\n",
              "1           Albania    Europe  ...                        2.89       11803.431\n",
              "2           Algeria    Africa  ...                        1.90       13913.839\n",
              "3           Andorra    Europe  ...                         NaN             NaN\n",
              "4            Angola    Africa  ...                         NaN        5819.495\n",
              "..              ...       ...  ...                         ...             ...\n",
              "205         Vietnam      Asia  ...                        2.60        6171.884\n",
              "206  Western Sahara    Africa  ...                         NaN             NaN\n",
              "207           Yemen      Asia  ...                        0.70        1479.147\n",
              "208          Zambia    Africa  ...                        2.00        3689.251\n",
              "209        Zimbabwe    Africa  ...                        1.70        1899.775\n",
              "\n",
              "[210 rows x 6 columns]"
            ]
          },
          "metadata": {
            "tags": []
          },
          "execution_count": 4
        }
      ]
    },
    {
      "cell_type": "markdown",
      "metadata": {
        "id": "PbFr9ZhXoY7p",
        "colab_type": "text"
      },
      "source": [
        "**Q: How many countries does the dataframe contain?**\n",
        "\n",
        "Hint: Use the `.shape` method."
      ]
    },
    {
      "cell_type": "code",
      "metadata": {
        "id": "RuW3zyRwoY7p",
        "colab_type": "code",
        "colab": {
          "base_uri": "https://localhost:8080/",
          "height": 34
        },
        "outputId": "f5984c2f-e78a-4d89-bd3d-7d69ab948562"
      },
      "source": [
        "num_countries = countries_df.shape\n",
        "print(\"Type of num_countires : \", type(num_countries))"
      ],
      "execution_count": 5,
      "outputs": [
        {
          "output_type": "stream",
          "text": [
            "Type of num_countires :  <class 'tuple'>\n"
          ],
          "name": "stdout"
        }
      ]
    },
    {
      "cell_type": "code",
      "metadata": {
        "id": "KflyI1RvoY7t",
        "colab_type": "code",
        "colab": {
          "base_uri": "https://localhost:8080/",
          "height": 34
        },
        "outputId": "694964e6-3faa-450f-f731-c1b864a1b6d1"
      },
      "source": [
        "print('There are {} countries in the dataset'.format(num_countries[0]))"
      ],
      "execution_count": 6,
      "outputs": [
        {
          "output_type": "stream",
          "text": [
            "There are 210 countries in the dataset\n"
          ],
          "name": "stdout"
        }
      ]
    },
    {
      "cell_type": "code",
      "metadata": {
        "id": "9974AVKzoY7w",
        "colab_type": "code",
        "colab": {
          "base_uri": "https://localhost:8080/",
          "height": 163
        },
        "outputId": "793e2d70-26e9-4494-a5e6-6e5f9ce8d8ec"
      },
      "source": [
        "jovian.commit(project='pandas-practice-assignment', environment=None)"
      ],
      "execution_count": 7,
      "outputs": [
        {
          "output_type": "error",
          "ename": "NameError",
          "evalue": "ignored",
          "traceback": [
            "\u001b[0;31m---------------------------------------------------------------------------\u001b[0m",
            "\u001b[0;31mNameError\u001b[0m                                 Traceback (most recent call last)",
            "\u001b[0;32m<ipython-input-7-2dfee9f9db90>\u001b[0m in \u001b[0;36m<module>\u001b[0;34m()\u001b[0m\n\u001b[0;32m----> 1\u001b[0;31m \u001b[0mjovian\u001b[0m\u001b[0;34m.\u001b[0m\u001b[0mcommit\u001b[0m\u001b[0;34m(\u001b[0m\u001b[0mproject\u001b[0m\u001b[0;34m=\u001b[0m\u001b[0;34m'pandas-practice-assignment'\u001b[0m\u001b[0;34m,\u001b[0m \u001b[0menvironment\u001b[0m\u001b[0;34m=\u001b[0m\u001b[0;32mNone\u001b[0m\u001b[0;34m)\u001b[0m\u001b[0;34m\u001b[0m\u001b[0;34m\u001b[0m\u001b[0m\n\u001b[0m",
            "\u001b[0;31mNameError\u001b[0m: name 'jovian' is not defined"
          ]
        }
      ]
    },
    {
      "cell_type": "markdown",
      "metadata": {
        "id": "zOFnd1U2oY7z",
        "colab_type": "text"
      },
      "source": [
        "**Q: Retrieve a list of continents from the dataframe?**\n",
        "\n",
        "*Hint: Use the `.unique` method of a series.*"
      ]
    },
    {
      "cell_type": "code",
      "metadata": {
        "id": "jc0bAUbTSKs8",
        "colab_type": "code",
        "colab": {
          "base_uri": "https://localhost:8080/",
          "height": 51
        },
        "outputId": "ecee5e5c-af45-4972-fec2-9df4bf1d0986"
      },
      "source": [
        "countries_df['continent'].unique()"
      ],
      "execution_count": 8,
      "outputs": [
        {
          "output_type": "execute_result",
          "data": {
            "text/plain": [
              "array(['Asia', 'Europe', 'Africa', 'North America', 'South America',\n",
              "       'Oceania'], dtype=object)"
            ]
          },
          "metadata": {
            "tags": []
          },
          "execution_count": 8
        }
      ]
    },
    {
      "cell_type": "code",
      "metadata": {
        "id": "gi_14V5VoY7z",
        "colab_type": "code",
        "colab": {}
      },
      "source": [
        "continents = countries_df['continent'].unique()"
      ],
      "execution_count": 9,
      "outputs": []
    },
    {
      "cell_type": "code",
      "metadata": {
        "id": "EyMfSNGkoY72",
        "colab_type": "code",
        "colab": {
          "base_uri": "https://localhost:8080/",
          "height": 51
        },
        "outputId": "3967a32b-3df4-427b-b0ef-1080aadcc082"
      },
      "source": [
        "continents"
      ],
      "execution_count": 10,
      "outputs": [
        {
          "output_type": "execute_result",
          "data": {
            "text/plain": [
              "array(['Asia', 'Europe', 'Africa', 'North America', 'South America',\n",
              "       'Oceania'], dtype=object)"
            ]
          },
          "metadata": {
            "tags": []
          },
          "execution_count": 10
        }
      ]
    },
    {
      "cell_type": "code",
      "metadata": {
        "id": "9vbNmc-JoY75",
        "colab_type": "code",
        "colab": {}
      },
      "source": [
        "jovian.commit(project='pandas-practice-assignment', environment=None)"
      ],
      "execution_count": null,
      "outputs": []
    },
    {
      "cell_type": "markdown",
      "metadata": {
        "id": "BPU-lCjWoY78",
        "colab_type": "text"
      },
      "source": [
        "**Q: What is the total population of all the countries listed in this dataset?**"
      ]
    },
    {
      "cell_type": "code",
      "metadata": {
        "id": "jJwMvlmVoY79",
        "colab_type": "code",
        "colab": {}
      },
      "source": [
        "total_population = countries_df['population'].sum()"
      ],
      "execution_count": 11,
      "outputs": []
    },
    {
      "cell_type": "code",
      "metadata": {
        "id": "134ig0BCoY7_",
        "colab_type": "code",
        "colab": {
          "base_uri": "https://localhost:8080/",
          "height": 34
        },
        "outputId": "9a6035dd-e182-4327-8b6c-47abb1f9f8d7"
      },
      "source": [
        "print('The total population is {}.'.format(int(total_population)))"
      ],
      "execution_count": 12,
      "outputs": [
        {
          "output_type": "stream",
          "text": [
            "The total population is 7757980095.\n"
          ],
          "name": "stdout"
        }
      ]
    },
    {
      "cell_type": "code",
      "metadata": {
        "id": "q7JK2UfloY8B",
        "colab_type": "code",
        "colab": {}
      },
      "source": [
        "jovian.commit(project='pandas-practice-assignment', environment=None)"
      ],
      "execution_count": null,
      "outputs": []
    },
    {
      "cell_type": "markdown",
      "metadata": {
        "id": "xNFQLhRjoY8E",
        "colab_type": "text"
      },
      "source": [
        "**Q: (Optional) What is the overall life expectancy across in the world?**\n",
        "\n",
        "*Hint: You'll need to take a weighted average of life expectancy using populations as weights.*"
      ]
    },
    {
      "cell_type": "code",
      "metadata": {
        "id": "YPS7eCk4oY8F",
        "colab_type": "code",
        "colab": {
          "base_uri": "https://localhost:8080/",
          "height": 51
        },
        "outputId": "5b2cc047-c350-4de7-8827-eddf8eed943a"
      },
      "source": [
        "total_number_of_countries = num_countries[0]\n",
        "total_life_expectancy_of_all_countries = countries_df['life_expectancy'].sum()\n",
        "print(\"Data type of : total_number_of_countries \", type(total_number_of_countries))\n",
        "print(\"Data type of : total_life_expectancy_of_all_countries \", type(total_life_expectancy_of_all_countries))\n"
      ],
      "execution_count": 13,
      "outputs": [
        {
          "output_type": "stream",
          "text": [
            "Data type of : total_number_of_countries  <class 'int'>\n",
            "Data type of : total_life_expectancy_of_all_countries  <class 'numpy.float64'>\n"
          ],
          "name": "stdout"
        }
      ]
    },
    {
      "cell_type": "code",
      "metadata": {
        "id": "t58gTFBRoY8H",
        "colab_type": "code",
        "colab": {
          "base_uri": "https://localhost:8080/",
          "height": 34
        },
        "outputId": "0f467c8a-e7d8-4fd6-f349-cf60b826156f"
      },
      "source": [
        "Avg = total_number_of_countries/total_life_expectancy_of_all_countries\n",
        "print(\"Overall life expectancy across in the world : \", Avg)"
      ],
      "execution_count": 14,
      "outputs": [
        {
          "output_type": "stream",
          "text": [
            "Overall life expectancy across in the world :  0.013797018267252185\n"
          ],
          "name": "stdout"
        }
      ]
    },
    {
      "cell_type": "code",
      "metadata": {
        "id": "SncNEab4oY8K",
        "colab_type": "code",
        "colab": {}
      },
      "source": [
        "jovian.commit(project='pandas-practice-assignment', environment=None)"
      ],
      "execution_count": null,
      "outputs": []
    },
    {
      "cell_type": "markdown",
      "metadata": {
        "id": "haU0el8XoY8M",
        "colab_type": "text"
      },
      "source": [
        "**Q: Create a dataframe containing 10 countries with the highest population.**\n",
        "\n",
        "*Hint: Chain the `sort_values` and `head` methods.*"
      ]
    },
    {
      "cell_type": "code",
      "metadata": {
        "id": "i6aLPkimUlz-",
        "colab_type": "code",
        "colab": {
          "base_uri": "https://localhost:8080/",
          "height": 359
        },
        "outputId": "a8dffb9b-ccda-4145-eccd-0ebce86ff4ee"
      },
      "source": [
        "countries_df.sort_values('population', ascending=False).head(10)"
      ],
      "execution_count": 15,
      "outputs": [
        {
          "output_type": "execute_result",
          "data": {
            "text/html": [
              "<div>\n",
              "<style scoped>\n",
              "    .dataframe tbody tr th:only-of-type {\n",
              "        vertical-align: middle;\n",
              "    }\n",
              "\n",
              "    .dataframe tbody tr th {\n",
              "        vertical-align: top;\n",
              "    }\n",
              "\n",
              "    .dataframe thead th {\n",
              "        text-align: right;\n",
              "    }\n",
              "</style>\n",
              "<table border=\"1\" class=\"dataframe\">\n",
              "  <thead>\n",
              "    <tr style=\"text-align: right;\">\n",
              "      <th></th>\n",
              "      <th>location</th>\n",
              "      <th>continent</th>\n",
              "      <th>population</th>\n",
              "      <th>life_expectancy</th>\n",
              "      <th>hospital_beds_per_thousand</th>\n",
              "      <th>gdp_per_capita</th>\n",
              "    </tr>\n",
              "  </thead>\n",
              "  <tbody>\n",
              "    <tr>\n",
              "      <th>41</th>\n",
              "      <td>China</td>\n",
              "      <td>Asia</td>\n",
              "      <td>1.439324e+09</td>\n",
              "      <td>76.91</td>\n",
              "      <td>4.34</td>\n",
              "      <td>15308.712</td>\n",
              "    </tr>\n",
              "    <tr>\n",
              "      <th>90</th>\n",
              "      <td>India</td>\n",
              "      <td>Asia</td>\n",
              "      <td>1.380004e+09</td>\n",
              "      <td>69.66</td>\n",
              "      <td>0.53</td>\n",
              "      <td>6426.674</td>\n",
              "    </tr>\n",
              "    <tr>\n",
              "      <th>199</th>\n",
              "      <td>United States</td>\n",
              "      <td>North America</td>\n",
              "      <td>3.310026e+08</td>\n",
              "      <td>78.86</td>\n",
              "      <td>2.77</td>\n",
              "      <td>54225.446</td>\n",
              "    </tr>\n",
              "    <tr>\n",
              "      <th>91</th>\n",
              "      <td>Indonesia</td>\n",
              "      <td>Asia</td>\n",
              "      <td>2.735236e+08</td>\n",
              "      <td>71.72</td>\n",
              "      <td>1.04</td>\n",
              "      <td>11188.744</td>\n",
              "    </tr>\n",
              "    <tr>\n",
              "      <th>145</th>\n",
              "      <td>Pakistan</td>\n",
              "      <td>Asia</td>\n",
              "      <td>2.208923e+08</td>\n",
              "      <td>67.27</td>\n",
              "      <td>0.60</td>\n",
              "      <td>5034.708</td>\n",
              "    </tr>\n",
              "    <tr>\n",
              "      <th>27</th>\n",
              "      <td>Brazil</td>\n",
              "      <td>South America</td>\n",
              "      <td>2.125594e+08</td>\n",
              "      <td>75.88</td>\n",
              "      <td>2.20</td>\n",
              "      <td>14103.452</td>\n",
              "    </tr>\n",
              "    <tr>\n",
              "      <th>141</th>\n",
              "      <td>Nigeria</td>\n",
              "      <td>Africa</td>\n",
              "      <td>2.061396e+08</td>\n",
              "      <td>54.69</td>\n",
              "      <td>NaN</td>\n",
              "      <td>5338.454</td>\n",
              "    </tr>\n",
              "    <tr>\n",
              "      <th>15</th>\n",
              "      <td>Bangladesh</td>\n",
              "      <td>Asia</td>\n",
              "      <td>1.646894e+08</td>\n",
              "      <td>72.59</td>\n",
              "      <td>0.80</td>\n",
              "      <td>3523.984</td>\n",
              "    </tr>\n",
              "    <tr>\n",
              "      <th>157</th>\n",
              "      <td>Russia</td>\n",
              "      <td>Europe</td>\n",
              "      <td>1.459345e+08</td>\n",
              "      <td>72.58</td>\n",
              "      <td>8.05</td>\n",
              "      <td>24765.954</td>\n",
              "    </tr>\n",
              "    <tr>\n",
              "      <th>125</th>\n",
              "      <td>Mexico</td>\n",
              "      <td>North America</td>\n",
              "      <td>1.289328e+08</td>\n",
              "      <td>75.05</td>\n",
              "      <td>1.38</td>\n",
              "      <td>17336.469</td>\n",
              "    </tr>\n",
              "  </tbody>\n",
              "</table>\n",
              "</div>"
            ],
            "text/plain": [
              "          location      continent  ...  hospital_beds_per_thousand  gdp_per_capita\n",
              "41           China           Asia  ...                        4.34       15308.712\n",
              "90           India           Asia  ...                        0.53        6426.674\n",
              "199  United States  North America  ...                        2.77       54225.446\n",
              "91       Indonesia           Asia  ...                        1.04       11188.744\n",
              "145       Pakistan           Asia  ...                        0.60        5034.708\n",
              "27          Brazil  South America  ...                        2.20       14103.452\n",
              "141        Nigeria         Africa  ...                         NaN        5338.454\n",
              "15      Bangladesh           Asia  ...                        0.80        3523.984\n",
              "157         Russia         Europe  ...                        8.05       24765.954\n",
              "125         Mexico  North America  ...                        1.38       17336.469\n",
              "\n",
              "[10 rows x 6 columns]"
            ]
          },
          "metadata": {
            "tags": []
          },
          "execution_count": 15
        }
      ]
    },
    {
      "cell_type": "code",
      "metadata": {
        "id": "MjSJsnM5oY8M",
        "colab_type": "code",
        "colab": {}
      },
      "source": [
        "most_populous_df = countries_df.sort_values('population', ascending=False).head(10)"
      ],
      "execution_count": 16,
      "outputs": []
    },
    {
      "cell_type": "code",
      "metadata": {
        "id": "kdIC-4WCoY8O",
        "colab_type": "code",
        "colab": {
          "base_uri": "https://localhost:8080/",
          "height": 359
        },
        "outputId": "2b9b4260-c34f-4767-94cc-f16a3d07e4ca"
      },
      "source": [
        "most_populous_df"
      ],
      "execution_count": 17,
      "outputs": [
        {
          "output_type": "execute_result",
          "data": {
            "text/html": [
              "<div>\n",
              "<style scoped>\n",
              "    .dataframe tbody tr th:only-of-type {\n",
              "        vertical-align: middle;\n",
              "    }\n",
              "\n",
              "    .dataframe tbody tr th {\n",
              "        vertical-align: top;\n",
              "    }\n",
              "\n",
              "    .dataframe thead th {\n",
              "        text-align: right;\n",
              "    }\n",
              "</style>\n",
              "<table border=\"1\" class=\"dataframe\">\n",
              "  <thead>\n",
              "    <tr style=\"text-align: right;\">\n",
              "      <th></th>\n",
              "      <th>location</th>\n",
              "      <th>continent</th>\n",
              "      <th>population</th>\n",
              "      <th>life_expectancy</th>\n",
              "      <th>hospital_beds_per_thousand</th>\n",
              "      <th>gdp_per_capita</th>\n",
              "    </tr>\n",
              "  </thead>\n",
              "  <tbody>\n",
              "    <tr>\n",
              "      <th>41</th>\n",
              "      <td>China</td>\n",
              "      <td>Asia</td>\n",
              "      <td>1.439324e+09</td>\n",
              "      <td>76.91</td>\n",
              "      <td>4.34</td>\n",
              "      <td>15308.712</td>\n",
              "    </tr>\n",
              "    <tr>\n",
              "      <th>90</th>\n",
              "      <td>India</td>\n",
              "      <td>Asia</td>\n",
              "      <td>1.380004e+09</td>\n",
              "      <td>69.66</td>\n",
              "      <td>0.53</td>\n",
              "      <td>6426.674</td>\n",
              "    </tr>\n",
              "    <tr>\n",
              "      <th>199</th>\n",
              "      <td>United States</td>\n",
              "      <td>North America</td>\n",
              "      <td>3.310026e+08</td>\n",
              "      <td>78.86</td>\n",
              "      <td>2.77</td>\n",
              "      <td>54225.446</td>\n",
              "    </tr>\n",
              "    <tr>\n",
              "      <th>91</th>\n",
              "      <td>Indonesia</td>\n",
              "      <td>Asia</td>\n",
              "      <td>2.735236e+08</td>\n",
              "      <td>71.72</td>\n",
              "      <td>1.04</td>\n",
              "      <td>11188.744</td>\n",
              "    </tr>\n",
              "    <tr>\n",
              "      <th>145</th>\n",
              "      <td>Pakistan</td>\n",
              "      <td>Asia</td>\n",
              "      <td>2.208923e+08</td>\n",
              "      <td>67.27</td>\n",
              "      <td>0.60</td>\n",
              "      <td>5034.708</td>\n",
              "    </tr>\n",
              "    <tr>\n",
              "      <th>27</th>\n",
              "      <td>Brazil</td>\n",
              "      <td>South America</td>\n",
              "      <td>2.125594e+08</td>\n",
              "      <td>75.88</td>\n",
              "      <td>2.20</td>\n",
              "      <td>14103.452</td>\n",
              "    </tr>\n",
              "    <tr>\n",
              "      <th>141</th>\n",
              "      <td>Nigeria</td>\n",
              "      <td>Africa</td>\n",
              "      <td>2.061396e+08</td>\n",
              "      <td>54.69</td>\n",
              "      <td>NaN</td>\n",
              "      <td>5338.454</td>\n",
              "    </tr>\n",
              "    <tr>\n",
              "      <th>15</th>\n",
              "      <td>Bangladesh</td>\n",
              "      <td>Asia</td>\n",
              "      <td>1.646894e+08</td>\n",
              "      <td>72.59</td>\n",
              "      <td>0.80</td>\n",
              "      <td>3523.984</td>\n",
              "    </tr>\n",
              "    <tr>\n",
              "      <th>157</th>\n",
              "      <td>Russia</td>\n",
              "      <td>Europe</td>\n",
              "      <td>1.459345e+08</td>\n",
              "      <td>72.58</td>\n",
              "      <td>8.05</td>\n",
              "      <td>24765.954</td>\n",
              "    </tr>\n",
              "    <tr>\n",
              "      <th>125</th>\n",
              "      <td>Mexico</td>\n",
              "      <td>North America</td>\n",
              "      <td>1.289328e+08</td>\n",
              "      <td>75.05</td>\n",
              "      <td>1.38</td>\n",
              "      <td>17336.469</td>\n",
              "    </tr>\n",
              "  </tbody>\n",
              "</table>\n",
              "</div>"
            ],
            "text/plain": [
              "          location      continent  ...  hospital_beds_per_thousand  gdp_per_capita\n",
              "41           China           Asia  ...                        4.34       15308.712\n",
              "90           India           Asia  ...                        0.53        6426.674\n",
              "199  United States  North America  ...                        2.77       54225.446\n",
              "91       Indonesia           Asia  ...                        1.04       11188.744\n",
              "145       Pakistan           Asia  ...                        0.60        5034.708\n",
              "27          Brazil  South America  ...                        2.20       14103.452\n",
              "141        Nigeria         Africa  ...                         NaN        5338.454\n",
              "15      Bangladesh           Asia  ...                        0.80        3523.984\n",
              "157         Russia         Europe  ...                        8.05       24765.954\n",
              "125         Mexico  North America  ...                        1.38       17336.469\n",
              "\n",
              "[10 rows x 6 columns]"
            ]
          },
          "metadata": {
            "tags": []
          },
          "execution_count": 17
        }
      ]
    },
    {
      "cell_type": "code",
      "metadata": {
        "id": "qXVyPR1xoY8Q",
        "colab_type": "code",
        "colab": {}
      },
      "source": [
        "jovian.commit(project='pandas-practice-assignment', environment=None)"
      ],
      "execution_count": null,
      "outputs": []
    },
    {
      "cell_type": "markdown",
      "metadata": {
        "id": "DTTk8aQwoY8T",
        "colab_type": "text"
      },
      "source": [
        "**Q: Add a new column in `countries_df` to record the overall GDP per country (product of population & per capita GDP).**\n",
        "\n"
      ]
    },
    {
      "cell_type": "code",
      "metadata": {
        "id": "CiG36-3aXBUP",
        "colab_type": "code",
        "colab": {
          "base_uri": "https://localhost:8080/",
          "height": 204
        },
        "outputId": "99ab579a-01c9-40c2-9d0f-f389548c27d1"
      },
      "source": [
        "countries_df.head(5)"
      ],
      "execution_count": 18,
      "outputs": [
        {
          "output_type": "execute_result",
          "data": {
            "text/html": [
              "<div>\n",
              "<style scoped>\n",
              "    .dataframe tbody tr th:only-of-type {\n",
              "        vertical-align: middle;\n",
              "    }\n",
              "\n",
              "    .dataframe tbody tr th {\n",
              "        vertical-align: top;\n",
              "    }\n",
              "\n",
              "    .dataframe thead th {\n",
              "        text-align: right;\n",
              "    }\n",
              "</style>\n",
              "<table border=\"1\" class=\"dataframe\">\n",
              "  <thead>\n",
              "    <tr style=\"text-align: right;\">\n",
              "      <th></th>\n",
              "      <th>location</th>\n",
              "      <th>continent</th>\n",
              "      <th>population</th>\n",
              "      <th>life_expectancy</th>\n",
              "      <th>hospital_beds_per_thousand</th>\n",
              "      <th>gdp_per_capita</th>\n",
              "    </tr>\n",
              "  </thead>\n",
              "  <tbody>\n",
              "    <tr>\n",
              "      <th>0</th>\n",
              "      <td>Afghanistan</td>\n",
              "      <td>Asia</td>\n",
              "      <td>38928341.0</td>\n",
              "      <td>64.83</td>\n",
              "      <td>0.50</td>\n",
              "      <td>1803.987</td>\n",
              "    </tr>\n",
              "    <tr>\n",
              "      <th>1</th>\n",
              "      <td>Albania</td>\n",
              "      <td>Europe</td>\n",
              "      <td>2877800.0</td>\n",
              "      <td>78.57</td>\n",
              "      <td>2.89</td>\n",
              "      <td>11803.431</td>\n",
              "    </tr>\n",
              "    <tr>\n",
              "      <th>2</th>\n",
              "      <td>Algeria</td>\n",
              "      <td>Africa</td>\n",
              "      <td>43851043.0</td>\n",
              "      <td>76.88</td>\n",
              "      <td>1.90</td>\n",
              "      <td>13913.839</td>\n",
              "    </tr>\n",
              "    <tr>\n",
              "      <th>3</th>\n",
              "      <td>Andorra</td>\n",
              "      <td>Europe</td>\n",
              "      <td>77265.0</td>\n",
              "      <td>83.73</td>\n",
              "      <td>NaN</td>\n",
              "      <td>NaN</td>\n",
              "    </tr>\n",
              "    <tr>\n",
              "      <th>4</th>\n",
              "      <td>Angola</td>\n",
              "      <td>Africa</td>\n",
              "      <td>32866268.0</td>\n",
              "      <td>61.15</td>\n",
              "      <td>NaN</td>\n",
              "      <td>5819.495</td>\n",
              "    </tr>\n",
              "  </tbody>\n",
              "</table>\n",
              "</div>"
            ],
            "text/plain": [
              "      location continent  ...  hospital_beds_per_thousand  gdp_per_capita\n",
              "0  Afghanistan      Asia  ...                        0.50        1803.987\n",
              "1      Albania    Europe  ...                        2.89       11803.431\n",
              "2      Algeria    Africa  ...                        1.90       13913.839\n",
              "3      Andorra    Europe  ...                         NaN             NaN\n",
              "4       Angola    Africa  ...                         NaN        5819.495\n",
              "\n",
              "[5 rows x 6 columns]"
            ]
          },
          "metadata": {
            "tags": []
          },
          "execution_count": 18
        }
      ]
    },
    {
      "cell_type": "code",
      "metadata": {
        "id": "goHofNYZoY8T",
        "colab_type": "code",
        "colab": {}
      },
      "source": [
        "countries_df['gdp'] = countries_df['population']*countries_df['gdp_per_capita']"
      ],
      "execution_count": 19,
      "outputs": []
    },
    {
      "cell_type": "code",
      "metadata": {
        "id": "_61-LLfooY8W",
        "colab_type": "code",
        "colab": {
          "base_uri": "https://localhost:8080/",
          "height": 204
        },
        "outputId": "89bf8669-d382-4e5b-8139-cfcf40e85610"
      },
      "source": [
        "countries_df.head(5)"
      ],
      "execution_count": 21,
      "outputs": [
        {
          "output_type": "execute_result",
          "data": {
            "text/html": [
              "<div>\n",
              "<style scoped>\n",
              "    .dataframe tbody tr th:only-of-type {\n",
              "        vertical-align: middle;\n",
              "    }\n",
              "\n",
              "    .dataframe tbody tr th {\n",
              "        vertical-align: top;\n",
              "    }\n",
              "\n",
              "    .dataframe thead th {\n",
              "        text-align: right;\n",
              "    }\n",
              "</style>\n",
              "<table border=\"1\" class=\"dataframe\">\n",
              "  <thead>\n",
              "    <tr style=\"text-align: right;\">\n",
              "      <th></th>\n",
              "      <th>location</th>\n",
              "      <th>continent</th>\n",
              "      <th>population</th>\n",
              "      <th>life_expectancy</th>\n",
              "      <th>hospital_beds_per_thousand</th>\n",
              "      <th>gdp_per_capita</th>\n",
              "      <th>gdp</th>\n",
              "    </tr>\n",
              "  </thead>\n",
              "  <tbody>\n",
              "    <tr>\n",
              "      <th>0</th>\n",
              "      <td>Afghanistan</td>\n",
              "      <td>Asia</td>\n",
              "      <td>38928341.0</td>\n",
              "      <td>64.83</td>\n",
              "      <td>0.50</td>\n",
              "      <td>1803.987</td>\n",
              "      <td>7.022622e+10</td>\n",
              "    </tr>\n",
              "    <tr>\n",
              "      <th>1</th>\n",
              "      <td>Albania</td>\n",
              "      <td>Europe</td>\n",
              "      <td>2877800.0</td>\n",
              "      <td>78.57</td>\n",
              "      <td>2.89</td>\n",
              "      <td>11803.431</td>\n",
              "      <td>3.396791e+10</td>\n",
              "    </tr>\n",
              "    <tr>\n",
              "      <th>2</th>\n",
              "      <td>Algeria</td>\n",
              "      <td>Africa</td>\n",
              "      <td>43851043.0</td>\n",
              "      <td>76.88</td>\n",
              "      <td>1.90</td>\n",
              "      <td>13913.839</td>\n",
              "      <td>6.101364e+11</td>\n",
              "    </tr>\n",
              "    <tr>\n",
              "      <th>3</th>\n",
              "      <td>Andorra</td>\n",
              "      <td>Europe</td>\n",
              "      <td>77265.0</td>\n",
              "      <td>83.73</td>\n",
              "      <td>NaN</td>\n",
              "      <td>NaN</td>\n",
              "      <td>NaN</td>\n",
              "    </tr>\n",
              "    <tr>\n",
              "      <th>4</th>\n",
              "      <td>Angola</td>\n",
              "      <td>Africa</td>\n",
              "      <td>32866268.0</td>\n",
              "      <td>61.15</td>\n",
              "      <td>NaN</td>\n",
              "      <td>5819.495</td>\n",
              "      <td>1.912651e+11</td>\n",
              "    </tr>\n",
              "  </tbody>\n",
              "</table>\n",
              "</div>"
            ],
            "text/plain": [
              "      location continent  ...  gdp_per_capita           gdp\n",
              "0  Afghanistan      Asia  ...        1803.987  7.022622e+10\n",
              "1      Albania    Europe  ...       11803.431  3.396791e+10\n",
              "2      Algeria    Africa  ...       13913.839  6.101364e+11\n",
              "3      Andorra    Europe  ...             NaN           NaN\n",
              "4       Angola    Africa  ...        5819.495  1.912651e+11\n",
              "\n",
              "[5 rows x 7 columns]"
            ]
          },
          "metadata": {
            "tags": []
          },
          "execution_count": 21
        }
      ]
    },
    {
      "cell_type": "code",
      "metadata": {
        "id": "11v5YzcgoY8Z",
        "colab_type": "code",
        "colab": {}
      },
      "source": [
        "jovian.commit(project='pandas-practice-assignment', environment=None)"
      ],
      "execution_count": null,
      "outputs": []
    },
    {
      "cell_type": "markdown",
      "metadata": {
        "id": "NLCU2NFYoY8b",
        "colab_type": "text"
      },
      "source": [
        "**Q: (Optional) Create a dataframe containing 10 countries with the lowest GDP per capita, among the counties with population greater than 100 million.**"
      ]
    },
    {
      "cell_type": "code",
      "metadata": {
        "id": "KzFDv6cToY8c",
        "colab_type": "code",
        "colab": {}
      },
      "source": [
        ""
      ],
      "execution_count": null,
      "outputs": []
    },
    {
      "cell_type": "code",
      "metadata": {
        "id": "aJbrSYgGoY8e",
        "colab_type": "code",
        "colab": {}
      },
      "source": [
        ""
      ],
      "execution_count": null,
      "outputs": []
    },
    {
      "cell_type": "code",
      "metadata": {
        "id": "7VuB4bogoY8g",
        "colab_type": "code",
        "colab": {}
      },
      "source": [
        "jovian.commit(project='pandas-practice-assignment', environment=None)"
      ],
      "execution_count": null,
      "outputs": []
    },
    {
      "cell_type": "markdown",
      "metadata": {
        "id": "Phb--Sk8oY8i",
        "colab_type": "text"
      },
      "source": [
        "**Q: Create a data frame that counts the number countries in each continent?**\n",
        "\n",
        "*Hint: Use `groupby`, select the `location` column and aggregate using `count`.*"
      ]
    },
    {
      "cell_type": "code",
      "metadata": {
        "id": "huEqu_Ba65oK",
        "colab_type": "code",
        "colab": {
          "base_uri": "https://localhost:8080/",
          "height": 68
        },
        "outputId": "c964bb82-4a79-4dea-a7b9-49ca7c05fe66"
      },
      "source": [
        "countries_df.columns"
      ],
      "execution_count": 25,
      "outputs": [
        {
          "output_type": "execute_result",
          "data": {
            "text/plain": [
              "Index(['location', 'continent', 'population', 'life_expectancy',\n",
              "       'hospital_beds_per_thousand', 'gdp_per_capita', 'gdp'],\n",
              "      dtype='object')"
            ]
          },
          "metadata": {
            "tags": []
          },
          "execution_count": 25
        }
      ]
    },
    {
      "cell_type": "code",
      "metadata": {
        "id": "4SWY65l987fO",
        "colab_type": "code",
        "colab": {
          "base_uri": "https://localhost:8080/",
          "height": 204
        },
        "outputId": "391ba66b-72e6-49a4-b50a-d66194b421ba"
      },
      "source": [
        "countries_df.head(5)"
      ],
      "execution_count": 32,
      "outputs": [
        {
          "output_type": "execute_result",
          "data": {
            "text/html": [
              "<div>\n",
              "<style scoped>\n",
              "    .dataframe tbody tr th:only-of-type {\n",
              "        vertical-align: middle;\n",
              "    }\n",
              "\n",
              "    .dataframe tbody tr th {\n",
              "        vertical-align: top;\n",
              "    }\n",
              "\n",
              "    .dataframe thead th {\n",
              "        text-align: right;\n",
              "    }\n",
              "</style>\n",
              "<table border=\"1\" class=\"dataframe\">\n",
              "  <thead>\n",
              "    <tr style=\"text-align: right;\">\n",
              "      <th></th>\n",
              "      <th>location</th>\n",
              "      <th>continent</th>\n",
              "      <th>population</th>\n",
              "      <th>life_expectancy</th>\n",
              "      <th>hospital_beds_per_thousand</th>\n",
              "      <th>gdp_per_capita</th>\n",
              "      <th>gdp</th>\n",
              "    </tr>\n",
              "  </thead>\n",
              "  <tbody>\n",
              "    <tr>\n",
              "      <th>0</th>\n",
              "      <td>Afghanistan</td>\n",
              "      <td>Asia</td>\n",
              "      <td>38928341.0</td>\n",
              "      <td>64.83</td>\n",
              "      <td>0.50</td>\n",
              "      <td>1803.987</td>\n",
              "      <td>7.022622e+10</td>\n",
              "    </tr>\n",
              "    <tr>\n",
              "      <th>1</th>\n",
              "      <td>Albania</td>\n",
              "      <td>Europe</td>\n",
              "      <td>2877800.0</td>\n",
              "      <td>78.57</td>\n",
              "      <td>2.89</td>\n",
              "      <td>11803.431</td>\n",
              "      <td>3.396791e+10</td>\n",
              "    </tr>\n",
              "    <tr>\n",
              "      <th>2</th>\n",
              "      <td>Algeria</td>\n",
              "      <td>Africa</td>\n",
              "      <td>43851043.0</td>\n",
              "      <td>76.88</td>\n",
              "      <td>1.90</td>\n",
              "      <td>13913.839</td>\n",
              "      <td>6.101364e+11</td>\n",
              "    </tr>\n",
              "    <tr>\n",
              "      <th>3</th>\n",
              "      <td>Andorra</td>\n",
              "      <td>Europe</td>\n",
              "      <td>77265.0</td>\n",
              "      <td>83.73</td>\n",
              "      <td>NaN</td>\n",
              "      <td>NaN</td>\n",
              "      <td>NaN</td>\n",
              "    </tr>\n",
              "    <tr>\n",
              "      <th>4</th>\n",
              "      <td>Angola</td>\n",
              "      <td>Africa</td>\n",
              "      <td>32866268.0</td>\n",
              "      <td>61.15</td>\n",
              "      <td>NaN</td>\n",
              "      <td>5819.495</td>\n",
              "      <td>1.912651e+11</td>\n",
              "    </tr>\n",
              "  </tbody>\n",
              "</table>\n",
              "</div>"
            ],
            "text/plain": [
              "      location continent  ...  gdp_per_capita           gdp\n",
              "0  Afghanistan      Asia  ...        1803.987  7.022622e+10\n",
              "1      Albania    Europe  ...       11803.431  3.396791e+10\n",
              "2      Algeria    Africa  ...       13913.839  6.101364e+11\n",
              "3      Andorra    Europe  ...             NaN           NaN\n",
              "4       Angola    Africa  ...        5819.495  1.912651e+11\n",
              "\n",
              "[5 rows x 7 columns]"
            ]
          },
          "metadata": {
            "tags": []
          },
          "execution_count": 32
        }
      ]
    },
    {
      "cell_type": "code",
      "metadata": {
        "id": "eG-0_xl5oY8j",
        "colab_type": "code",
        "colab": {}
      },
      "source": [
        "country_counts_df = countries_df.groupby('continent')[['location']].count()"
      ],
      "execution_count": 44,
      "outputs": []
    },
    {
      "cell_type": "code",
      "metadata": {
        "id": "1jOyLLqsoY8l",
        "colab_type": "code",
        "colab": {
          "base_uri": "https://localhost:8080/",
          "height": 266
        },
        "outputId": "74b8f783-cda0-469e-b9b0-782a22085fdf"
      },
      "source": [
        "country_counts_df"
      ],
      "execution_count": 45,
      "outputs": [
        {
          "output_type": "execute_result",
          "data": {
            "text/html": [
              "<div>\n",
              "<style scoped>\n",
              "    .dataframe tbody tr th:only-of-type {\n",
              "        vertical-align: middle;\n",
              "    }\n",
              "\n",
              "    .dataframe tbody tr th {\n",
              "        vertical-align: top;\n",
              "    }\n",
              "\n",
              "    .dataframe thead th {\n",
              "        text-align: right;\n",
              "    }\n",
              "</style>\n",
              "<table border=\"1\" class=\"dataframe\">\n",
              "  <thead>\n",
              "    <tr style=\"text-align: right;\">\n",
              "      <th></th>\n",
              "      <th>location</th>\n",
              "    </tr>\n",
              "    <tr>\n",
              "      <th>continent</th>\n",
              "      <th></th>\n",
              "    </tr>\n",
              "  </thead>\n",
              "  <tbody>\n",
              "    <tr>\n",
              "      <th>Africa</th>\n",
              "      <td>55</td>\n",
              "    </tr>\n",
              "    <tr>\n",
              "      <th>Asia</th>\n",
              "      <td>47</td>\n",
              "    </tr>\n",
              "    <tr>\n",
              "      <th>Europe</th>\n",
              "      <td>51</td>\n",
              "    </tr>\n",
              "    <tr>\n",
              "      <th>North America</th>\n",
              "      <td>36</td>\n",
              "    </tr>\n",
              "    <tr>\n",
              "      <th>Oceania</th>\n",
              "      <td>8</td>\n",
              "    </tr>\n",
              "    <tr>\n",
              "      <th>South America</th>\n",
              "      <td>13</td>\n",
              "    </tr>\n",
              "  </tbody>\n",
              "</table>\n",
              "</div>"
            ],
            "text/plain": [
              "               location\n",
              "continent              \n",
              "Africa               55\n",
              "Asia                 47\n",
              "Europe               51\n",
              "North America        36\n",
              "Oceania               8\n",
              "South America        13"
            ]
          },
          "metadata": {
            "tags": []
          },
          "execution_count": 45
        }
      ]
    },
    {
      "cell_type": "code",
      "metadata": {
        "id": "ChdMc5KCoY8n",
        "colab_type": "code",
        "colab": {}
      },
      "source": [
        "jovian.commit(project='pandas-practice-assignment', environment=None)"
      ],
      "execution_count": null,
      "outputs": []
    },
    {
      "cell_type": "markdown",
      "metadata": {
        "id": "CQOywpXboY8q",
        "colab_type": "text"
      },
      "source": [
        "**Q: Create a data frame showing the total population of each continent.**\n",
        "\n",
        "*Hint: Use `groupby`, select the population column and aggregate using `sum`.*"
      ]
    },
    {
      "cell_type": "code",
      "metadata": {
        "id": "_RsHHhpEoY8r",
        "colab_type": "code",
        "colab": {}
      },
      "source": [
        "continent_populations_df1 = countries_df.groupby('population')[['continent']].sum()"
      ],
      "execution_count": 49,
      "outputs": []
    },
    {
      "cell_type": "code",
      "metadata": {
        "id": "J7rKC5DnKrKn",
        "colab_type": "code",
        "colab": {
          "base_uri": "https://localhost:8080/",
          "height": 450
        },
        "outputId": "66ea9eaa-2f6d-4319-b7b4-8abe8e55bbf2"
      },
      "source": [
        "continent_populations_df1"
      ],
      "execution_count": 50,
      "outputs": [
        {
          "output_type": "execute_result",
          "data": {
            "text/html": [
              "<div>\n",
              "<style scoped>\n",
              "    .dataframe tbody tr th:only-of-type {\n",
              "        vertical-align: middle;\n",
              "    }\n",
              "\n",
              "    .dataframe tbody tr th {\n",
              "        vertical-align: top;\n",
              "    }\n",
              "\n",
              "    .dataframe thead th {\n",
              "        text-align: right;\n",
              "    }\n",
              "</style>\n",
              "<table border=\"1\" class=\"dataframe\">\n",
              "  <thead>\n",
              "    <tr style=\"text-align: right;\">\n",
              "      <th></th>\n",
              "      <th>continent</th>\n",
              "    </tr>\n",
              "    <tr>\n",
              "      <th>population</th>\n",
              "      <th></th>\n",
              "    </tr>\n",
              "  </thead>\n",
              "  <tbody>\n",
              "    <tr>\n",
              "      <th>8.090000e+02</th>\n",
              "      <td>Europe</td>\n",
              "    </tr>\n",
              "    <tr>\n",
              "      <th>3.483000e+03</th>\n",
              "      <td>South America</td>\n",
              "    </tr>\n",
              "    <tr>\n",
              "      <th>4.999000e+03</th>\n",
              "      <td>North America</td>\n",
              "    </tr>\n",
              "    <tr>\n",
              "      <th>1.500200e+04</th>\n",
              "      <td>North America</td>\n",
              "    </tr>\n",
              "    <tr>\n",
              "      <th>2.622100e+04</th>\n",
              "      <td>North America</td>\n",
              "    </tr>\n",
              "    <tr>\n",
              "      <th>...</th>\n",
              "      <td>...</td>\n",
              "    </tr>\n",
              "    <tr>\n",
              "      <th>2.208923e+08</th>\n",
              "      <td>Asia</td>\n",
              "    </tr>\n",
              "    <tr>\n",
              "      <th>2.735236e+08</th>\n",
              "      <td>Asia</td>\n",
              "    </tr>\n",
              "    <tr>\n",
              "      <th>3.310026e+08</th>\n",
              "      <td>North America</td>\n",
              "    </tr>\n",
              "    <tr>\n",
              "      <th>1.380004e+09</th>\n",
              "      <td>Asia</td>\n",
              "    </tr>\n",
              "    <tr>\n",
              "      <th>1.439324e+09</th>\n",
              "      <td>Asia</td>\n",
              "    </tr>\n",
              "  </tbody>\n",
              "</table>\n",
              "<p>210 rows × 1 columns</p>\n",
              "</div>"
            ],
            "text/plain": [
              "                  continent\n",
              "population                 \n",
              "8.090000e+02         Europe\n",
              "3.483000e+03  South America\n",
              "4.999000e+03  North America\n",
              "1.500200e+04  North America\n",
              "2.622100e+04  North America\n",
              "...                     ...\n",
              "2.208923e+08           Asia\n",
              "2.735236e+08           Asia\n",
              "3.310026e+08  North America\n",
              "1.380004e+09           Asia\n",
              "1.439324e+09           Asia\n",
              "\n",
              "[210 rows x 1 columns]"
            ]
          },
          "metadata": {
            "tags": []
          },
          "execution_count": 50
        }
      ]
    },
    {
      "cell_type": "code",
      "metadata": {
        "id": "FvXRAhcXKk1a",
        "colab_type": "code",
        "colab": {}
      },
      "source": [
        "continent_populations_df2 = countries_df.groupby('population')[['location']].sum()"
      ],
      "execution_count": 51,
      "outputs": []
    },
    {
      "cell_type": "code",
      "metadata": {
        "id": "jzszF5eLoY8u",
        "colab_type": "code",
        "colab": {
          "base_uri": "https://localhost:8080/",
          "height": 450
        },
        "outputId": "c2624023-d358-4c8b-fe98-4c1439f33432"
      },
      "source": [
        "continent_populations_df2"
      ],
      "execution_count": 52,
      "outputs": [
        {
          "output_type": "execute_result",
          "data": {
            "text/html": [
              "<div>\n",
              "<style scoped>\n",
              "    .dataframe tbody tr th:only-of-type {\n",
              "        vertical-align: middle;\n",
              "    }\n",
              "\n",
              "    .dataframe tbody tr th {\n",
              "        vertical-align: top;\n",
              "    }\n",
              "\n",
              "    .dataframe thead th {\n",
              "        text-align: right;\n",
              "    }\n",
              "</style>\n",
              "<table border=\"1\" class=\"dataframe\">\n",
              "  <thead>\n",
              "    <tr style=\"text-align: right;\">\n",
              "      <th></th>\n",
              "      <th>location</th>\n",
              "    </tr>\n",
              "    <tr>\n",
              "      <th>population</th>\n",
              "      <th></th>\n",
              "    </tr>\n",
              "  </thead>\n",
              "  <tbody>\n",
              "    <tr>\n",
              "      <th>8.090000e+02</th>\n",
              "      <td>Vatican</td>\n",
              "    </tr>\n",
              "    <tr>\n",
              "      <th>3.483000e+03</th>\n",
              "      <td>Falkland Islands</td>\n",
              "    </tr>\n",
              "    <tr>\n",
              "      <th>4.999000e+03</th>\n",
              "      <td>Montserrat</td>\n",
              "    </tr>\n",
              "    <tr>\n",
              "      <th>1.500200e+04</th>\n",
              "      <td>Anguilla</td>\n",
              "    </tr>\n",
              "    <tr>\n",
              "      <th>2.622100e+04</th>\n",
              "      <td>Bonaire Sint Eustatius and Saba</td>\n",
              "    </tr>\n",
              "    <tr>\n",
              "      <th>...</th>\n",
              "      <td>...</td>\n",
              "    </tr>\n",
              "    <tr>\n",
              "      <th>2.208923e+08</th>\n",
              "      <td>Pakistan</td>\n",
              "    </tr>\n",
              "    <tr>\n",
              "      <th>2.735236e+08</th>\n",
              "      <td>Indonesia</td>\n",
              "    </tr>\n",
              "    <tr>\n",
              "      <th>3.310026e+08</th>\n",
              "      <td>United States</td>\n",
              "    </tr>\n",
              "    <tr>\n",
              "      <th>1.380004e+09</th>\n",
              "      <td>India</td>\n",
              "    </tr>\n",
              "    <tr>\n",
              "      <th>1.439324e+09</th>\n",
              "      <td>China</td>\n",
              "    </tr>\n",
              "  </tbody>\n",
              "</table>\n",
              "<p>210 rows × 1 columns</p>\n",
              "</div>"
            ],
            "text/plain": [
              "                                     location\n",
              "population                                   \n",
              "8.090000e+02                          Vatican\n",
              "3.483000e+03                 Falkland Islands\n",
              "4.999000e+03                       Montserrat\n",
              "1.500200e+04                         Anguilla\n",
              "2.622100e+04  Bonaire Sint Eustatius and Saba\n",
              "...                                       ...\n",
              "2.208923e+08                         Pakistan\n",
              "2.735236e+08                        Indonesia\n",
              "3.310026e+08                    United States\n",
              "1.380004e+09                            India\n",
              "1.439324e+09                            China\n",
              "\n",
              "[210 rows x 1 columns]"
            ]
          },
          "metadata": {
            "tags": []
          },
          "execution_count": 52
        }
      ]
    },
    {
      "cell_type": "code",
      "metadata": {
        "id": "_Dby6q2YoY8x",
        "colab_type": "code",
        "colab": {}
      },
      "source": [
        "jovian.commit(project='pandas-practice-assignment', environment=None)"
      ],
      "execution_count": null,
      "outputs": []
    },
    {
      "cell_type": "markdown",
      "metadata": {
        "id": "q7D6K4BZoY8z",
        "colab_type": "text"
      },
      "source": [
        "Let's download another CSV file containing overall Covid-19 stats for various countires, and read the data into another Pandas data frame."
      ]
    },
    {
      "cell_type": "code",
      "metadata": {
        "id": "CFR8EvF0oY80",
        "colab_type": "code",
        "colab": {
          "base_uri": "https://localhost:8080/",
          "height": 34
        },
        "outputId": "a8b91635-6e73-4239-a581-92ad9afeeb25"
      },
      "source": [
        "urlretrieve('https://hub.jovian.ml/wp-content/uploads/2020/09/covid-countries-data.csv', \n",
        "            'covid-countries-data.csv')"
      ],
      "execution_count": 53,
      "outputs": [
        {
          "output_type": "execute_result",
          "data": {
            "text/plain": [
              "('covid-countries-data.csv', <http.client.HTTPMessage at 0x7f64042f27f0>)"
            ]
          },
          "metadata": {
            "tags": []
          },
          "execution_count": 53
        }
      ]
    },
    {
      "cell_type": "code",
      "metadata": {
        "id": "Wn1m6XAFoY82",
        "colab_type": "code",
        "colab": {}
      },
      "source": [
        "covid_data_df = pd.read_csv('covid-countries-data.csv')"
      ],
      "execution_count": 54,
      "outputs": []
    },
    {
      "cell_type": "code",
      "metadata": {
        "scrolled": true,
        "id": "bpgUAlR3oY84",
        "colab_type": "code",
        "colab": {
          "base_uri": "https://localhost:8080/",
          "height": 419
        },
        "outputId": "8c54245e-a698-48ac-c349-6adb310f12f6"
      },
      "source": [
        "covid_data_df"
      ],
      "execution_count": 55,
      "outputs": [
        {
          "output_type": "execute_result",
          "data": {
            "text/html": [
              "<div>\n",
              "<style scoped>\n",
              "    .dataframe tbody tr th:only-of-type {\n",
              "        vertical-align: middle;\n",
              "    }\n",
              "\n",
              "    .dataframe tbody tr th {\n",
              "        vertical-align: top;\n",
              "    }\n",
              "\n",
              "    .dataframe thead th {\n",
              "        text-align: right;\n",
              "    }\n",
              "</style>\n",
              "<table border=\"1\" class=\"dataframe\">\n",
              "  <thead>\n",
              "    <tr style=\"text-align: right;\">\n",
              "      <th></th>\n",
              "      <th>location</th>\n",
              "      <th>total_cases</th>\n",
              "      <th>total_deaths</th>\n",
              "      <th>total_tests</th>\n",
              "    </tr>\n",
              "  </thead>\n",
              "  <tbody>\n",
              "    <tr>\n",
              "      <th>0</th>\n",
              "      <td>Afghanistan</td>\n",
              "      <td>38243.0</td>\n",
              "      <td>1409.0</td>\n",
              "      <td>NaN</td>\n",
              "    </tr>\n",
              "    <tr>\n",
              "      <th>1</th>\n",
              "      <td>Albania</td>\n",
              "      <td>9728.0</td>\n",
              "      <td>296.0</td>\n",
              "      <td>NaN</td>\n",
              "    </tr>\n",
              "    <tr>\n",
              "      <th>2</th>\n",
              "      <td>Algeria</td>\n",
              "      <td>45158.0</td>\n",
              "      <td>1525.0</td>\n",
              "      <td>NaN</td>\n",
              "    </tr>\n",
              "    <tr>\n",
              "      <th>3</th>\n",
              "      <td>Andorra</td>\n",
              "      <td>1199.0</td>\n",
              "      <td>53.0</td>\n",
              "      <td>NaN</td>\n",
              "    </tr>\n",
              "    <tr>\n",
              "      <th>4</th>\n",
              "      <td>Angola</td>\n",
              "      <td>2729.0</td>\n",
              "      <td>109.0</td>\n",
              "      <td>NaN</td>\n",
              "    </tr>\n",
              "    <tr>\n",
              "      <th>...</th>\n",
              "      <td>...</td>\n",
              "      <td>...</td>\n",
              "      <td>...</td>\n",
              "      <td>...</td>\n",
              "    </tr>\n",
              "    <tr>\n",
              "      <th>207</th>\n",
              "      <td>Western Sahara</td>\n",
              "      <td>766.0</td>\n",
              "      <td>1.0</td>\n",
              "      <td>NaN</td>\n",
              "    </tr>\n",
              "    <tr>\n",
              "      <th>208</th>\n",
              "      <td>World</td>\n",
              "      <td>26059065.0</td>\n",
              "      <td>863535.0</td>\n",
              "      <td>NaN</td>\n",
              "    </tr>\n",
              "    <tr>\n",
              "      <th>209</th>\n",
              "      <td>Yemen</td>\n",
              "      <td>1976.0</td>\n",
              "      <td>571.0</td>\n",
              "      <td>NaN</td>\n",
              "    </tr>\n",
              "    <tr>\n",
              "      <th>210</th>\n",
              "      <td>Zambia</td>\n",
              "      <td>12415.0</td>\n",
              "      <td>292.0</td>\n",
              "      <td>NaN</td>\n",
              "    </tr>\n",
              "    <tr>\n",
              "      <th>211</th>\n",
              "      <td>Zimbabwe</td>\n",
              "      <td>6638.0</td>\n",
              "      <td>206.0</td>\n",
              "      <td>97272.0</td>\n",
              "    </tr>\n",
              "  </tbody>\n",
              "</table>\n",
              "<p>212 rows × 4 columns</p>\n",
              "</div>"
            ],
            "text/plain": [
              "           location  total_cases  total_deaths  total_tests\n",
              "0       Afghanistan      38243.0        1409.0          NaN\n",
              "1           Albania       9728.0         296.0          NaN\n",
              "2           Algeria      45158.0        1525.0          NaN\n",
              "3           Andorra       1199.0          53.0          NaN\n",
              "4            Angola       2729.0         109.0          NaN\n",
              "..              ...          ...           ...          ...\n",
              "207  Western Sahara        766.0           1.0          NaN\n",
              "208           World   26059065.0      863535.0          NaN\n",
              "209           Yemen       1976.0         571.0          NaN\n",
              "210          Zambia      12415.0         292.0          NaN\n",
              "211        Zimbabwe       6638.0         206.0      97272.0\n",
              "\n",
              "[212 rows x 4 columns]"
            ]
          },
          "metadata": {
            "tags": []
          },
          "execution_count": 55
        }
      ]
    },
    {
      "cell_type": "code",
      "metadata": {
        "id": "6EnwBJnjLzBk",
        "colab_type": "code",
        "colab": {
          "base_uri": "https://localhost:8080/",
          "height": 255
        },
        "outputId": "08f83845-0af8-4597-8ca8-e79c7f45971c"
      },
      "source": [
        "# covid_data_df.isna"
      ],
      "execution_count": 70,
      "outputs": [
        {
          "output_type": "execute_result",
          "data": {
            "text/plain": [
              "<bound method DataFrame.isna of            location  total_cases  total_deaths  total_tests\n",
              "0       Afghanistan      38243.0        1409.0          NaN\n",
              "1           Albania       9728.0         296.0          NaN\n",
              "2           Algeria      45158.0        1525.0          NaN\n",
              "3           Andorra       1199.0          53.0          NaN\n",
              "4            Angola       2729.0         109.0          NaN\n",
              "..              ...          ...           ...          ...\n",
              "207  Western Sahara        766.0           1.0          NaN\n",
              "208           World   26059065.0      863535.0          NaN\n",
              "209           Yemen       1976.0         571.0          NaN\n",
              "210          Zambia      12415.0         292.0          NaN\n",
              "211        Zimbabwe       6638.0         206.0      97272.0\n",
              "\n",
              "[212 rows x 4 columns]>"
            ]
          },
          "metadata": {
            "tags": []
          },
          "execution_count": 70
        }
      ]
    },
    {
      "cell_type": "markdown",
      "metadata": {
        "id": "sOPdnecToY87",
        "colab_type": "text"
      },
      "source": [
        "**Q: Count the number of countries for which the `total_tests` data is missing.**\n",
        "\n",
        "*Hint: Use the `.isna` method.*"
      ]
    },
    {
      "cell_type": "code",
      "metadata": {
        "id": "za9370KIoY87",
        "colab_type": "code",
        "colab": {
          "base_uri": "https://localhost:8080/",
          "height": 34
        },
        "outputId": "389d0b06-2558-435a-dc8c-5c4a7a3ac9be"
      },
      "source": [
        "# total_tests_missing = covid_data_df['total_tests'].isnull().sum()\n",
        "# print(total_tests_missing)"
      ],
      "execution_count": 72,
      "outputs": [
        {
          "output_type": "stream",
          "text": [
            "122\n"
          ],
          "name": "stdout"
        }
      ]
    },
    {
      "cell_type": "code",
      "metadata": {
        "id": "rk8IbM6VM7Sr",
        "colab_type": "code",
        "colab": {
          "base_uri": "https://localhost:8080/",
          "height": 34
        },
        "outputId": "8ae690bf-e6df-4dda-d9b8-c0ee639d2616"
      },
      "source": [
        "total_tests_missing = covid_data_df['total_tests'].isna().sum()\n",
        "print(total_tests_missing)"
      ],
      "execution_count": 77,
      "outputs": [
        {
          "output_type": "stream",
          "text": [
            "122\n"
          ],
          "name": "stdout"
        }
      ]
    },
    {
      "cell_type": "code",
      "metadata": {
        "id": "2TuwX4XHoY9B",
        "colab_type": "code",
        "colab": {
          "base_uri": "https://localhost:8080/",
          "height": 34
        },
        "outputId": "01835a37-d60f-4a3d-8b9f-2b0d6266b5a1"
      },
      "source": [
        "print(\"The data for total tests is missing for {} countries.\".format(int(total_tests_missing)))"
      ],
      "execution_count": 78,
      "outputs": [
        {
          "output_type": "stream",
          "text": [
            "The data for total tests is missing for 122 countries.\n"
          ],
          "name": "stdout"
        }
      ]
    },
    {
      "cell_type": "code",
      "metadata": {
        "id": "G1Tfk-7DoY9D",
        "colab_type": "code",
        "colab": {}
      },
      "source": [
        "jovian.commit(project='pandas-practice-assignment', environment=None)"
      ],
      "execution_count": null,
      "outputs": []
    },
    {
      "cell_type": "markdown",
      "metadata": {
        "id": "SIuBNDj2oY9H",
        "colab_type": "text"
      },
      "source": [
        "Let's merge the two data frames, and compute some more metrics.\n",
        "\n",
        "**Q: Merge `countries_df` with `covid_data_df` on the `location` column.**\n",
        "\n",
        "*Hint: Use the `.merge` method on `countries_df`."
      ]
    },
    {
      "cell_type": "code",
      "metadata": {
        "id": "u1Fq9EqzoY9I",
        "colab_type": "code",
        "colab": {}
      },
      "source": [
        "combined_df = countries_df.merge(covid_data_df, on='location')"
      ],
      "execution_count": 79,
      "outputs": []
    },
    {
      "cell_type": "code",
      "metadata": {
        "id": "h8bakg09oY9L",
        "colab_type": "code",
        "colab": {
          "base_uri": "https://localhost:8080/",
          "height": 224
        },
        "outputId": "245b1cce-cabe-4e5e-e498-ccf09a54ab7c"
      },
      "source": [
        "combined_df.head(5)"
      ],
      "execution_count": 81,
      "outputs": [
        {
          "output_type": "execute_result",
          "data": {
            "text/html": [
              "<div>\n",
              "<style scoped>\n",
              "    .dataframe tbody tr th:only-of-type {\n",
              "        vertical-align: middle;\n",
              "    }\n",
              "\n",
              "    .dataframe tbody tr th {\n",
              "        vertical-align: top;\n",
              "    }\n",
              "\n",
              "    .dataframe thead th {\n",
              "        text-align: right;\n",
              "    }\n",
              "</style>\n",
              "<table border=\"1\" class=\"dataframe\">\n",
              "  <thead>\n",
              "    <tr style=\"text-align: right;\">\n",
              "      <th></th>\n",
              "      <th>location</th>\n",
              "      <th>continent</th>\n",
              "      <th>population</th>\n",
              "      <th>life_expectancy</th>\n",
              "      <th>hospital_beds_per_thousand</th>\n",
              "      <th>gdp_per_capita</th>\n",
              "      <th>gdp</th>\n",
              "      <th>total_cases</th>\n",
              "      <th>total_deaths</th>\n",
              "      <th>total_tests</th>\n",
              "    </tr>\n",
              "  </thead>\n",
              "  <tbody>\n",
              "    <tr>\n",
              "      <th>0</th>\n",
              "      <td>Afghanistan</td>\n",
              "      <td>Asia</td>\n",
              "      <td>38928341.0</td>\n",
              "      <td>64.83</td>\n",
              "      <td>0.50</td>\n",
              "      <td>1803.987</td>\n",
              "      <td>7.022622e+10</td>\n",
              "      <td>38243.0</td>\n",
              "      <td>1409.0</td>\n",
              "      <td>NaN</td>\n",
              "    </tr>\n",
              "    <tr>\n",
              "      <th>1</th>\n",
              "      <td>Albania</td>\n",
              "      <td>Europe</td>\n",
              "      <td>2877800.0</td>\n",
              "      <td>78.57</td>\n",
              "      <td>2.89</td>\n",
              "      <td>11803.431</td>\n",
              "      <td>3.396791e+10</td>\n",
              "      <td>9728.0</td>\n",
              "      <td>296.0</td>\n",
              "      <td>NaN</td>\n",
              "    </tr>\n",
              "    <tr>\n",
              "      <th>2</th>\n",
              "      <td>Algeria</td>\n",
              "      <td>Africa</td>\n",
              "      <td>43851043.0</td>\n",
              "      <td>76.88</td>\n",
              "      <td>1.90</td>\n",
              "      <td>13913.839</td>\n",
              "      <td>6.101364e+11</td>\n",
              "      <td>45158.0</td>\n",
              "      <td>1525.0</td>\n",
              "      <td>NaN</td>\n",
              "    </tr>\n",
              "    <tr>\n",
              "      <th>3</th>\n",
              "      <td>Andorra</td>\n",
              "      <td>Europe</td>\n",
              "      <td>77265.0</td>\n",
              "      <td>83.73</td>\n",
              "      <td>NaN</td>\n",
              "      <td>NaN</td>\n",
              "      <td>NaN</td>\n",
              "      <td>1199.0</td>\n",
              "      <td>53.0</td>\n",
              "      <td>NaN</td>\n",
              "    </tr>\n",
              "    <tr>\n",
              "      <th>4</th>\n",
              "      <td>Angola</td>\n",
              "      <td>Africa</td>\n",
              "      <td>32866268.0</td>\n",
              "      <td>61.15</td>\n",
              "      <td>NaN</td>\n",
              "      <td>5819.495</td>\n",
              "      <td>1.912651e+11</td>\n",
              "      <td>2729.0</td>\n",
              "      <td>109.0</td>\n",
              "      <td>NaN</td>\n",
              "    </tr>\n",
              "  </tbody>\n",
              "</table>\n",
              "</div>"
            ],
            "text/plain": [
              "      location continent  population  ...  total_cases  total_deaths  total_tests\n",
              "0  Afghanistan      Asia  38928341.0  ...      38243.0        1409.0          NaN\n",
              "1      Albania    Europe   2877800.0  ...       9728.0         296.0          NaN\n",
              "2      Algeria    Africa  43851043.0  ...      45158.0        1525.0          NaN\n",
              "3      Andorra    Europe     77265.0  ...       1199.0          53.0          NaN\n",
              "4       Angola    Africa  32866268.0  ...       2729.0         109.0          NaN\n",
              "\n",
              "[5 rows x 10 columns]"
            ]
          },
          "metadata": {
            "tags": []
          },
          "execution_count": 81
        }
      ]
    },
    {
      "cell_type": "code",
      "metadata": {
        "id": "rpnv4oRcoY9Q",
        "colab_type": "code",
        "colab": {}
      },
      "source": [
        "jovian.commit(project='pandas-practice-assignment', environment=None)"
      ],
      "execution_count": null,
      "outputs": []
    },
    {
      "cell_type": "markdown",
      "metadata": {
        "id": "dxfoEkJYoY9V",
        "colab_type": "text"
      },
      "source": [
        "**Q: Add columns `tests_per_million`, `cases_per_million` and `deaths_per_million` into `combined_df`.**"
      ]
    },
    {
      "cell_type": "code",
      "metadata": {
        "id": "C8KmgWZ4oY9W",
        "colab_type": "code",
        "colab": {}
      },
      "source": [
        "combined_df['tests_per_million'] = combined_df['total_tests'] * 1e6 / combined_df['population']"
      ],
      "execution_count": 83,
      "outputs": []
    },
    {
      "cell_type": "code",
      "metadata": {
        "id": "ssJXqt6goY9a",
        "colab_type": "code",
        "colab": {}
      },
      "source": [
        "combined_df['cases_per_million'] = combined_df['total_cases'] * 1e6 / combined_df['population']"
      ],
      "execution_count": 84,
      "outputs": []
    },
    {
      "cell_type": "code",
      "metadata": {
        "id": "wzfgzmTOoY9e",
        "colab_type": "code",
        "colab": {}
      },
      "source": [
        "combined_df['deaths_per_million'] = combined_df['total_deaths'] * 1e6 / combined_df['population']"
      ],
      "execution_count": 85,
      "outputs": []
    },
    {
      "cell_type": "code",
      "metadata": {
        "id": "9M5HJO9goY9i",
        "colab_type": "code",
        "colab": {
          "base_uri": "https://localhost:8080/",
          "height": 456
        },
        "outputId": "81cbc1e5-e501-420b-873d-e70f9da5c707"
      },
      "source": [
        "combined_df"
      ],
      "execution_count": 87,
      "outputs": [
        {
          "output_type": "execute_result",
          "data": {
            "text/html": [
              "<div>\n",
              "<style scoped>\n",
              "    .dataframe tbody tr th:only-of-type {\n",
              "        vertical-align: middle;\n",
              "    }\n",
              "\n",
              "    .dataframe tbody tr th {\n",
              "        vertical-align: top;\n",
              "    }\n",
              "\n",
              "    .dataframe thead th {\n",
              "        text-align: right;\n",
              "    }\n",
              "</style>\n",
              "<table border=\"1\" class=\"dataframe\">\n",
              "  <thead>\n",
              "    <tr style=\"text-align: right;\">\n",
              "      <th></th>\n",
              "      <th>location</th>\n",
              "      <th>continent</th>\n",
              "      <th>population</th>\n",
              "      <th>life_expectancy</th>\n",
              "      <th>hospital_beds_per_thousand</th>\n",
              "      <th>gdp_per_capita</th>\n",
              "      <th>gdp</th>\n",
              "      <th>total_cases</th>\n",
              "      <th>total_deaths</th>\n",
              "      <th>total_tests</th>\n",
              "      <th>tests_per_million</th>\n",
              "      <th>cases_per_million</th>\n",
              "      <th>deaths_per_million</th>\n",
              "    </tr>\n",
              "  </thead>\n",
              "  <tbody>\n",
              "    <tr>\n",
              "      <th>0</th>\n",
              "      <td>Afghanistan</td>\n",
              "      <td>Asia</td>\n",
              "      <td>38928341.0</td>\n",
              "      <td>64.83</td>\n",
              "      <td>0.50</td>\n",
              "      <td>1803.987</td>\n",
              "      <td>7.022622e+10</td>\n",
              "      <td>38243.0</td>\n",
              "      <td>1409.0</td>\n",
              "      <td>NaN</td>\n",
              "      <td>NaN</td>\n",
              "      <td>982.394806</td>\n",
              "      <td>36.194710</td>\n",
              "    </tr>\n",
              "    <tr>\n",
              "      <th>1</th>\n",
              "      <td>Albania</td>\n",
              "      <td>Europe</td>\n",
              "      <td>2877800.0</td>\n",
              "      <td>78.57</td>\n",
              "      <td>2.89</td>\n",
              "      <td>11803.431</td>\n",
              "      <td>3.396791e+10</td>\n",
              "      <td>9728.0</td>\n",
              "      <td>296.0</td>\n",
              "      <td>NaN</td>\n",
              "      <td>NaN</td>\n",
              "      <td>3380.359997</td>\n",
              "      <td>102.856349</td>\n",
              "    </tr>\n",
              "    <tr>\n",
              "      <th>2</th>\n",
              "      <td>Algeria</td>\n",
              "      <td>Africa</td>\n",
              "      <td>43851043.0</td>\n",
              "      <td>76.88</td>\n",
              "      <td>1.90</td>\n",
              "      <td>13913.839</td>\n",
              "      <td>6.101364e+11</td>\n",
              "      <td>45158.0</td>\n",
              "      <td>1525.0</td>\n",
              "      <td>NaN</td>\n",
              "      <td>NaN</td>\n",
              "      <td>1029.804468</td>\n",
              "      <td>34.776824</td>\n",
              "    </tr>\n",
              "    <tr>\n",
              "      <th>3</th>\n",
              "      <td>Andorra</td>\n",
              "      <td>Europe</td>\n",
              "      <td>77265.0</td>\n",
              "      <td>83.73</td>\n",
              "      <td>NaN</td>\n",
              "      <td>NaN</td>\n",
              "      <td>NaN</td>\n",
              "      <td>1199.0</td>\n",
              "      <td>53.0</td>\n",
              "      <td>NaN</td>\n",
              "      <td>NaN</td>\n",
              "      <td>15518.022390</td>\n",
              "      <td>685.950948</td>\n",
              "    </tr>\n",
              "    <tr>\n",
              "      <th>4</th>\n",
              "      <td>Angola</td>\n",
              "      <td>Africa</td>\n",
              "      <td>32866268.0</td>\n",
              "      <td>61.15</td>\n",
              "      <td>NaN</td>\n",
              "      <td>5819.495</td>\n",
              "      <td>1.912651e+11</td>\n",
              "      <td>2729.0</td>\n",
              "      <td>109.0</td>\n",
              "      <td>NaN</td>\n",
              "      <td>NaN</td>\n",
              "      <td>83.033462</td>\n",
              "      <td>3.316470</td>\n",
              "    </tr>\n",
              "    <tr>\n",
              "      <th>...</th>\n",
              "      <td>...</td>\n",
              "      <td>...</td>\n",
              "      <td>...</td>\n",
              "      <td>...</td>\n",
              "      <td>...</td>\n",
              "      <td>...</td>\n",
              "      <td>...</td>\n",
              "      <td>...</td>\n",
              "      <td>...</td>\n",
              "      <td>...</td>\n",
              "      <td>...</td>\n",
              "      <td>...</td>\n",
              "      <td>...</td>\n",
              "    </tr>\n",
              "    <tr>\n",
              "      <th>205</th>\n",
              "      <td>Vietnam</td>\n",
              "      <td>Asia</td>\n",
              "      <td>97338583.0</td>\n",
              "      <td>75.40</td>\n",
              "      <td>2.60</td>\n",
              "      <td>6171.884</td>\n",
              "      <td>6.007624e+11</td>\n",
              "      <td>1046.0</td>\n",
              "      <td>35.0</td>\n",
              "      <td>261004.0</td>\n",
              "      <td>2681.403324</td>\n",
              "      <td>10.745996</td>\n",
              "      <td>0.359570</td>\n",
              "    </tr>\n",
              "    <tr>\n",
              "      <th>206</th>\n",
              "      <td>Western Sahara</td>\n",
              "      <td>Africa</td>\n",
              "      <td>597330.0</td>\n",
              "      <td>70.26</td>\n",
              "      <td>NaN</td>\n",
              "      <td>NaN</td>\n",
              "      <td>NaN</td>\n",
              "      <td>766.0</td>\n",
              "      <td>1.0</td>\n",
              "      <td>NaN</td>\n",
              "      <td>NaN</td>\n",
              "      <td>1282.373228</td>\n",
              "      <td>1.674116</td>\n",
              "    </tr>\n",
              "    <tr>\n",
              "      <th>207</th>\n",
              "      <td>Yemen</td>\n",
              "      <td>Asia</td>\n",
              "      <td>29825968.0</td>\n",
              "      <td>66.12</td>\n",
              "      <td>0.70</td>\n",
              "      <td>1479.147</td>\n",
              "      <td>4.411699e+10</td>\n",
              "      <td>1976.0</td>\n",
              "      <td>571.0</td>\n",
              "      <td>NaN</td>\n",
              "      <td>NaN</td>\n",
              "      <td>66.250993</td>\n",
              "      <td>19.144391</td>\n",
              "    </tr>\n",
              "    <tr>\n",
              "      <th>208</th>\n",
              "      <td>Zambia</td>\n",
              "      <td>Africa</td>\n",
              "      <td>18383956.0</td>\n",
              "      <td>63.89</td>\n",
              "      <td>2.00</td>\n",
              "      <td>3689.251</td>\n",
              "      <td>6.782303e+10</td>\n",
              "      <td>12415.0</td>\n",
              "      <td>292.0</td>\n",
              "      <td>NaN</td>\n",
              "      <td>NaN</td>\n",
              "      <td>675.317108</td>\n",
              "      <td>15.883415</td>\n",
              "    </tr>\n",
              "    <tr>\n",
              "      <th>209</th>\n",
              "      <td>Zimbabwe</td>\n",
              "      <td>Africa</td>\n",
              "      <td>14862927.0</td>\n",
              "      <td>61.49</td>\n",
              "      <td>1.70</td>\n",
              "      <td>1899.775</td>\n",
              "      <td>2.823622e+10</td>\n",
              "      <td>6638.0</td>\n",
              "      <td>206.0</td>\n",
              "      <td>97272.0</td>\n",
              "      <td>6544.605918</td>\n",
              "      <td>446.614587</td>\n",
              "      <td>13.859989</td>\n",
              "    </tr>\n",
              "  </tbody>\n",
              "</table>\n",
              "<p>210 rows × 13 columns</p>\n",
              "</div>"
            ],
            "text/plain": [
              "           location continent  ...  cases_per_million  deaths_per_million\n",
              "0       Afghanistan      Asia  ...         982.394806           36.194710\n",
              "1           Albania    Europe  ...        3380.359997          102.856349\n",
              "2           Algeria    Africa  ...        1029.804468           34.776824\n",
              "3           Andorra    Europe  ...       15518.022390          685.950948\n",
              "4            Angola    Africa  ...          83.033462            3.316470\n",
              "..              ...       ...  ...                ...                 ...\n",
              "205         Vietnam      Asia  ...          10.745996            0.359570\n",
              "206  Western Sahara    Africa  ...        1282.373228            1.674116\n",
              "207           Yemen      Asia  ...          66.250993           19.144391\n",
              "208          Zambia    Africa  ...         675.317108           15.883415\n",
              "209        Zimbabwe    Africa  ...         446.614587           13.859989\n",
              "\n",
              "[210 rows x 13 columns]"
            ]
          },
          "metadata": {
            "tags": []
          },
          "execution_count": 87
        }
      ]
    },
    {
      "cell_type": "code",
      "metadata": {
        "id": "jblqmvhwoY9j",
        "colab_type": "code",
        "colab": {}
      },
      "source": [
        "jovian.commit(project='pandas-practice-assignment', environment=None)"
      ],
      "execution_count": null,
      "outputs": []
    },
    {
      "cell_type": "markdown",
      "metadata": {
        "id": "CgxXtdbUoY9o",
        "colab_type": "text"
      },
      "source": [
        "**Q: Create a dataframe with 10 countires that have highest number of tests per million people.**"
      ]
    },
    {
      "cell_type": "code",
      "metadata": {
        "id": "FPaODYU6oY9o",
        "colab_type": "code",
        "colab": {}
      },
      "source": [
        "highest_tests_df = combined_df.sort_values('tests_per_million', ascending=False).head(10)"
      ],
      "execution_count": 88,
      "outputs": []
    },
    {
      "cell_type": "code",
      "metadata": {
        "id": "LsxlTiUToY9r",
        "colab_type": "code",
        "colab": {
          "base_uri": "https://localhost:8080/",
          "height": 413
        },
        "outputId": "8cb157a1-7fa8-4c73-f391-d0e6cdc9c978"
      },
      "source": [
        "highest_tests_df"
      ],
      "execution_count": 89,
      "outputs": [
        {
          "output_type": "execute_result",
          "data": {
            "text/html": [
              "<div>\n",
              "<style scoped>\n",
              "    .dataframe tbody tr th:only-of-type {\n",
              "        vertical-align: middle;\n",
              "    }\n",
              "\n",
              "    .dataframe tbody tr th {\n",
              "        vertical-align: top;\n",
              "    }\n",
              "\n",
              "    .dataframe thead th {\n",
              "        text-align: right;\n",
              "    }\n",
              "</style>\n",
              "<table border=\"1\" class=\"dataframe\">\n",
              "  <thead>\n",
              "    <tr style=\"text-align: right;\">\n",
              "      <th></th>\n",
              "      <th>location</th>\n",
              "      <th>continent</th>\n",
              "      <th>population</th>\n",
              "      <th>life_expectancy</th>\n",
              "      <th>hospital_beds_per_thousand</th>\n",
              "      <th>gdp_per_capita</th>\n",
              "      <th>gdp</th>\n",
              "      <th>total_cases</th>\n",
              "      <th>total_deaths</th>\n",
              "      <th>total_tests</th>\n",
              "      <th>tests_per_million</th>\n",
              "      <th>cases_per_million</th>\n",
              "      <th>deaths_per_million</th>\n",
              "    </tr>\n",
              "  </thead>\n",
              "  <tbody>\n",
              "    <tr>\n",
              "      <th>197</th>\n",
              "      <td>United Arab Emirates</td>\n",
              "      <td>Asia</td>\n",
              "      <td>9890400.0</td>\n",
              "      <td>77.97</td>\n",
              "      <td>1.200</td>\n",
              "      <td>67293.483</td>\n",
              "      <td>6.655595e+11</td>\n",
              "      <td>71540.0</td>\n",
              "      <td>387.0</td>\n",
              "      <td>7177430.0</td>\n",
              "      <td>725696.635121</td>\n",
              "      <td>7233.276713</td>\n",
              "      <td>39.128852</td>\n",
              "    </tr>\n",
              "    <tr>\n",
              "      <th>14</th>\n",
              "      <td>Bahrain</td>\n",
              "      <td>Asia</td>\n",
              "      <td>1701583.0</td>\n",
              "      <td>77.29</td>\n",
              "      <td>2.000</td>\n",
              "      <td>43290.705</td>\n",
              "      <td>7.366273e+10</td>\n",
              "      <td>52440.0</td>\n",
              "      <td>190.0</td>\n",
              "      <td>1118837.0</td>\n",
              "      <td>657527.137965</td>\n",
              "      <td>30818.361490</td>\n",
              "      <td>111.660730</td>\n",
              "    </tr>\n",
              "    <tr>\n",
              "      <th>115</th>\n",
              "      <td>Luxembourg</td>\n",
              "      <td>Europe</td>\n",
              "      <td>625976.0</td>\n",
              "      <td>82.25</td>\n",
              "      <td>4.510</td>\n",
              "      <td>94277.965</td>\n",
              "      <td>5.901574e+10</td>\n",
              "      <td>7928.0</td>\n",
              "      <td>124.0</td>\n",
              "      <td>385820.0</td>\n",
              "      <td>616349.508607</td>\n",
              "      <td>12665.022301</td>\n",
              "      <td>198.090662</td>\n",
              "    </tr>\n",
              "    <tr>\n",
              "      <th>122</th>\n",
              "      <td>Malta</td>\n",
              "      <td>Europe</td>\n",
              "      <td>441539.0</td>\n",
              "      <td>82.53</td>\n",
              "      <td>4.485</td>\n",
              "      <td>36513.323</td>\n",
              "      <td>1.612206e+10</td>\n",
              "      <td>1931.0</td>\n",
              "      <td>13.0</td>\n",
              "      <td>188539.0</td>\n",
              "      <td>427004.183096</td>\n",
              "      <td>4373.339614</td>\n",
              "      <td>29.442473</td>\n",
              "    </tr>\n",
              "    <tr>\n",
              "      <th>53</th>\n",
              "      <td>Denmark</td>\n",
              "      <td>Europe</td>\n",
              "      <td>5792203.0</td>\n",
              "      <td>80.90</td>\n",
              "      <td>2.500</td>\n",
              "      <td>46682.515</td>\n",
              "      <td>2.703946e+11</td>\n",
              "      <td>17195.0</td>\n",
              "      <td>626.0</td>\n",
              "      <td>2447911.0</td>\n",
              "      <td>422621.755488</td>\n",
              "      <td>2968.645954</td>\n",
              "      <td>108.076323</td>\n",
              "    </tr>\n",
              "    <tr>\n",
              "      <th>96</th>\n",
              "      <td>Israel</td>\n",
              "      <td>Asia</td>\n",
              "      <td>8655541.0</td>\n",
              "      <td>82.97</td>\n",
              "      <td>2.990</td>\n",
              "      <td>33132.320</td>\n",
              "      <td>2.867782e+11</td>\n",
              "      <td>122539.0</td>\n",
              "      <td>969.0</td>\n",
              "      <td>2353984.0</td>\n",
              "      <td>271962.665303</td>\n",
              "      <td>14157.289533</td>\n",
              "      <td>111.951408</td>\n",
              "    </tr>\n",
              "    <tr>\n",
              "      <th>89</th>\n",
              "      <td>Iceland</td>\n",
              "      <td>Europe</td>\n",
              "      <td>341250.0</td>\n",
              "      <td>82.99</td>\n",
              "      <td>2.910</td>\n",
              "      <td>46482.958</td>\n",
              "      <td>1.586231e+10</td>\n",
              "      <td>2121.0</td>\n",
              "      <td>10.0</td>\n",
              "      <td>88829.0</td>\n",
              "      <td>260304.761905</td>\n",
              "      <td>6215.384615</td>\n",
              "      <td>29.304029</td>\n",
              "    </tr>\n",
              "    <tr>\n",
              "      <th>157</th>\n",
              "      <td>Russia</td>\n",
              "      <td>Europe</td>\n",
              "      <td>145934460.0</td>\n",
              "      <td>72.58</td>\n",
              "      <td>8.050</td>\n",
              "      <td>24765.954</td>\n",
              "      <td>3.614206e+12</td>\n",
              "      <td>1005000.0</td>\n",
              "      <td>17414.0</td>\n",
              "      <td>37176827.0</td>\n",
              "      <td>254750.159763</td>\n",
              "      <td>6886.653091</td>\n",
              "      <td>119.327539</td>\n",
              "    </tr>\n",
              "    <tr>\n",
              "      <th>199</th>\n",
              "      <td>United States</td>\n",
              "      <td>North America</td>\n",
              "      <td>331002647.0</td>\n",
              "      <td>78.86</td>\n",
              "      <td>2.770</td>\n",
              "      <td>54225.446</td>\n",
              "      <td>1.794877e+13</td>\n",
              "      <td>6114406.0</td>\n",
              "      <td>185744.0</td>\n",
              "      <td>83898416.0</td>\n",
              "      <td>253467.507769</td>\n",
              "      <td>18472.377957</td>\n",
              "      <td>561.155633</td>\n",
              "    </tr>\n",
              "    <tr>\n",
              "      <th>10</th>\n",
              "      <td>Australia</td>\n",
              "      <td>Oceania</td>\n",
              "      <td>25499881.0</td>\n",
              "      <td>83.44</td>\n",
              "      <td>3.840</td>\n",
              "      <td>44648.710</td>\n",
              "      <td>1.138537e+12</td>\n",
              "      <td>25923.0</td>\n",
              "      <td>663.0</td>\n",
              "      <td>6255797.0</td>\n",
              "      <td>245326.517406</td>\n",
              "      <td>1016.592979</td>\n",
              "      <td>26.000121</td>\n",
              "    </tr>\n",
              "  </tbody>\n",
              "</table>\n",
              "</div>"
            ],
            "text/plain": [
              "                 location      continent  ...  cases_per_million  deaths_per_million\n",
              "197  United Arab Emirates           Asia  ...        7233.276713           39.128852\n",
              "14                Bahrain           Asia  ...       30818.361490          111.660730\n",
              "115            Luxembourg         Europe  ...       12665.022301          198.090662\n",
              "122                 Malta         Europe  ...        4373.339614           29.442473\n",
              "53                Denmark         Europe  ...        2968.645954          108.076323\n",
              "96                 Israel           Asia  ...       14157.289533          111.951408\n",
              "89                Iceland         Europe  ...        6215.384615           29.304029\n",
              "157                Russia         Europe  ...        6886.653091          119.327539\n",
              "199         United States  North America  ...       18472.377957          561.155633\n",
              "10              Australia        Oceania  ...        1016.592979           26.000121\n",
              "\n",
              "[10 rows x 13 columns]"
            ]
          },
          "metadata": {
            "tags": []
          },
          "execution_count": 89
        }
      ]
    },
    {
      "cell_type": "code",
      "metadata": {
        "id": "G-dmKxOdoY9v",
        "colab_type": "code",
        "colab": {}
      },
      "source": [
        "jovian.commit(project='pandas-practice-assignment', environment=None)"
      ],
      "execution_count": null,
      "outputs": []
    },
    {
      "cell_type": "markdown",
      "metadata": {
        "id": "yG4FtIvXoY91",
        "colab_type": "text"
      },
      "source": [
        "**Q: Create a dataframe with 10 countires that have highest number of positive cases per million people.**"
      ]
    },
    {
      "cell_type": "code",
      "metadata": {
        "id": "iuH_s15qoY92",
        "colab_type": "code",
        "colab": {}
      },
      "source": [
        "# highest_cases_df = ???\n",
        "highest_cases_df = combined_df.sort_values('cases_per_million', ascending=False).head(10)"
      ],
      "execution_count": 90,
      "outputs": []
    },
    {
      "cell_type": "code",
      "metadata": {
        "id": "hGM6RjagoY99",
        "colab_type": "code",
        "colab": {
          "base_uri": "https://localhost:8080/",
          "height": 498
        },
        "outputId": "67c81e81-9ac0-4ef9-8060-c53586321f4b"
      },
      "source": [
        "highest_cases_df"
      ],
      "execution_count": 91,
      "outputs": [
        {
          "output_type": "execute_result",
          "data": {
            "text/html": [
              "<div>\n",
              "<style scoped>\n",
              "    .dataframe tbody tr th:only-of-type {\n",
              "        vertical-align: middle;\n",
              "    }\n",
              "\n",
              "    .dataframe tbody tr th {\n",
              "        vertical-align: top;\n",
              "    }\n",
              "\n",
              "    .dataframe thead th {\n",
              "        text-align: right;\n",
              "    }\n",
              "</style>\n",
              "<table border=\"1\" class=\"dataframe\">\n",
              "  <thead>\n",
              "    <tr style=\"text-align: right;\">\n",
              "      <th></th>\n",
              "      <th>location</th>\n",
              "      <th>continent</th>\n",
              "      <th>population</th>\n",
              "      <th>life_expectancy</th>\n",
              "      <th>hospital_beds_per_thousand</th>\n",
              "      <th>gdp_per_capita</th>\n",
              "      <th>gdp</th>\n",
              "      <th>total_cases</th>\n",
              "      <th>total_deaths</th>\n",
              "      <th>total_tests</th>\n",
              "      <th>tests_per_million</th>\n",
              "      <th>cases_per_million</th>\n",
              "      <th>deaths_per_million</th>\n",
              "    </tr>\n",
              "  </thead>\n",
              "  <tbody>\n",
              "    <tr>\n",
              "      <th>155</th>\n",
              "      <td>Qatar</td>\n",
              "      <td>Asia</td>\n",
              "      <td>2881060.0</td>\n",
              "      <td>80.23</td>\n",
              "      <td>1.20</td>\n",
              "      <td>116935.600</td>\n",
              "      <td>3.368985e+11</td>\n",
              "      <td>119206.0</td>\n",
              "      <td>199.0</td>\n",
              "      <td>634745.0</td>\n",
              "      <td>220316.480740</td>\n",
              "      <td>41375.743650</td>\n",
              "      <td>69.071800</td>\n",
              "    </tr>\n",
              "    <tr>\n",
              "      <th>14</th>\n",
              "      <td>Bahrain</td>\n",
              "      <td>Asia</td>\n",
              "      <td>1701583.0</td>\n",
              "      <td>77.29</td>\n",
              "      <td>2.00</td>\n",
              "      <td>43290.705</td>\n",
              "      <td>7.366273e+10</td>\n",
              "      <td>52440.0</td>\n",
              "      <td>190.0</td>\n",
              "      <td>1118837.0</td>\n",
              "      <td>657527.137965</td>\n",
              "      <td>30818.361490</td>\n",
              "      <td>111.660730</td>\n",
              "    </tr>\n",
              "    <tr>\n",
              "      <th>147</th>\n",
              "      <td>Panama</td>\n",
              "      <td>North America</td>\n",
              "      <td>4314768.0</td>\n",
              "      <td>78.51</td>\n",
              "      <td>2.30</td>\n",
              "      <td>22267.037</td>\n",
              "      <td>9.607710e+10</td>\n",
              "      <td>94084.0</td>\n",
              "      <td>2030.0</td>\n",
              "      <td>336345.0</td>\n",
              "      <td>77952.047480</td>\n",
              "      <td>21805.112117</td>\n",
              "      <td>470.477208</td>\n",
              "    </tr>\n",
              "    <tr>\n",
              "      <th>40</th>\n",
              "      <td>Chile</td>\n",
              "      <td>South America</td>\n",
              "      <td>19116209.0</td>\n",
              "      <td>80.18</td>\n",
              "      <td>2.11</td>\n",
              "      <td>22767.037</td>\n",
              "      <td>4.352194e+11</td>\n",
              "      <td>414739.0</td>\n",
              "      <td>11344.0</td>\n",
              "      <td>2458762.0</td>\n",
              "      <td>128621.841287</td>\n",
              "      <td>21695.671982</td>\n",
              "      <td>593.423100</td>\n",
              "    </tr>\n",
              "    <tr>\n",
              "      <th>162</th>\n",
              "      <td>San Marino</td>\n",
              "      <td>Europe</td>\n",
              "      <td>33938.0</td>\n",
              "      <td>84.97</td>\n",
              "      <td>3.80</td>\n",
              "      <td>56861.470</td>\n",
              "      <td>1.929765e+09</td>\n",
              "      <td>735.0</td>\n",
              "      <td>42.0</td>\n",
              "      <td>NaN</td>\n",
              "      <td>NaN</td>\n",
              "      <td>21657.139490</td>\n",
              "      <td>1237.550828</td>\n",
              "    </tr>\n",
              "    <tr>\n",
              "      <th>9</th>\n",
              "      <td>Aruba</td>\n",
              "      <td>North America</td>\n",
              "      <td>106766.0</td>\n",
              "      <td>76.29</td>\n",
              "      <td>NaN</td>\n",
              "      <td>35973.781</td>\n",
              "      <td>3.840777e+09</td>\n",
              "      <td>2211.0</td>\n",
              "      <td>12.0</td>\n",
              "      <td>NaN</td>\n",
              "      <td>NaN</td>\n",
              "      <td>20708.839893</td>\n",
              "      <td>112.395332</td>\n",
              "    </tr>\n",
              "    <tr>\n",
              "      <th>105</th>\n",
              "      <td>Kuwait</td>\n",
              "      <td>Asia</td>\n",
              "      <td>4270563.0</td>\n",
              "      <td>75.49</td>\n",
              "      <td>2.00</td>\n",
              "      <td>65530.537</td>\n",
              "      <td>2.798523e+11</td>\n",
              "      <td>86478.0</td>\n",
              "      <td>535.0</td>\n",
              "      <td>621616.0</td>\n",
              "      <td>145558.325682</td>\n",
              "      <td>20249.789079</td>\n",
              "      <td>125.276222</td>\n",
              "    </tr>\n",
              "    <tr>\n",
              "      <th>150</th>\n",
              "      <td>Peru</td>\n",
              "      <td>South America</td>\n",
              "      <td>32971846.0</td>\n",
              "      <td>76.74</td>\n",
              "      <td>1.60</td>\n",
              "      <td>12236.706</td>\n",
              "      <td>4.034668e+11</td>\n",
              "      <td>663437.0</td>\n",
              "      <td>29259.0</td>\n",
              "      <td>584232.0</td>\n",
              "      <td>17719.117092</td>\n",
              "      <td>20121.318048</td>\n",
              "      <td>887.393445</td>\n",
              "    </tr>\n",
              "    <tr>\n",
              "      <th>27</th>\n",
              "      <td>Brazil</td>\n",
              "      <td>South America</td>\n",
              "      <td>212559409.0</td>\n",
              "      <td>75.88</td>\n",
              "      <td>2.20</td>\n",
              "      <td>14103.452</td>\n",
              "      <td>2.997821e+12</td>\n",
              "      <td>3997865.0</td>\n",
              "      <td>123780.0</td>\n",
              "      <td>4797948.0</td>\n",
              "      <td>22572.268255</td>\n",
              "      <td>18808.224105</td>\n",
              "      <td>582.331314</td>\n",
              "    </tr>\n",
              "    <tr>\n",
              "      <th>199</th>\n",
              "      <td>United States</td>\n",
              "      <td>North America</td>\n",
              "      <td>331002647.0</td>\n",
              "      <td>78.86</td>\n",
              "      <td>2.77</td>\n",
              "      <td>54225.446</td>\n",
              "      <td>1.794877e+13</td>\n",
              "      <td>6114406.0</td>\n",
              "      <td>185744.0</td>\n",
              "      <td>83898416.0</td>\n",
              "      <td>253467.507769</td>\n",
              "      <td>18472.377957</td>\n",
              "      <td>561.155633</td>\n",
              "    </tr>\n",
              "  </tbody>\n",
              "</table>\n",
              "</div>"
            ],
            "text/plain": [
              "          location      continent  ...  cases_per_million  deaths_per_million\n",
              "155          Qatar           Asia  ...       41375.743650           69.071800\n",
              "14         Bahrain           Asia  ...       30818.361490          111.660730\n",
              "147         Panama  North America  ...       21805.112117          470.477208\n",
              "40           Chile  South America  ...       21695.671982          593.423100\n",
              "162     San Marino         Europe  ...       21657.139490         1237.550828\n",
              "9            Aruba  North America  ...       20708.839893          112.395332\n",
              "105         Kuwait           Asia  ...       20249.789079          125.276222\n",
              "150           Peru  South America  ...       20121.318048          887.393445\n",
              "27          Brazil  South America  ...       18808.224105          582.331314\n",
              "199  United States  North America  ...       18472.377957          561.155633\n",
              "\n",
              "[10 rows x 13 columns]"
            ]
          },
          "metadata": {
            "tags": []
          },
          "execution_count": 91
        }
      ]
    },
    {
      "cell_type": "code",
      "metadata": {
        "id": "pKsTIybroY-C",
        "colab_type": "code",
        "colab": {}
      },
      "source": [
        "jovian.commit(project='pandas-practice-assignment', environment=None)"
      ],
      "execution_count": null,
      "outputs": []
    },
    {
      "cell_type": "markdown",
      "metadata": {
        "id": "771ucCu5oY-G",
        "colab_type": "text"
      },
      "source": [
        "**Q: Create a dataframe with 10 countires that have highest number of deaths cases per million people?**"
      ]
    },
    {
      "cell_type": "code",
      "metadata": {
        "id": "o_xCOVoUoY-H",
        "colab_type": "code",
        "colab": {}
      },
      "source": [
        "# highest_deaths_df = ???\n",
        "highest_deaths_df = combined_df.sort_values('deaths_per_million', ascending=False).head(10)"
      ],
      "execution_count": 92,
      "outputs": []
    },
    {
      "cell_type": "code",
      "metadata": {
        "id": "Bp2776i_oY-N",
        "colab_type": "code",
        "colab": {
          "base_uri": "https://localhost:8080/",
          "height": 464
        },
        "outputId": "dbfa36d6-1903-4287-8dd8-6539758b5b2f"
      },
      "source": [
        "highest_deaths_df"
      ],
      "execution_count": 93,
      "outputs": [
        {
          "output_type": "execute_result",
          "data": {
            "text/html": [
              "<div>\n",
              "<style scoped>\n",
              "    .dataframe tbody tr th:only-of-type {\n",
              "        vertical-align: middle;\n",
              "    }\n",
              "\n",
              "    .dataframe tbody tr th {\n",
              "        vertical-align: top;\n",
              "    }\n",
              "\n",
              "    .dataframe thead th {\n",
              "        text-align: right;\n",
              "    }\n",
              "</style>\n",
              "<table border=\"1\" class=\"dataframe\">\n",
              "  <thead>\n",
              "    <tr style=\"text-align: right;\">\n",
              "      <th></th>\n",
              "      <th>location</th>\n",
              "      <th>continent</th>\n",
              "      <th>population</th>\n",
              "      <th>life_expectancy</th>\n",
              "      <th>hospital_beds_per_thousand</th>\n",
              "      <th>gdp_per_capita</th>\n",
              "      <th>gdp</th>\n",
              "      <th>total_cases</th>\n",
              "      <th>total_deaths</th>\n",
              "      <th>total_tests</th>\n",
              "      <th>tests_per_million</th>\n",
              "      <th>cases_per_million</th>\n",
              "      <th>deaths_per_million</th>\n",
              "    </tr>\n",
              "  </thead>\n",
              "  <tbody>\n",
              "    <tr>\n",
              "      <th>162</th>\n",
              "      <td>San Marino</td>\n",
              "      <td>Europe</td>\n",
              "      <td>33938.0</td>\n",
              "      <td>84.97</td>\n",
              "      <td>3.80</td>\n",
              "      <td>56861.470</td>\n",
              "      <td>1.929765e+09</td>\n",
              "      <td>735.0</td>\n",
              "      <td>42.0</td>\n",
              "      <td>NaN</td>\n",
              "      <td>NaN</td>\n",
              "      <td>21657.139490</td>\n",
              "      <td>1237.550828</td>\n",
              "    </tr>\n",
              "    <tr>\n",
              "      <th>150</th>\n",
              "      <td>Peru</td>\n",
              "      <td>South America</td>\n",
              "      <td>32971846.0</td>\n",
              "      <td>76.74</td>\n",
              "      <td>1.60</td>\n",
              "      <td>12236.706</td>\n",
              "      <td>4.034668e+11</td>\n",
              "      <td>663437.0</td>\n",
              "      <td>29259.0</td>\n",
              "      <td>584232.0</td>\n",
              "      <td>17719.117092</td>\n",
              "      <td>20121.318048</td>\n",
              "      <td>887.393445</td>\n",
              "    </tr>\n",
              "    <tr>\n",
              "      <th>18</th>\n",
              "      <td>Belgium</td>\n",
              "      <td>Europe</td>\n",
              "      <td>11589616.0</td>\n",
              "      <td>81.63</td>\n",
              "      <td>5.64</td>\n",
              "      <td>42658.576</td>\n",
              "      <td>4.943965e+11</td>\n",
              "      <td>85817.0</td>\n",
              "      <td>9898.0</td>\n",
              "      <td>2281853.0</td>\n",
              "      <td>196887.713967</td>\n",
              "      <td>7404.645676</td>\n",
              "      <td>854.040375</td>\n",
              "    </tr>\n",
              "    <tr>\n",
              "      <th>3</th>\n",
              "      <td>Andorra</td>\n",
              "      <td>Europe</td>\n",
              "      <td>77265.0</td>\n",
              "      <td>83.73</td>\n",
              "      <td>NaN</td>\n",
              "      <td>NaN</td>\n",
              "      <td>NaN</td>\n",
              "      <td>1199.0</td>\n",
              "      <td>53.0</td>\n",
              "      <td>NaN</td>\n",
              "      <td>NaN</td>\n",
              "      <td>15518.022390</td>\n",
              "      <td>685.950948</td>\n",
              "    </tr>\n",
              "    <tr>\n",
              "      <th>177</th>\n",
              "      <td>Spain</td>\n",
              "      <td>Europe</td>\n",
              "      <td>46754783.0</td>\n",
              "      <td>83.56</td>\n",
              "      <td>2.97</td>\n",
              "      <td>34272.360</td>\n",
              "      <td>1.602397e+12</td>\n",
              "      <td>479554.0</td>\n",
              "      <td>29194.0</td>\n",
              "      <td>6416533.0</td>\n",
              "      <td>137238.001939</td>\n",
              "      <td>10256.790198</td>\n",
              "      <td>624.406705</td>\n",
              "    </tr>\n",
              "    <tr>\n",
              "      <th>198</th>\n",
              "      <td>United Kingdom</td>\n",
              "      <td>Europe</td>\n",
              "      <td>67886004.0</td>\n",
              "      <td>81.32</td>\n",
              "      <td>2.54</td>\n",
              "      <td>39753.244</td>\n",
              "      <td>2.698689e+12</td>\n",
              "      <td>338676.0</td>\n",
              "      <td>41514.0</td>\n",
              "      <td>13447568.0</td>\n",
              "      <td>198090.434075</td>\n",
              "      <td>4988.892850</td>\n",
              "      <td>611.525168</td>\n",
              "    </tr>\n",
              "    <tr>\n",
              "      <th>40</th>\n",
              "      <td>Chile</td>\n",
              "      <td>South America</td>\n",
              "      <td>19116209.0</td>\n",
              "      <td>80.18</td>\n",
              "      <td>2.11</td>\n",
              "      <td>22767.037</td>\n",
              "      <td>4.352194e+11</td>\n",
              "      <td>414739.0</td>\n",
              "      <td>11344.0</td>\n",
              "      <td>2458762.0</td>\n",
              "      <td>128621.841287</td>\n",
              "      <td>21695.671982</td>\n",
              "      <td>593.423100</td>\n",
              "    </tr>\n",
              "    <tr>\n",
              "      <th>97</th>\n",
              "      <td>Italy</td>\n",
              "      <td>Europe</td>\n",
              "      <td>60461828.0</td>\n",
              "      <td>83.51</td>\n",
              "      <td>3.18</td>\n",
              "      <td>35220.084</td>\n",
              "      <td>2.129471e+12</td>\n",
              "      <td>271515.0</td>\n",
              "      <td>35497.0</td>\n",
              "      <td>5214766.0</td>\n",
              "      <td>86248.897403</td>\n",
              "      <td>4490.684602</td>\n",
              "      <td>587.097697</td>\n",
              "    </tr>\n",
              "    <tr>\n",
              "      <th>27</th>\n",
              "      <td>Brazil</td>\n",
              "      <td>South America</td>\n",
              "      <td>212559409.0</td>\n",
              "      <td>75.88</td>\n",
              "      <td>2.20</td>\n",
              "      <td>14103.452</td>\n",
              "      <td>2.997821e+12</td>\n",
              "      <td>3997865.0</td>\n",
              "      <td>123780.0</td>\n",
              "      <td>4797948.0</td>\n",
              "      <td>22572.268255</td>\n",
              "      <td>18808.224105</td>\n",
              "      <td>582.331314</td>\n",
              "    </tr>\n",
              "    <tr>\n",
              "      <th>182</th>\n",
              "      <td>Sweden</td>\n",
              "      <td>Europe</td>\n",
              "      <td>10099270.0</td>\n",
              "      <td>82.80</td>\n",
              "      <td>2.22</td>\n",
              "      <td>46949.283</td>\n",
              "      <td>4.741535e+11</td>\n",
              "      <td>84532.0</td>\n",
              "      <td>5820.0</td>\n",
              "      <td>NaN</td>\n",
              "      <td>NaN</td>\n",
              "      <td>8370.109919</td>\n",
              "      <td>576.279276</td>\n",
              "    </tr>\n",
              "  </tbody>\n",
              "</table>\n",
              "</div>"
            ],
            "text/plain": [
              "           location      continent  ...  cases_per_million  deaths_per_million\n",
              "162      San Marino         Europe  ...       21657.139490         1237.550828\n",
              "150            Peru  South America  ...       20121.318048          887.393445\n",
              "18          Belgium         Europe  ...        7404.645676          854.040375\n",
              "3           Andorra         Europe  ...       15518.022390          685.950948\n",
              "177           Spain         Europe  ...       10256.790198          624.406705\n",
              "198  United Kingdom         Europe  ...        4988.892850          611.525168\n",
              "40            Chile  South America  ...       21695.671982          593.423100\n",
              "97            Italy         Europe  ...        4490.684602          587.097697\n",
              "27           Brazil  South America  ...       18808.224105          582.331314\n",
              "182          Sweden         Europe  ...        8370.109919          576.279276\n",
              "\n",
              "[10 rows x 13 columns]"
            ]
          },
          "metadata": {
            "tags": []
          },
          "execution_count": 93
        }
      ]
    },
    {
      "cell_type": "code",
      "metadata": {
        "id": "94jsMIAEoY-S",
        "colab_type": "code",
        "colab": {}
      },
      "source": [
        "jovian.commit(project='pandas-practice-assignment', environment=None)"
      ],
      "execution_count": null,
      "outputs": []
    },
    {
      "cell_type": "markdown",
      "metadata": {
        "id": "koNYrtJyoY-X",
        "colab_type": "text"
      },
      "source": [
        "**(Optional) Q: Count number of countries that feature in both the lists of \"highest number of tests per million\" and \"highest number of cases per million\".**"
      ]
    },
    {
      "cell_type": "code",
      "metadata": {
        "id": "woCuVYisoY-Z",
        "colab_type": "code",
        "colab": {}
      },
      "source": [
        ""
      ],
      "execution_count": null,
      "outputs": []
    },
    {
      "cell_type": "code",
      "metadata": {
        "id": "zVOVKkVFoY-d",
        "colab_type": "code",
        "colab": {}
      },
      "source": [
        ""
      ],
      "execution_count": null,
      "outputs": []
    },
    {
      "cell_type": "code",
      "metadata": {
        "id": "remvmylHoY-g",
        "colab_type": "code",
        "colab": {}
      },
      "source": [
        ""
      ],
      "execution_count": null,
      "outputs": []
    },
    {
      "cell_type": "code",
      "metadata": {
        "id": "5ut90S8toY-k",
        "colab_type": "code",
        "colab": {}
      },
      "source": [
        "jovian.commit(project='pandas-practice-assignment', environment=None)"
      ],
      "execution_count": null,
      "outputs": []
    },
    {
      "cell_type": "markdown",
      "metadata": {
        "id": "17t2dY-eoY-n",
        "colab_type": "text"
      },
      "source": [
        "**(Optional) Q: Count number of countries that feature in both the lists \"20 countries with lowest GDP per capita\" and \"20 countries with the lowest number of hospital beds per thousand population\". Only consider countries with a population higher than 10 million while creating the list.**"
      ]
    },
    {
      "cell_type": "code",
      "metadata": {
        "id": "1Zgm8MA8oY-n",
        "colab_type": "code",
        "colab": {}
      },
      "source": [
        ""
      ],
      "execution_count": null,
      "outputs": []
    },
    {
      "cell_type": "code",
      "metadata": {
        "id": "ATdwSPBooY-q",
        "colab_type": "code",
        "colab": {}
      },
      "source": [
        ""
      ],
      "execution_count": null,
      "outputs": []
    },
    {
      "cell_type": "code",
      "metadata": {
        "id": "W7mecz_QoY-t",
        "colab_type": "code",
        "colab": {}
      },
      "source": [
        ""
      ],
      "execution_count": null,
      "outputs": []
    },
    {
      "cell_type": "code",
      "metadata": {
        "id": "iA7eo-vQoY-x",
        "colab_type": "code",
        "colab": {}
      },
      "source": [
        "import jovian"
      ],
      "execution_count": null,
      "outputs": []
    },
    {
      "cell_type": "code",
      "metadata": {
        "id": "NsbORQfDoY-z",
        "colab_type": "code",
        "colab": {},
        "outputId": "af5b852e-0fae-4a86-bb22-2d2e19b9758f"
      },
      "source": [
        "jovian.commit(project='pandas-practice-assignment', environment=None)"
      ],
      "execution_count": null,
      "outputs": [
        {
          "output_type": "display_data",
          "data": {
            "application/javascript": [
              "window.require && require([\"base/js/namespace\"],function(Jupyter){Jupyter.notebook.save_checkpoint()})"
            ],
            "text/plain": [
              "<IPython.core.display.Javascript object>"
            ]
          },
          "metadata": {
            "tags": []
          }
        },
        {
          "output_type": "stream",
          "text": [
            "[jovian] Attempting to save notebook..\u001b[0m\n"
          ],
          "name": "stdout"
        }
      ]
    },
    {
      "cell_type": "markdown",
      "metadata": {
        "id": "3oQw7QcEoY_C",
        "colab_type": "text"
      },
      "source": [
        "## Submission \n",
        "\n",
        "Congratulations on making it this far! You've reached the end of this assignment, and you just completed your first real-world data analysis problem. It's time to record one final version of your notebook for submission.\n",
        "\n",
        "Make a submission here by filling the submission form: https://jovian.ml/learn/data-analysis-with-python-zero-to-pandas/assignment/assignment-3-pandas-practice\n",
        "\n",
        "Also make sure to help others on the forum: https://jovian.ml/forum/t/assignment-3-pandas-practice/11225/2"
      ]
    },
    {
      "cell_type": "code",
      "metadata": {
        "id": "4yWCOrzkoY_C",
        "colab_type": "code",
        "colab": {}
      },
      "source": [
        ""
      ],
      "execution_count": null,
      "outputs": []
    }
  ]
}